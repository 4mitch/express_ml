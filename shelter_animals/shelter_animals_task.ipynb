{
 "cells": [
  {
   "cell_type": "code",
   "execution_count": 5,
   "metadata": {
    "ExecuteTime": {
     "end_time": "2017-09-20T16:51:59.368318Z",
     "start_time": "2017-09-20T16:51:59.359691Z"
    }
   },
   "outputs": [
    {
     "name": "stdout",
     "output_type": "stream",
     "text": [
      "Populating the interactive namespace from numpy and matplotlib\n"
     ]
    }
   ],
   "source": [
    "%matplotlib inline\n",
    "%pylab inline\n",
    "import pandas as pd\n",
    "import numpy as np\n",
    "import seaborn as sns\n",
    "from __future__ import division"
   ]
  },
  {
   "cell_type": "code",
   "execution_count": 6,
   "metadata": {
    "ExecuteTime": {
     "end_time": "2017-09-20T16:51:59.903025Z",
     "start_time": "2017-09-20T16:51:59.797241Z"
    },
    "scrolled": true
   },
   "outputs": [
    {
     "data": {
      "text/html": [
       "<div>\n",
       "<style>\n",
       "    .dataframe thead tr:only-child th {\n",
       "        text-align: right;\n",
       "    }\n",
       "\n",
       "    .dataframe thead th {\n",
       "        text-align: left;\n",
       "    }\n",
       "\n",
       "    .dataframe tbody tr th {\n",
       "        vertical-align: top;\n",
       "    }\n",
       "</style>\n",
       "<table border=\"1\" class=\"dataframe\">\n",
       "  <thead>\n",
       "    <tr style=\"text-align: right;\">\n",
       "      <th></th>\n",
       "      <th>AnimalID</th>\n",
       "      <th>Name</th>\n",
       "      <th>DateTime</th>\n",
       "      <th>OutcomeType</th>\n",
       "      <th>OutcomeSubtype</th>\n",
       "      <th>AnimalType</th>\n",
       "      <th>SexuponOutcome</th>\n",
       "      <th>AgeuponOutcome</th>\n",
       "      <th>Breed</th>\n",
       "      <th>Color</th>\n",
       "    </tr>\n",
       "  </thead>\n",
       "  <tbody>\n",
       "    <tr>\n",
       "      <th>0</th>\n",
       "      <td>A671945</td>\n",
       "      <td>Hambone</td>\n",
       "      <td>2014-02-12 18:22:00</td>\n",
       "      <td>Return_to_owner</td>\n",
       "      <td>NaN</td>\n",
       "      <td>Dog</td>\n",
       "      <td>Neutered Male</td>\n",
       "      <td>1 year</td>\n",
       "      <td>Shetland Sheepdog Mix</td>\n",
       "      <td>Brown/White</td>\n",
       "    </tr>\n",
       "    <tr>\n",
       "      <th>1</th>\n",
       "      <td>A656520</td>\n",
       "      <td>Emily</td>\n",
       "      <td>2013-10-13 12:44:00</td>\n",
       "      <td>Euthanasia</td>\n",
       "      <td>Suffering</td>\n",
       "      <td>Cat</td>\n",
       "      <td>Spayed Female</td>\n",
       "      <td>1 year</td>\n",
       "      <td>Domestic Shorthair Mix</td>\n",
       "      <td>Cream Tabby</td>\n",
       "    </tr>\n",
       "    <tr>\n",
       "      <th>2</th>\n",
       "      <td>A686464</td>\n",
       "      <td>Pearce</td>\n",
       "      <td>2015-01-31 12:28:00</td>\n",
       "      <td>Adoption</td>\n",
       "      <td>Foster</td>\n",
       "      <td>Dog</td>\n",
       "      <td>Neutered Male</td>\n",
       "      <td>2 years</td>\n",
       "      <td>Pit Bull Mix</td>\n",
       "      <td>Blue/White</td>\n",
       "    </tr>\n",
       "    <tr>\n",
       "      <th>3</th>\n",
       "      <td>A683430</td>\n",
       "      <td>NaN</td>\n",
       "      <td>2014-07-11 19:09:00</td>\n",
       "      <td>Transfer</td>\n",
       "      <td>Partner</td>\n",
       "      <td>Cat</td>\n",
       "      <td>Intact Male</td>\n",
       "      <td>3 weeks</td>\n",
       "      <td>Domestic Shorthair Mix</td>\n",
       "      <td>Blue Cream</td>\n",
       "    </tr>\n",
       "    <tr>\n",
       "      <th>4</th>\n",
       "      <td>A667013</td>\n",
       "      <td>NaN</td>\n",
       "      <td>2013-11-15 12:52:00</td>\n",
       "      <td>Transfer</td>\n",
       "      <td>Partner</td>\n",
       "      <td>Dog</td>\n",
       "      <td>Neutered Male</td>\n",
       "      <td>2 years</td>\n",
       "      <td>Lhasa Apso/Miniature Poodle</td>\n",
       "      <td>Tan</td>\n",
       "    </tr>\n",
       "    <tr>\n",
       "      <th>5</th>\n",
       "      <td>A677334</td>\n",
       "      <td>Elsa</td>\n",
       "      <td>2014-04-25 13:04:00</td>\n",
       "      <td>Transfer</td>\n",
       "      <td>Partner</td>\n",
       "      <td>Dog</td>\n",
       "      <td>Intact Female</td>\n",
       "      <td>1 month</td>\n",
       "      <td>Cairn Terrier/Chihuahua Shorthair</td>\n",
       "      <td>Black/Tan</td>\n",
       "    </tr>\n",
       "    <tr>\n",
       "      <th>6</th>\n",
       "      <td>A699218</td>\n",
       "      <td>Jimmy</td>\n",
       "      <td>2015-03-28 13:11:00</td>\n",
       "      <td>Transfer</td>\n",
       "      <td>Partner</td>\n",
       "      <td>Cat</td>\n",
       "      <td>Intact Male</td>\n",
       "      <td>3 weeks</td>\n",
       "      <td>Domestic Shorthair Mix</td>\n",
       "      <td>Blue Tabby</td>\n",
       "    </tr>\n",
       "    <tr>\n",
       "      <th>7</th>\n",
       "      <td>A701489</td>\n",
       "      <td>NaN</td>\n",
       "      <td>2015-04-30 17:02:00</td>\n",
       "      <td>Transfer</td>\n",
       "      <td>Partner</td>\n",
       "      <td>Cat</td>\n",
       "      <td>Unknown</td>\n",
       "      <td>3 weeks</td>\n",
       "      <td>Domestic Shorthair Mix</td>\n",
       "      <td>Brown Tabby</td>\n",
       "    </tr>\n",
       "    <tr>\n",
       "      <th>8</th>\n",
       "      <td>A671784</td>\n",
       "      <td>Lucy</td>\n",
       "      <td>2014-02-04 17:17:00</td>\n",
       "      <td>Adoption</td>\n",
       "      <td>NaN</td>\n",
       "      <td>Dog</td>\n",
       "      <td>Spayed Female</td>\n",
       "      <td>5 months</td>\n",
       "      <td>American Pit Bull Terrier Mix</td>\n",
       "      <td>Red/White</td>\n",
       "    </tr>\n",
       "    <tr>\n",
       "      <th>9</th>\n",
       "      <td>A677747</td>\n",
       "      <td>NaN</td>\n",
       "      <td>2014-05-03 07:48:00</td>\n",
       "      <td>Adoption</td>\n",
       "      <td>Offsite</td>\n",
       "      <td>Dog</td>\n",
       "      <td>Spayed Female</td>\n",
       "      <td>1 year</td>\n",
       "      <td>Cairn Terrier</td>\n",
       "      <td>White</td>\n",
       "    </tr>\n",
       "    <tr>\n",
       "      <th>10</th>\n",
       "      <td>A668402</td>\n",
       "      <td>NaN</td>\n",
       "      <td>2013-12-05 15:50:00</td>\n",
       "      <td>Transfer</td>\n",
       "      <td>SCRP</td>\n",
       "      <td>Cat</td>\n",
       "      <td>Unknown</td>\n",
       "      <td>2 years</td>\n",
       "      <td>Domestic Shorthair Mix</td>\n",
       "      <td>Black</td>\n",
       "    </tr>\n",
       "    <tr>\n",
       "      <th>11</th>\n",
       "      <td>A666320</td>\n",
       "      <td>NaN</td>\n",
       "      <td>2013-11-04 14:48:00</td>\n",
       "      <td>Adoption</td>\n",
       "      <td>NaN</td>\n",
       "      <td>Dog</td>\n",
       "      <td>Spayed Female</td>\n",
       "      <td>2 years</td>\n",
       "      <td>Miniature Schnauzer Mix</td>\n",
       "      <td>Silver</td>\n",
       "    </tr>\n",
       "    <tr>\n",
       "      <th>12</th>\n",
       "      <td>A684601</td>\n",
       "      <td>Rocket</td>\n",
       "      <td>2016-02-03 11:27:00</td>\n",
       "      <td>Adoption</td>\n",
       "      <td>Foster</td>\n",
       "      <td>Dog</td>\n",
       "      <td>Neutered Male</td>\n",
       "      <td>4 years</td>\n",
       "      <td>Pit Bull Mix</td>\n",
       "      <td>Brown</td>\n",
       "    </tr>\n",
       "    <tr>\n",
       "      <th>13</th>\n",
       "      <td>A704702</td>\n",
       "      <td>Scooter</td>\n",
       "      <td>2015-06-08 16:30:00</td>\n",
       "      <td>Return_to_owner</td>\n",
       "      <td>NaN</td>\n",
       "      <td>Dog</td>\n",
       "      <td>Neutered Male</td>\n",
       "      <td>2 years</td>\n",
       "      <td>Yorkshire Terrier Mix</td>\n",
       "      <td>Black/Red</td>\n",
       "    </tr>\n",
       "    <tr>\n",
       "      <th>14</th>\n",
       "      <td>A688584</td>\n",
       "      <td>Preston</td>\n",
       "      <td>2015-11-25 15:00:00</td>\n",
       "      <td>Return_to_owner</td>\n",
       "      <td>NaN</td>\n",
       "      <td>Dog</td>\n",
       "      <td>Neutered Male</td>\n",
       "      <td>1 year</td>\n",
       "      <td>Great Pyrenees Mix</td>\n",
       "      <td>White/Cream</td>\n",
       "    </tr>\n",
       "    <tr>\n",
       "      <th>15</th>\n",
       "      <td>A678825</td>\n",
       "      <td>Oliver</td>\n",
       "      <td>2014-07-12 12:10:00</td>\n",
       "      <td>Adoption</td>\n",
       "      <td>Foster</td>\n",
       "      <td>Cat</td>\n",
       "      <td>Neutered Male</td>\n",
       "      <td>3 months</td>\n",
       "      <td>Domestic Shorthair Mix</td>\n",
       "      <td>Orange Tabby/White</td>\n",
       "    </tr>\n",
       "    <tr>\n",
       "      <th>16</th>\n",
       "      <td>A678050</td>\n",
       "      <td>NaN</td>\n",
       "      <td>2014-05-03 16:15:00</td>\n",
       "      <td>Transfer</td>\n",
       "      <td>Partner</td>\n",
       "      <td>Cat</td>\n",
       "      <td>Intact Male</td>\n",
       "      <td>3 weeks</td>\n",
       "      <td>Domestic Shorthair Mix</td>\n",
       "      <td>Brown Tabby</td>\n",
       "    </tr>\n",
       "    <tr>\n",
       "      <th>17</th>\n",
       "      <td>A680028</td>\n",
       "      <td>NaN</td>\n",
       "      <td>2014-06-07 12:54:00</td>\n",
       "      <td>Transfer</td>\n",
       "      <td>Partner</td>\n",
       "      <td>Dog</td>\n",
       "      <td>Intact Female</td>\n",
       "      <td>2 weeks</td>\n",
       "      <td>Pit Bull Mix</td>\n",
       "      <td>Brown/White</td>\n",
       "    </tr>\n",
       "    <tr>\n",
       "      <th>18</th>\n",
       "      <td>A679010</td>\n",
       "      <td>Chrissy</td>\n",
       "      <td>2014-05-17 11:32:00</td>\n",
       "      <td>Transfer</td>\n",
       "      <td>Partner</td>\n",
       "      <td>Cat</td>\n",
       "      <td>Intact Female</td>\n",
       "      <td>2 years</td>\n",
       "      <td>Angora Mix</td>\n",
       "      <td>White</td>\n",
       "    </tr>\n",
       "    <tr>\n",
       "      <th>19</th>\n",
       "      <td>A684787</td>\n",
       "      <td>Kuma</td>\n",
       "      <td>2014-07-30 17:34:00</td>\n",
       "      <td>Return_to_owner</td>\n",
       "      <td>NaN</td>\n",
       "      <td>Dog</td>\n",
       "      <td>Neutered Male</td>\n",
       "      <td>1 year</td>\n",
       "      <td>Flat Coat Retriever Mix</td>\n",
       "      <td>Black</td>\n",
       "    </tr>\n",
       "    <tr>\n",
       "      <th>20</th>\n",
       "      <td>A670658</td>\n",
       "      <td>Anders</td>\n",
       "      <td>2014-01-19 15:03:00</td>\n",
       "      <td>Transfer</td>\n",
       "      <td>Partner</td>\n",
       "      <td>Dog</td>\n",
       "      <td>Intact Male</td>\n",
       "      <td>2 months</td>\n",
       "      <td>Queensland Heeler Mix</td>\n",
       "      <td>Black/White</td>\n",
       "    </tr>\n",
       "    <tr>\n",
       "      <th>21</th>\n",
       "      <td>A708812</td>\n",
       "      <td>Munchkin</td>\n",
       "      <td>2015-09-18 15:19:00</td>\n",
       "      <td>Transfer</td>\n",
       "      <td>Partner</td>\n",
       "      <td>Cat</td>\n",
       "      <td>Spayed Female</td>\n",
       "      <td>1 year</td>\n",
       "      <td>Domestic Shorthair Mix</td>\n",
       "      <td>White</td>\n",
       "    </tr>\n",
       "    <tr>\n",
       "      <th>22</th>\n",
       "      <td>A705262</td>\n",
       "      <td>Jamaica</td>\n",
       "      <td>2015-08-15 14:22:00</td>\n",
       "      <td>Adoption</td>\n",
       "      <td>NaN</td>\n",
       "      <td>Dog</td>\n",
       "      <td>Spayed Female</td>\n",
       "      <td>2 years</td>\n",
       "      <td>Plott Hound/Boxer</td>\n",
       "      <td>Brown Brindle/White</td>\n",
       "    </tr>\n",
       "    <tr>\n",
       "      <th>23</th>\n",
       "      <td>A665781</td>\n",
       "      <td>Quattro</td>\n",
       "      <td>2013-10-28 16:32:00</td>\n",
       "      <td>Adoption</td>\n",
       "      <td>NaN</td>\n",
       "      <td>Dog</td>\n",
       "      <td>Neutered Male</td>\n",
       "      <td>10 months</td>\n",
       "      <td>German Shepherd Mix</td>\n",
       "      <td>Brown/White</td>\n",
       "    </tr>\n",
       "    <tr>\n",
       "      <th>24</th>\n",
       "      <td>A676333</td>\n",
       "      <td>Trigger</td>\n",
       "      <td>2014-04-09 17:44:00</td>\n",
       "      <td>Return_to_owner</td>\n",
       "      <td>NaN</td>\n",
       "      <td>Dog</td>\n",
       "      <td>Neutered Male</td>\n",
       "      <td>2 months</td>\n",
       "      <td>German Shepherd Mix</td>\n",
       "      <td>Black/Brown</td>\n",
       "    </tr>\n",
       "    <tr>\n",
       "      <th>25</th>\n",
       "      <td>A712750</td>\n",
       "      <td>Olive</td>\n",
       "      <td>2015-10-03 15:44:00</td>\n",
       "      <td>Transfer</td>\n",
       "      <td>Partner</td>\n",
       "      <td>Cat</td>\n",
       "      <td>Intact Female</td>\n",
       "      <td>1 month</td>\n",
       "      <td>Domestic Shorthair Mix</td>\n",
       "      <td>Orange Tabby</td>\n",
       "    </tr>\n",
       "    <tr>\n",
       "      <th>26</th>\n",
       "      <td>A718832</td>\n",
       "      <td>Nia</td>\n",
       "      <td>2016-01-15 17:31:00</td>\n",
       "      <td>Adoption</td>\n",
       "      <td>NaN</td>\n",
       "      <td>Dog</td>\n",
       "      <td>Spayed Female</td>\n",
       "      <td>6 months</td>\n",
       "      <td>American Staffordshire Terrier Mix</td>\n",
       "      <td>Chocolate/White</td>\n",
       "    </tr>\n",
       "    <tr>\n",
       "      <th>27</th>\n",
       "      <td>A698777</td>\n",
       "      <td>Chloe</td>\n",
       "      <td>2015-03-25 18:50:00</td>\n",
       "      <td>Adoption</td>\n",
       "      <td>NaN</td>\n",
       "      <td>Dog</td>\n",
       "      <td>Spayed Female</td>\n",
       "      <td>5 years</td>\n",
       "      <td>Chihuahua Shorthair Mix</td>\n",
       "      <td>White/Tan</td>\n",
       "    </tr>\n",
       "    <tr>\n",
       "      <th>28</th>\n",
       "      <td>A715348</td>\n",
       "      <td>Cymbale</td>\n",
       "      <td>2015-11-21 13:01:00</td>\n",
       "      <td>Adoption</td>\n",
       "      <td>NaN</td>\n",
       "      <td>Cat</td>\n",
       "      <td>Spayed Female</td>\n",
       "      <td>2 months</td>\n",
       "      <td>Domestic Shorthair Mix</td>\n",
       "      <td>Cream Tabby/White</td>\n",
       "    </tr>\n",
       "    <tr>\n",
       "      <th>29</th>\n",
       "      <td>A708666</td>\n",
       "      <td>Jax</td>\n",
       "      <td>2015-07-30 14:30:00</td>\n",
       "      <td>Return_to_owner</td>\n",
       "      <td>NaN</td>\n",
       "      <td>Cat</td>\n",
       "      <td>Neutered Male</td>\n",
       "      <td>7 years</td>\n",
       "      <td>Russian Blue Mix</td>\n",
       "      <td>Blue</td>\n",
       "    </tr>\n",
       "    <tr>\n",
       "      <th>...</th>\n",
       "      <td>...</td>\n",
       "      <td>...</td>\n",
       "      <td>...</td>\n",
       "      <td>...</td>\n",
       "      <td>...</td>\n",
       "      <td>...</td>\n",
       "      <td>...</td>\n",
       "      <td>...</td>\n",
       "      <td>...</td>\n",
       "      <td>...</td>\n",
       "    </tr>\n",
       "    <tr>\n",
       "      <th>26699</th>\n",
       "      <td>A676460</td>\n",
       "      <td>Mario</td>\n",
       "      <td>2014-04-21 14:01:00</td>\n",
       "      <td>Euthanasia</td>\n",
       "      <td>Behavior</td>\n",
       "      <td>Dog</td>\n",
       "      <td>Neutered Male</td>\n",
       "      <td>2 years</td>\n",
       "      <td>American Pit Bull Terrier Mix</td>\n",
       "      <td>White/Black</td>\n",
       "    </tr>\n",
       "    <tr>\n",
       "      <th>26700</th>\n",
       "      <td>A704999</td>\n",
       "      <td>Lion</td>\n",
       "      <td>2015-06-15 19:28:00</td>\n",
       "      <td>Return_to_owner</td>\n",
       "      <td>NaN</td>\n",
       "      <td>Dog</td>\n",
       "      <td>Intact Male</td>\n",
       "      <td>10 months</td>\n",
       "      <td>Great Pyrenees/Anatol Shepherd</td>\n",
       "      <td>Tan/Cream</td>\n",
       "    </tr>\n",
       "    <tr>\n",
       "      <th>26701</th>\n",
       "      <td>A678842</td>\n",
       "      <td>Ella</td>\n",
       "      <td>2014-06-15 17:41:00</td>\n",
       "      <td>Transfer</td>\n",
       "      <td>Partner</td>\n",
       "      <td>Dog</td>\n",
       "      <td>Intact Female</td>\n",
       "      <td>11 months</td>\n",
       "      <td>Jack Russell Terrier Mix</td>\n",
       "      <td>White/Black</td>\n",
       "    </tr>\n",
       "    <tr>\n",
       "      <th>26702</th>\n",
       "      <td>A713637</td>\n",
       "      <td>NaN</td>\n",
       "      <td>2015-10-11 09:42:00</td>\n",
       "      <td>Died</td>\n",
       "      <td>In Kennel</td>\n",
       "      <td>Cat</td>\n",
       "      <td>Spayed Female</td>\n",
       "      <td>2 years</td>\n",
       "      <td>Siamese Mix</td>\n",
       "      <td>Lynx Point</td>\n",
       "    </tr>\n",
       "    <tr>\n",
       "      <th>26703</th>\n",
       "      <td>A716670</td>\n",
       "      <td>Mowmow</td>\n",
       "      <td>2015-12-04 12:22:00</td>\n",
       "      <td>Transfer</td>\n",
       "      <td>Partner</td>\n",
       "      <td>Cat</td>\n",
       "      <td>Neutered Male</td>\n",
       "      <td>6 years</td>\n",
       "      <td>Domestic Longhair Mix</td>\n",
       "      <td>Seal Point</td>\n",
       "    </tr>\n",
       "    <tr>\n",
       "      <th>26704</th>\n",
       "      <td>A716223</td>\n",
       "      <td>Alice</td>\n",
       "      <td>2015-11-17 17:17:00</td>\n",
       "      <td>Transfer</td>\n",
       "      <td>Partner</td>\n",
       "      <td>Cat</td>\n",
       "      <td>Intact Female</td>\n",
       "      <td>4 weeks</td>\n",
       "      <td>Domestic Shorthair Mix</td>\n",
       "      <td>White/Black</td>\n",
       "    </tr>\n",
       "    <tr>\n",
       "      <th>26705</th>\n",
       "      <td>A662498</td>\n",
       "      <td>Grace</td>\n",
       "      <td>2013-10-19 15:34:00</td>\n",
       "      <td>Transfer</td>\n",
       "      <td>Partner</td>\n",
       "      <td>Cat</td>\n",
       "      <td>Intact Female</td>\n",
       "      <td>2 months</td>\n",
       "      <td>Domestic Shorthair Mix</td>\n",
       "      <td>Tortie</td>\n",
       "    </tr>\n",
       "    <tr>\n",
       "      <th>26706</th>\n",
       "      <td>A689942</td>\n",
       "      <td>Zoey</td>\n",
       "      <td>2014-10-19 13:29:00</td>\n",
       "      <td>Adoption</td>\n",
       "      <td>NaN</td>\n",
       "      <td>Cat</td>\n",
       "      <td>Spayed Female</td>\n",
       "      <td>2 months</td>\n",
       "      <td>Domestic Shorthair Mix</td>\n",
       "      <td>Black</td>\n",
       "    </tr>\n",
       "    <tr>\n",
       "      <th>26707</th>\n",
       "      <td>A682690</td>\n",
       "      <td>NaN</td>\n",
       "      <td>2014-07-01 17:06:00</td>\n",
       "      <td>Euthanasia</td>\n",
       "      <td>Suffering</td>\n",
       "      <td>Cat</td>\n",
       "      <td>Unknown</td>\n",
       "      <td>1 year</td>\n",
       "      <td>Domestic Shorthair Mix</td>\n",
       "      <td>Brown Tabby</td>\n",
       "    </tr>\n",
       "    <tr>\n",
       "      <th>26708</th>\n",
       "      <td>A666920</td>\n",
       "      <td>Herbie</td>\n",
       "      <td>2013-11-13 17:32:00</td>\n",
       "      <td>Transfer</td>\n",
       "      <td>Partner</td>\n",
       "      <td>Dog</td>\n",
       "      <td>Neutered Male</td>\n",
       "      <td>2 years</td>\n",
       "      <td>Chihuahua Shorthair Mix</td>\n",
       "      <td>White/Brown</td>\n",
       "    </tr>\n",
       "    <tr>\n",
       "      <th>26709</th>\n",
       "      <td>A714386</td>\n",
       "      <td>NaN</td>\n",
       "      <td>2015-10-24 00:00:00</td>\n",
       "      <td>Adoption</td>\n",
       "      <td>NaN</td>\n",
       "      <td>Dog</td>\n",
       "      <td>Spayed Female</td>\n",
       "      <td>1 month</td>\n",
       "      <td>Chihuahua Shorthair Mix</td>\n",
       "      <td>Sable/Buff</td>\n",
       "    </tr>\n",
       "    <tr>\n",
       "      <th>26710</th>\n",
       "      <td>A692622</td>\n",
       "      <td>Bonnie</td>\n",
       "      <td>2014-11-24 17:21:00</td>\n",
       "      <td>Transfer</td>\n",
       "      <td>Partner</td>\n",
       "      <td>Dog</td>\n",
       "      <td>Intact Female</td>\n",
       "      <td>1 month</td>\n",
       "      <td>Chihuahua Shorthair/Yorkshire Terrier</td>\n",
       "      <td>Brown/Black</td>\n",
       "    </tr>\n",
       "    <tr>\n",
       "      <th>26711</th>\n",
       "      <td>A666284</td>\n",
       "      <td>Sonja</td>\n",
       "      <td>2013-10-30 18:32:00</td>\n",
       "      <td>Transfer</td>\n",
       "      <td>Partner</td>\n",
       "      <td>Dog</td>\n",
       "      <td>Intact Female</td>\n",
       "      <td>1 year</td>\n",
       "      <td>Cocker Spaniel/Dachshund</td>\n",
       "      <td>Buff</td>\n",
       "    </tr>\n",
       "    <tr>\n",
       "      <th>26712</th>\n",
       "      <td>A535277</td>\n",
       "      <td>Merlin</td>\n",
       "      <td>2015-04-20 16:04:00</td>\n",
       "      <td>Return_to_owner</td>\n",
       "      <td>NaN</td>\n",
       "      <td>Dog</td>\n",
       "      <td>Neutered Male</td>\n",
       "      <td>12 years</td>\n",
       "      <td>Rat Terrier</td>\n",
       "      <td>Chocolate/Tan</td>\n",
       "    </tr>\n",
       "    <tr>\n",
       "      <th>26713</th>\n",
       "      <td>A671169</td>\n",
       "      <td>NaN</td>\n",
       "      <td>2014-01-20 17:37:00</td>\n",
       "      <td>Euthanasia</td>\n",
       "      <td>Suffering</td>\n",
       "      <td>Cat</td>\n",
       "      <td>Intact Female</td>\n",
       "      <td>18 years</td>\n",
       "      <td>Domestic Longhair Mix</td>\n",
       "      <td>Tortie</td>\n",
       "    </tr>\n",
       "    <tr>\n",
       "      <th>26714</th>\n",
       "      <td>A679031</td>\n",
       "      <td>Pete</td>\n",
       "      <td>2014-05-31 16:11:00</td>\n",
       "      <td>Adoption</td>\n",
       "      <td>NaN</td>\n",
       "      <td>Cat</td>\n",
       "      <td>Spayed Female</td>\n",
       "      <td>2 months</td>\n",
       "      <td>Domestic Shorthair Mix</td>\n",
       "      <td>Orange Tabby</td>\n",
       "    </tr>\n",
       "    <tr>\n",
       "      <th>26715</th>\n",
       "      <td>A708833</td>\n",
       "      <td>Luna</td>\n",
       "      <td>2015-08-05 17:03:00</td>\n",
       "      <td>Adoption</td>\n",
       "      <td>NaN</td>\n",
       "      <td>Dog</td>\n",
       "      <td>Spayed Female</td>\n",
       "      <td>2 months</td>\n",
       "      <td>Pointer Mix</td>\n",
       "      <td>Black/White</td>\n",
       "    </tr>\n",
       "    <tr>\n",
       "      <th>26716</th>\n",
       "      <td>A697158</td>\n",
       "      <td>Max</td>\n",
       "      <td>2015-05-02 21:04:00</td>\n",
       "      <td>Adoption</td>\n",
       "      <td>Offsite</td>\n",
       "      <td>Dog</td>\n",
       "      <td>Neutered Male</td>\n",
       "      <td>2 months</td>\n",
       "      <td>Newfoundland Mix</td>\n",
       "      <td>White/Black</td>\n",
       "    </tr>\n",
       "    <tr>\n",
       "      <th>26717</th>\n",
       "      <td>A519949</td>\n",
       "      <td>Bella</td>\n",
       "      <td>2014-06-30 17:34:00</td>\n",
       "      <td>Return_to_owner</td>\n",
       "      <td>NaN</td>\n",
       "      <td>Dog</td>\n",
       "      <td>Spayed Female</td>\n",
       "      <td>9 years</td>\n",
       "      <td>Bullmastiff Mix</td>\n",
       "      <td>Black</td>\n",
       "    </tr>\n",
       "    <tr>\n",
       "      <th>26718</th>\n",
       "      <td>A701044</td>\n",
       "      <td>NaN</td>\n",
       "      <td>2015-04-28 14:26:00</td>\n",
       "      <td>Adoption</td>\n",
       "      <td>NaN</td>\n",
       "      <td>Dog</td>\n",
       "      <td>Neutered Male</td>\n",
       "      <td>2 months</td>\n",
       "      <td>Siberian Husky/German Shepherd</td>\n",
       "      <td>Black/Tricolor</td>\n",
       "    </tr>\n",
       "    <tr>\n",
       "      <th>26719</th>\n",
       "      <td>A707871</td>\n",
       "      <td>NaN</td>\n",
       "      <td>2015-07-20 09:00:00</td>\n",
       "      <td>Transfer</td>\n",
       "      <td>SCRP</td>\n",
       "      <td>Cat</td>\n",
       "      <td>Unknown</td>\n",
       "      <td>2 years</td>\n",
       "      <td>Domestic Shorthair Mix</td>\n",
       "      <td>Brown Tabby/White</td>\n",
       "    </tr>\n",
       "    <tr>\n",
       "      <th>26720</th>\n",
       "      <td>A704405</td>\n",
       "      <td>Brownie</td>\n",
       "      <td>2015-07-18 14:08:00</td>\n",
       "      <td>Adoption</td>\n",
       "      <td>NaN</td>\n",
       "      <td>Cat</td>\n",
       "      <td>Spayed Female</td>\n",
       "      <td>2 months</td>\n",
       "      <td>Domestic Shorthair Mix</td>\n",
       "      <td>Brown Tabby</td>\n",
       "    </tr>\n",
       "    <tr>\n",
       "      <th>26721</th>\n",
       "      <td>A662019</td>\n",
       "      <td>Green Bean</td>\n",
       "      <td>2014-07-17 09:43:00</td>\n",
       "      <td>Adoption</td>\n",
       "      <td>Foster</td>\n",
       "      <td>Cat</td>\n",
       "      <td>Spayed Female</td>\n",
       "      <td>5 years</td>\n",
       "      <td>Domestic Shorthair Mix</td>\n",
       "      <td>Black</td>\n",
       "    </tr>\n",
       "    <tr>\n",
       "      <th>26722</th>\n",
       "      <td>A687056</td>\n",
       "      <td>NaN</td>\n",
       "      <td>2014-08-31 09:00:00</td>\n",
       "      <td>Transfer</td>\n",
       "      <td>SCRP</td>\n",
       "      <td>Cat</td>\n",
       "      <td>Intact Male</td>\n",
       "      <td>5 months</td>\n",
       "      <td>Domestic Shorthair Mix</td>\n",
       "      <td>Orange Tabby</td>\n",
       "    </tr>\n",
       "    <tr>\n",
       "      <th>26723</th>\n",
       "      <td>A716997</td>\n",
       "      <td>Zeus</td>\n",
       "      <td>2016-01-29 18:52:00</td>\n",
       "      <td>Adoption</td>\n",
       "      <td>NaN</td>\n",
       "      <td>Dog</td>\n",
       "      <td>Neutered Male</td>\n",
       "      <td>6 years</td>\n",
       "      <td>Staffordshire Mix</td>\n",
       "      <td>Blue/White</td>\n",
       "    </tr>\n",
       "    <tr>\n",
       "      <th>26724</th>\n",
       "      <td>A702446</td>\n",
       "      <td>NaN</td>\n",
       "      <td>2015-05-14 11:56:00</td>\n",
       "      <td>Transfer</td>\n",
       "      <td>Partner</td>\n",
       "      <td>Cat</td>\n",
       "      <td>Intact Male</td>\n",
       "      <td>1 month</td>\n",
       "      <td>Domestic Shorthair Mix</td>\n",
       "      <td>Brown Tabby/White</td>\n",
       "    </tr>\n",
       "    <tr>\n",
       "      <th>26725</th>\n",
       "      <td>A718934</td>\n",
       "      <td>NaN</td>\n",
       "      <td>2016-01-20 18:59:00</td>\n",
       "      <td>Transfer</td>\n",
       "      <td>SCRP</td>\n",
       "      <td>Cat</td>\n",
       "      <td>Spayed Female</td>\n",
       "      <td>3 months</td>\n",
       "      <td>Domestic Shorthair Mix</td>\n",
       "      <td>Brown Tabby</td>\n",
       "    </tr>\n",
       "    <tr>\n",
       "      <th>26726</th>\n",
       "      <td>A698128</td>\n",
       "      <td>Zeus</td>\n",
       "      <td>2015-03-09 13:33:00</td>\n",
       "      <td>Adoption</td>\n",
       "      <td>NaN</td>\n",
       "      <td>Dog</td>\n",
       "      <td>Neutered Male</td>\n",
       "      <td>4 years</td>\n",
       "      <td>Old English Bulldog Mix</td>\n",
       "      <td>White/Tan</td>\n",
       "    </tr>\n",
       "    <tr>\n",
       "      <th>26727</th>\n",
       "      <td>A677478</td>\n",
       "      <td>NaN</td>\n",
       "      <td>2014-04-27 12:22:00</td>\n",
       "      <td>Transfer</td>\n",
       "      <td>Partner</td>\n",
       "      <td>Cat</td>\n",
       "      <td>Intact Male</td>\n",
       "      <td>4 weeks</td>\n",
       "      <td>Domestic Shorthair Mix</td>\n",
       "      <td>Black</td>\n",
       "    </tr>\n",
       "    <tr>\n",
       "      <th>26728</th>\n",
       "      <td>A706629</td>\n",
       "      <td>NaN</td>\n",
       "      <td>2015-07-02 09:00:00</td>\n",
       "      <td>Transfer</td>\n",
       "      <td>SCRP</td>\n",
       "      <td>Cat</td>\n",
       "      <td>Intact Male</td>\n",
       "      <td>1 year</td>\n",
       "      <td>Domestic Shorthair Mix</td>\n",
       "      <td>Brown Tabby/White</td>\n",
       "    </tr>\n",
       "  </tbody>\n",
       "</table>\n",
       "<p>26729 rows × 10 columns</p>\n",
       "</div>"
      ],
      "text/plain": [
       "      AnimalID        Name             DateTime      OutcomeType  \\\n",
       "0      A671945     Hambone  2014-02-12 18:22:00  Return_to_owner   \n",
       "1      A656520       Emily  2013-10-13 12:44:00       Euthanasia   \n",
       "2      A686464      Pearce  2015-01-31 12:28:00         Adoption   \n",
       "3      A683430         NaN  2014-07-11 19:09:00         Transfer   \n",
       "4      A667013         NaN  2013-11-15 12:52:00         Transfer   \n",
       "5      A677334        Elsa  2014-04-25 13:04:00         Transfer   \n",
       "6      A699218       Jimmy  2015-03-28 13:11:00         Transfer   \n",
       "7      A701489         NaN  2015-04-30 17:02:00         Transfer   \n",
       "8      A671784        Lucy  2014-02-04 17:17:00         Adoption   \n",
       "9      A677747         NaN  2014-05-03 07:48:00         Adoption   \n",
       "10     A668402         NaN  2013-12-05 15:50:00         Transfer   \n",
       "11     A666320         NaN  2013-11-04 14:48:00         Adoption   \n",
       "12     A684601      Rocket  2016-02-03 11:27:00         Adoption   \n",
       "13     A704702     Scooter  2015-06-08 16:30:00  Return_to_owner   \n",
       "14     A688584     Preston  2015-11-25 15:00:00  Return_to_owner   \n",
       "15     A678825      Oliver  2014-07-12 12:10:00         Adoption   \n",
       "16     A678050         NaN  2014-05-03 16:15:00         Transfer   \n",
       "17     A680028         NaN  2014-06-07 12:54:00         Transfer   \n",
       "18     A679010     Chrissy  2014-05-17 11:32:00         Transfer   \n",
       "19     A684787        Kuma  2014-07-30 17:34:00  Return_to_owner   \n",
       "20     A670658      Anders  2014-01-19 15:03:00         Transfer   \n",
       "21     A708812    Munchkin  2015-09-18 15:19:00         Transfer   \n",
       "22     A705262     Jamaica  2015-08-15 14:22:00         Adoption   \n",
       "23     A665781     Quattro  2013-10-28 16:32:00         Adoption   \n",
       "24     A676333     Trigger  2014-04-09 17:44:00  Return_to_owner   \n",
       "25     A712750       Olive  2015-10-03 15:44:00         Transfer   \n",
       "26     A718832         Nia  2016-01-15 17:31:00         Adoption   \n",
       "27     A698777       Chloe  2015-03-25 18:50:00         Adoption   \n",
       "28     A715348     Cymbale  2015-11-21 13:01:00         Adoption   \n",
       "29     A708666         Jax  2015-07-30 14:30:00  Return_to_owner   \n",
       "...        ...         ...                  ...              ...   \n",
       "26699  A676460       Mario  2014-04-21 14:01:00       Euthanasia   \n",
       "26700  A704999        Lion  2015-06-15 19:28:00  Return_to_owner   \n",
       "26701  A678842        Ella  2014-06-15 17:41:00         Transfer   \n",
       "26702  A713637         NaN  2015-10-11 09:42:00             Died   \n",
       "26703  A716670      Mowmow  2015-12-04 12:22:00         Transfer   \n",
       "26704  A716223       Alice  2015-11-17 17:17:00         Transfer   \n",
       "26705  A662498       Grace  2013-10-19 15:34:00         Transfer   \n",
       "26706  A689942        Zoey  2014-10-19 13:29:00         Adoption   \n",
       "26707  A682690         NaN  2014-07-01 17:06:00       Euthanasia   \n",
       "26708  A666920      Herbie  2013-11-13 17:32:00         Transfer   \n",
       "26709  A714386         NaN  2015-10-24 00:00:00         Adoption   \n",
       "26710  A692622      Bonnie  2014-11-24 17:21:00         Transfer   \n",
       "26711  A666284       Sonja  2013-10-30 18:32:00         Transfer   \n",
       "26712  A535277      Merlin  2015-04-20 16:04:00  Return_to_owner   \n",
       "26713  A671169         NaN  2014-01-20 17:37:00       Euthanasia   \n",
       "26714  A679031        Pete  2014-05-31 16:11:00         Adoption   \n",
       "26715  A708833        Luna  2015-08-05 17:03:00         Adoption   \n",
       "26716  A697158         Max  2015-05-02 21:04:00         Adoption   \n",
       "26717  A519949       Bella  2014-06-30 17:34:00  Return_to_owner   \n",
       "26718  A701044         NaN  2015-04-28 14:26:00         Adoption   \n",
       "26719  A707871         NaN  2015-07-20 09:00:00         Transfer   \n",
       "26720  A704405     Brownie  2015-07-18 14:08:00         Adoption   \n",
       "26721  A662019  Green Bean  2014-07-17 09:43:00         Adoption   \n",
       "26722  A687056         NaN  2014-08-31 09:00:00         Transfer   \n",
       "26723  A716997        Zeus  2016-01-29 18:52:00         Adoption   \n",
       "26724  A702446         NaN  2015-05-14 11:56:00         Transfer   \n",
       "26725  A718934         NaN  2016-01-20 18:59:00         Transfer   \n",
       "26726  A698128        Zeus  2015-03-09 13:33:00         Adoption   \n",
       "26727  A677478         NaN  2014-04-27 12:22:00         Transfer   \n",
       "26728  A706629         NaN  2015-07-02 09:00:00         Transfer   \n",
       "\n",
       "      OutcomeSubtype AnimalType SexuponOutcome AgeuponOutcome  \\\n",
       "0                NaN        Dog  Neutered Male         1 year   \n",
       "1          Suffering        Cat  Spayed Female         1 year   \n",
       "2             Foster        Dog  Neutered Male        2 years   \n",
       "3            Partner        Cat    Intact Male        3 weeks   \n",
       "4            Partner        Dog  Neutered Male        2 years   \n",
       "5            Partner        Dog  Intact Female        1 month   \n",
       "6            Partner        Cat    Intact Male        3 weeks   \n",
       "7            Partner        Cat        Unknown        3 weeks   \n",
       "8                NaN        Dog  Spayed Female       5 months   \n",
       "9            Offsite        Dog  Spayed Female         1 year   \n",
       "10              SCRP        Cat        Unknown        2 years   \n",
       "11               NaN        Dog  Spayed Female        2 years   \n",
       "12            Foster        Dog  Neutered Male        4 years   \n",
       "13               NaN        Dog  Neutered Male        2 years   \n",
       "14               NaN        Dog  Neutered Male         1 year   \n",
       "15            Foster        Cat  Neutered Male       3 months   \n",
       "16           Partner        Cat    Intact Male        3 weeks   \n",
       "17           Partner        Dog  Intact Female        2 weeks   \n",
       "18           Partner        Cat  Intact Female        2 years   \n",
       "19               NaN        Dog  Neutered Male         1 year   \n",
       "20           Partner        Dog    Intact Male       2 months   \n",
       "21           Partner        Cat  Spayed Female         1 year   \n",
       "22               NaN        Dog  Spayed Female        2 years   \n",
       "23               NaN        Dog  Neutered Male      10 months   \n",
       "24               NaN        Dog  Neutered Male       2 months   \n",
       "25           Partner        Cat  Intact Female        1 month   \n",
       "26               NaN        Dog  Spayed Female       6 months   \n",
       "27               NaN        Dog  Spayed Female        5 years   \n",
       "28               NaN        Cat  Spayed Female       2 months   \n",
       "29               NaN        Cat  Neutered Male        7 years   \n",
       "...              ...        ...            ...            ...   \n",
       "26699       Behavior        Dog  Neutered Male        2 years   \n",
       "26700            NaN        Dog    Intact Male      10 months   \n",
       "26701        Partner        Dog  Intact Female      11 months   \n",
       "26702      In Kennel        Cat  Spayed Female        2 years   \n",
       "26703        Partner        Cat  Neutered Male        6 years   \n",
       "26704        Partner        Cat  Intact Female        4 weeks   \n",
       "26705        Partner        Cat  Intact Female       2 months   \n",
       "26706            NaN        Cat  Spayed Female       2 months   \n",
       "26707      Suffering        Cat        Unknown         1 year   \n",
       "26708        Partner        Dog  Neutered Male        2 years   \n",
       "26709            NaN        Dog  Spayed Female        1 month   \n",
       "26710        Partner        Dog  Intact Female        1 month   \n",
       "26711        Partner        Dog  Intact Female         1 year   \n",
       "26712            NaN        Dog  Neutered Male       12 years   \n",
       "26713      Suffering        Cat  Intact Female       18 years   \n",
       "26714            NaN        Cat  Spayed Female       2 months   \n",
       "26715            NaN        Dog  Spayed Female       2 months   \n",
       "26716        Offsite        Dog  Neutered Male       2 months   \n",
       "26717            NaN        Dog  Spayed Female        9 years   \n",
       "26718            NaN        Dog  Neutered Male       2 months   \n",
       "26719           SCRP        Cat        Unknown        2 years   \n",
       "26720            NaN        Cat  Spayed Female       2 months   \n",
       "26721         Foster        Cat  Spayed Female        5 years   \n",
       "26722           SCRP        Cat    Intact Male       5 months   \n",
       "26723            NaN        Dog  Neutered Male        6 years   \n",
       "26724        Partner        Cat    Intact Male        1 month   \n",
       "26725           SCRP        Cat  Spayed Female       3 months   \n",
       "26726            NaN        Dog  Neutered Male        4 years   \n",
       "26727        Partner        Cat    Intact Male        4 weeks   \n",
       "26728           SCRP        Cat    Intact Male         1 year   \n",
       "\n",
       "                                       Breed                Color  \n",
       "0                      Shetland Sheepdog Mix          Brown/White  \n",
       "1                     Domestic Shorthair Mix          Cream Tabby  \n",
       "2                               Pit Bull Mix           Blue/White  \n",
       "3                     Domestic Shorthair Mix           Blue Cream  \n",
       "4                Lhasa Apso/Miniature Poodle                  Tan  \n",
       "5          Cairn Terrier/Chihuahua Shorthair            Black/Tan  \n",
       "6                     Domestic Shorthair Mix           Blue Tabby  \n",
       "7                     Domestic Shorthair Mix          Brown Tabby  \n",
       "8              American Pit Bull Terrier Mix            Red/White  \n",
       "9                              Cairn Terrier                White  \n",
       "10                    Domestic Shorthair Mix                Black  \n",
       "11                   Miniature Schnauzer Mix               Silver  \n",
       "12                              Pit Bull Mix                Brown  \n",
       "13                     Yorkshire Terrier Mix            Black/Red  \n",
       "14                        Great Pyrenees Mix          White/Cream  \n",
       "15                    Domestic Shorthair Mix   Orange Tabby/White  \n",
       "16                    Domestic Shorthair Mix          Brown Tabby  \n",
       "17                              Pit Bull Mix          Brown/White  \n",
       "18                                Angora Mix                White  \n",
       "19                   Flat Coat Retriever Mix                Black  \n",
       "20                     Queensland Heeler Mix          Black/White  \n",
       "21                    Domestic Shorthair Mix                White  \n",
       "22                         Plott Hound/Boxer  Brown Brindle/White  \n",
       "23                       German Shepherd Mix          Brown/White  \n",
       "24                       German Shepherd Mix          Black/Brown  \n",
       "25                    Domestic Shorthair Mix         Orange Tabby  \n",
       "26        American Staffordshire Terrier Mix      Chocolate/White  \n",
       "27                   Chihuahua Shorthair Mix            White/Tan  \n",
       "28                    Domestic Shorthair Mix    Cream Tabby/White  \n",
       "29                          Russian Blue Mix                 Blue  \n",
       "...                                      ...                  ...  \n",
       "26699          American Pit Bull Terrier Mix          White/Black  \n",
       "26700         Great Pyrenees/Anatol Shepherd            Tan/Cream  \n",
       "26701               Jack Russell Terrier Mix          White/Black  \n",
       "26702                            Siamese Mix           Lynx Point  \n",
       "26703                  Domestic Longhair Mix           Seal Point  \n",
       "26704                 Domestic Shorthair Mix          White/Black  \n",
       "26705                 Domestic Shorthair Mix               Tortie  \n",
       "26706                 Domestic Shorthair Mix                Black  \n",
       "26707                 Domestic Shorthair Mix          Brown Tabby  \n",
       "26708                Chihuahua Shorthair Mix          White/Brown  \n",
       "26709                Chihuahua Shorthair Mix           Sable/Buff  \n",
       "26710  Chihuahua Shorthair/Yorkshire Terrier          Brown/Black  \n",
       "26711               Cocker Spaniel/Dachshund                 Buff  \n",
       "26712                            Rat Terrier        Chocolate/Tan  \n",
       "26713                  Domestic Longhair Mix               Tortie  \n",
       "26714                 Domestic Shorthair Mix         Orange Tabby  \n",
       "26715                            Pointer Mix          Black/White  \n",
       "26716                       Newfoundland Mix          White/Black  \n",
       "26717                        Bullmastiff Mix                Black  \n",
       "26718         Siberian Husky/German Shepherd       Black/Tricolor  \n",
       "26719                 Domestic Shorthair Mix    Brown Tabby/White  \n",
       "26720                 Domestic Shorthair Mix          Brown Tabby  \n",
       "26721                 Domestic Shorthair Mix                Black  \n",
       "26722                 Domestic Shorthair Mix         Orange Tabby  \n",
       "26723                      Staffordshire Mix           Blue/White  \n",
       "26724                 Domestic Shorthair Mix    Brown Tabby/White  \n",
       "26725                 Domestic Shorthair Mix          Brown Tabby  \n",
       "26726                Old English Bulldog Mix            White/Tan  \n",
       "26727                 Domestic Shorthair Mix                Black  \n",
       "26728                 Domestic Shorthair Mix    Brown Tabby/White  \n",
       "\n",
       "[26729 rows x 10 columns]"
      ]
     },
     "execution_count": 6,
     "metadata": {},
     "output_type": "execute_result"
    }
   ],
   "source": [
    "pd.read_csv('train.csv') "
   ]
  },
  {
   "cell_type": "code",
   "execution_count": 8,
   "metadata": {
    "ExecuteTime": {
     "end_time": "2017-09-20T16:53:36.753616Z",
     "start_time": "2017-09-20T16:53:36.699504Z"
    },
    "collapsed": true
   },
   "outputs": [],
   "source": [
    "df = pd.read_csv('train.csv')"
   ]
  },
  {
   "cell_type": "code",
   "execution_count": 11,
   "metadata": {
    "ExecuteTime": {
     "end_time": "2017-09-20T16:53:54.859882Z",
     "start_time": "2017-09-20T16:53:54.851205Z"
    }
   },
   "outputs": [
    {
     "data": {
      "text/plain": [
       "0"
      ]
     },
     "execution_count": 11,
     "metadata": {},
     "output_type": "execute_result"
    }
   ],
   "source": [
    "df['AnimalID'].isnull().sum() "
   ]
  },
  {
   "cell_type": "code",
   "execution_count": 18,
   "metadata": {
    "ExecuteTime": {
     "end_time": "2017-09-20T16:58:39.255344Z",
     "start_time": "2017-09-20T16:58:39.250819Z"
    },
    "collapsed": true
   },
   "outputs": [],
   "source": [
    "def animal_id_to_int(animal_id_str):\n",
    "    if animal_id_str[0] != 'A':\n",
    "        print animal_id_str\n",
    "    return int(animal_id_str[1:])"
   ]
  },
  {
   "cell_type": "code",
   "execution_count": 20,
   "metadata": {
    "ExecuteTime": {
     "end_time": "2017-09-20T16:58:59.047664Z",
     "start_time": "2017-09-20T16:58:59.016540Z"
    },
    "collapsed": true
   },
   "outputs": [],
   "source": [
    "df['AnimalIDInt'] = df['AnimalID'].map(animal_id_to_int)"
   ]
  },
  {
   "cell_type": "code",
   "execution_count": 23,
   "metadata": {
    "ExecuteTime": {
     "end_time": "2017-09-20T17:00:46.650652Z",
     "start_time": "2017-09-20T17:00:46.639959Z"
    }
   },
   "outputs": [
    {
     "data": {
      "text/plain": [
       "0"
      ]
     },
     "execution_count": 23,
     "metadata": {},
     "output_type": "execute_result"
    }
   ],
   "source": [
    "df['DateTime'].isnull().sum()"
   ]
  },
  {
   "cell_type": "code",
   "execution_count": 31,
   "metadata": {
    "ExecuteTime": {
     "end_time": "2017-09-20T17:06:01.472819Z",
     "start_time": "2017-09-20T17:06:01.466837Z"
    }
   },
   "outputs": [
    {
     "data": {
      "text/plain": [
       "1431377999.0"
      ]
     },
     "execution_count": 31,
     "metadata": {},
     "output_type": "execute_result"
    }
   ],
   "source": [
    "import datetime, time\n",
    "date = datetime.datetime.strptime('2015-05-11 23:59:59', \n",
    "                                  '%Y-%m-%d %H:%M:%S')\n",
    "\n",
    "time.mktime(date.timetuple())"
   ]
  },
  {
   "cell_type": "code",
   "execution_count": 71,
   "metadata": {
    "ExecuteTime": {
     "end_time": "2017-09-20T17:42:33.303080Z",
     "start_time": "2017-09-20T17:42:33.295620Z"
    }
   },
   "outputs": [
    {
     "data": {
      "text/plain": [
       "5"
      ]
     },
     "execution_count": 71,
     "metadata": {},
     "output_type": "execute_result"
    }
   ],
   "source": []
  },
  {
   "cell_type": "code",
   "execution_count": 32,
   "metadata": {
    "ExecuteTime": {
     "end_time": "2017-09-20T17:07:36.182732Z",
     "start_time": "2017-09-20T17:07:35.774210Z"
    },
    "collapsed": true
   },
   "outputs": [],
   "source": [
    "import datetime, time\n",
    "def date_str2timestamp(line):\n",
    "    d = datetime.datetime.strptime(line, '%Y-%m-%d %H:%M:%S')\n",
    "    return int(time.mktime(d.timetuple()))\n",
    "\n",
    "df['Timestamp'] = df['DateTime'].map(date_str2timestamp)"
   ]
  },
  {
   "cell_type": "code",
   "execution_count": 36,
   "metadata": {
    "ExecuteTime": {
     "end_time": "2017-09-20T17:10:09.492711Z",
     "start_time": "2017-09-20T17:10:09.465048Z"
    }
   },
   "outputs": [
    {
     "data": {
      "text/html": [
       "<div>\n",
       "<style>\n",
       "    .dataframe thead tr:only-child th {\n",
       "        text-align: right;\n",
       "    }\n",
       "\n",
       "    .dataframe thead th {\n",
       "        text-align: left;\n",
       "    }\n",
       "\n",
       "    .dataframe tbody tr th {\n",
       "        vertical-align: top;\n",
       "    }\n",
       "</style>\n",
       "<table border=\"1\" class=\"dataframe\">\n",
       "  <thead>\n",
       "    <tr style=\"text-align: right;\">\n",
       "      <th></th>\n",
       "      <th>Timestamp</th>\n",
       "      <th>AnimalIDInt</th>\n",
       "    </tr>\n",
       "  </thead>\n",
       "  <tbody>\n",
       "    <tr>\n",
       "      <th>Timestamp</th>\n",
       "      <td>1.000000</td>\n",
       "      <td>0.865783</td>\n",
       "    </tr>\n",
       "    <tr>\n",
       "      <th>AnimalIDInt</th>\n",
       "      <td>0.865783</td>\n",
       "      <td>1.000000</td>\n",
       "    </tr>\n",
       "  </tbody>\n",
       "</table>\n",
       "</div>"
      ],
      "text/plain": [
       "             Timestamp  AnimalIDInt\n",
       "Timestamp     1.000000     0.865783\n",
       "AnimalIDInt   0.865783     1.000000"
      ]
     },
     "execution_count": 36,
     "metadata": {},
     "output_type": "execute_result"
    }
   ],
   "source": [
    "df[['Timestamp', 'AnimalIDInt']].corr(method='spearman')"
   ]
  },
  {
   "cell_type": "code",
   "execution_count": 38,
   "metadata": {
    "ExecuteTime": {
     "end_time": "2017-09-20T17:11:46.444488Z",
     "start_time": "2017-09-20T17:11:46.440115Z"
    }
   },
   "outputs": [
    {
     "data": {
      "text/plain": [
       "{'Cat', 'Dog'}"
      ]
     },
     "execution_count": 38,
     "metadata": {},
     "output_type": "execute_result"
    }
   ],
   "source": [
    "set(df['AnimalType']) "
   ]
  },
  {
   "cell_type": "code",
   "execution_count": 39,
   "metadata": {
    "ExecuteTime": {
     "end_time": "2017-09-20T17:12:01.257165Z",
     "start_time": "2017-09-20T17:12:01.246808Z"
    }
   },
   "outputs": [
    {
     "data": {
      "text/plain": [
       "Dog    15595\n",
       "Cat    11134\n",
       "Name: AnimalType, dtype: int64"
      ]
     },
     "execution_count": 39,
     "metadata": {},
     "output_type": "execute_result"
    }
   ],
   "source": [
    "df['AnimalType'].value_counts(dropna=False) "
   ]
  },
  {
   "cell_type": "code",
   "execution_count": 41,
   "metadata": {
    "ExecuteTime": {
     "end_time": "2017-09-20T17:12:54.810053Z",
     "start_time": "2017-09-20T17:12:54.802426Z"
    },
    "collapsed": true
   },
   "outputs": [],
   "source": [
    "df['AnimalTypeInt'] = df['AnimalType'].map({'Dog': 1, 'Cat':0}) "
   ]
  },
  {
   "cell_type": "code",
   "execution_count": 64,
   "metadata": {
    "ExecuteTime": {
     "end_time": "2017-09-20T17:29:46.094472Z",
     "start_time": "2017-09-20T17:29:46.085342Z"
    },
    "collapsed": true
   },
   "outputs": [],
   "source": [
    "def age_to_days(line):\n",
    "    count, modifier = line.split()\n",
    "    count = int(count)\n",
    "    if modifier.startswith('year'):\n",
    "        if count == 0:\n",
    "            return 181\n",
    "        return count * 365\n",
    "    if modifier.startswith('month'):\n",
    "        return count * 30\n",
    "    if modifier.startswith('week'):\n",
    "        return count * 7\n",
    "    if modifier.startswith('day'):\n",
    "        return count\n",
    "    return line\n",
    "                "
   ]
  },
  {
   "cell_type": "code",
   "execution_count": 55,
   "metadata": {
    "ExecuteTime": {
     "end_time": "2017-09-20T17:21:29.154064Z",
     "start_time": "2017-09-20T17:21:29.149195Z"
    },
    "collapsed": true
   },
   "outputs": [],
   "source": [
    "df['AgeuponOutcome'].fillna('1000000 days', inplace=True)"
   ]
  },
  {
   "cell_type": "code",
   "execution_count": 69,
   "metadata": {
    "ExecuteTime": {
     "end_time": "2017-09-20T17:31:39.087896Z",
     "start_time": "2017-09-20T17:31:39.042805Z"
    },
    "collapsed": true
   },
   "outputs": [],
   "source": [
    "df['AgeuponOutcomeDays'] = df['AgeuponOutcome'].map(age_to_days)"
   ]
  },
  {
   "cell_type": "code",
   "execution_count": 75,
   "metadata": {
    "ExecuteTime": {
     "end_time": "2017-09-20T17:49:51.005032Z",
     "start_time": "2017-09-20T17:49:50.995573Z"
    }
   },
   "outputs": [
    {
     "data": {
      "text/plain": [
       "Neutered Male    9779\n",
       "Spayed Female    8820\n",
       "Intact Male      3525\n",
       "Intact Female    3511\n",
       "Unknown          1094\n",
       "Name: SexuponOutcome, dtype: int64"
      ]
     },
     "execution_count": 75,
     "metadata": {},
     "output_type": "execute_result"
    }
   ],
   "source": [
    "df['SexuponOutcome'].value_counts(dropna=False) "
   ]
  },
  {
   "cell_type": "code",
   "execution_count": 74,
   "metadata": {
    "ExecuteTime": {
     "end_time": "2017-09-20T17:49:48.387675Z",
     "start_time": "2017-09-20T17:49:48.380344Z"
    },
    "collapsed": true
   },
   "outputs": [],
   "source": [
    "df['SexuponOutcome'].fillna('Unknown', inplace=True, )"
   ]
  },
  {
   "cell_type": "code",
   "execution_count": 85,
   "metadata": {
    "ExecuteTime": {
     "end_time": "2017-09-20T17:54:51.389414Z",
     "start_time": "2017-09-20T17:54:51.383414Z"
    },
    "collapsed": true
   },
   "outputs": [],
   "source": [
    "sex_df = pd.get_dummies(df['SexuponOutcome'])\n",
    "del(sex_df['Unknown']) "
   ]
  },
  {
   "cell_type": "code",
   "execution_count": 88,
   "metadata": {
    "ExecuteTime": {
     "end_time": "2017-09-20T17:56:55.806117Z",
     "start_time": "2017-09-20T17:56:55.800755Z"
    },
    "collapsed": true
   },
   "outputs": [],
   "source": [
    "df = pd.concat([df, sex_df], axis=1)"
   ]
  },
  {
   "cell_type": "code",
   "execution_count": 89,
   "metadata": {
    "ExecuteTime": {
     "end_time": "2017-09-20T17:56:59.264164Z",
     "start_time": "2017-09-20T17:56:59.160643Z"
    }
   },
   "outputs": [
    {
     "data": {
      "text/html": [
       "<div>\n",
       "<style>\n",
       "    .dataframe thead tr:only-child th {\n",
       "        text-align: right;\n",
       "    }\n",
       "\n",
       "    .dataframe thead th {\n",
       "        text-align: left;\n",
       "    }\n",
       "\n",
       "    .dataframe tbody tr th {\n",
       "        vertical-align: top;\n",
       "    }\n",
       "</style>\n",
       "<table border=\"1\" class=\"dataframe\">\n",
       "  <thead>\n",
       "    <tr style=\"text-align: right;\">\n",
       "      <th></th>\n",
       "      <th>AnimalID</th>\n",
       "      <th>Name</th>\n",
       "      <th>DateTime</th>\n",
       "      <th>OutcomeType</th>\n",
       "      <th>OutcomeSubtype</th>\n",
       "      <th>AnimalType</th>\n",
       "      <th>SexuponOutcome</th>\n",
       "      <th>AgeuponOutcome</th>\n",
       "      <th>Breed</th>\n",
       "      <th>Color</th>\n",
       "      <th>AnimalIDInt</th>\n",
       "      <th>Timestamp</th>\n",
       "      <th>AnimalTypeInt</th>\n",
       "      <th>AgeuponOutcomeDays</th>\n",
       "      <th>Intact Female</th>\n",
       "      <th>Intact Male</th>\n",
       "      <th>Neutered Male</th>\n",
       "      <th>Spayed Female</th>\n",
       "    </tr>\n",
       "  </thead>\n",
       "  <tbody>\n",
       "    <tr>\n",
       "      <th>0</th>\n",
       "      <td>A671945</td>\n",
       "      <td>Hambone</td>\n",
       "      <td>2014-02-12 18:22:00</td>\n",
       "      <td>Return_to_owner</td>\n",
       "      <td>NaN</td>\n",
       "      <td>Dog</td>\n",
       "      <td>Neutered Male</td>\n",
       "      <td>1 year</td>\n",
       "      <td>Shetland Sheepdog Mix</td>\n",
       "      <td>Brown/White</td>\n",
       "      <td>671945</td>\n",
       "      <td>1392214920</td>\n",
       "      <td>1</td>\n",
       "      <td>365</td>\n",
       "      <td>0</td>\n",
       "      <td>0</td>\n",
       "      <td>1</td>\n",
       "      <td>0</td>\n",
       "    </tr>\n",
       "    <tr>\n",
       "      <th>1</th>\n",
       "      <td>A656520</td>\n",
       "      <td>Emily</td>\n",
       "      <td>2013-10-13 12:44:00</td>\n",
       "      <td>Euthanasia</td>\n",
       "      <td>Suffering</td>\n",
       "      <td>Cat</td>\n",
       "      <td>Spayed Female</td>\n",
       "      <td>1 year</td>\n",
       "      <td>Domestic Shorthair Mix</td>\n",
       "      <td>Cream Tabby</td>\n",
       "      <td>656520</td>\n",
       "      <td>1381653840</td>\n",
       "      <td>0</td>\n",
       "      <td>365</td>\n",
       "      <td>0</td>\n",
       "      <td>0</td>\n",
       "      <td>0</td>\n",
       "      <td>1</td>\n",
       "    </tr>\n",
       "    <tr>\n",
       "      <th>2</th>\n",
       "      <td>A686464</td>\n",
       "      <td>Pearce</td>\n",
       "      <td>2015-01-31 12:28:00</td>\n",
       "      <td>Adoption</td>\n",
       "      <td>Foster</td>\n",
       "      <td>Dog</td>\n",
       "      <td>Neutered Male</td>\n",
       "      <td>2 years</td>\n",
       "      <td>Pit Bull Mix</td>\n",
       "      <td>Blue/White</td>\n",
       "      <td>686464</td>\n",
       "      <td>1422696480</td>\n",
       "      <td>1</td>\n",
       "      <td>730</td>\n",
       "      <td>0</td>\n",
       "      <td>0</td>\n",
       "      <td>1</td>\n",
       "      <td>0</td>\n",
       "    </tr>\n",
       "    <tr>\n",
       "      <th>3</th>\n",
       "      <td>A683430</td>\n",
       "      <td>NaN</td>\n",
       "      <td>2014-07-11 19:09:00</td>\n",
       "      <td>Transfer</td>\n",
       "      <td>Partner</td>\n",
       "      <td>Cat</td>\n",
       "      <td>Intact Male</td>\n",
       "      <td>3 weeks</td>\n",
       "      <td>Domestic Shorthair Mix</td>\n",
       "      <td>Blue Cream</td>\n",
       "      <td>683430</td>\n",
       "      <td>1405091340</td>\n",
       "      <td>0</td>\n",
       "      <td>21</td>\n",
       "      <td>0</td>\n",
       "      <td>1</td>\n",
       "      <td>0</td>\n",
       "      <td>0</td>\n",
       "    </tr>\n",
       "    <tr>\n",
       "      <th>4</th>\n",
       "      <td>A667013</td>\n",
       "      <td>NaN</td>\n",
       "      <td>2013-11-15 12:52:00</td>\n",
       "      <td>Transfer</td>\n",
       "      <td>Partner</td>\n",
       "      <td>Dog</td>\n",
       "      <td>Neutered Male</td>\n",
       "      <td>2 years</td>\n",
       "      <td>Lhasa Apso/Miniature Poodle</td>\n",
       "      <td>Tan</td>\n",
       "      <td>667013</td>\n",
       "      <td>1384505520</td>\n",
       "      <td>1</td>\n",
       "      <td>730</td>\n",
       "      <td>0</td>\n",
       "      <td>0</td>\n",
       "      <td>1</td>\n",
       "      <td>0</td>\n",
       "    </tr>\n",
       "    <tr>\n",
       "      <th>5</th>\n",
       "      <td>A677334</td>\n",
       "      <td>Elsa</td>\n",
       "      <td>2014-04-25 13:04:00</td>\n",
       "      <td>Transfer</td>\n",
       "      <td>Partner</td>\n",
       "      <td>Dog</td>\n",
       "      <td>Intact Female</td>\n",
       "      <td>1 month</td>\n",
       "      <td>Cairn Terrier/Chihuahua Shorthair</td>\n",
       "      <td>Black/Tan</td>\n",
       "      <td>677334</td>\n",
       "      <td>1398416640</td>\n",
       "      <td>1</td>\n",
       "      <td>30</td>\n",
       "      <td>1</td>\n",
       "      <td>0</td>\n",
       "      <td>0</td>\n",
       "      <td>0</td>\n",
       "    </tr>\n",
       "    <tr>\n",
       "      <th>6</th>\n",
       "      <td>A699218</td>\n",
       "      <td>Jimmy</td>\n",
       "      <td>2015-03-28 13:11:00</td>\n",
       "      <td>Transfer</td>\n",
       "      <td>Partner</td>\n",
       "      <td>Cat</td>\n",
       "      <td>Intact Male</td>\n",
       "      <td>3 weeks</td>\n",
       "      <td>Domestic Shorthair Mix</td>\n",
       "      <td>Blue Tabby</td>\n",
       "      <td>699218</td>\n",
       "      <td>1427537460</td>\n",
       "      <td>0</td>\n",
       "      <td>21</td>\n",
       "      <td>0</td>\n",
       "      <td>1</td>\n",
       "      <td>0</td>\n",
       "      <td>0</td>\n",
       "    </tr>\n",
       "    <tr>\n",
       "      <th>7</th>\n",
       "      <td>A701489</td>\n",
       "      <td>NaN</td>\n",
       "      <td>2015-04-30 17:02:00</td>\n",
       "      <td>Transfer</td>\n",
       "      <td>Partner</td>\n",
       "      <td>Cat</td>\n",
       "      <td>Unknown</td>\n",
       "      <td>3 weeks</td>\n",
       "      <td>Domestic Shorthair Mix</td>\n",
       "      <td>Brown Tabby</td>\n",
       "      <td>701489</td>\n",
       "      <td>1430402520</td>\n",
       "      <td>0</td>\n",
       "      <td>21</td>\n",
       "      <td>0</td>\n",
       "      <td>0</td>\n",
       "      <td>0</td>\n",
       "      <td>0</td>\n",
       "    </tr>\n",
       "    <tr>\n",
       "      <th>8</th>\n",
       "      <td>A671784</td>\n",
       "      <td>Lucy</td>\n",
       "      <td>2014-02-04 17:17:00</td>\n",
       "      <td>Adoption</td>\n",
       "      <td>NaN</td>\n",
       "      <td>Dog</td>\n",
       "      <td>Spayed Female</td>\n",
       "      <td>5 months</td>\n",
       "      <td>American Pit Bull Terrier Mix</td>\n",
       "      <td>Red/White</td>\n",
       "      <td>671784</td>\n",
       "      <td>1391519820</td>\n",
       "      <td>1</td>\n",
       "      <td>150</td>\n",
       "      <td>0</td>\n",
       "      <td>0</td>\n",
       "      <td>0</td>\n",
       "      <td>1</td>\n",
       "    </tr>\n",
       "    <tr>\n",
       "      <th>9</th>\n",
       "      <td>A677747</td>\n",
       "      <td>NaN</td>\n",
       "      <td>2014-05-03 07:48:00</td>\n",
       "      <td>Adoption</td>\n",
       "      <td>Offsite</td>\n",
       "      <td>Dog</td>\n",
       "      <td>Spayed Female</td>\n",
       "      <td>1 year</td>\n",
       "      <td>Cairn Terrier</td>\n",
       "      <td>White</td>\n",
       "      <td>677747</td>\n",
       "      <td>1399088880</td>\n",
       "      <td>1</td>\n",
       "      <td>365</td>\n",
       "      <td>0</td>\n",
       "      <td>0</td>\n",
       "      <td>0</td>\n",
       "      <td>1</td>\n",
       "    </tr>\n",
       "    <tr>\n",
       "      <th>10</th>\n",
       "      <td>A668402</td>\n",
       "      <td>NaN</td>\n",
       "      <td>2013-12-05 15:50:00</td>\n",
       "      <td>Transfer</td>\n",
       "      <td>SCRP</td>\n",
       "      <td>Cat</td>\n",
       "      <td>Unknown</td>\n",
       "      <td>2 years</td>\n",
       "      <td>Domestic Shorthair Mix</td>\n",
       "      <td>Black</td>\n",
       "      <td>668402</td>\n",
       "      <td>1386244200</td>\n",
       "      <td>0</td>\n",
       "      <td>730</td>\n",
       "      <td>0</td>\n",
       "      <td>0</td>\n",
       "      <td>0</td>\n",
       "      <td>0</td>\n",
       "    </tr>\n",
       "    <tr>\n",
       "      <th>11</th>\n",
       "      <td>A666320</td>\n",
       "      <td>NaN</td>\n",
       "      <td>2013-11-04 14:48:00</td>\n",
       "      <td>Adoption</td>\n",
       "      <td>NaN</td>\n",
       "      <td>Dog</td>\n",
       "      <td>Spayed Female</td>\n",
       "      <td>2 years</td>\n",
       "      <td>Miniature Schnauzer Mix</td>\n",
       "      <td>Silver</td>\n",
       "      <td>666320</td>\n",
       "      <td>1383562080</td>\n",
       "      <td>1</td>\n",
       "      <td>730</td>\n",
       "      <td>0</td>\n",
       "      <td>0</td>\n",
       "      <td>0</td>\n",
       "      <td>1</td>\n",
       "    </tr>\n",
       "    <tr>\n",
       "      <th>12</th>\n",
       "      <td>A684601</td>\n",
       "      <td>Rocket</td>\n",
       "      <td>2016-02-03 11:27:00</td>\n",
       "      <td>Adoption</td>\n",
       "      <td>Foster</td>\n",
       "      <td>Dog</td>\n",
       "      <td>Neutered Male</td>\n",
       "      <td>4 years</td>\n",
       "      <td>Pit Bull Mix</td>\n",
       "      <td>Brown</td>\n",
       "      <td>684601</td>\n",
       "      <td>1454488020</td>\n",
       "      <td>1</td>\n",
       "      <td>1460</td>\n",
       "      <td>0</td>\n",
       "      <td>0</td>\n",
       "      <td>1</td>\n",
       "      <td>0</td>\n",
       "    </tr>\n",
       "    <tr>\n",
       "      <th>13</th>\n",
       "      <td>A704702</td>\n",
       "      <td>Scooter</td>\n",
       "      <td>2015-06-08 16:30:00</td>\n",
       "      <td>Return_to_owner</td>\n",
       "      <td>NaN</td>\n",
       "      <td>Dog</td>\n",
       "      <td>Neutered Male</td>\n",
       "      <td>2 years</td>\n",
       "      <td>Yorkshire Terrier Mix</td>\n",
       "      <td>Black/Red</td>\n",
       "      <td>704702</td>\n",
       "      <td>1433770200</td>\n",
       "      <td>1</td>\n",
       "      <td>730</td>\n",
       "      <td>0</td>\n",
       "      <td>0</td>\n",
       "      <td>1</td>\n",
       "      <td>0</td>\n",
       "    </tr>\n",
       "    <tr>\n",
       "      <th>14</th>\n",
       "      <td>A688584</td>\n",
       "      <td>Preston</td>\n",
       "      <td>2015-11-25 15:00:00</td>\n",
       "      <td>Return_to_owner</td>\n",
       "      <td>NaN</td>\n",
       "      <td>Dog</td>\n",
       "      <td>Neutered Male</td>\n",
       "      <td>1 year</td>\n",
       "      <td>Great Pyrenees Mix</td>\n",
       "      <td>White/Cream</td>\n",
       "      <td>688584</td>\n",
       "      <td>1448452800</td>\n",
       "      <td>1</td>\n",
       "      <td>365</td>\n",
       "      <td>0</td>\n",
       "      <td>0</td>\n",
       "      <td>1</td>\n",
       "      <td>0</td>\n",
       "    </tr>\n",
       "    <tr>\n",
       "      <th>15</th>\n",
       "      <td>A678825</td>\n",
       "      <td>Oliver</td>\n",
       "      <td>2014-07-12 12:10:00</td>\n",
       "      <td>Adoption</td>\n",
       "      <td>Foster</td>\n",
       "      <td>Cat</td>\n",
       "      <td>Neutered Male</td>\n",
       "      <td>3 months</td>\n",
       "      <td>Domestic Shorthair Mix</td>\n",
       "      <td>Orange Tabby/White</td>\n",
       "      <td>678825</td>\n",
       "      <td>1405152600</td>\n",
       "      <td>0</td>\n",
       "      <td>90</td>\n",
       "      <td>0</td>\n",
       "      <td>0</td>\n",
       "      <td>1</td>\n",
       "      <td>0</td>\n",
       "    </tr>\n",
       "    <tr>\n",
       "      <th>16</th>\n",
       "      <td>A678050</td>\n",
       "      <td>NaN</td>\n",
       "      <td>2014-05-03 16:15:00</td>\n",
       "      <td>Transfer</td>\n",
       "      <td>Partner</td>\n",
       "      <td>Cat</td>\n",
       "      <td>Intact Male</td>\n",
       "      <td>3 weeks</td>\n",
       "      <td>Domestic Shorthair Mix</td>\n",
       "      <td>Brown Tabby</td>\n",
       "      <td>678050</td>\n",
       "      <td>1399119300</td>\n",
       "      <td>0</td>\n",
       "      <td>21</td>\n",
       "      <td>0</td>\n",
       "      <td>1</td>\n",
       "      <td>0</td>\n",
       "      <td>0</td>\n",
       "    </tr>\n",
       "    <tr>\n",
       "      <th>17</th>\n",
       "      <td>A680028</td>\n",
       "      <td>NaN</td>\n",
       "      <td>2014-06-07 12:54:00</td>\n",
       "      <td>Transfer</td>\n",
       "      <td>Partner</td>\n",
       "      <td>Dog</td>\n",
       "      <td>Intact Female</td>\n",
       "      <td>2 weeks</td>\n",
       "      <td>Pit Bull Mix</td>\n",
       "      <td>Brown/White</td>\n",
       "      <td>680028</td>\n",
       "      <td>1402131240</td>\n",
       "      <td>1</td>\n",
       "      <td>14</td>\n",
       "      <td>1</td>\n",
       "      <td>0</td>\n",
       "      <td>0</td>\n",
       "      <td>0</td>\n",
       "    </tr>\n",
       "    <tr>\n",
       "      <th>18</th>\n",
       "      <td>A679010</td>\n",
       "      <td>Chrissy</td>\n",
       "      <td>2014-05-17 11:32:00</td>\n",
       "      <td>Transfer</td>\n",
       "      <td>Partner</td>\n",
       "      <td>Cat</td>\n",
       "      <td>Intact Female</td>\n",
       "      <td>2 years</td>\n",
       "      <td>Angora Mix</td>\n",
       "      <td>White</td>\n",
       "      <td>679010</td>\n",
       "      <td>1400311920</td>\n",
       "      <td>0</td>\n",
       "      <td>730</td>\n",
       "      <td>1</td>\n",
       "      <td>0</td>\n",
       "      <td>0</td>\n",
       "      <td>0</td>\n",
       "    </tr>\n",
       "    <tr>\n",
       "      <th>19</th>\n",
       "      <td>A684787</td>\n",
       "      <td>Kuma</td>\n",
       "      <td>2014-07-30 17:34:00</td>\n",
       "      <td>Return_to_owner</td>\n",
       "      <td>NaN</td>\n",
       "      <td>Dog</td>\n",
       "      <td>Neutered Male</td>\n",
       "      <td>1 year</td>\n",
       "      <td>Flat Coat Retriever Mix</td>\n",
       "      <td>Black</td>\n",
       "      <td>684787</td>\n",
       "      <td>1406727240</td>\n",
       "      <td>1</td>\n",
       "      <td>365</td>\n",
       "      <td>0</td>\n",
       "      <td>0</td>\n",
       "      <td>1</td>\n",
       "      <td>0</td>\n",
       "    </tr>\n",
       "    <tr>\n",
       "      <th>20</th>\n",
       "      <td>A670658</td>\n",
       "      <td>Anders</td>\n",
       "      <td>2014-01-19 15:03:00</td>\n",
       "      <td>Transfer</td>\n",
       "      <td>Partner</td>\n",
       "      <td>Dog</td>\n",
       "      <td>Intact Male</td>\n",
       "      <td>2 months</td>\n",
       "      <td>Queensland Heeler Mix</td>\n",
       "      <td>Black/White</td>\n",
       "      <td>670658</td>\n",
       "      <td>1390129380</td>\n",
       "      <td>1</td>\n",
       "      <td>60</td>\n",
       "      <td>0</td>\n",
       "      <td>1</td>\n",
       "      <td>0</td>\n",
       "      <td>0</td>\n",
       "    </tr>\n",
       "    <tr>\n",
       "      <th>21</th>\n",
       "      <td>A708812</td>\n",
       "      <td>Munchkin</td>\n",
       "      <td>2015-09-18 15:19:00</td>\n",
       "      <td>Transfer</td>\n",
       "      <td>Partner</td>\n",
       "      <td>Cat</td>\n",
       "      <td>Spayed Female</td>\n",
       "      <td>1 year</td>\n",
       "      <td>Domestic Shorthair Mix</td>\n",
       "      <td>White</td>\n",
       "      <td>708812</td>\n",
       "      <td>1442578740</td>\n",
       "      <td>0</td>\n",
       "      <td>365</td>\n",
       "      <td>0</td>\n",
       "      <td>0</td>\n",
       "      <td>0</td>\n",
       "      <td>1</td>\n",
       "    </tr>\n",
       "    <tr>\n",
       "      <th>22</th>\n",
       "      <td>A705262</td>\n",
       "      <td>Jamaica</td>\n",
       "      <td>2015-08-15 14:22:00</td>\n",
       "      <td>Adoption</td>\n",
       "      <td>NaN</td>\n",
       "      <td>Dog</td>\n",
       "      <td>Spayed Female</td>\n",
       "      <td>2 years</td>\n",
       "      <td>Plott Hound/Boxer</td>\n",
       "      <td>Brown Brindle/White</td>\n",
       "      <td>705262</td>\n",
       "      <td>1439637720</td>\n",
       "      <td>1</td>\n",
       "      <td>730</td>\n",
       "      <td>0</td>\n",
       "      <td>0</td>\n",
       "      <td>0</td>\n",
       "      <td>1</td>\n",
       "    </tr>\n",
       "    <tr>\n",
       "      <th>23</th>\n",
       "      <td>A665781</td>\n",
       "      <td>Quattro</td>\n",
       "      <td>2013-10-28 16:32:00</td>\n",
       "      <td>Adoption</td>\n",
       "      <td>NaN</td>\n",
       "      <td>Dog</td>\n",
       "      <td>Neutered Male</td>\n",
       "      <td>10 months</td>\n",
       "      <td>German Shepherd Mix</td>\n",
       "      <td>Brown/White</td>\n",
       "      <td>665781</td>\n",
       "      <td>1382963520</td>\n",
       "      <td>1</td>\n",
       "      <td>300</td>\n",
       "      <td>0</td>\n",
       "      <td>0</td>\n",
       "      <td>1</td>\n",
       "      <td>0</td>\n",
       "    </tr>\n",
       "    <tr>\n",
       "      <th>24</th>\n",
       "      <td>A676333</td>\n",
       "      <td>Trigger</td>\n",
       "      <td>2014-04-09 17:44:00</td>\n",
       "      <td>Return_to_owner</td>\n",
       "      <td>NaN</td>\n",
       "      <td>Dog</td>\n",
       "      <td>Neutered Male</td>\n",
       "      <td>2 months</td>\n",
       "      <td>German Shepherd Mix</td>\n",
       "      <td>Black/Brown</td>\n",
       "      <td>676333</td>\n",
       "      <td>1397051040</td>\n",
       "      <td>1</td>\n",
       "      <td>60</td>\n",
       "      <td>0</td>\n",
       "      <td>0</td>\n",
       "      <td>1</td>\n",
       "      <td>0</td>\n",
       "    </tr>\n",
       "    <tr>\n",
       "      <th>25</th>\n",
       "      <td>A712750</td>\n",
       "      <td>Olive</td>\n",
       "      <td>2015-10-03 15:44:00</td>\n",
       "      <td>Transfer</td>\n",
       "      <td>Partner</td>\n",
       "      <td>Cat</td>\n",
       "      <td>Intact Female</td>\n",
       "      <td>1 month</td>\n",
       "      <td>Domestic Shorthair Mix</td>\n",
       "      <td>Orange Tabby</td>\n",
       "      <td>712750</td>\n",
       "      <td>1443876240</td>\n",
       "      <td>0</td>\n",
       "      <td>30</td>\n",
       "      <td>1</td>\n",
       "      <td>0</td>\n",
       "      <td>0</td>\n",
       "      <td>0</td>\n",
       "    </tr>\n",
       "    <tr>\n",
       "      <th>26</th>\n",
       "      <td>A718832</td>\n",
       "      <td>Nia</td>\n",
       "      <td>2016-01-15 17:31:00</td>\n",
       "      <td>Adoption</td>\n",
       "      <td>NaN</td>\n",
       "      <td>Dog</td>\n",
       "      <td>Spayed Female</td>\n",
       "      <td>6 months</td>\n",
       "      <td>American Staffordshire Terrier Mix</td>\n",
       "      <td>Chocolate/White</td>\n",
       "      <td>718832</td>\n",
       "      <td>1452868260</td>\n",
       "      <td>1</td>\n",
       "      <td>180</td>\n",
       "      <td>0</td>\n",
       "      <td>0</td>\n",
       "      <td>0</td>\n",
       "      <td>1</td>\n",
       "    </tr>\n",
       "    <tr>\n",
       "      <th>27</th>\n",
       "      <td>A698777</td>\n",
       "      <td>Chloe</td>\n",
       "      <td>2015-03-25 18:50:00</td>\n",
       "      <td>Adoption</td>\n",
       "      <td>NaN</td>\n",
       "      <td>Dog</td>\n",
       "      <td>Spayed Female</td>\n",
       "      <td>5 years</td>\n",
       "      <td>Chihuahua Shorthair Mix</td>\n",
       "      <td>White/Tan</td>\n",
       "      <td>698777</td>\n",
       "      <td>1427298600</td>\n",
       "      <td>1</td>\n",
       "      <td>1825</td>\n",
       "      <td>0</td>\n",
       "      <td>0</td>\n",
       "      <td>0</td>\n",
       "      <td>1</td>\n",
       "    </tr>\n",
       "    <tr>\n",
       "      <th>28</th>\n",
       "      <td>A715348</td>\n",
       "      <td>Cymbale</td>\n",
       "      <td>2015-11-21 13:01:00</td>\n",
       "      <td>Adoption</td>\n",
       "      <td>NaN</td>\n",
       "      <td>Cat</td>\n",
       "      <td>Spayed Female</td>\n",
       "      <td>2 months</td>\n",
       "      <td>Domestic Shorthair Mix</td>\n",
       "      <td>Cream Tabby/White</td>\n",
       "      <td>715348</td>\n",
       "      <td>1448100060</td>\n",
       "      <td>0</td>\n",
       "      <td>60</td>\n",
       "      <td>0</td>\n",
       "      <td>0</td>\n",
       "      <td>0</td>\n",
       "      <td>1</td>\n",
       "    </tr>\n",
       "    <tr>\n",
       "      <th>29</th>\n",
       "      <td>A708666</td>\n",
       "      <td>Jax</td>\n",
       "      <td>2015-07-30 14:30:00</td>\n",
       "      <td>Return_to_owner</td>\n",
       "      <td>NaN</td>\n",
       "      <td>Cat</td>\n",
       "      <td>Neutered Male</td>\n",
       "      <td>7 years</td>\n",
       "      <td>Russian Blue Mix</td>\n",
       "      <td>Blue</td>\n",
       "      <td>708666</td>\n",
       "      <td>1438255800</td>\n",
       "      <td>0</td>\n",
       "      <td>2555</td>\n",
       "      <td>0</td>\n",
       "      <td>0</td>\n",
       "      <td>1</td>\n",
       "      <td>0</td>\n",
       "    </tr>\n",
       "    <tr>\n",
       "      <th>...</th>\n",
       "      <td>...</td>\n",
       "      <td>...</td>\n",
       "      <td>...</td>\n",
       "      <td>...</td>\n",
       "      <td>...</td>\n",
       "      <td>...</td>\n",
       "      <td>...</td>\n",
       "      <td>...</td>\n",
       "      <td>...</td>\n",
       "      <td>...</td>\n",
       "      <td>...</td>\n",
       "      <td>...</td>\n",
       "      <td>...</td>\n",
       "      <td>...</td>\n",
       "      <td>...</td>\n",
       "      <td>...</td>\n",
       "      <td>...</td>\n",
       "      <td>...</td>\n",
       "    </tr>\n",
       "    <tr>\n",
       "      <th>26699</th>\n",
       "      <td>A676460</td>\n",
       "      <td>Mario</td>\n",
       "      <td>2014-04-21 14:01:00</td>\n",
       "      <td>Euthanasia</td>\n",
       "      <td>Behavior</td>\n",
       "      <td>Dog</td>\n",
       "      <td>Neutered Male</td>\n",
       "      <td>2 years</td>\n",
       "      <td>American Pit Bull Terrier Mix</td>\n",
       "      <td>White/Black</td>\n",
       "      <td>676460</td>\n",
       "      <td>1398074460</td>\n",
       "      <td>1</td>\n",
       "      <td>730</td>\n",
       "      <td>0</td>\n",
       "      <td>0</td>\n",
       "      <td>1</td>\n",
       "      <td>0</td>\n",
       "    </tr>\n",
       "    <tr>\n",
       "      <th>26700</th>\n",
       "      <td>A704999</td>\n",
       "      <td>Lion</td>\n",
       "      <td>2015-06-15 19:28:00</td>\n",
       "      <td>Return_to_owner</td>\n",
       "      <td>NaN</td>\n",
       "      <td>Dog</td>\n",
       "      <td>Intact Male</td>\n",
       "      <td>10 months</td>\n",
       "      <td>Great Pyrenees/Anatol Shepherd</td>\n",
       "      <td>Tan/Cream</td>\n",
       "      <td>704999</td>\n",
       "      <td>1434385680</td>\n",
       "      <td>1</td>\n",
       "      <td>300</td>\n",
       "      <td>0</td>\n",
       "      <td>1</td>\n",
       "      <td>0</td>\n",
       "      <td>0</td>\n",
       "    </tr>\n",
       "    <tr>\n",
       "      <th>26701</th>\n",
       "      <td>A678842</td>\n",
       "      <td>Ella</td>\n",
       "      <td>2014-06-15 17:41:00</td>\n",
       "      <td>Transfer</td>\n",
       "      <td>Partner</td>\n",
       "      <td>Dog</td>\n",
       "      <td>Intact Female</td>\n",
       "      <td>11 months</td>\n",
       "      <td>Jack Russell Terrier Mix</td>\n",
       "      <td>White/Black</td>\n",
       "      <td>678842</td>\n",
       "      <td>1402839660</td>\n",
       "      <td>1</td>\n",
       "      <td>330</td>\n",
       "      <td>1</td>\n",
       "      <td>0</td>\n",
       "      <td>0</td>\n",
       "      <td>0</td>\n",
       "    </tr>\n",
       "    <tr>\n",
       "      <th>26702</th>\n",
       "      <td>A713637</td>\n",
       "      <td>NaN</td>\n",
       "      <td>2015-10-11 09:42:00</td>\n",
       "      <td>Died</td>\n",
       "      <td>In Kennel</td>\n",
       "      <td>Cat</td>\n",
       "      <td>Spayed Female</td>\n",
       "      <td>2 years</td>\n",
       "      <td>Siamese Mix</td>\n",
       "      <td>Lynx Point</td>\n",
       "      <td>713637</td>\n",
       "      <td>1444545720</td>\n",
       "      <td>0</td>\n",
       "      <td>730</td>\n",
       "      <td>0</td>\n",
       "      <td>0</td>\n",
       "      <td>0</td>\n",
       "      <td>1</td>\n",
       "    </tr>\n",
       "    <tr>\n",
       "      <th>26703</th>\n",
       "      <td>A716670</td>\n",
       "      <td>Mowmow</td>\n",
       "      <td>2015-12-04 12:22:00</td>\n",
       "      <td>Transfer</td>\n",
       "      <td>Partner</td>\n",
       "      <td>Cat</td>\n",
       "      <td>Neutered Male</td>\n",
       "      <td>6 years</td>\n",
       "      <td>Domestic Longhair Mix</td>\n",
       "      <td>Seal Point</td>\n",
       "      <td>716670</td>\n",
       "      <td>1449220920</td>\n",
       "      <td>0</td>\n",
       "      <td>2190</td>\n",
       "      <td>0</td>\n",
       "      <td>0</td>\n",
       "      <td>1</td>\n",
       "      <td>0</td>\n",
       "    </tr>\n",
       "    <tr>\n",
       "      <th>26704</th>\n",
       "      <td>A716223</td>\n",
       "      <td>Alice</td>\n",
       "      <td>2015-11-17 17:17:00</td>\n",
       "      <td>Transfer</td>\n",
       "      <td>Partner</td>\n",
       "      <td>Cat</td>\n",
       "      <td>Intact Female</td>\n",
       "      <td>4 weeks</td>\n",
       "      <td>Domestic Shorthair Mix</td>\n",
       "      <td>White/Black</td>\n",
       "      <td>716223</td>\n",
       "      <td>1447769820</td>\n",
       "      <td>0</td>\n",
       "      <td>28</td>\n",
       "      <td>1</td>\n",
       "      <td>0</td>\n",
       "      <td>0</td>\n",
       "      <td>0</td>\n",
       "    </tr>\n",
       "    <tr>\n",
       "      <th>26705</th>\n",
       "      <td>A662498</td>\n",
       "      <td>Grace</td>\n",
       "      <td>2013-10-19 15:34:00</td>\n",
       "      <td>Transfer</td>\n",
       "      <td>Partner</td>\n",
       "      <td>Cat</td>\n",
       "      <td>Intact Female</td>\n",
       "      <td>2 months</td>\n",
       "      <td>Domestic Shorthair Mix</td>\n",
       "      <td>Tortie</td>\n",
       "      <td>662498</td>\n",
       "      <td>1382182440</td>\n",
       "      <td>0</td>\n",
       "      <td>60</td>\n",
       "      <td>1</td>\n",
       "      <td>0</td>\n",
       "      <td>0</td>\n",
       "      <td>0</td>\n",
       "    </tr>\n",
       "    <tr>\n",
       "      <th>26706</th>\n",
       "      <td>A689942</td>\n",
       "      <td>Zoey</td>\n",
       "      <td>2014-10-19 13:29:00</td>\n",
       "      <td>Adoption</td>\n",
       "      <td>NaN</td>\n",
       "      <td>Cat</td>\n",
       "      <td>Spayed Female</td>\n",
       "      <td>2 months</td>\n",
       "      <td>Domestic Shorthair Mix</td>\n",
       "      <td>Black</td>\n",
       "      <td>689942</td>\n",
       "      <td>1413710940</td>\n",
       "      <td>0</td>\n",
       "      <td>60</td>\n",
       "      <td>0</td>\n",
       "      <td>0</td>\n",
       "      <td>0</td>\n",
       "      <td>1</td>\n",
       "    </tr>\n",
       "    <tr>\n",
       "      <th>26707</th>\n",
       "      <td>A682690</td>\n",
       "      <td>NaN</td>\n",
       "      <td>2014-07-01 17:06:00</td>\n",
       "      <td>Euthanasia</td>\n",
       "      <td>Suffering</td>\n",
       "      <td>Cat</td>\n",
       "      <td>Unknown</td>\n",
       "      <td>1 year</td>\n",
       "      <td>Domestic Shorthair Mix</td>\n",
       "      <td>Brown Tabby</td>\n",
       "      <td>682690</td>\n",
       "      <td>1404219960</td>\n",
       "      <td>0</td>\n",
       "      <td>365</td>\n",
       "      <td>0</td>\n",
       "      <td>0</td>\n",
       "      <td>0</td>\n",
       "      <td>0</td>\n",
       "    </tr>\n",
       "    <tr>\n",
       "      <th>26708</th>\n",
       "      <td>A666920</td>\n",
       "      <td>Herbie</td>\n",
       "      <td>2013-11-13 17:32:00</td>\n",
       "      <td>Transfer</td>\n",
       "      <td>Partner</td>\n",
       "      <td>Dog</td>\n",
       "      <td>Neutered Male</td>\n",
       "      <td>2 years</td>\n",
       "      <td>Chihuahua Shorthair Mix</td>\n",
       "      <td>White/Brown</td>\n",
       "      <td>666920</td>\n",
       "      <td>1384349520</td>\n",
       "      <td>1</td>\n",
       "      <td>730</td>\n",
       "      <td>0</td>\n",
       "      <td>0</td>\n",
       "      <td>1</td>\n",
       "      <td>0</td>\n",
       "    </tr>\n",
       "    <tr>\n",
       "      <th>26709</th>\n",
       "      <td>A714386</td>\n",
       "      <td>NaN</td>\n",
       "      <td>2015-10-24 00:00:00</td>\n",
       "      <td>Adoption</td>\n",
       "      <td>NaN</td>\n",
       "      <td>Dog</td>\n",
       "      <td>Spayed Female</td>\n",
       "      <td>1 month</td>\n",
       "      <td>Chihuahua Shorthair Mix</td>\n",
       "      <td>Sable/Buff</td>\n",
       "      <td>714386</td>\n",
       "      <td>1445634000</td>\n",
       "      <td>1</td>\n",
       "      <td>30</td>\n",
       "      <td>0</td>\n",
       "      <td>0</td>\n",
       "      <td>0</td>\n",
       "      <td>1</td>\n",
       "    </tr>\n",
       "    <tr>\n",
       "      <th>26710</th>\n",
       "      <td>A692622</td>\n",
       "      <td>Bonnie</td>\n",
       "      <td>2014-11-24 17:21:00</td>\n",
       "      <td>Transfer</td>\n",
       "      <td>Partner</td>\n",
       "      <td>Dog</td>\n",
       "      <td>Intact Female</td>\n",
       "      <td>1 month</td>\n",
       "      <td>Chihuahua Shorthair/Yorkshire Terrier</td>\n",
       "      <td>Brown/Black</td>\n",
       "      <td>692622</td>\n",
       "      <td>1416838860</td>\n",
       "      <td>1</td>\n",
       "      <td>30</td>\n",
       "      <td>1</td>\n",
       "      <td>0</td>\n",
       "      <td>0</td>\n",
       "      <td>0</td>\n",
       "    </tr>\n",
       "    <tr>\n",
       "      <th>26711</th>\n",
       "      <td>A666284</td>\n",
       "      <td>Sonja</td>\n",
       "      <td>2013-10-30 18:32:00</td>\n",
       "      <td>Transfer</td>\n",
       "      <td>Partner</td>\n",
       "      <td>Dog</td>\n",
       "      <td>Intact Female</td>\n",
       "      <td>1 year</td>\n",
       "      <td>Cocker Spaniel/Dachshund</td>\n",
       "      <td>Buff</td>\n",
       "      <td>666284</td>\n",
       "      <td>1383143520</td>\n",
       "      <td>1</td>\n",
       "      <td>365</td>\n",
       "      <td>1</td>\n",
       "      <td>0</td>\n",
       "      <td>0</td>\n",
       "      <td>0</td>\n",
       "    </tr>\n",
       "    <tr>\n",
       "      <th>26712</th>\n",
       "      <td>A535277</td>\n",
       "      <td>Merlin</td>\n",
       "      <td>2015-04-20 16:04:00</td>\n",
       "      <td>Return_to_owner</td>\n",
       "      <td>NaN</td>\n",
       "      <td>Dog</td>\n",
       "      <td>Neutered Male</td>\n",
       "      <td>12 years</td>\n",
       "      <td>Rat Terrier</td>\n",
       "      <td>Chocolate/Tan</td>\n",
       "      <td>535277</td>\n",
       "      <td>1429535040</td>\n",
       "      <td>1</td>\n",
       "      <td>4380</td>\n",
       "      <td>0</td>\n",
       "      <td>0</td>\n",
       "      <td>1</td>\n",
       "      <td>0</td>\n",
       "    </tr>\n",
       "    <tr>\n",
       "      <th>26713</th>\n",
       "      <td>A671169</td>\n",
       "      <td>NaN</td>\n",
       "      <td>2014-01-20 17:37:00</td>\n",
       "      <td>Euthanasia</td>\n",
       "      <td>Suffering</td>\n",
       "      <td>Cat</td>\n",
       "      <td>Intact Female</td>\n",
       "      <td>18 years</td>\n",
       "      <td>Domestic Longhair Mix</td>\n",
       "      <td>Tortie</td>\n",
       "      <td>671169</td>\n",
       "      <td>1390225020</td>\n",
       "      <td>0</td>\n",
       "      <td>6570</td>\n",
       "      <td>1</td>\n",
       "      <td>0</td>\n",
       "      <td>0</td>\n",
       "      <td>0</td>\n",
       "    </tr>\n",
       "    <tr>\n",
       "      <th>26714</th>\n",
       "      <td>A679031</td>\n",
       "      <td>Pete</td>\n",
       "      <td>2014-05-31 16:11:00</td>\n",
       "      <td>Adoption</td>\n",
       "      <td>NaN</td>\n",
       "      <td>Cat</td>\n",
       "      <td>Spayed Female</td>\n",
       "      <td>2 months</td>\n",
       "      <td>Domestic Shorthair Mix</td>\n",
       "      <td>Orange Tabby</td>\n",
       "      <td>679031</td>\n",
       "      <td>1401538260</td>\n",
       "      <td>0</td>\n",
       "      <td>60</td>\n",
       "      <td>0</td>\n",
       "      <td>0</td>\n",
       "      <td>0</td>\n",
       "      <td>1</td>\n",
       "    </tr>\n",
       "    <tr>\n",
       "      <th>26715</th>\n",
       "      <td>A708833</td>\n",
       "      <td>Luna</td>\n",
       "      <td>2015-08-05 17:03:00</td>\n",
       "      <td>Adoption</td>\n",
       "      <td>NaN</td>\n",
       "      <td>Dog</td>\n",
       "      <td>Spayed Female</td>\n",
       "      <td>2 months</td>\n",
       "      <td>Pointer Mix</td>\n",
       "      <td>Black/White</td>\n",
       "      <td>708833</td>\n",
       "      <td>1438783380</td>\n",
       "      <td>1</td>\n",
       "      <td>60</td>\n",
       "      <td>0</td>\n",
       "      <td>0</td>\n",
       "      <td>0</td>\n",
       "      <td>1</td>\n",
       "    </tr>\n",
       "    <tr>\n",
       "      <th>26716</th>\n",
       "      <td>A697158</td>\n",
       "      <td>Max</td>\n",
       "      <td>2015-05-02 21:04:00</td>\n",
       "      <td>Adoption</td>\n",
       "      <td>Offsite</td>\n",
       "      <td>Dog</td>\n",
       "      <td>Neutered Male</td>\n",
       "      <td>2 months</td>\n",
       "      <td>Newfoundland Mix</td>\n",
       "      <td>White/Black</td>\n",
       "      <td>697158</td>\n",
       "      <td>1430589840</td>\n",
       "      <td>1</td>\n",
       "      <td>60</td>\n",
       "      <td>0</td>\n",
       "      <td>0</td>\n",
       "      <td>1</td>\n",
       "      <td>0</td>\n",
       "    </tr>\n",
       "    <tr>\n",
       "      <th>26717</th>\n",
       "      <td>A519949</td>\n",
       "      <td>Bella</td>\n",
       "      <td>2014-06-30 17:34:00</td>\n",
       "      <td>Return_to_owner</td>\n",
       "      <td>NaN</td>\n",
       "      <td>Dog</td>\n",
       "      <td>Spayed Female</td>\n",
       "      <td>9 years</td>\n",
       "      <td>Bullmastiff Mix</td>\n",
       "      <td>Black</td>\n",
       "      <td>519949</td>\n",
       "      <td>1404135240</td>\n",
       "      <td>1</td>\n",
       "      <td>3285</td>\n",
       "      <td>0</td>\n",
       "      <td>0</td>\n",
       "      <td>0</td>\n",
       "      <td>1</td>\n",
       "    </tr>\n",
       "    <tr>\n",
       "      <th>26718</th>\n",
       "      <td>A701044</td>\n",
       "      <td>NaN</td>\n",
       "      <td>2015-04-28 14:26:00</td>\n",
       "      <td>Adoption</td>\n",
       "      <td>NaN</td>\n",
       "      <td>Dog</td>\n",
       "      <td>Neutered Male</td>\n",
       "      <td>2 months</td>\n",
       "      <td>Siberian Husky/German Shepherd</td>\n",
       "      <td>Black/Tricolor</td>\n",
       "      <td>701044</td>\n",
       "      <td>1430220360</td>\n",
       "      <td>1</td>\n",
       "      <td>60</td>\n",
       "      <td>0</td>\n",
       "      <td>0</td>\n",
       "      <td>1</td>\n",
       "      <td>0</td>\n",
       "    </tr>\n",
       "    <tr>\n",
       "      <th>26719</th>\n",
       "      <td>A707871</td>\n",
       "      <td>NaN</td>\n",
       "      <td>2015-07-20 09:00:00</td>\n",
       "      <td>Transfer</td>\n",
       "      <td>SCRP</td>\n",
       "      <td>Cat</td>\n",
       "      <td>Unknown</td>\n",
       "      <td>2 years</td>\n",
       "      <td>Domestic Shorthair Mix</td>\n",
       "      <td>Brown Tabby/White</td>\n",
       "      <td>707871</td>\n",
       "      <td>1437372000</td>\n",
       "      <td>0</td>\n",
       "      <td>730</td>\n",
       "      <td>0</td>\n",
       "      <td>0</td>\n",
       "      <td>0</td>\n",
       "      <td>0</td>\n",
       "    </tr>\n",
       "    <tr>\n",
       "      <th>26720</th>\n",
       "      <td>A704405</td>\n",
       "      <td>Brownie</td>\n",
       "      <td>2015-07-18 14:08:00</td>\n",
       "      <td>Adoption</td>\n",
       "      <td>NaN</td>\n",
       "      <td>Cat</td>\n",
       "      <td>Spayed Female</td>\n",
       "      <td>2 months</td>\n",
       "      <td>Domestic Shorthair Mix</td>\n",
       "      <td>Brown Tabby</td>\n",
       "      <td>704405</td>\n",
       "      <td>1437217680</td>\n",
       "      <td>0</td>\n",
       "      <td>60</td>\n",
       "      <td>0</td>\n",
       "      <td>0</td>\n",
       "      <td>0</td>\n",
       "      <td>1</td>\n",
       "    </tr>\n",
       "    <tr>\n",
       "      <th>26721</th>\n",
       "      <td>A662019</td>\n",
       "      <td>Green Bean</td>\n",
       "      <td>2014-07-17 09:43:00</td>\n",
       "      <td>Adoption</td>\n",
       "      <td>Foster</td>\n",
       "      <td>Cat</td>\n",
       "      <td>Spayed Female</td>\n",
       "      <td>5 years</td>\n",
       "      <td>Domestic Shorthair Mix</td>\n",
       "      <td>Black</td>\n",
       "      <td>662019</td>\n",
       "      <td>1405575780</td>\n",
       "      <td>0</td>\n",
       "      <td>1825</td>\n",
       "      <td>0</td>\n",
       "      <td>0</td>\n",
       "      <td>0</td>\n",
       "      <td>1</td>\n",
       "    </tr>\n",
       "    <tr>\n",
       "      <th>26722</th>\n",
       "      <td>A687056</td>\n",
       "      <td>NaN</td>\n",
       "      <td>2014-08-31 09:00:00</td>\n",
       "      <td>Transfer</td>\n",
       "      <td>SCRP</td>\n",
       "      <td>Cat</td>\n",
       "      <td>Intact Male</td>\n",
       "      <td>5 months</td>\n",
       "      <td>Domestic Shorthair Mix</td>\n",
       "      <td>Orange Tabby</td>\n",
       "      <td>687056</td>\n",
       "      <td>1409461200</td>\n",
       "      <td>0</td>\n",
       "      <td>150</td>\n",
       "      <td>0</td>\n",
       "      <td>1</td>\n",
       "      <td>0</td>\n",
       "      <td>0</td>\n",
       "    </tr>\n",
       "    <tr>\n",
       "      <th>26723</th>\n",
       "      <td>A716997</td>\n",
       "      <td>Zeus</td>\n",
       "      <td>2016-01-29 18:52:00</td>\n",
       "      <td>Adoption</td>\n",
       "      <td>NaN</td>\n",
       "      <td>Dog</td>\n",
       "      <td>Neutered Male</td>\n",
       "      <td>6 years</td>\n",
       "      <td>Staffordshire Mix</td>\n",
       "      <td>Blue/White</td>\n",
       "      <td>716997</td>\n",
       "      <td>1454082720</td>\n",
       "      <td>1</td>\n",
       "      <td>2190</td>\n",
       "      <td>0</td>\n",
       "      <td>0</td>\n",
       "      <td>1</td>\n",
       "      <td>0</td>\n",
       "    </tr>\n",
       "    <tr>\n",
       "      <th>26724</th>\n",
       "      <td>A702446</td>\n",
       "      <td>NaN</td>\n",
       "      <td>2015-05-14 11:56:00</td>\n",
       "      <td>Transfer</td>\n",
       "      <td>Partner</td>\n",
       "      <td>Cat</td>\n",
       "      <td>Intact Male</td>\n",
       "      <td>1 month</td>\n",
       "      <td>Domestic Shorthair Mix</td>\n",
       "      <td>Brown Tabby/White</td>\n",
       "      <td>702446</td>\n",
       "      <td>1431593760</td>\n",
       "      <td>0</td>\n",
       "      <td>30</td>\n",
       "      <td>0</td>\n",
       "      <td>1</td>\n",
       "      <td>0</td>\n",
       "      <td>0</td>\n",
       "    </tr>\n",
       "    <tr>\n",
       "      <th>26725</th>\n",
       "      <td>A718934</td>\n",
       "      <td>NaN</td>\n",
       "      <td>2016-01-20 18:59:00</td>\n",
       "      <td>Transfer</td>\n",
       "      <td>SCRP</td>\n",
       "      <td>Cat</td>\n",
       "      <td>Spayed Female</td>\n",
       "      <td>3 months</td>\n",
       "      <td>Domestic Shorthair Mix</td>\n",
       "      <td>Brown Tabby</td>\n",
       "      <td>718934</td>\n",
       "      <td>1453305540</td>\n",
       "      <td>0</td>\n",
       "      <td>90</td>\n",
       "      <td>0</td>\n",
       "      <td>0</td>\n",
       "      <td>0</td>\n",
       "      <td>1</td>\n",
       "    </tr>\n",
       "    <tr>\n",
       "      <th>26726</th>\n",
       "      <td>A698128</td>\n",
       "      <td>Zeus</td>\n",
       "      <td>2015-03-09 13:33:00</td>\n",
       "      <td>Adoption</td>\n",
       "      <td>NaN</td>\n",
       "      <td>Dog</td>\n",
       "      <td>Neutered Male</td>\n",
       "      <td>4 years</td>\n",
       "      <td>Old English Bulldog Mix</td>\n",
       "      <td>White/Tan</td>\n",
       "      <td>698128</td>\n",
       "      <td>1425897180</td>\n",
       "      <td>1</td>\n",
       "      <td>1460</td>\n",
       "      <td>0</td>\n",
       "      <td>0</td>\n",
       "      <td>1</td>\n",
       "      <td>0</td>\n",
       "    </tr>\n",
       "    <tr>\n",
       "      <th>26727</th>\n",
       "      <td>A677478</td>\n",
       "      <td>NaN</td>\n",
       "      <td>2014-04-27 12:22:00</td>\n",
       "      <td>Transfer</td>\n",
       "      <td>Partner</td>\n",
       "      <td>Cat</td>\n",
       "      <td>Intact Male</td>\n",
       "      <td>4 weeks</td>\n",
       "      <td>Domestic Shorthair Mix</td>\n",
       "      <td>Black</td>\n",
       "      <td>677478</td>\n",
       "      <td>1398586920</td>\n",
       "      <td>0</td>\n",
       "      <td>28</td>\n",
       "      <td>0</td>\n",
       "      <td>1</td>\n",
       "      <td>0</td>\n",
       "      <td>0</td>\n",
       "    </tr>\n",
       "    <tr>\n",
       "      <th>26728</th>\n",
       "      <td>A706629</td>\n",
       "      <td>NaN</td>\n",
       "      <td>2015-07-02 09:00:00</td>\n",
       "      <td>Transfer</td>\n",
       "      <td>SCRP</td>\n",
       "      <td>Cat</td>\n",
       "      <td>Intact Male</td>\n",
       "      <td>1 year</td>\n",
       "      <td>Domestic Shorthair Mix</td>\n",
       "      <td>Brown Tabby/White</td>\n",
       "      <td>706629</td>\n",
       "      <td>1435816800</td>\n",
       "      <td>0</td>\n",
       "      <td>365</td>\n",
       "      <td>0</td>\n",
       "      <td>1</td>\n",
       "      <td>0</td>\n",
       "      <td>0</td>\n",
       "    </tr>\n",
       "  </tbody>\n",
       "</table>\n",
       "<p>26729 rows × 18 columns</p>\n",
       "</div>"
      ],
      "text/plain": [
       "      AnimalID        Name             DateTime      OutcomeType  \\\n",
       "0      A671945     Hambone  2014-02-12 18:22:00  Return_to_owner   \n",
       "1      A656520       Emily  2013-10-13 12:44:00       Euthanasia   \n",
       "2      A686464      Pearce  2015-01-31 12:28:00         Adoption   \n",
       "3      A683430         NaN  2014-07-11 19:09:00         Transfer   \n",
       "4      A667013         NaN  2013-11-15 12:52:00         Transfer   \n",
       "5      A677334        Elsa  2014-04-25 13:04:00         Transfer   \n",
       "6      A699218       Jimmy  2015-03-28 13:11:00         Transfer   \n",
       "7      A701489         NaN  2015-04-30 17:02:00         Transfer   \n",
       "8      A671784        Lucy  2014-02-04 17:17:00         Adoption   \n",
       "9      A677747         NaN  2014-05-03 07:48:00         Adoption   \n",
       "10     A668402         NaN  2013-12-05 15:50:00         Transfer   \n",
       "11     A666320         NaN  2013-11-04 14:48:00         Adoption   \n",
       "12     A684601      Rocket  2016-02-03 11:27:00         Adoption   \n",
       "13     A704702     Scooter  2015-06-08 16:30:00  Return_to_owner   \n",
       "14     A688584     Preston  2015-11-25 15:00:00  Return_to_owner   \n",
       "15     A678825      Oliver  2014-07-12 12:10:00         Adoption   \n",
       "16     A678050         NaN  2014-05-03 16:15:00         Transfer   \n",
       "17     A680028         NaN  2014-06-07 12:54:00         Transfer   \n",
       "18     A679010     Chrissy  2014-05-17 11:32:00         Transfer   \n",
       "19     A684787        Kuma  2014-07-30 17:34:00  Return_to_owner   \n",
       "20     A670658      Anders  2014-01-19 15:03:00         Transfer   \n",
       "21     A708812    Munchkin  2015-09-18 15:19:00         Transfer   \n",
       "22     A705262     Jamaica  2015-08-15 14:22:00         Adoption   \n",
       "23     A665781     Quattro  2013-10-28 16:32:00         Adoption   \n",
       "24     A676333     Trigger  2014-04-09 17:44:00  Return_to_owner   \n",
       "25     A712750       Olive  2015-10-03 15:44:00         Transfer   \n",
       "26     A718832         Nia  2016-01-15 17:31:00         Adoption   \n",
       "27     A698777       Chloe  2015-03-25 18:50:00         Adoption   \n",
       "28     A715348     Cymbale  2015-11-21 13:01:00         Adoption   \n",
       "29     A708666         Jax  2015-07-30 14:30:00  Return_to_owner   \n",
       "...        ...         ...                  ...              ...   \n",
       "26699  A676460       Mario  2014-04-21 14:01:00       Euthanasia   \n",
       "26700  A704999        Lion  2015-06-15 19:28:00  Return_to_owner   \n",
       "26701  A678842        Ella  2014-06-15 17:41:00         Transfer   \n",
       "26702  A713637         NaN  2015-10-11 09:42:00             Died   \n",
       "26703  A716670      Mowmow  2015-12-04 12:22:00         Transfer   \n",
       "26704  A716223       Alice  2015-11-17 17:17:00         Transfer   \n",
       "26705  A662498       Grace  2013-10-19 15:34:00         Transfer   \n",
       "26706  A689942        Zoey  2014-10-19 13:29:00         Adoption   \n",
       "26707  A682690         NaN  2014-07-01 17:06:00       Euthanasia   \n",
       "26708  A666920      Herbie  2013-11-13 17:32:00         Transfer   \n",
       "26709  A714386         NaN  2015-10-24 00:00:00         Adoption   \n",
       "26710  A692622      Bonnie  2014-11-24 17:21:00         Transfer   \n",
       "26711  A666284       Sonja  2013-10-30 18:32:00         Transfer   \n",
       "26712  A535277      Merlin  2015-04-20 16:04:00  Return_to_owner   \n",
       "26713  A671169         NaN  2014-01-20 17:37:00       Euthanasia   \n",
       "26714  A679031        Pete  2014-05-31 16:11:00         Adoption   \n",
       "26715  A708833        Luna  2015-08-05 17:03:00         Adoption   \n",
       "26716  A697158         Max  2015-05-02 21:04:00         Adoption   \n",
       "26717  A519949       Bella  2014-06-30 17:34:00  Return_to_owner   \n",
       "26718  A701044         NaN  2015-04-28 14:26:00         Adoption   \n",
       "26719  A707871         NaN  2015-07-20 09:00:00         Transfer   \n",
       "26720  A704405     Brownie  2015-07-18 14:08:00         Adoption   \n",
       "26721  A662019  Green Bean  2014-07-17 09:43:00         Adoption   \n",
       "26722  A687056         NaN  2014-08-31 09:00:00         Transfer   \n",
       "26723  A716997        Zeus  2016-01-29 18:52:00         Adoption   \n",
       "26724  A702446         NaN  2015-05-14 11:56:00         Transfer   \n",
       "26725  A718934         NaN  2016-01-20 18:59:00         Transfer   \n",
       "26726  A698128        Zeus  2015-03-09 13:33:00         Adoption   \n",
       "26727  A677478         NaN  2014-04-27 12:22:00         Transfer   \n",
       "26728  A706629         NaN  2015-07-02 09:00:00         Transfer   \n",
       "\n",
       "      OutcomeSubtype AnimalType SexuponOutcome AgeuponOutcome  \\\n",
       "0                NaN        Dog  Neutered Male         1 year   \n",
       "1          Suffering        Cat  Spayed Female         1 year   \n",
       "2             Foster        Dog  Neutered Male        2 years   \n",
       "3            Partner        Cat    Intact Male        3 weeks   \n",
       "4            Partner        Dog  Neutered Male        2 years   \n",
       "5            Partner        Dog  Intact Female        1 month   \n",
       "6            Partner        Cat    Intact Male        3 weeks   \n",
       "7            Partner        Cat        Unknown        3 weeks   \n",
       "8                NaN        Dog  Spayed Female       5 months   \n",
       "9            Offsite        Dog  Spayed Female         1 year   \n",
       "10              SCRP        Cat        Unknown        2 years   \n",
       "11               NaN        Dog  Spayed Female        2 years   \n",
       "12            Foster        Dog  Neutered Male        4 years   \n",
       "13               NaN        Dog  Neutered Male        2 years   \n",
       "14               NaN        Dog  Neutered Male         1 year   \n",
       "15            Foster        Cat  Neutered Male       3 months   \n",
       "16           Partner        Cat    Intact Male        3 weeks   \n",
       "17           Partner        Dog  Intact Female        2 weeks   \n",
       "18           Partner        Cat  Intact Female        2 years   \n",
       "19               NaN        Dog  Neutered Male         1 year   \n",
       "20           Partner        Dog    Intact Male       2 months   \n",
       "21           Partner        Cat  Spayed Female         1 year   \n",
       "22               NaN        Dog  Spayed Female        2 years   \n",
       "23               NaN        Dog  Neutered Male      10 months   \n",
       "24               NaN        Dog  Neutered Male       2 months   \n",
       "25           Partner        Cat  Intact Female        1 month   \n",
       "26               NaN        Dog  Spayed Female       6 months   \n",
       "27               NaN        Dog  Spayed Female        5 years   \n",
       "28               NaN        Cat  Spayed Female       2 months   \n",
       "29               NaN        Cat  Neutered Male        7 years   \n",
       "...              ...        ...            ...            ...   \n",
       "26699       Behavior        Dog  Neutered Male        2 years   \n",
       "26700            NaN        Dog    Intact Male      10 months   \n",
       "26701        Partner        Dog  Intact Female      11 months   \n",
       "26702      In Kennel        Cat  Spayed Female        2 years   \n",
       "26703        Partner        Cat  Neutered Male        6 years   \n",
       "26704        Partner        Cat  Intact Female        4 weeks   \n",
       "26705        Partner        Cat  Intact Female       2 months   \n",
       "26706            NaN        Cat  Spayed Female       2 months   \n",
       "26707      Suffering        Cat        Unknown         1 year   \n",
       "26708        Partner        Dog  Neutered Male        2 years   \n",
       "26709            NaN        Dog  Spayed Female        1 month   \n",
       "26710        Partner        Dog  Intact Female        1 month   \n",
       "26711        Partner        Dog  Intact Female         1 year   \n",
       "26712            NaN        Dog  Neutered Male       12 years   \n",
       "26713      Suffering        Cat  Intact Female       18 years   \n",
       "26714            NaN        Cat  Spayed Female       2 months   \n",
       "26715            NaN        Dog  Spayed Female       2 months   \n",
       "26716        Offsite        Dog  Neutered Male       2 months   \n",
       "26717            NaN        Dog  Spayed Female        9 years   \n",
       "26718            NaN        Dog  Neutered Male       2 months   \n",
       "26719           SCRP        Cat        Unknown        2 years   \n",
       "26720            NaN        Cat  Spayed Female       2 months   \n",
       "26721         Foster        Cat  Spayed Female        5 years   \n",
       "26722           SCRP        Cat    Intact Male       5 months   \n",
       "26723            NaN        Dog  Neutered Male        6 years   \n",
       "26724        Partner        Cat    Intact Male        1 month   \n",
       "26725           SCRP        Cat  Spayed Female       3 months   \n",
       "26726            NaN        Dog  Neutered Male        4 years   \n",
       "26727        Partner        Cat    Intact Male        4 weeks   \n",
       "26728           SCRP        Cat    Intact Male         1 year   \n",
       "\n",
       "                                       Breed                Color  \\\n",
       "0                      Shetland Sheepdog Mix          Brown/White   \n",
       "1                     Domestic Shorthair Mix          Cream Tabby   \n",
       "2                               Pit Bull Mix           Blue/White   \n",
       "3                     Domestic Shorthair Mix           Blue Cream   \n",
       "4                Lhasa Apso/Miniature Poodle                  Tan   \n",
       "5          Cairn Terrier/Chihuahua Shorthair            Black/Tan   \n",
       "6                     Domestic Shorthair Mix           Blue Tabby   \n",
       "7                     Domestic Shorthair Mix          Brown Tabby   \n",
       "8              American Pit Bull Terrier Mix            Red/White   \n",
       "9                              Cairn Terrier                White   \n",
       "10                    Domestic Shorthair Mix                Black   \n",
       "11                   Miniature Schnauzer Mix               Silver   \n",
       "12                              Pit Bull Mix                Brown   \n",
       "13                     Yorkshire Terrier Mix            Black/Red   \n",
       "14                        Great Pyrenees Mix          White/Cream   \n",
       "15                    Domestic Shorthair Mix   Orange Tabby/White   \n",
       "16                    Domestic Shorthair Mix          Brown Tabby   \n",
       "17                              Pit Bull Mix          Brown/White   \n",
       "18                                Angora Mix                White   \n",
       "19                   Flat Coat Retriever Mix                Black   \n",
       "20                     Queensland Heeler Mix          Black/White   \n",
       "21                    Domestic Shorthair Mix                White   \n",
       "22                         Plott Hound/Boxer  Brown Brindle/White   \n",
       "23                       German Shepherd Mix          Brown/White   \n",
       "24                       German Shepherd Mix          Black/Brown   \n",
       "25                    Domestic Shorthair Mix         Orange Tabby   \n",
       "26        American Staffordshire Terrier Mix      Chocolate/White   \n",
       "27                   Chihuahua Shorthair Mix            White/Tan   \n",
       "28                    Domestic Shorthair Mix    Cream Tabby/White   \n",
       "29                          Russian Blue Mix                 Blue   \n",
       "...                                      ...                  ...   \n",
       "26699          American Pit Bull Terrier Mix          White/Black   \n",
       "26700         Great Pyrenees/Anatol Shepherd            Tan/Cream   \n",
       "26701               Jack Russell Terrier Mix          White/Black   \n",
       "26702                            Siamese Mix           Lynx Point   \n",
       "26703                  Domestic Longhair Mix           Seal Point   \n",
       "26704                 Domestic Shorthair Mix          White/Black   \n",
       "26705                 Domestic Shorthair Mix               Tortie   \n",
       "26706                 Domestic Shorthair Mix                Black   \n",
       "26707                 Domestic Shorthair Mix          Brown Tabby   \n",
       "26708                Chihuahua Shorthair Mix          White/Brown   \n",
       "26709                Chihuahua Shorthair Mix           Sable/Buff   \n",
       "26710  Chihuahua Shorthair/Yorkshire Terrier          Brown/Black   \n",
       "26711               Cocker Spaniel/Dachshund                 Buff   \n",
       "26712                            Rat Terrier        Chocolate/Tan   \n",
       "26713                  Domestic Longhair Mix               Tortie   \n",
       "26714                 Domestic Shorthair Mix         Orange Tabby   \n",
       "26715                            Pointer Mix          Black/White   \n",
       "26716                       Newfoundland Mix          White/Black   \n",
       "26717                        Bullmastiff Mix                Black   \n",
       "26718         Siberian Husky/German Shepherd       Black/Tricolor   \n",
       "26719                 Domestic Shorthair Mix    Brown Tabby/White   \n",
       "26720                 Domestic Shorthair Mix          Brown Tabby   \n",
       "26721                 Domestic Shorthair Mix                Black   \n",
       "26722                 Domestic Shorthair Mix         Orange Tabby   \n",
       "26723                      Staffordshire Mix           Blue/White   \n",
       "26724                 Domestic Shorthair Mix    Brown Tabby/White   \n",
       "26725                 Domestic Shorthair Mix          Brown Tabby   \n",
       "26726                Old English Bulldog Mix            White/Tan   \n",
       "26727                 Domestic Shorthair Mix                Black   \n",
       "26728                 Domestic Shorthair Mix    Brown Tabby/White   \n",
       "\n",
       "       AnimalIDInt   Timestamp  AnimalTypeInt  AgeuponOutcomeDays  \\\n",
       "0           671945  1392214920              1                 365   \n",
       "1           656520  1381653840              0                 365   \n",
       "2           686464  1422696480              1                 730   \n",
       "3           683430  1405091340              0                  21   \n",
       "4           667013  1384505520              1                 730   \n",
       "5           677334  1398416640              1                  30   \n",
       "6           699218  1427537460              0                  21   \n",
       "7           701489  1430402520              0                  21   \n",
       "8           671784  1391519820              1                 150   \n",
       "9           677747  1399088880              1                 365   \n",
       "10          668402  1386244200              0                 730   \n",
       "11          666320  1383562080              1                 730   \n",
       "12          684601  1454488020              1                1460   \n",
       "13          704702  1433770200              1                 730   \n",
       "14          688584  1448452800              1                 365   \n",
       "15          678825  1405152600              0                  90   \n",
       "16          678050  1399119300              0                  21   \n",
       "17          680028  1402131240              1                  14   \n",
       "18          679010  1400311920              0                 730   \n",
       "19          684787  1406727240              1                 365   \n",
       "20          670658  1390129380              1                  60   \n",
       "21          708812  1442578740              0                 365   \n",
       "22          705262  1439637720              1                 730   \n",
       "23          665781  1382963520              1                 300   \n",
       "24          676333  1397051040              1                  60   \n",
       "25          712750  1443876240              0                  30   \n",
       "26          718832  1452868260              1                 180   \n",
       "27          698777  1427298600              1                1825   \n",
       "28          715348  1448100060              0                  60   \n",
       "29          708666  1438255800              0                2555   \n",
       "...            ...         ...            ...                 ...   \n",
       "26699       676460  1398074460              1                 730   \n",
       "26700       704999  1434385680              1                 300   \n",
       "26701       678842  1402839660              1                 330   \n",
       "26702       713637  1444545720              0                 730   \n",
       "26703       716670  1449220920              0                2190   \n",
       "26704       716223  1447769820              0                  28   \n",
       "26705       662498  1382182440              0                  60   \n",
       "26706       689942  1413710940              0                  60   \n",
       "26707       682690  1404219960              0                 365   \n",
       "26708       666920  1384349520              1                 730   \n",
       "26709       714386  1445634000              1                  30   \n",
       "26710       692622  1416838860              1                  30   \n",
       "26711       666284  1383143520              1                 365   \n",
       "26712       535277  1429535040              1                4380   \n",
       "26713       671169  1390225020              0                6570   \n",
       "26714       679031  1401538260              0                  60   \n",
       "26715       708833  1438783380              1                  60   \n",
       "26716       697158  1430589840              1                  60   \n",
       "26717       519949  1404135240              1                3285   \n",
       "26718       701044  1430220360              1                  60   \n",
       "26719       707871  1437372000              0                 730   \n",
       "26720       704405  1437217680              0                  60   \n",
       "26721       662019  1405575780              0                1825   \n",
       "26722       687056  1409461200              0                 150   \n",
       "26723       716997  1454082720              1                2190   \n",
       "26724       702446  1431593760              0                  30   \n",
       "26725       718934  1453305540              0                  90   \n",
       "26726       698128  1425897180              1                1460   \n",
       "26727       677478  1398586920              0                  28   \n",
       "26728       706629  1435816800              0                 365   \n",
       "\n",
       "       Intact Female  Intact Male  Neutered Male  Spayed Female  \n",
       "0                  0            0              1              0  \n",
       "1                  0            0              0              1  \n",
       "2                  0            0              1              0  \n",
       "3                  0            1              0              0  \n",
       "4                  0            0              1              0  \n",
       "5                  1            0              0              0  \n",
       "6                  0            1              0              0  \n",
       "7                  0            0              0              0  \n",
       "8                  0            0              0              1  \n",
       "9                  0            0              0              1  \n",
       "10                 0            0              0              0  \n",
       "11                 0            0              0              1  \n",
       "12                 0            0              1              0  \n",
       "13                 0            0              1              0  \n",
       "14                 0            0              1              0  \n",
       "15                 0            0              1              0  \n",
       "16                 0            1              0              0  \n",
       "17                 1            0              0              0  \n",
       "18                 1            0              0              0  \n",
       "19                 0            0              1              0  \n",
       "20                 0            1              0              0  \n",
       "21                 0            0              0              1  \n",
       "22                 0            0              0              1  \n",
       "23                 0            0              1              0  \n",
       "24                 0            0              1              0  \n",
       "25                 1            0              0              0  \n",
       "26                 0            0              0              1  \n",
       "27                 0            0              0              1  \n",
       "28                 0            0              0              1  \n",
       "29                 0            0              1              0  \n",
       "...              ...          ...            ...            ...  \n",
       "26699              0            0              1              0  \n",
       "26700              0            1              0              0  \n",
       "26701              1            0              0              0  \n",
       "26702              0            0              0              1  \n",
       "26703              0            0              1              0  \n",
       "26704              1            0              0              0  \n",
       "26705              1            0              0              0  \n",
       "26706              0            0              0              1  \n",
       "26707              0            0              0              0  \n",
       "26708              0            0              1              0  \n",
       "26709              0            0              0              1  \n",
       "26710              1            0              0              0  \n",
       "26711              1            0              0              0  \n",
       "26712              0            0              1              0  \n",
       "26713              1            0              0              0  \n",
       "26714              0            0              0              1  \n",
       "26715              0            0              0              1  \n",
       "26716              0            0              1              0  \n",
       "26717              0            0              0              1  \n",
       "26718              0            0              1              0  \n",
       "26719              0            0              0              0  \n",
       "26720              0            0              0              1  \n",
       "26721              0            0              0              1  \n",
       "26722              0            1              0              0  \n",
       "26723              0            0              1              0  \n",
       "26724              0            1              0              0  \n",
       "26725              0            0              0              1  \n",
       "26726              0            0              1              0  \n",
       "26727              0            1              0              0  \n",
       "26728              0            1              0              0  \n",
       "\n",
       "[26729 rows x 18 columns]"
      ]
     },
     "execution_count": 89,
     "metadata": {},
     "output_type": "execute_result"
    }
   ],
   "source": [
    "df"
   ]
  },
  {
   "cell_type": "code",
   "execution_count": 90,
   "metadata": {
    "ExecuteTime": {
     "end_time": "2017-09-20T17:57:35.871087Z",
     "start_time": "2017-09-20T17:57:35.866204Z"
    },
    "collapsed": true
   },
   "outputs": [],
   "source": [
    "from sklearn.ensemble import RandomForestClassifier"
   ]
  },
  {
   "cell_type": "code",
   "execution_count": 98,
   "metadata": {
    "ExecuteTime": {
     "end_time": "2017-09-20T18:02:00.465272Z",
     "start_time": "2017-09-20T18:02:00.462296Z"
    },
    "collapsed": true
   },
   "outputs": [],
   "source": [
    "rf = RandomForestClassifier(n_estimators=200, random_state=42, \n",
    "                            n_jobs=4, oob_score=True)"
   ]
  },
  {
   "cell_type": "code",
   "execution_count": 94,
   "metadata": {
    "ExecuteTime": {
     "end_time": "2017-09-20T18:00:05.810004Z",
     "start_time": "2017-09-20T18:00:05.803460Z"
    }
   },
   "outputs": [
    {
     "data": {
      "text/plain": [
       "Index([u'Intact Female', u'Intact Male', u'Neutered Male', u'Spayed Female'], dtype='object')"
      ]
     },
     "execution_count": 94,
     "metadata": {},
     "output_type": "execute_result"
    }
   ],
   "source": [
    "sex_df.columns"
   ]
  },
  {
   "cell_type": "code",
   "execution_count": 100,
   "metadata": {
    "ExecuteTime": {
     "end_time": "2017-09-20T18:02:41.772124Z",
     "start_time": "2017-09-20T18:02:38.692103Z"
    }
   },
   "outputs": [
    {
     "data": {
      "text/plain": [
       "RandomForestClassifier(bootstrap=True, class_weight=None, criterion='gini',\n",
       "            max_depth=None, max_features='auto', max_leaf_nodes=None,\n",
       "            min_impurity_decrease=0.0, min_impurity_split=None,\n",
       "            min_samples_leaf=1, min_samples_split=2,\n",
       "            min_weight_fraction_leaf=0.0, n_estimators=200, n_jobs=4,\n",
       "            oob_score=True, random_state=42, verbose=0, warm_start=False)"
      ]
     },
     "execution_count": 100,
     "metadata": {},
     "output_type": "execute_result"
    }
   ],
   "source": [
    "X = df[['AnimalIDInt', 'Timestamp', \n",
    "        'AnimalTypeInt', 'AgeuponOutcomeDays'] + list(sex_df.columns)]\n",
    "y = df['OutcomeType']\n",
    "rf.fit(X, y)"
   ]
  },
  {
   "cell_type": "code",
   "execution_count": 101,
   "metadata": {
    "ExecuteTime": {
     "end_time": "2017-09-20T18:02:53.244518Z",
     "start_time": "2017-09-20T18:02:53.237131Z"
    }
   },
   "outputs": [
    {
     "data": {
      "text/plain": [
       "0.62725878259568257"
      ]
     },
     "execution_count": 101,
     "metadata": {},
     "output_type": "execute_result"
    }
   ],
   "source": [
    "rf.oob_score_"
   ]
  },
  {
   "cell_type": "code",
   "execution_count": 102,
   "metadata": {
    "ExecuteTime": {
     "end_time": "2017-09-20T18:04:18.874794Z",
     "start_time": "2017-09-20T18:04:18.863278Z"
    }
   },
   "outputs": [
    {
     "data": {
      "text/plain": [
       "Adoption           0.402896\n",
       "Transfer           0.352501\n",
       "Return_to_owner    0.179056\n",
       "Euthanasia         0.058177\n",
       "Died               0.007370\n",
       "Name: OutcomeType, dtype: float64"
      ]
     },
     "execution_count": 102,
     "metadata": {},
     "output_type": "execute_result"
    }
   ],
   "source": [
    "df['OutcomeType'].value_counts(normalize=True)"
   ]
  },
  {
   "cell_type": "code",
   "execution_count": 104,
   "metadata": {
    "ExecuteTime": {
     "end_time": "2017-09-20T18:05:27.811549Z",
     "start_time": "2017-09-20T18:05:27.806265Z"
    }
   },
   "outputs": [
    {
     "data": {
      "text/plain": [
       "Index([u'AnimalIDInt', u'Timestamp', u'AnimalTypeInt', u'AgeuponOutcomeDays',\n",
       "       u'Intact Female', u'Intact Male', u'Neutered Male', u'Spayed Female'],\n",
       "      dtype='object')"
      ]
     },
     "execution_count": 104,
     "metadata": {},
     "output_type": "execute_result"
    }
   ],
   "source": [
    "X.columns"
   ]
  },
  {
   "cell_type": "code",
   "execution_count": 103,
   "metadata": {
    "ExecuteTime": {
     "end_time": "2017-09-20T18:05:06.894803Z",
     "start_time": "2017-09-20T18:05:06.764976Z"
    }
   },
   "outputs": [
    {
     "data": {
      "text/plain": [
       "array([ 0.3244073 ,  0.31885154,  0.02910023,  0.17871805,  0.04067566,\n",
       "        0.03613475,  0.03925631,  0.03285616])"
      ]
     },
     "execution_count": 103,
     "metadata": {},
     "output_type": "execute_result"
    }
   ],
   "source": [
    "rf.feature_importances_"
   ]
  },
  {
   "cell_type": "code",
   "execution_count": 107,
   "metadata": {
    "ExecuteTime": {
     "end_time": "2017-09-20T18:06:50.580061Z",
     "start_time": "2017-09-20T18:06:47.903784Z"
    }
   },
   "outputs": [
    {
     "data": {
      "text/plain": [
       "0.57547981593026298"
      ]
     },
     "execution_count": 107,
     "metadata": {},
     "output_type": "execute_result"
    }
   ],
   "source": [
    "X = df[['Timestamp', \n",
    "        'AnimalTypeInt', 'AgeuponOutcomeDays'] + list(sex_df.columns)]\n",
    "rf.fit(X, y)\n",
    "rf.oob_score_"
   ]
  },
  {
   "cell_type": "code",
   "execution_count": 108,
   "metadata": {
    "ExecuteTime": {
     "end_time": "2017-09-20T18:07:20.130573Z",
     "start_time": "2017-09-20T18:07:18.798320Z"
    }
   },
   "outputs": [
    {
     "data": {
      "text/plain": [
       "0.63451681694040185"
      ]
     },
     "execution_count": 108,
     "metadata": {},
     "output_type": "execute_result"
    }
   ],
   "source": [
    "X = df[['AnimalTypeInt', 'AgeuponOutcomeDays'] + list(sex_df.columns)]\n",
    "rf.fit(X, y)\n",
    "rf.oob_score_"
   ]
  },
  {
   "cell_type": "code",
   "execution_count": 109,
   "metadata": {
    "ExecuteTime": {
     "end_time": "2017-09-20T18:07:45.714087Z",
     "start_time": "2017-09-20T18:07:45.593153Z"
    }
   },
   "outputs": [
    {
     "data": {
      "text/plain": [
       "array([ 0.08610742,  0.45603816,  0.13221309,  0.1135242 ,  0.11984009,\n",
       "        0.09227703])"
      ]
     },
     "execution_count": 109,
     "metadata": {},
     "output_type": "execute_result"
    }
   ],
   "source": [
    "rf.feature_importances_"
   ]
  },
  {
   "cell_type": "code",
   "execution_count": 110,
   "metadata": {
    "ExecuteTime": {
     "end_time": "2017-09-20T18:08:26.212548Z",
     "start_time": "2017-09-20T18:08:24.919155Z"
    }
   },
   "outputs": [
    {
     "data": {
      "text/plain": [
       "0.61667103146395297"
      ]
     },
     "execution_count": 110,
     "metadata": {},
     "output_type": "execute_result"
    }
   ],
   "source": [
    "X = df[['AgeuponOutcomeDays'] + list(sex_df.columns)]\n",
    "rf.fit(X, y)\n",
    "rf.oob_score_"
   ]
  },
  {
   "cell_type": "code",
   "execution_count": 111,
   "metadata": {
    "ExecuteTime": {
     "end_time": "2017-09-20T18:08:43.808231Z",
     "start_time": "2017-09-20T18:08:42.899909Z"
    }
   },
   "outputs": [
    {
     "data": {
      "text/plain": [
       "0.6078416700961502"
      ]
     },
     "execution_count": 111,
     "metadata": {},
     "output_type": "execute_result"
    }
   ],
   "source": [
    "X = df[list(sex_df.columns)]\n",
    "rf.fit(X, y)\n",
    "rf.oob_score_"
   ]
  },
  {
   "cell_type": "code",
   "execution_count": 114,
   "metadata": {
    "ExecuteTime": {
     "end_time": "2017-09-20T18:12:09.204636Z",
     "start_time": "2017-09-20T18:12:08.337436Z"
    }
   },
   "outputs": [
    {
     "data": {
      "text/plain": [
       "0.4490254031202065"
      ]
     },
     "execution_count": 114,
     "metadata": {},
     "output_type": "execute_result"
    }
   ],
   "source": [
    "X = df[['AnimalTypeInt']]\n",
    "rf.fit(X, y)\n",
    "rf.oob_score_"
   ]
  },
  {
   "cell_type": "code",
   "execution_count": 115,
   "metadata": {
    "ExecuteTime": {
     "end_time": "2017-09-20T18:12:35.570044Z",
     "start_time": "2017-09-20T18:12:34.532029Z"
    }
   },
   "outputs": [
    {
     "data": {
      "text/plain": [
       "0.6078416700961502"
      ]
     },
     "execution_count": 115,
     "metadata": {},
     "output_type": "execute_result"
    }
   ],
   "source": [
    "X = df[['AnimalTypeInt']+ list(sex_df.columns)]\n",
    "rf.fit(X, y)\n",
    "rf.oob_score_"
   ]
  },
  {
   "cell_type": "code",
   "execution_count": 116,
   "metadata": {
    "ExecuteTime": {
     "end_time": "2017-09-20T18:13:01.760681Z",
     "start_time": "2017-09-20T18:13:00.585440Z"
    }
   },
   "outputs": [
    {
     "data": {
      "text/plain": [
       "0.63451681694040185"
      ]
     },
     "execution_count": 116,
     "metadata": {},
     "output_type": "execute_result"
    }
   ],
   "source": [
    "X = df[['AnimalTypeInt', 'AgeuponOutcomeDays']+ list(sex_df.columns)]\n",
    "rf.fit(X, y)\n",
    "rf.oob_score_"
   ]
  },
  {
   "cell_type": "code",
   "execution_count": 118,
   "metadata": {
    "ExecuteTime": {
     "end_time": "2017-09-20T18:13:48.972205Z",
     "start_time": "2017-09-20T18:13:46.171700Z"
    }
   },
   "outputs": [
    {
     "data": {
      "text/plain": [
       "0.56777283100751996"
      ]
     },
     "execution_count": 118,
     "metadata": {},
     "output_type": "execute_result"
    }
   ],
   "source": [
    "X = df[['AnimalTypeInt', 'AgeuponOutcomeDays', 'AnimalIDInt'] + \n",
    "       list(sex_df.columns)]\n",
    "rf.fit(X, y)\n",
    "rf.oob_score_"
   ]
  },
  {
   "cell_type": "code",
   "execution_count": 127,
   "metadata": {
    "ExecuteTime": {
     "end_time": "2017-09-20T18:19:11.196890Z",
     "start_time": "2017-09-20T18:19:07.787826Z"
    }
   },
   "outputs": [
    {
     "data": {
      "text/plain": [
       "0.62535074263908119"
      ]
     },
     "execution_count": 127,
     "metadata": {},
     "output_type": "execute_result"
    }
   ],
   "source": [
    "X = df[['AnimalTypeInt', 'AgeuponOutcomeDays', \n",
    "        'Timestamp', 'AnimalIDInt'] + \n",
    "       list(sex_df.columns)]\n",
    "rf.fit(X, y)\n",
    "rf.oob_score_"
   ]
  },
  {
   "cell_type": "code",
   "execution_count": 121,
   "metadata": {
    "ExecuteTime": {
     "end_time": "2017-09-20T18:16:26.151591Z",
     "start_time": "2017-09-20T18:16:22.092687Z"
    }
   },
   "outputs": [
    {
     "data": {
      "text/plain": [
       "0.62744584533652592"
      ]
     },
     "execution_count": 121,
     "metadata": {},
     "output_type": "execute_result"
    }
   ],
   "source": [
    "X = df[['AnimalIDInt', 'Timestamp']]\n",
    "rf.fit(X, y)\n",
    "rf.oob_score_"
   ]
  },
  {
   "cell_type": "code",
   "execution_count": 122,
   "metadata": {
    "ExecuteTime": {
     "end_time": "2017-09-20T18:17:45.521336Z",
     "start_time": "2017-09-20T18:17:45.516563Z"
    },
    "collapsed": true
   },
   "outputs": [],
   "source": [
    "rf_entropy = RandomForestClassifier(n_estimators=200, random_state=42, \n",
    "                            n_jobs=4, oob_score=True, criterion='entropy')"
   ]
  },
  {
   "cell_type": "code",
   "execution_count": 133,
   "metadata": {
    "ExecuteTime": {
     "end_time": "2017-09-20T18:20:19.731980Z",
     "start_time": "2017-09-20T18:20:13.778441Z"
    }
   },
   "outputs": [
    {
     "data": {
      "text/plain": [
       "0.64577799393916724"
      ]
     },
     "execution_count": 133,
     "metadata": {},
     "output_type": "execute_result"
    }
   ],
   "source": [
    "X = df[['AnimalTypeInt', 'AgeuponOutcomeDays', \n",
    "        'Timestamp', 'AnimalIDInt', 'Timestamp', 'AnimalIDInt'] + \n",
    "       list(sex_df.columns)]\n",
    "rf_entropy.fit(X, y)\n",
    "rf_entropy.oob_score_"
   ]
  },
  {
   "cell_type": "code",
   "execution_count": 130,
   "metadata": {
    "ExecuteTime": {
     "end_time": "2017-09-20T18:19:35.997887Z",
     "start_time": "2017-09-20T18:19:32.251645Z"
    }
   },
   "outputs": [
    {
     "data": {
      "text/plain": [
       "0.57645254218264808"
      ]
     },
     "execution_count": 130,
     "metadata": {},
     "output_type": "execute_result"
    }
   ],
   "source": [
    "X = df[['AnimalTypeInt', 'AgeuponOutcomeDays', \n",
    "        'Timestamp'] + \n",
    "       list(sex_df.columns)]\n",
    "rf_entropy.fit(X, y)\n",
    "rf_entropy.oob_score_"
   ]
  },
  {
   "cell_type": "code",
   "execution_count": 131,
   "metadata": {
    "ExecuteTime": {
     "end_time": "2017-09-20T18:19:41.430176Z",
     "start_time": "2017-09-20T18:19:40.236592Z"
    }
   },
   "outputs": [
    {
     "data": {
      "text/plain": [
       "0.63459164203673912"
      ]
     },
     "execution_count": 131,
     "metadata": {},
     "output_type": "execute_result"
    }
   ],
   "source": [
    "X = df[['AnimalTypeInt', 'AgeuponOutcomeDays',] + \n",
    "       list(sex_df.columns)]\n",
    "rf_entropy.fit(X, y)\n",
    "rf_entropy.oob_score_"
   ]
  },
  {
   "cell_type": "code",
   "execution_count": 136,
   "metadata": {
    "ExecuteTime": {
     "end_time": "2017-09-20T18:26:29.191090Z",
     "start_time": "2017-09-20T18:26:29.159039Z"
    },
    "collapsed": true
   },
   "outputs": [],
   "source": [
    "def IsNeutered(line):\n",
    "    if 'Neutered' in line or 'Spayed ' in line:\n",
    "        return 1\n",
    "    if line == 'Unknown':\n",
    "        return -50\n",
    "    return 0\n",
    "    \n",
    "def IsMale(line):\n",
    "    if 'Female' in line:\n",
    "        return 0\n",
    "    if 'Male' in line:\n",
    "        return 1\n",
    "    if line == 'Unknown':\n",
    "        return -50\n",
    "    \n",
    "def IsUnknown(line):\n",
    "    if line == 'Unknown':\n",
    "        return 1\n",
    "    return 0\n",
    "\n",
    "\n",
    "df['IsNeutered'] = df['SexuponOutcome'].map(IsNeutered)\n",
    "df['IsMale'] = df['SexuponOutcome'].map(IsMale)\n",
    "df['IsUnknown'] = df['SexuponOutcome'].map(IsUnknown)"
   ]
  },
  {
   "cell_type": "code",
   "execution_count": 138,
   "metadata": {
    "ExecuteTime": {
     "end_time": "2017-09-20T18:28:11.348336Z",
     "start_time": "2017-09-20T18:28:04.507585Z"
    }
   },
   "outputs": [
    {
     "data": {
      "text/plain": [
       "0.63620038160799131"
      ]
     },
     "execution_count": 138,
     "metadata": {},
     "output_type": "execute_result"
    }
   ],
   "source": [
    "X = df[['AnimalTypeInt', 'AgeuponOutcomeDays', \n",
    "        'Timestamp', 'AnimalIDInt', 'Timestamp', 'AnimalIDInt']]\n",
    "rf_entropy.fit(X, y)\n",
    "rf_entropy.oob_score_"
   ]
  },
  {
   "cell_type": "code",
   "execution_count": 139,
   "metadata": {
    "ExecuteTime": {
     "end_time": "2017-09-20T18:28:31.144920Z",
     "start_time": "2017-09-20T18:28:24.557952Z"
    }
   },
   "outputs": [
    {
     "data": {
      "text/plain": [
       "0.62172172546672155"
      ]
     },
     "execution_count": 139,
     "metadata": {},
     "output_type": "execute_result"
    }
   ],
   "source": [
    "X = df[['AnimalTypeInt', 'AgeuponOutcomeDays', \n",
    "        'Timestamp', 'AnimalIDInt', 'Timestamp', 'AnimalIDInt',\n",
    "        'IsMale']]\n",
    "rf_entropy.fit(X, y)\n",
    "rf_entropy.oob_score_"
   ]
  },
  {
   "cell_type": "code",
   "execution_count": 140,
   "metadata": {
    "ExecuteTime": {
     "end_time": "2017-09-20T18:28:40.473782Z",
     "start_time": "2017-09-20T18:28:35.033049Z"
    }
   },
   "outputs": [
    {
     "data": {
      "text/plain": [
       "0.65464476785513859"
      ]
     },
     "execution_count": 140,
     "metadata": {},
     "output_type": "execute_result"
    }
   ],
   "source": [
    "X = df[['AnimalTypeInt', 'AgeuponOutcomeDays', \n",
    "        'Timestamp', 'AnimalIDInt', 'Timestamp', 'AnimalIDInt',\n",
    "        'IsMale', 'IsNeutered']]\n",
    "rf_entropy.fit(X, y)\n",
    "rf_entropy.oob_score_"
   ]
  },
  {
   "cell_type": "code",
   "execution_count": 141,
   "metadata": {
    "ExecuteTime": {
     "end_time": "2017-09-20T18:28:54.351145Z",
     "start_time": "2017-09-20T18:28:48.482029Z"
    }
   },
   "outputs": [
    {
     "data": {
      "text/plain": [
       "0.66807587264768609"
      ]
     },
     "execution_count": 141,
     "metadata": {},
     "output_type": "execute_result"
    }
   ],
   "source": [
    "X = df[['AnimalTypeInt', 'AgeuponOutcomeDays', \n",
    "        'Timestamp', 'AnimalIDInt', 'Timestamp', 'AnimalIDInt',\n",
    "        'IsNeutered']] \n",
    "rf_entropy.fit(X, y)\n",
    "rf_entropy.oob_score_"
   ]
  },
  {
   "cell_type": "code",
   "execution_count": 149,
   "metadata": {
    "ExecuteTime": {
     "end_time": "2017-09-20T18:34:23.390949Z",
     "start_time": "2017-09-20T18:34:22.959870Z"
    },
    "collapsed": true
   },
   "outputs": [],
   "source": [
    "def date_str2year(line):\n",
    "    return int(line.split('-')[0])\n",
    "    \n",
    "def date_str2month(line):\n",
    "    return int(line.split('-')[1])\n",
    "\n",
    "def date_str2day(line):\n",
    "    return int(line.split('-')[2].split()[0])\n",
    "\n",
    "def date_str2clock(line):\n",
    "    hours, minutes = line.split()[1].split(':')[:2]\n",
    "    return int(minutes) + int(hours) * 60\n",
    "\n",
    "def date_str2weekday(line):\n",
    "    return datetime.datetime.strptime(\n",
    "        line, \n",
    "        '%Y-%m-%d %H:%M:%S').weekday()\n",
    "\n",
    "\n",
    "df['year'] = df['DateTime'].map(date_str2year)\n",
    "df['month'] = df['DateTime'].map(date_str2month)\n",
    "df['day'] = df['DateTime'].map(date_str2day)\n",
    "df['clock'] = df['DateTime'].map(date_str2clock)\n",
    "df['weekday'] = df['DateTime'].map(date_str2weekday)"
   ]
  },
  {
   "cell_type": "code",
   "execution_count": 143,
   "metadata": {
    "ExecuteTime": {
     "end_time": "2017-09-20T18:29:31.458205Z",
     "start_time": "2017-09-20T18:29:25.150390Z"
    }
   },
   "outputs": [
    {
     "data": {
      "text/plain": [
       "0.65700175838976393"
      ]
     },
     "execution_count": 143,
     "metadata": {},
     "output_type": "execute_result"
    }
   ],
   "source": [
    "X = df[['AnimalTypeInt', 'AgeuponOutcomeDays', \n",
    "        'Timestamp', 'AnimalIDInt', 'Timestamp', 'AnimalIDInt',\n",
    "        'IsNeutered', 'IsUnknown', 'IsMale']]\n",
    "rf_entropy.fit(X, y)\n",
    "rf_entropy.oob_score_"
   ]
  },
  {
   "cell_type": "code",
   "execution_count": 144,
   "metadata": {
    "ExecuteTime": {
     "end_time": "2017-09-20T18:29:47.687814Z",
     "start_time": "2017-09-20T18:29:46.335445Z"
    }
   },
   "outputs": [
    {
     "data": {
      "text/plain": [
       "0.63451681694040185"
      ]
     },
     "execution_count": 144,
     "metadata": {},
     "output_type": "execute_result"
    }
   ],
   "source": [
    "X = df[['AnimalTypeInt', 'AgeuponOutcomeDays', \n",
    "#         'Timestamp', 'AnimalIDInt', 'Timestamp', 'AnimalIDInt',\n",
    "        'IsNeutered', 'IsUnknown', 'IsMale']]\n",
    "rf_entropy.fit(X, y)\n",
    "rf_entropy.oob_score_"
   ]
  },
  {
   "cell_type": "code",
   "execution_count": 146,
   "metadata": {
    "ExecuteTime": {
     "end_time": "2017-09-20T18:30:09.338140Z",
     "start_time": "2017-09-20T18:30:04.489817Z"
    }
   },
   "outputs": [
    {
     "data": {
      "text/plain": [
       "0.64633918216169706"
      ]
     },
     "execution_count": 146,
     "metadata": {},
     "output_type": "execute_result"
    }
   ],
   "source": [
    "X = df[['AnimalTypeInt', 'AgeuponOutcomeDays', \n",
    "        'Timestamp', 'AnimalIDInt', \n",
    "        'IsNeutered', 'IsUnknown']]\n",
    "rf_entropy.fit(X, y)\n",
    "rf_entropy.oob_score_"
   ]
  },
  {
   "cell_type": "code",
   "execution_count": null,
   "metadata": {
    "collapsed": true
   },
   "outputs": [],
   "source": [
    "df['IsNeutered'] = df['SexuponOutcome'].map(IsNeutered)\n",
    "df['IsMale'] = df['SexuponOutcome'].map(IsMale)\n",
    "df['IsUnknown'] = df['SexuponOutcome'].map(IsUnknown)"
   ]
  },
  {
   "cell_type": "code",
   "execution_count": 150,
   "metadata": {
    "ExecuteTime": {
     "end_time": "2017-09-20T18:34:54.708350Z",
     "start_time": "2017-09-20T18:34:48.851587Z"
    }
   },
   "outputs": [
    {
     "data": {
      "text/plain": [
       "0.67185454001272027"
      ]
     },
     "execution_count": 150,
     "metadata": {},
     "output_type": "execute_result"
    }
   ],
   "source": [
    "X = df[['AnimalTypeInt', 'AgeuponOutcomeDays', \n",
    "        'Timestamp', 'AnimalIDInt', 'Timestamp', 'AnimalIDInt',\n",
    "        'IsNeutered', 'year']] \n",
    "rf_entropy.fit(X, y)\n",
    "rf_entropy.oob_score_"
   ]
  },
  {
   "cell_type": "code",
   "execution_count": 152,
   "metadata": {
    "ExecuteTime": {
     "end_time": "2017-09-20T18:35:33.662407Z",
     "start_time": "2017-09-20T18:35:26.338286Z"
    }
   },
   "outputs": [
    {
     "data": {
      "text/plain": [
       "0.67005873770062474"
      ]
     },
     "execution_count": 152,
     "metadata": {},
     "output_type": "execute_result"
    }
   ],
   "source": [
    "X = df[['AnimalTypeInt', 'AgeuponOutcomeDays', \n",
    "        'Timestamp', 'AnimalIDInt', 'Timestamp', 'AnimalIDInt',\n",
    "        'IsNeutered', 'year', 'month']] \n",
    "rf_entropy.fit(X, y)\n",
    "rf_entropy.oob_score_"
   ]
  },
  {
   "cell_type": "code",
   "execution_count": 154,
   "metadata": {
    "ExecuteTime": {
     "end_time": "2017-09-20T18:36:31.955598Z",
     "start_time": "2017-09-20T18:36:25.840179Z"
    }
   },
   "outputs": [
    {
     "data": {
      "text/plain": [
       "0.67870103632758427"
      ]
     },
     "execution_count": 154,
     "metadata": {},
     "output_type": "execute_result"
    }
   ],
   "source": [
    "X = df[['AnimalTypeInt', 'AgeuponOutcomeDays', \n",
    "        'Timestamp', 'AnimalIDInt', 'Timestamp', 'AnimalIDInt',\n",
    "        'IsNeutered', 'year', 'month', 'day']] \n",
    "rf_entropy.fit(X, y)\n",
    "rf_entropy.oob_score_"
   ]
  },
  {
   "cell_type": "code",
   "execution_count": 156,
   "metadata": {
    "ExecuteTime": {
     "end_time": "2017-09-20T18:37:19.335707Z",
     "start_time": "2017-09-20T18:37:12.755282Z"
    }
   },
   "outputs": [
    {
     "data": {
      "text/plain": [
       "0.70672303490590749"
      ]
     },
     "execution_count": 156,
     "metadata": {},
     "output_type": "execute_result"
    }
   ],
   "source": [
    "X = df[['AnimalTypeInt', 'AgeuponOutcomeDays', \n",
    "        'Timestamp', 'AnimalIDInt', 'Timestamp', 'AnimalIDInt',\n",
    "        'IsNeutered', 'year', 'month', 'day', 'clock']] \n",
    "rf_entropy.fit(X, y)\n",
    "rf_entropy.oob_score_"
   ]
  },
  {
   "cell_type": "code",
   "execution_count": null,
   "metadata": {
    "ExecuteTime": {
     "start_time": "2017-09-22T18:58:27.099Z"
    }
   },
   "outputs": [
    {
     "name": "stdout",
     "output_type": "stream",
     "text": [
      "0 0.711624078716\n",
      "1 0.71154925362\n",
      "2 0.711773728909\n",
      "3 0.711736316361\n",
      "4 0.710202401886\n",
      "5 0.711437015975\n",
      "6 0.71196079165\n",
      "7 0.712222679487\n",
      "8 0.712222679487\n"
     ]
    }
   ],
   "source": [
    "for random_state in xrange(20):\n",
    "    rf = RandomForestClassifier(n_estimators=1000, \n",
    "                                random_state=random_state, \n",
    "                                n_jobs=8, oob_score=True,\n",
    "                                criterion='entropy'\n",
    "                                )\n",
    "    X = df[['AnimalTypeInt', 'AgeuponOutcomeDays', \n",
    "            'Timestamp', 'AnimalIDInt', 'Timestamp', 'AnimalIDInt',\n",
    "            'Timestamp', 'AnimalIDInt',\n",
    "            'IsNeutered', 'year', 'month', 'day', 'clock']] \n",
    "    rf.fit(X, y)\n",
    "    print random_state, rf.oob_score_"
   ]
  },
  {
   "cell_type": "code",
   "execution_count": 169,
   "metadata": {
    "ExecuteTime": {
     "end_time": "2017-09-22T18:54:18.566987Z",
     "start_time": "2017-09-22T18:54:10.632764Z"
    }
   },
   "outputs": [
    {
     "data": {
      "text/plain": [
       "0.71095065284896553"
      ]
     },
     "execution_count": 169,
     "metadata": {},
     "output_type": "execute_result"
    }
   ],
   "source": [
    "X = df[['AnimalTypeInt', 'AgeuponOutcomeDays', \n",
    "        'Timestamp', 'AnimalIDInt', 'Timestamp', 'AnimalIDInt',\n",
    "        'Timestamp', 'AnimalIDInt', 'Timestamp', 'AnimalIDInt',\n",
    "        'IsNeutered', 'year', 'month', 'day', 'clock']] \n",
    "rf_entropy.fit(X, y)\n",
    "rf_entropy.oob_score_"
   ]
  },
  {
   "cell_type": "code",
   "execution_count": 157,
   "metadata": {
    "ExecuteTime": {
     "end_time": "2017-09-20T18:37:32.321299Z",
     "start_time": "2017-09-20T18:37:26.371949Z"
    }
   },
   "outputs": [
    {
     "data": {
      "text/plain": [
       "0.70548842081634178"
      ]
     },
     "execution_count": 157,
     "metadata": {},
     "output_type": "execute_result"
    }
   ],
   "source": [
    "X = df[['AnimalTypeInt', 'AgeuponOutcomeDays', \n",
    "        'Timestamp', 'AnimalIDInt', 'Timestamp', 'AnimalIDInt',\n",
    "        'IsNeutered', 'year', 'month', 'day', 'clock', 'weekday']] \n",
    "rf_entropy.fit(X, y)\n",
    "rf_entropy.oob_score_"
   ]
  },
  {
   "cell_type": "code",
   "execution_count": 158,
   "metadata": {
    "ExecuteTime": {
     "end_time": "2017-09-20T18:37:53.011567Z",
     "start_time": "2017-09-20T18:37:46.453745Z"
    }
   },
   "outputs": [
    {
     "data": {
      "text/plain": [
       "0.70387968124508959"
      ]
     },
     "execution_count": 158,
     "metadata": {},
     "output_type": "execute_result"
    }
   ],
   "source": [
    "X = df[['AnimalTypeInt', 'AgeuponOutcomeDays', \n",
    "        'Timestamp', 'AnimalIDInt', 'Timestamp', 'AnimalIDInt',\n",
    "        'IsNeutered', 'year', 'day', 'clock']] \n",
    "rf_entropy.fit(X, y)\n",
    "rf_entropy.oob_score_"
   ]
  },
  {
   "cell_type": "code",
   "execution_count": 161,
   "metadata": {
    "ExecuteTime": {
     "end_time": "2017-09-20T18:38:52.250661Z",
     "start_time": "2017-09-20T18:38:47.441443Z"
    }
   },
   "outputs": [
    {
     "data": {
      "text/plain": [
       "0.70013842642822399"
      ]
     },
     "execution_count": 161,
     "metadata": {},
     "output_type": "execute_result"
    }
   ],
   "source": [
    "X = df[['AnimalTypeInt', 'AgeuponOutcomeDays', \n",
    "        'Timestamp', 'AnimalIDInt', \n",
    "        'IsNeutered', 'year', 'month', 'day', 'clock', ]] \n",
    "rf_entropy.fit(X, y)\n",
    "rf_entropy.oob_score_"
   ]
  },
  {
   "cell_type": "code",
   "execution_count": null,
   "metadata": {
    "collapsed": true
   },
   "outputs": [],
   "source": []
  },
  {
   "cell_type": "code",
   "execution_count": null,
   "metadata": {
    "collapsed": true
   },
   "outputs": [],
   "source": []
  },
  {
   "cell_type": "code",
   "execution_count": null,
   "metadata": {
    "collapsed": true
   },
   "outputs": [],
   "source": []
  },
  {
   "cell_type": "code",
   "execution_count": 164,
   "metadata": {
    "ExecuteTime": {
     "end_time": "2017-09-20T18:55:49.026436Z",
     "start_time": "2017-09-20T18:55:49.003120Z"
    },
    "collapsed": true
   },
   "outputs": [],
   "source": [
    "breed_dict = dict(df['Breed'].value_counts())"
   ]
  },
  {
   "cell_type": "code",
   "execution_count": 166,
   "metadata": {
    "ExecuteTime": {
     "end_time": "2017-09-20T18:56:53.637801Z",
     "start_time": "2017-09-20T18:56:53.628465Z"
    },
    "collapsed": true
   },
   "outputs": [],
   "source": [
    "df['BreedFreq'] = df['Breed'].map(breed_dict) "
   ]
  },
  {
   "cell_type": "code",
   "execution_count": 167,
   "metadata": {
    "ExecuteTime": {
     "end_time": "2017-09-20T18:57:38.979759Z",
     "start_time": "2017-09-20T18:57:32.703572Z"
    }
   },
   "outputs": [
    {
     "data": {
      "text/plain": [
       "0.70373003105241494"
      ]
     },
     "execution_count": 167,
     "metadata": {},
     "output_type": "execute_result"
    }
   ],
   "source": [
    "X = df[['AnimalTypeInt', 'AgeuponOutcomeDays', \n",
    "        'Timestamp', 'AnimalIDInt', 'Timestamp', 'AnimalIDInt',\n",
    "        'IsNeutered', 'year', 'month', 'day', 'clock', 'BreedFreq']] \n",
    "rf_entropy.fit(X, y)\n",
    "rf_entropy.oob_score_"
   ]
  },
  {
   "cell_type": "code",
   "execution_count": null,
   "metadata": {
    "collapsed": true
   },
   "outputs": [],
   "source": [
    "X = df[['AnimalTypeInt', 'AgeuponOutcomeDays', \n",
    "        'Timestamp', 'AnimalIDInt', 'Timestamp', 'AnimalIDInt',\n",
    "        'IsNeutered', 'year', 'month', 'day', 'clock', 'BreedFreq']] \n",
    "rf_entropy.fit(X, y)\n",
    "rf_entropy.oob_score_"
   ]
  },
  {
   "cell_type": "code",
   "execution_count": null,
   "metadata": {
    "collapsed": true
   },
   "outputs": [],
   "source": [
    "0.7067"
   ]
  },
  {
   "cell_type": "markdown",
   "metadata": {},
   "source": [
    "## Задание:\n",
    "\n",
    "1) Заполните пропуски. Для \"древесных\" алгоритмов, как правило, пропуски заполняются несуществующими значениями, которые далеко отстоят от реальных значений.\n",
    "\n",
    "2) Категориальные признаки преобразуйте с помощью pd.get_dummies , а лучше его аналогом  <a href=\"http://scikit-learn.org/stable/modules/generated/sklearn.preprocessing.OneHotEncoder.html\">OneHotEncoder</a> . Придумайте, что можно сделать с тем случаем, когда get_dummies создает слишком много колонок.\n",
    "\n",
    "2) Поставьте n_estimators=200 и найдите ту комбинацию признаков в датасете, которая дает лучший результат.\n",
    "\n",
    "3) С помощью feature\\_importances\\_  оцените, какие признаки были самыми важными в классификации\n",
    "\n",
    "4) Постройте зависимость oob\\_score\\_ относительно количества деревьев в лесе и выберете оптимальное значение n_estimators\n",
    "\n",
    "5) Померьте качество RF на кросс-валидации: <a href=\"http://scikit-learn.org/stable/modules/generated/sklearn.model_selection.cross_val_score.html\">cross_val_score</a> на 5-ти фолдах. Отличается ли среднее значение от oob\\_score\\_?"
   ]
  },
  {
   "cell_type": "markdown",
   "metadata": {
    "collapsed": true
   },
   "source": [
    "#### Продолжение задания для kNN:"
   ]
  },
  {
   "cell_type": "markdown",
   "metadata": {},
   "source": [
    "6) Попробуйте использовать kNN с параметрами по умолчанию. Чтобы померить качество, можно использовать <a href=\"http://scikit-learn.org/stable/modules/generated/sklearn.model_selection.cross_val_score.html\">cross_val_score</a> на 5-ти фолдах.\n",
    "\n",
    "7) Для kNN пропуски нужно заполять чем-то близким к реальности: например, средним значением параметра. Это можно сделать с помощью класса <a href=\"http://scikit-learn.org/stable/modules/preprocessing.html#imputation-of-missing-values\">Imputer</a>. Проверьте, на сколько отличается качество при использовании такого подхода к заполнению признаков.\n",
    "\n",
    "8) Еще kNN любит, чтобы признаки имели схожий масштаб. Помните, мы вычитали среднее и делили на std массив? Так вот для это есть отдельный класс: <a href=\"http://scikit-learn.org/stable/modules/generated/sklearn.preprocessing.StandardScaler.html#sklearn.preprocessing.StandardScaler\">sklearn.preprocessing.StandardScaler</a>. Примените шкалирование. Удалось ли улучшить качество?\n",
    "\n",
    "9) Пройдитесь GridSearch-ем по параметрам kNN (количество соседей, параметр p у метрики Минковского). Какое количество соседей оказалось оптимальным? Какая метрика расстояния?\n",
    "\n",
    "10) Скорее всего результат kNN получился не таким хорошим как у RF. Все не зря! С помощью <a href=\"http://scikit-learn.org/stable/modules/generated/sklearn.model_selection.StratifiedKFold.html\"> sklearn.model_selection.StratifiedKFold</a> можно сгенерировать трейн- и тестовые выборки. Давайте обучимся на трейне и предскажем для теста. StratifiedKFold отдает индексы элементов из X, которые попадут в тестовую выборку. Давайте создадим колонку размера len(X), где будем хранить предсказания kNN по соответствующим индексам. Таким образом мы создадим несмещенные оценки алгоритма, а значит, будем иметь полное право использовать их как входные данные для RF. Попробуйте улучшить результат RF за счет колонки предсказаний kNN. "
   ]
  },
  {
   "cell_type": "code",
   "execution_count": null,
   "metadata": {
    "collapsed": true
   },
   "outputs": [],
   "source": []
  },
  {
   "cell_type": "markdown",
   "metadata": {
    "collapsed": true
   },
   "source": [
    "#### Идеи по улучшению скора:\n",
    "\n",
    "- Придумывайте новые признаки! <br>\n",
    "Важно ли слово mix в породе? <br>\n",
    "Сколько слов используется в названии породы? <br>\n",
    "Можно ли как-то преобразовать timestamp? Например, вытащить из него день недели, или год?<br>\n",
    "Будьте осторожны, ведь признаки могут не только улучшать score. <br>\n",
    "Некоторые признаки хорошо работают только в паре.\n",
    "\n",
    "\n",
    "- Подбирайте гипер-параметры модели.<br>Какой критерий использовать gini или entropy?<br>Может, стоит не до конца строить деревья?"
   ]
  },
  {
   "cell_type": "code",
   "execution_count": null,
   "metadata": {
    "collapsed": true
   },
   "outputs": [],
   "source": []
  }
 ],
 "metadata": {
  "kernelspec": {
   "display_name": "Python 2",
   "language": "python",
   "name": "python2"
  },
  "language_info": {
   "codemirror_mode": {
    "name": "ipython",
    "version": 2
   },
   "file_extension": ".py",
   "mimetype": "text/x-python",
   "name": "python",
   "nbconvert_exporter": "python",
   "pygments_lexer": "ipython2",
   "version": "2.7.13"
  }
 },
 "nbformat": 4,
 "nbformat_minor": 1
}

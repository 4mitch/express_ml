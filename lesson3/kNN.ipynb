{
 "cells": [
  {
   "cell_type": "markdown",
   "metadata": {
    "collapsed": true
   },
   "source": [
    "# k Nearest Neighbors"
   ]
  },
  {
   "cell_type": "markdown",
   "metadata": {},
   "source": [
    "<a href='http://scikit-learn.org/stable/modules/generated/sklearn.neighbors.KNeighborsRegressor.html'>Regressor</a>\n",
    "<a href='http://scikit-learn.org/stable/modules/generated/sklearn.neighbors.KNeighborsClassifier.html'>Classifier</a>"
   ]
  },
  {
   "cell_type": "code",
   "execution_count": 1,
   "metadata": {
    "ExecuteTime": {
     "end_time": "2017-07-08T12:42:23.481664Z",
     "start_time": "2017-07-08T15:42:21.978763+03:00"
    }
   },
   "outputs": [
    {
     "name": "stdout",
     "output_type": "stream",
     "text": [
      "Populating the interactive namespace from numpy and matplotlib\n"
     ]
    }
   ],
   "source": [
    "%matplotlib inline\n",
    "%pylab inline\n",
    "import seaborn as sns\n",
    "import numpy as np\n",
    "import matplotlib.pyplot as plt\n",
    "\n",
    "from __future__ import division\n",
    "from sklearn.datasets import load_iris\n",
    "\n",
    "plt.rcParams['figure.figsize'] = (10, 8)"
   ]
  },
  {
   "cell_type": "code",
   "execution_count": 2,
   "metadata": {
    "ExecuteTime": {
     "end_time": "2017-07-08T12:42:24.196714Z",
     "start_time": "2017-07-08T15:42:24.127106+03:00"
    }
   },
   "outputs": [
    {
     "name": "stdout",
     "output_type": "stream",
     "text": [
      "0.977777777778\n"
     ]
    }
   ],
   "source": [
    "iris = load_iris()\n",
    "X = iris.data\n",
    "y = iris.target\n",
    "\n",
    "from sklearn.model_selection import train_test_split\n",
    "X_train, X_test, y_train, y_test = train_test_split(\n",
    "    X, y, test_size=0.3, random_state=42, stratify=y)\n",
    "\n",
    "\n",
    "#######\n",
    "from sklearn.neighbors import KNeighborsClassifier\n",
    "clf = KNeighborsClassifier()\n",
    "clf.fit(X_train, y_train)\n",
    "print clf.score(X_test, y_test)"
   ]
  },
  {
   "cell_type": "code",
   "execution_count": 12,
   "metadata": {},
   "outputs": [
    {
     "data": {
      "text/plain": [
       "KNeighborsClassifier(algorithm='auto', leaf_size=30, metric='minkowski',\n",
       "           metric_params=None, n_jobs=1, n_neighbors=5, p=2,\n",
       "           weights='uniform')"
      ]
     },
     "execution_count": 12,
     "metadata": {},
     "output_type": "execute_result"
    }
   ],
   "source": [
    "clf"
   ]
  },
  {
   "cell_type": "markdown",
   "metadata": {},
   "source": [
    "# metric"
   ]
  },
  {
   "cell_type": "markdown",
   "metadata": {},
   "source": [
    "Есть разные метрики: <a href='http://scikit-learn.org/stable/modules/generated/sklearn.neighbors.DistanceMetric.html'>sklearn.neighbors.DistanceMetric¶</a>"
   ]
  },
  {
   "cell_type": "markdown",
   "metadata": {},
   "source": [
    "Например, метрика Минковского:\n",
    "<img src=\"imgs/minkowski.svg\">\n",
    "\n",
    "<img src=\"imgs/distances.png\">"
   ]
  },
  {
   "cell_type": "code",
   "execution_count": 13,
   "metadata": {
    "collapsed": true
   },
   "outputs": [],
   "source": [
    "# “euclidean”   EuclideanDistance    sqrt(sum((x - y)^2))\n",
    "# “manhattan”   ManhattanDistance    sum(|x - y|)\n",
    "# “chebyshev”   ChebyshevDistance    max(|x - y2|)\n",
    "# “minkowski”   MinkowskiDistance    sum(|x - y|^p)^(1/p)"
   ]
  },
  {
   "cell_type": "markdown",
   "metadata": {},
   "source": [
    "Или вот крутые метрики из презентации Константина Вячеславовича Воронцова:<br>\n",
    "<img src=\"imgs/voron_slide.jpg\">"
   ]
  },
  {
   "cell_type": "markdown",
   "metadata": {},
   "source": [
    "# weights\n",
    "\n",
    "<img src=\"imgs/kernel_formula.jpg\", width=600>\n",
    "Есть разные ядерные функции:"
   ]
  },
  {
   "cell_type": "markdown",
   "metadata": {},
   "source": [
    "<img src=\"imgs/kernels2.png\">"
   ]
  },
  {
   "cell_type": "markdown",
   "metadata": {},
   "source": [
    "<img src=\"imgs/kernel_formulas.jpg\" width=400>"
   ]
  },
  {
   "cell_type": "markdown",
   "metadata": {
    "collapsed": true
   },
   "source": [
    "# Все параметры:"
   ]
  },
  {
   "cell_type": "code",
   "execution_count": 3,
   "metadata": {
    "ExecuteTime": {
     "end_time": "2017-07-08T12:59:13.515383Z",
     "start_time": "2017-07-08T15:59:13.473615+03:00"
    },
    "collapsed": true
   },
   "outputs": [],
   "source": [
    "from sklearn.neighbors import KNeighborsClassifier\n",
    "\n",
    "pair=[0, 1]\n",
    "X = iris.data[:, [0, 1]]\n",
    "y = iris.target\n",
    "\n",
    "n_classes = 3\n",
    "plot_colors = \"bry\"\n",
    "plot_step = 0.005\n",
    "\n",
    "x_min, x_max = X[:, 0].min() - 1, X[:, 0].max() + 1\n",
    "y_min, y_max = X[:, 1].min() - 1, X[:, 1].max() + 1\n",
    "xx, yy = np.meshgrid(np.arange(x_min, x_max, plot_step),\n",
    "                     np.arange(y_min, y_max, plot_step))\n",
    "\n",
    "\n",
    "def plot_one(n_neighbors, metric, weights, p=2):\n",
    "    clf = KNeighborsClassifier(algorithm='kd_tree',\n",
    "                               n_neighbors=n_neighbors, \n",
    "                               metric=metric, \n",
    "                               weights=weights, \n",
    "                               p=p).fit(X, y)\n",
    "\n",
    "    Z = clf.predict(np.c_[xx.ravel(), yy.ravel()])\n",
    "    Z = Z.reshape(xx.shape)\n",
    "    cs = plt.contourf(xx, yy, Z, cmap=plt.cm.Paired)\n",
    "\n",
    "    plt.xlabel(iris.feature_names[pair[0]])\n",
    "    plt.ylabel(iris.feature_names[pair[1]])\n",
    "\n",
    "    for i, color in zip(range(n_classes), plot_colors):\n",
    "        idx = np.where(y == i)\n",
    "        plt.scatter(X[idx, 0], X[idx, 1], c=color, label=iris.target_names[i],\n",
    "                    cmap=plt.cm.Paired)\n",
    "    plt.show()"
   ]
  },
  {
   "cell_type": "code",
   "execution_count": 4,
   "metadata": {
    "ExecuteTime": {
     "end_time": "2017-07-08T12:59:26.929727Z",
     "start_time": "2017-07-08T15:59:23.579738+03:00"
    },
    "scrolled": false
   },
   "outputs": [
    {
     "data": {
      "application/vnd.jupyter.widget-view+json": {
       "model_id": "edc5a5a1204249278185d4dec354fdda"
      }
     },
     "metadata": {},
     "output_type": "display_data"
    }
   ],
   "source": [
    "def gaussian_kernel(distances):\n",
    "    if np.max(distances) == 0:\n",
    "        return np.zeros(len(distances))\n",
    "    distances_normalized = np.copy(distances) / np.max(distances)\n",
    "    return np.e ** (-(distances_normalized ** 2) * 10)\n",
    "\n",
    "from ipywidgets import interact, fixed\n",
    "_ = interact(plot_one, \n",
    "             n_neighbors=(1, 20), \n",
    "             metric=['euclidean',  # sqrt(sum((x - y)^2))\n",
    "                       'manhattan',  # sum(|x - y|)\n",
    "                       'chebyshev',  # max(|x - y|)\n",
    "                       'minkowski'  # sum(|x - y|^p)^(1/p)\n",
    "                    ],\n",
    "             weights={'uniform': 'uniform', \n",
    "                      'distance': 'distance',\n",
    "                      'gaussian': gaussian_kernel},\n",
    "             p=fixed(2) #[-0.99, 3, 0.5]\n",
    "             )"
   ]
  },
  {
   "cell_type": "code",
   "execution_count": 16,
   "metadata": {},
   "outputs": [
    {
     "data": {
      "text/plain": [
       "[<matplotlib.lines.Line2D at 0x1070d6fd0>]"
      ]
     },
     "execution_count": 16,
     "metadata": {},
     "output_type": "execute_result"
    },
    {
     "data": {
      "image/png": "[encoded data removed]",
      "text/plain": [
       "<matplotlib.figure.Figure at 0x1070d6ed0>"
      ]
     },
     "metadata": {},
     "output_type": "display_data"
    }
   ],
   "source": [
    "x = np.arange(0, 200, 1.)\n",
    "plot(x, gaussian_kernel(x))\n",
    "plot(x, 1 - x/ max(x)) \n"
   ]
  },
  {
   "cell_type": "code",
   "execution_count": null,
   "metadata": {
    "collapsed": true
   },
   "outputs": [],
   "source": []
  },
  {
   "cell_type": "code",
   "execution_count": null,
   "metadata": {
    "collapsed": true
   },
   "outputs": [],
   "source": []
  },
  {
   "cell_type": "markdown",
   "metadata": {},
   "source": [
    "# Regression!"
   ]
  },
  {
   "cell_type": "code",
   "execution_count": 8,
   "metadata": {
    "ExecuteTime": {
     "end_time": "2017-07-08T13:05:35.164620Z",
     "start_time": "2017-07-08T16:05:35.152476+03:00"
    },
    "collapsed": true
   },
   "outputs": [],
   "source": [
    "from sklearn.neighbors import KNeighborsRegressor\n",
    "\n",
    "rng = np.random.RandomState(1)\n",
    "X = np.sort(5 * rng.rand(80, 1), axis=0)\n",
    "y = np.sin(X).ravel()\n",
    "# y = np.piecewise(X.flatten(), \n",
    "#                  [X.flatten() < 3, X.flatten() >= 3], [-1, 1]).ravel()\n",
    "y[::2] += 1 * (0.5 - rng.rand(40))\n",
    "\n",
    "X_test = np.arange(0.0, 5.0, 0.01)[:, np.newaxis]\n",
    "\n",
    "def plot_one(n_neighbors, metric, weights):\n",
    "    metric = metric.encode('utf-8')\n",
    "    clf = KNeighborsRegressor(n_neighbors=n_neighbors, \n",
    "                              metric=metric, \n",
    "                              weights=weights).fit(X, y)\n",
    "    y_ = clf.predict(X_test)\n",
    "    plt.scatter(X, y, c='darkorange', label='data')\n",
    "    plt.plot(X_test, y_, c='cornflowerblue', label='prediction')\n",
    "    plt.show()"
   ]
  },
  {
   "cell_type": "code",
   "execution_count": 9,
   "metadata": {
    "ExecuteTime": {
     "end_time": "2017-07-08T13:05:38.419725Z",
     "start_time": "2017-07-08T16:05:38.050785+03:00"
    },
    "scrolled": false
   },
   "outputs": [
    {
     "data": {
      "application/vnd.jupyter.widget-view+json": {
       "model_id": "3fcf1dce3b98495aa2ed3bcef7777d40"
      }
     },
     "metadata": {},
     "output_type": "display_data"
    }
   ],
   "source": [
    "_ = interact(plot_one, \n",
    "             n_neighbors=(1, 20), \n",
    "             metric=['euclidean',  # sqrt(sum((x - y)^2))\n",
    "                       'manhattan',  # sum(|x - y|)\n",
    "                       'chebyshev',  # max(|x - y|)\n",
    "                       'minkowski'  # sum(|x - y|^p)^(1/p)\n",
    "                    ],\n",
    "             weights={'uniform': 'uniform', \n",
    "                      'distance': 'distance',\n",
    "                      'gaussian': gaussian_kernel},\n",
    "             p=fixed(2)\n",
    "             )"
   ]
  },
  {
   "cell_type": "markdown",
   "metadata": {},
   "source": [
    "# Проклятие размерности: \n",
    "http://scikit-learn.org/stable/tutorial/statistical_inference/supervised_learning.html#the-curse-of-dimensionality\n",
    "<img src=\"imgs/the_curse.png\">"
   ]
  },
  {
   "cell_type": "code",
   "execution_count": null,
   "metadata": {
    "collapsed": true
   },
   "outputs": [],
   "source": []
  }
 ],
 "metadata": {
  "kernelspec": {
   "display_name": "Python 2",
   "language": "python",
   "name": "python2"
  },
  "language_info": {
   "codemirror_mode": {
    "name": "ipython",
    "version": 2
   },
   "file_extension": ".py",
   "mimetype": "text/x-python",
   "name": "python",
   "nbconvert_exporter": "python",
   "pygments_lexer": "ipython2",
   "version": "2.7.11"
  }
 },
 "nbformat": 4,
 "nbformat_minor": 1
}

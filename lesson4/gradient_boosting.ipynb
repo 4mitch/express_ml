{
 "cells": [
  {
   "cell_type": "markdown",
   "metadata": {},
   "source": [
    "# Градиентный спуск\n",
    "Gradient Decent"
   ]
  },
  {
   "cell_type": "markdown",
   "metadata": {},
   "source": [
    "$$f(x) \\longrightarrow  \\displaystyle \\min_{x} $$\n",
    "<br>\n",
    "$$x_{t+1} = x_t-\\alpha{f'(x_t)}$$\n",
    "<br>\n",
    "$$f_{t+1}(x) = f(x_t-\\alpha{f'(x_t)})$$"
   ]
  },
  {
   "cell_type": "code",
   "execution_count": 59,
   "metadata": {},
   "outputs": [
    {
     "name": "stdout",
     "output_type": "stream",
     "text": [
      "Populating the interactive namespace from numpy and matplotlib\n"
     ]
    },
    {
     "name": "stderr",
     "output_type": "stream",
     "text": [
      "/usr/local/lib/python2.7/site-packages/IPython/core/magics/pylab.py:161: UserWarning: pylab import has clobbered these variables: ['clf']\n",
      "`%matplotlib` prevents importing * from pylab and numpy\n",
      "  \"\\n`%matplotlib` prevents importing * from pylab and numpy\"\n"
     ]
    },
    {
     "data": {
      "image/png": "[encoded data removed]",
      "text/plain": [
       "<matplotlib.figure.Figure at 0x115697f90>"
      ]
     },
     "metadata": {},
     "output_type": "display_data"
    }
   ],
   "source": [
    "%matplotlib inline\n",
    "%pylab inline\n",
    "\n",
    "def func(x):\n",
    "    return x ** 2\n",
    "\n",
    "def derivative(x):\n",
    "    return 2 * x\n",
    "\n",
    "\n",
    "x_coord = np.linspace(-10, 10, 100)\n",
    "_ = plot(x_coord, [func(x) for x in x_coord])\n",
    "\n",
    "start_point = 10\n",
    "\n",
    "alpha = 0.1\n",
    "gradient_steps = [start_point]\n",
    "for i in xrange(1000):\n",
    "    old_point = gradient_steps[-1]\n",
    "    new_point = old_point - alpha * derivative(old_point)\n",
    "    gradient_steps.append(new_point)\n",
    "\n",
    "_ = plot(gradient_steps, [func(x) for x in gradient_steps], 'g^',)"
   ]
  },
  {
   "cell_type": "markdown",
   "metadata": {},
   "source": [
    "<img src=\"imgs/gradient-descent.png\">"
   ]
  },
  {
   "cell_type": "markdown",
   "metadata": {},
   "source": [
    "# Градиентный бустинг"
   ]
  },
  {
   "cell_type": "markdown",
   "metadata": {},
   "source": [
    "$b_t(x)$ - ответ одного базового алгоритма (например, дерева), вещественное число для регрессии или [0, 1] - для классификации\n",
    "\n",
    "\n"
   ]
  },
  {
   "cell_type": "markdown",
   "metadata": {},
   "source": [
    "Линейная комбинация базовых алгоритмов:\n",
    "$$u(x) = \\begin{equation*}\n",
    "  \\sum_{t=1}^{T} \\alpha_t b_t(x)\n",
    "\\end{equation*}$$"
   ]
  },
  {
   "cell_type": "markdown",
   "metadata": {},
   "source": [
    "Функционал качества с произвольной функицей потерь $L(u(x), y)$:\n",
    "$$ Q(\\overline u, \\overline y) = \\sum_{i=1}^{l} L\\Bigl(u(x_i), y_i\\Bigr) =   \\begin{equation*}\n",
    "  \\sum_{i=1}^{l} L\\Bigl(\\sum_{t=1}^{T}\\alpha_t b_t(x_i) + \\alpha_{T+1} b_{T+1}(x_i), y_i\\Bigr)\n",
    "\\end{equation*} \\longrightarrow  \\displaystyle \\min_{\\overline b, \\overline \\alpha} $$"
   ]
  },
  {
   "cell_type": "markdown",
   "metadata": {},
   "source": [
    "Для регрессии L определяется как \n",
    "$$L == MSE == (y_i - u(x_i))^2$$\n",
    "<center>или</center><br>\n",
    "$$L == MAE == |y_i - u(x_i)|$$\n",
    "\n",
    "Для классификации:\n",
    "$$L = [ u(x_i) \\cdot sign(y_i > 0.5) < 0 ]$$"
   ]
  },
  {
   "cell_type": "markdown",
   "metadata": {},
   "source": [
    "Еще раз посмотрим на 2 формулы:\n",
    "    \n",
    "$$ Q_{T+1}(\\overline u, \\overline y) =  \\begin{equation*}\n",
    "  \\sum_{i=1}^{l} L\\Bigl(\\sum_{t=1}^{T}\\alpha_t b_t(x_i) + \\alpha_{T+1} b_{T+1}(x_i), y_i\\Bigr)\n",
    "\\end{equation*} $$\n",
    "\n",
    "$$L_{t+1}(u) = L(u_t-\\alpha{L'(u_t)})$$"
   ]
  },
  {
   "cell_type": "markdown",
   "metadata": {},
   "source": [
    "Если бы $-\\alpha{L'(x_t)}$ было бы в точности равно $\\alpha_{T+1} b_{T+1}(x_i)$ , то это было бы в точности минимизацией функции $L$ и соотв. функции $Q$ градиентным спуском"
   ]
  },
  {
   "cell_type": "markdown",
   "metadata": {},
   "source": [
    "Но мы не можем просто так приравнять $b_{T+1}(x_i)$ к $-L'(u_t)$\n",
    "<br> \n",
    "Давайте попробуем построить дерево, которое будет очень похоже на $L'(u_t)$ на обучающей выборке. \n",
    "<br>\n",
    "Обучаемся на $\\Bigl[x_i, −L'(u_t(x_i))\\Bigr]$ и получим таким образом $b_{T+1}$"
   ]
  },
  {
   "cell_type": "code",
   "execution_count": null,
   "metadata": {
    "collapsed": true
   },
   "outputs": [],
   "source": []
  },
  {
   "cell_type": "code",
   "execution_count": null,
   "metadata": {
    "collapsed": true
   },
   "outputs": [],
   "source": []
  },
  {
   "cell_type": "markdown",
   "metadata": {},
   "source": [
    "Есть еще одна проблема: $L$ для классификации не дифференцируема по $x_i$. Заменим ее на мажорирующую:"
   ]
  },
  {
   "cell_type": "markdown",
   "metadata": {},
   "source": [
    "<img src=\"imgs/2.jpg\" width=500>"
   ]
  },
  {
   "cell_type": "markdown",
   "metadata": {},
   "source": [
    "# Пример использования:     "
   ]
  },
  {
   "cell_type": "code",
   "execution_count": 51,
   "metadata": {
    "collapsed": true
   },
   "outputs": [],
   "source": [
    "from sklearn.datasets import load_iris\n",
    "iris = load_iris()\n",
    "X = iris.data\n",
    "y = iris.target\n",
    "\n",
    "from sklearn.model_selection import train_test_split\n",
    "X_train, X_test, y_train, y_test = train_test_split(\n",
    "    X, y, test_size=0.3, random_state=42, stratify=y)"
   ]
  },
  {
   "cell_type": "code",
   "execution_count": 53,
   "metadata": {},
   "outputs": [
    {
     "data": {
      "text/plain": [
       "0.9555555555555556"
      ]
     },
     "execution_count": 53,
     "metadata": {},
     "output_type": "execute_result"
    }
   ],
   "source": [
    "from sklearn.ensemble import GradientBoostingClassifier\n",
    "clf = GradientBoostingClassifier()\n",
    "clf.fit(X_train, y_train)\n",
    "clf.score(X_test, y_test)"
   ]
  },
  {
   "cell_type": "code",
   "execution_count": 58,
   "metadata": {},
   "outputs": [
    {
     "data": {
      "text/plain": [
       "0.93333333333333335"
      ]
     },
     "execution_count": 58,
     "metadata": {},
     "output_type": "execute_result"
    }
   ],
   "source": [
    "from xgboost import XGBClassifier\n",
    "clf = XGBClassifier()\n",
    "clf.fit(X_train, y_train)\n",
    "clf.score(X_test, y_test)"
   ]
  },
  {
   "cell_type": "code",
   "execution_count": null,
   "metadata": {
    "collapsed": true
   },
   "outputs": [],
   "source": [
    "XGBClassifier"
   ]
  }
 ],
 "metadata": {
  "kernelspec": {
   "display_name": "Python 2",
   "language": "python",
   "name": "python2"
  },
  "language_info": {
   "codemirror_mode": {
    "name": "ipython",
    "version": 2
   },
   "file_extension": ".py",
   "mimetype": "text/x-python",
   "name": "python",
   "nbconvert_exporter": "python",
   "pygments_lexer": "ipython2",
   "version": "2.7.11"
  }
 },
 "nbformat": 4,
 "nbformat_minor": 2
}

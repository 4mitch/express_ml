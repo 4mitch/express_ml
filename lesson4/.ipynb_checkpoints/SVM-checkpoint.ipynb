{
 "cells": [
  {
   "cell_type": "code",
   "execution_count": 3,
   "metadata": {
    "collapsed": false,
    "deletable": true,
    "editable": true
   },
   "outputs": [
    {
     "name": "stdout",
     "output_type": "stream",
     "text": [
      "Populating the interactive namespace from numpy and matplotlib\n"
     ]
    }
   ],
   "source": [
    "%pylab inline\n",
    "%matplotlib inline\n",
    "import seaborn as sns"
   ]
  },
  {
   "cell_type": "markdown",
   "metadata": {
    "deletable": true,
    "editable": true
   },
   "source": [
    "# SVM, support vector machine"
   ]
  },
  {
   "cell_type": "markdown",
   "metadata": {
    "deletable": true,
    "editable": true
   },
   "source": [
    "<img src='imgs/svm.jpg'>"
   ]
  },
  {
   "cell_type": "markdown",
   "metadata": {
    "deletable": true,
    "editable": true
   },
   "source": [
    "Дискриминантная функция: $$f(\\overline{x}, \\overline{w}, w_0) = \\langle \\overline{w}, \\overline{x} \\rangle - w_0$$\n",
    "\n",
    "Решающее правило: $$a(\\overline{x}, \\overline{w}, w_0) = \n",
    "\\left[ \n",
    "  \\begin{gathered} \n",
    "      1, \\langle \\overline{w}, \\overline{x} \\rangle - w_0 > 0,\n",
    "      \\\\ \n",
    "      0, \\langle \\overline{w}, \\overline{x} \\rangle - w_0 \\leqslant 0\n",
    "      \\\\ \n",
    "    \\end{gathered} \n",
    "\\right.$$\n",
    "\n",
    "Критерий - минимизация эмпирического риска:\n",
    "\n",
    "$$\n",
    "  \\sum_{i=1}^{l} \\Bigl[ a(\\overline{x_i}, \\overline{w}, w_0) \\ne y_i \\Bigr] =   \\sum_{i=1}^{l} \\Bigl[ M_i(\\overline{w}, w_0) < 0 \\Bigr] \\longrightarrow  \\displaystyle \\min_{\\overline{w}, w_0}\n",
    "$$\n",
    "\n",
    "где $M_i(\\overline{w}, w_0) = ( \\langle \\overline{w}, \\overline{x_i} \\rangle - w_0 ) \\cdot sign(y_i > 0.5)$"
   ]
  },
  {
   "cell_type": "markdown",
   "metadata": {
    "deletable": true,
    "editable": true
   },
   "source": [
    "<img src=\"imgs/2.jpg\" width=500>\n",
    "<br><br>\n",
    "$$\n",
    "Q(\\overline{w}, w_0) = \\sum_{i=1}^{l} \\Bigl[ M_i(\\overline{w}, w_0) < 0 \\Bigr] \\leqslant \\sum_{i=1}^{l} \\bigl(M_i(\\overline{w}, w_0) < 0 \\bigr)_{\\!+} + \\frac{1}{C} \\sum_{j=1}^{n}w_j^2 \\Big] \\longrightarrow  \\displaystyle \\min_{\\overline{w}, w_0}\n",
    "$$"
   ]
  },
  {
   "cell_type": "markdown",
   "metadata": {
    "deletable": true,
    "editable": true
   },
   "source": [
    "<img src=\"imgs/3.png\" width=400>"
   ]
  },
  {
   "cell_type": "markdown",
   "metadata": {
    "deletable": true,
    "editable": true
   },
   "source": [
    "Новое решающее правило:\n",
    "\n",
    "$$a(\\overline{x}, \\overline{w}, w_0) = \n",
    "\\left[ \n",
    "  \\begin{gathered} \n",
    "      1, \\sum_{i=1} ^{l} \\bigl(\\lambda _i \\cdot \\langle \\overline{x_i}, \\overline{x} \\rangle \\cdot sign(y_i > 0.5)\\bigr)  - w_0 > 0,\n",
    "      \\\\ \n",
    "      0, иначе\n",
    "      \\\\ \n",
    "    \\end{gathered} \n",
    "\\right.$$\n",
    "\n",
    "где $w_0 = \\sum_{i=1} ^{l} \\bigl(\\lambda _i \\cdot \\langle \\overline{x_i}, \\overline{x_k} \\rangle \\cdot sign(y_i > 0.5) - y_k\\bigr)$ для такого $k$, что  $\\lambda_k > 0, M_j=1$"
   ]
  },
  {
   "cell_type": "markdown",
   "metadata": {
    "deletable": true,
    "editable": true
   },
   "source": [
    "# Kernel trick\n",
    "$$\\varphi: X \\rightarrow H$$\n",
    "\n",
    "$$K(\\overline{x}, \\overline{x}') =  \\langle \\varphi(\\overline{x}),\\varphi(\\overline{x}') \\rangle $$"
   ]
  },
  {
   "cell_type": "code",
   "execution_count": 8,
   "metadata": {
    "collapsed": false,
    "deletable": true,
    "editable": true
   },
   "outputs": [
    {
     "data": {
      "text/html": [
       "<iframe width=\"854\" height=\"480\" src=\"https://www.youtube.com/embed/3liCbRZPrZA\" \n",
       "            frameborder=\"0\" allowfullscreen></iframe>"
      ],
      "text/plain": [
       "<IPython.core.display.HTML object>"
      ]
     },
     "execution_count": 8,
     "metadata": {},
     "output_type": "execute_result"
    }
   ],
   "source": [
    "from IPython.display import HTML\n",
    "\n",
    "HTML(data=\"\"\"<iframe width=\"854\" height=\"480\" src=\"https://www.youtube.com/embed/3liCbRZPrZA\" \n",
    "            frameborder=\"0\" allowfullscreen></iframe>\"\"\")"
   ]
  },
  {
   "cell_type": "code",
   "execution_count": 9,
   "metadata": {
    "collapsed": false,
    "deletable": true,
    "editable": true
   },
   "outputs": [
    {
     "data": {
      "text/html": [
       "<iframe width=\"854\" height=\"480\" src=\"https://www.youtube.com/embed/MxUy7hKIU8c\" \n",
       "frameborder=\"0\" allowfullscreen></iframe>"
      ],
      "text/plain": [
       "<IPython.core.display.HTML object>"
      ]
     },
     "execution_count": 9,
     "metadata": {},
     "output_type": "execute_result"
    }
   ],
   "source": [
    "HTML(data=\"\"\"<iframe width=\"854\" height=\"480\" src=\"https://www.youtube.com/embed/MxUy7hKIU8c\" \n",
    "frameborder=\"0\" allowfullscreen></iframe>\"\"\")"
   ]
  },
  {
   "cell_type": "markdown",
   "metadata": {
    "deletable": true,
    "editable": true
   },
   "source": [
    "<img src=\"imgs/4.jpg\" width=700>\n",
    "Код, который генерит эти изображения:\n",
    "http://scikit-learn.org/stable/auto_examples/exercises/plot_iris_exercise.html#sphx-glr-auto-examples-exercises-plot-iris-exercise-py"
   ]
  },
  {
   "cell_type": "code",
   "execution_count": 11,
   "metadata": {
    "collapsed": false,
    "deletable": true,
    "editable": true
   },
   "outputs": [
    {
     "name": "stdout",
     "output_type": "stream",
     "text": [
      "Populating the interactive namespace from numpy and matplotlib\n"
     ]
    },
    {
     "data": {
      "image/png": "[encoded data removed]",
      "text/plain": [
       "<matplotlib.figure.Figure at 0x113dc8b10>"
      ]
     },
     "metadata": {},
     "output_type": "display_data"
    }
   ],
   "source": [
    "from sklearn.datasets import load_iris\n",
    "%matplotlib inline\n",
    "%pylab inline\n",
    "\n",
    "figure(figsize=(8,8))\n",
    "iris = load_iris()\n",
    "X = iris.data\n",
    "y = iris.target\n",
    "X = X[y != 2, :]\n",
    "y = y[y != 2]\n",
    "X = X[:, [0, 1]]\n",
    "\n",
    "from sklearn.svm import SVC\n",
    "svc = SVC(probability=True, kernel='rbf', gamma=100)\n",
    "svc.fit(X, y)\n",
    "\n",
    "X_0 = X[y==0, :]\n",
    "X_1 = X[y==1, :]\n",
    "\n",
    "\n",
    "xx, yy = np.meshgrid(np.arange(4., 7.5, 0.01),\n",
    "                     np.arange(1.5, 5., 0.01))\n",
    "\n",
    "Z = svc.predict_proba(np.c_[xx.ravel(), yy.ravel()])[:,1]\n",
    "Z = Z.reshape(xx.shape)\n",
    "cs = plt.contourf(xx, yy, Z, alpha=0.5, cmap=plt.cm.RdBu)\n",
    "\n",
    "scatter(X_0[:,0], X_0[:,1], c='r')\n",
    "_ = scatter(X_1[:,0], X_1[:,1], c='b')"
   ]
  },
  {
   "cell_type": "markdown",
   "metadata": {
    "deletable": true,
    "editable": true
   },
   "source": [
    "SVM можно использовать и для регрессии:\n",
    "<a href='http://scikit-learn.org/stable/modules/generated/sklearn.svm.SVR.html'>sklearn.svm.SVR</a>"
   ]
  },
  {
   "cell_type": "code",
   "execution_count": null,
   "metadata": {
    "collapsed": true,
    "deletable": true,
    "editable": true
   },
   "outputs": [],
   "source": []
  }
 ],
 "metadata": {
  "kernelspec": {
   "display_name": "Python 2",
   "language": "python",
   "name": "python2"
  },
  "language_info": {
   "codemirror_mode": {
    "name": "ipython",
    "version": 2
   },
   "file_extension": ".py",
   "mimetype": "text/x-python",
   "name": "python",
   "nbconvert_exporter": "python",
   "pygments_lexer": "ipython2",
   "version": "2.7.11"
  }
 },
 "nbformat": 4,
 "nbformat_minor": 0
}

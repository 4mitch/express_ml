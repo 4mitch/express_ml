{
 "cells": [
  {
   "cell_type": "code",
   "execution_count": 2,
   "metadata": {
    "collapsed": false,
    "deletable": true,
    "editable": true
   },
   "outputs": [
    {
     "name": "stdout",
     "output_type": "stream",
     "text": [
      "Populating the interactive namespace from numpy and matplotlib\n"
     ]
    }
   ],
   "source": [
    "%pylab inline\n",
    "%matplotlib inline\n",
    "import seaborn as sns"
   ]
  },
  {
   "cell_type": "markdown",
   "metadata": {
    "deletable": true,
    "editable": true
   },
   "source": [
    "# Логистическая регрессия"
   ]
  },
  {
   "cell_type": "markdown",
   "metadata": {
    "deletable": true,
    "editable": true
   },
   "source": [
    "<img src='imgs/3d.png'>"
   ]
  },
  {
   "cell_type": "markdown",
   "metadata": {
    "deletable": true,
    "editable": true
   },
   "source": [
    "<img src='imgs/logr.jpg' width=600>"
   ]
  },
  {
   "cell_type": "markdown",
   "metadata": {
    "deletable": true,
    "editable": true
   },
   "source": [
    "Дискриминантная функция: $$f(\\overline{x}, \\overline{w}, w_0) = \\langle \\overline{w}, \\overline{x} \\rangle - w_0$$\n",
    "\n",
    "Решающее правило: \n",
    "\n",
    "$$a(\\overline{x}, \\overline{w}, w_0) = \n",
    "\\left[ \n",
    "  \\begin{gathered} \n",
    "      1, \\langle \\overline{w}, \\overline{x} \\rangle - w_0 > 0,\n",
    "      \\\\ \n",
    "      0, \\langle \\overline{w}, \\overline{x} \\rangle - w_0 \\leqslant 0\n",
    "      \\\\ \n",
    "    \\end{gathered} \n",
    "\\right.$$\n",
    "\n",
    "\n",
    "Вероятность первого класса: $$p(\\overline{x}, \\overline{w}, w_0) = \\frac{1}{1 + e ^ {-f(\\overline{x}, \\overline{w}, w_0)}}$$\n",
    "\n",
    "Вероятность того, что выборка разметится правильно равна: $$\n",
    "\\begin{equation*}\n",
    "  \\prod_{i=1}^{l} p_i^{y_i}(1 - p_i)^{1 - y_i}\n",
    "\\end{equation*}\n",
    "$$\n",
    "\n",
    "Почему бы не прологарифмировать?\n",
    "$$\n",
    "\\begin{equation*}\n",
    "  \\sum_{i=1}^{l} \\Bigl( y_i log(p_i) + (1 - y_i) log(1 - p_i) \\Bigr)\n",
    "\\end{equation*}\n",
    "$$\n",
    "\n",
    "Значит функция потерь на каждом объекте:\n",
    "\n",
    "$$\n",
    "L = - y_i log(p_i) - (1 - y_i) log(1 - p_i)\n",
    "$$\n",
    "\n",
    "Нужно решить задачу минимизации\n",
    "\n",
    "$$ \\begin{equation*}\n",
    "  \\sum_{i=1}^{l} \\Bigl( - y_i log(p_i) - (1 - y_i) log(1 - p_i) \\Bigr)\n",
    "\\end{equation*} \\longrightarrow  \\displaystyle \\min_{\\overline{w}, w_0} $$"
   ]
  },
  {
   "cell_type": "code",
   "execution_count": 18,
   "metadata": {
    "collapsed": false,
    "deletable": true,
    "editable": true
   },
   "outputs": [
    {
     "data": {
      "image/png": "[encoded data removed]",
      "text/plain": [
       "<matplotlib.figure.Figure at 0x10f1c3110>"
      ]
     },
     "metadata": {},
     "output_type": "display_data"
    }
   ],
   "source": [
    "a = np.arange(-10, 10, 0.1)\n",
    "_ = plot(a, 1 / (1 + np.e**-a), label=u'сигмоида')\n",
    "_ = legend()"
   ]
  },
  {
   "cell_type": "code",
   "execution_count": 7,
   "metadata": {
    "collapsed": false,
    "deletable": true,
    "editable": true
   },
   "outputs": [
    {
     "data": {
      "image/png": "[encoded data removed]",
      "text/plain": [
       "<matplotlib.figure.Figure at 0x10d34d2d0>"
      ]
     },
     "metadata": {},
     "output_type": "display_data"
    }
   ],
   "source": [
    "from sklearn.datasets import load_iris\n",
    "\n",
    "figure(figsize=(8,8))\n",
    "iris = load_iris()\n",
    "X = iris.data\n",
    "y = iris.target\n",
    "X = X[y != 2, :]\n",
    "y = y[y != 2]\n",
    "X = X[:, [0, 1]]\n",
    "\n",
    "from sklearn.linear_model import LogisticRegression\n",
    "LR = LogisticRegression(C=10)\n",
    "LR.fit(X, y)\n",
    "\n",
    "X_0 = X[y==0, :]\n",
    "X_1 = X[y==1, :]\n",
    "\n",
    "\n",
    "xx, yy = np.meshgrid(np.arange(4., 7.5, 0.01),\n",
    "                     np.arange(1.5, 5., 0.01))\n",
    "\n",
    "Z = LR.predict_proba(np.c_[xx.ravel(), yy.ravel()])[:,1]\n",
    "Z = Z.reshape(xx.shape)\n",
    "cs = plt.contourf(xx, yy, Z, alpha=0.5, cmap=plt.cm.RdBu)\n",
    "\n",
    "scatter(X_0[:,0], X_0[:,1], c='r')\n",
    "_ = scatter(X_1[:,0], X_1[:,1], c='b')"
   ]
  },
  {
   "cell_type": "code",
   "execution_count": 58,
   "metadata": {
    "collapsed": false,
    "deletable": true,
    "editable": true
   },
   "outputs": [
    {
     "data": {
      "image/png": "[encoded data removed]",
      "text/plain": [
       "<matplotlib.figure.Figure at 0x10ef0c150>"
      ]
     },
     "metadata": {},
     "output_type": "display_data"
    }
   ],
   "source": [
    "figure(figsize=(10,6))\n",
    "iris = load_iris()\n",
    "X = iris.data\n",
    "y = iris.target\n",
    "X = X[y != 2, :]\n",
    "y = y[y != 2]\n",
    "X = X[:, [0]]\n",
    "\n",
    "clf = LogisticRegression(C=5000)\n",
    "clf.fit(X, y)\n",
    "\n",
    "X_0 = X[y==0, :]\n",
    "X_1 = X[y==1, :]\n",
    "\n",
    "\n",
    "xx = np.arange(4., 7.5, 0.01)\n",
    "\n",
    "# plot(xx, clf.predict_proba(np.c_[xx])[:,1])\n",
    "\n",
    "scatter(X_0[:,0], [0] * len(X_0))\n",
    "scatter(X_1[:,0], [1] * len(X_0), c='r')\n",
    "plot(xx, clf.decision_function(np.c_[xx]), \n",
    "     label='descriminant function')\n",
    "# plot(xx, 1 / (1 + np.e**-clf.decision_function(np.c_[xx])), \n",
    "#      label='probability: logit from decision function')\n",
    "\n",
    "\n",
    "def loss(y, p):\n",
    "    return -y * np.log2(p) - (1-y) * np.log2(1-p)\n",
    "\n",
    "# scatter(X_0[:,0], [loss(y, clf.predict_proba(x)[:,1]) for x, y in zip(X_0[:,0], y[y==0])], \n",
    "#         c='gray', marker='o', s=50, alpha=0.2, label='loss 0')\n",
    "# scatter(X_1[:,0], [loss(y, clf.predict_proba(x)[:,1]) for x, y in zip(X_1[:,0], y[y==1])], \n",
    "#         c='gray', marker='o', s=50, alpha=0.2, label='loss 1')\n",
    "\n",
    "axis([4., 7.5, -0.5, 4])\n",
    "_ = plt.legend()"
   ]
  },
  {
   "cell_type": "markdown",
   "metadata": {
    "deletable": true,
    "editable": true
   },
   "source": [
    "...Таким образом, оценки апостериорных вероятностей являются точными только при довольно сильных теоретико-вероятностных предположениях. На практике гарантировать выполнение этих условий вряд ли возможно. Поэтому трактовать выходы сигмоидных функций как вероятности следует с большой осторожностью. На самом деле они дают лишь оценку удалённости объекта от границы классов, нормированную так, чтобы она принимала значения из отрезка [0,1]."
   ]
  },
  {
   "cell_type": "markdown",
   "metadata": {
    "deletable": true,
    "editable": true
   },
   "source": [
    "## Регуляризация"
   ]
  },
  {
   "cell_type": "markdown",
   "metadata": {
    "deletable": true,
    "editable": true
   },
   "source": [
    "l1:\n",
    "$$ \\displaystyle \\min_{\\overline{w}} \\Big[ \\begin{equation*}\n",
    "  \\sum_{i=1}^{l} \\Bigl( - y_i log(p_i) - (1 - y_i) log(1 - p_i) \\Bigr)\n",
    "\\end{equation*}  + \\frac{1}{C} \\sum_{j=1}^{n}w_j \\Big] $$\n",
    "\n",
    "l2:\n",
    "$$ \\displaystyle \\min_{\\overline{w}} \\Big[ \\begin{equation*}\n",
    "  \\sum_{i=1}^{l} \\Bigl( - y_i log(p_i) - (1 - y_i) log(1 - p_i) \\Bigr)\n",
    "\\end{equation*}  + \\frac{1}{C} \\sum_{j=1}^{n}w_j^2 \\Big] $$"
   ]
  },
  {
   "cell_type": "markdown",
   "metadata": {
    "deletable": true,
    "editable": true
   },
   "source": [
    "Больше информации: \n",
    "\n",
    "* https://habrahabr.ru/company/io/blog/265007/\n",
    "* https://florianhartl.com/logistic-regression-geometric-intuition.html\n",
    "* http://www.slideshare.net/yandex/voron-mllinslides\n",
    "* http://www.machinelearning.ru/wiki/index.php?title=Логистическая_регрессия#eq:1"
   ]
  },
  {
   "cell_type": "markdown",
   "metadata": {
    "collapsed": true,
    "deletable": true,
    "editable": true
   },
   "source": [
    "<img src=\"http://imgs.xkcd.com/comics/engineer_syllogism.png\">"
   ]
  }
 ],
 "metadata": {
  "kernelspec": {
   "display_name": "Python 2",
   "language": "python",
   "name": "python2"
  },
  "language_info": {
   "codemirror_mode": {
    "name": "ipython",
    "version": 2
   },
   "file_extension": ".py",
   "mimetype": "text/x-python",
   "name": "python",
   "nbconvert_exporter": "python",
   "pygments_lexer": "ipython2",
   "version": "2.7.11"
  }
 },
 "nbformat": 4,
 "nbformat_minor": 0
}

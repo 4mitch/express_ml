{
 "cells": [
  {
   "cell_type": "markdown",
   "metadata": {
    "collapsed": true,
    "deletable": true,
    "editable": true
   },
   "source": [
    "# Линейная регрессия"
   ]
  },
  {
   "cell_type": "markdown",
   "metadata": {},
   "source": [
    "Матрица объектов: $X \\in  {\\rm I\\!R} ^{l \\times n}$\n",
    "\n",
    "Вектор значений: $\\overline{y} \\in  {\\rm I\\!R} ^{l}$\n",
    "\n",
    "Вектор весов: $\\overline{w} \\in  {\\rm I\\!R} ^{n}$\n",
    "\n",
    "Предсказание алгоритма:\n",
    "$$\n",
    "  a(\\overline{x_i}, \\overline{w}) = \\sum_{j=1}^{n} w_j x_{ij}\n",
    "$$\n",
    "\n",
    "Функционал квадрата ошибки:\n",
    "$$\n",
    "  Q(\\overline{w}, X) = \\sum_{i=1}^{n} \\bigl(a(\\overline{x_i}, \\overline{w}) - y_i\\bigr)^2 = \\| X \\overline{w} - \\overline{y}\\| ^2 \\longrightarrow  \\displaystyle \\min_{\\overline{w}}\n",
    "$$\n",
    "\n",
    "$$\n",
    "\\frac{\\partial Q}{\\partial w} (w) = 2X^T(X\\overline{w} - \\overline{y}) = 0\n",
    "$$ \n",
    "$$\n",
    "\\Rightarrow \\overline{w} = (X^T X)^{-1} X^T\\overline{y}\n",
    "$$"
   ]
  },
  {
   "cell_type": "markdown",
   "metadata": {},
   "source": [
    "#### l2 нормализация или регуляризация Тихонова\n",
    "(гребневая или Ридж- регрессия) \n",
    "<a href=\"http://scikit-learn.org/stable/modules/generated/sklearn.linear_model.Ridge.html#sklearn.linear_model.Ridge\">sklearn.linear_model.Ridge</a>"
   ]
  },
  {
   "cell_type": "markdown",
   "metadata": {},
   "source": [
    "Функционал ошибки:\n",
    "\n",
    "$$\n",
    "  Q(\\overline{w}, X) = \\| X \\overline{w} - \\overline{y}\\| ^2 + \\alpha\\| \\overline{w}\\| ^2 \\longrightarrow \\displaystyle \\min_{\\overline{w}}\n",
    "$$\n",
    "\n",
    "<img src=\"http://scikit-learn.org/stable/_images/sphx_glr_plot_ridge_path_0011.png\">"
   ]
  },
  {
   "cell_type": "markdown",
   "metadata": {},
   "source": [
    "#### l1 нормализация (LASSO regression)\n",
    "<a href=\"http://scikit-learn.org/stable/modules/generated/sklearn.linear_model.Lasso.html\">sklearn.linear_model.Lasso</a>"
   ]
  },
  {
   "cell_type": "markdown",
   "metadata": {},
   "source": [
    "Функционал ошибки:\n",
    "\n",
    "$$\n",
    "  Q(\\overline{w}, X) = \\| X \\overline{w} - \\overline{y}\\| ^2 + \\alpha\\| \\overline{w}\\| \\longrightarrow \\displaystyle \\min_{\\overline{w}}\n",
    "$$"
   ]
  },
  {
   "cell_type": "markdown",
   "metadata": {},
   "source": [
    "<img src=\"http://scikit-learn.org/stable/_images/sphx_glr_plot_lasso_coordinate_descent_path_001.png\">"
   ]
  }
 ],
 "metadata": {
  "kernelspec": {
   "display_name": "Python 2",
   "language": "python",
   "name": "python2"
  },
  "language_info": {
   "codemirror_mode": {
    "name": "ipython",
    "version": 2
   },
   "file_extension": ".py",
   "mimetype": "text/x-python",
   "name": "python",
   "nbconvert_exporter": "python",
   "pygments_lexer": "ipython2",
   "version": "2.7.11"
  }
 },
 "nbformat": 4,
 "nbformat_minor": 2
}

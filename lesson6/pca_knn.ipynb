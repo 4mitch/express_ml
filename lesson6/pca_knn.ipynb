{
 "cells": [
  {
   "cell_type": "markdown",
   "metadata": {},
   "source": [
    "# SVD (Singular Value Decomposition) \n",
    "сингулярное разложение"
   ]
  },
  {
   "cell_type": "markdown",
   "metadata": {
    "ExecuteTime": {
     "end_time": "2017-08-05T01:07:21.054888Z",
     "start_time": "2017-08-05T04:07:21.044730+03:00"
    }
   },
   "source": [
    "<img src=\"imgs/svd2.jpg\">"
   ]
  },
  {
   "cell_type": "markdown",
   "metadata": {},
   "source": [
    "$$X = UDV^T$$\n",
    "- где $U$, $V$ - ортогональные матрицы ($UU^T=I$, $VV^T=I$)<br>\n",
    "- $D$ - диагональная с невозврастающими неотрицательными элементами на диагонали<br>\n",
    "- Количество ненулевых элементов матрицы $D$ равно рангу матрицы $X$"
   ]
  },
  {
   "cell_type": "markdown",
   "metadata": {
    "ExecuteTime": {
     "end_time": "2017-08-05T00:43:35.211008Z",
     "start_time": "2017-08-05T03:43:35.195789+03:00"
    }
   },
   "source": [
    "$$var\\ X' = UD$$\n",
    "$$XV = UDV^TV = UDI = UD = X'  \\ \\ \\longrightarrow  \\ \\  X' = XV$$"
   ]
  },
  {
   "cell_type": "markdown",
   "metadata": {},
   "source": [
    "# PCA (Principal Component Analysis)\n",
    "метод главных компонент / декоррелирующее преобразование Карунена-Лоэва"
   ]
  },
  {
   "cell_type": "markdown",
   "metadata": {},
   "source": [
    "Пусть есть $X$ размера (l x n). Хотим найти $X'$ размера (l x m) и такое линейное преобразование $V^T$ новой матрицы в старую, чтобы<br> \n",
    "$$||X'V^T - X||^2 \\rightarrow min$$\n",
    "\n",
    "### Теорема: \n",
    "Если $m \\leqslant rank(X)$, то минимум $||X'V^T - X||^2$ достигается когда $X' = UD$,<br> \n",
    "- где $U$, $V$ - ортогональные матрицы ($UU^T=I$, $VV^T=I$)<br>\n",
    "- $D$ - диагональная с невозврастающими неотрицательными элементами на диагонали<br>\n",
    "- В $D$ ненулевыми являются только m первых элементов на диагонали"
   ]
  },
  {
   "cell_type": "code",
   "execution_count": null,
   "metadata": {
    "collapsed": true
   },
   "outputs": [],
   "source": []
  },
  {
   "cell_type": "markdown",
   "metadata": {
    "ExecuteTime": {
     "end_time": "2017-08-05T01:59:10.207323Z",
     "start_time": "2017-08-05T04:59:10.201191+03:00"
    }
   },
   "source": [
    "Почему преобразование - декоррелирующее? Короткий ответ: потому что $X'^TX$ - диагональная. А в предположении о том, что у нас данные отцентрированы, эта матрица будет являться ковариационной матрицей.\n",
    "$$X' = UD$$ $$X'^TX = D^TU^TUD = D^TI^D = D^TD$$\n"
   ]
  },
  {
   "cell_type": "markdown",
   "metadata": {
    "ExecuteTime": {
     "end_time": "2017-08-05T09:11:40.568053Z",
     "start_time": "2017-08-05T12:11:40.562676+03:00"
    }
   },
   "source": [
    "<img src=\"https://habrastorage.org/files/c28/191/5cf/c281915cfbe3478da9b2c96998fd8ef9.png\">"
   ]
  },
  {
   "cell_type": "markdown",
   "metadata": {},
   "source": [
    "Ссылки:\n",
    "- Про корреляцию и PCA можно почитать: https://habrahabr.ru/post/304214/\n",
    "- Лекция Воронцова про PCA: https://www.coursera.org/learn/vvedenie-mashinnoe-obuchenie/lecture/Ey95r/mietod-ghlavnykh-komponient"
   ]
  },
  {
   "cell_type": "code",
   "execution_count": null,
   "metadata": {
    "collapsed": true
   },
   "outputs": [],
   "source": []
  },
  {
   "cell_type": "markdown",
   "metadata": {},
   "source": [
    "<img src=\"imgs/svd.jpg\" width=500>"
   ]
  },
  {
   "cell_type": "markdown",
   "metadata": {
    "ExecuteTime": {
     "end_time": "2017-08-05T09:06:59.278588Z",
     "start_time": "2017-08-05T12:06:59.271234+03:00"
    }
   },
   "source": [
    "### PCA fail:\n",
    "<img src=\"imgs/pca_fail.png\">"
   ]
  },
  {
   "cell_type": "markdown",
   "metadata": {},
   "source": [
    "### Use LDA:\n",
    "    \n",
    "http://scikit-learn.org/stable/auto_examples/decomposition/plot_pca_vs_lda.html"
   ]
  },
  {
   "cell_type": "markdown",
   "metadata": {},
   "source": [
    "# K-means"
   ]
  },
  {
   "cell_type": "markdown",
   "metadata": {},
   "source": [
    "Ссылки:\n",
    "- https://www.youtube.com/watch?v=_aWzGGNrcic&spfreload=10\n",
    "- https://ru.wikipedia.org/wiki/Метод_k-средних\n",
    "- https://ru.wikipedia.org/wiki/K-means%2B%2B"
   ]
  },
  {
   "cell_type": "code",
   "execution_count": null,
   "metadata": {
    "collapsed": true
   },
   "outputs": [],
   "source": []
  },
  {
   "cell_type": "markdown",
   "metadata": {},
   "source": [
    "# t-SNE:\n",
    "\n",
    "https://www.coursera.org/learn/vvedenie-mashinnoe-obuchenie/lecture/QloeT/nielinieinyie-mietody-ponizhieniia-razmiernosti"
   ]
  },
  {
   "cell_type": "markdown",
   "metadata": {
    "ExecuteTime": {
     "end_time": "2017-08-05T02:26:59.459443Z",
     "start_time": "2017-08-05T05:26:59.447480+03:00"
    }
   },
   "source": [
    "<img src=\"../lesson1/imgs/dimention_reduction.png\" width=600>"
   ]
  },
  {
   "cell_type": "code",
   "execution_count": null,
   "metadata": {
    "collapsed": true
   },
   "outputs": [],
   "source": []
  }
 ],
 "metadata": {
  "kernelspec": {
   "display_name": "Python 2",
   "language": "python",
   "name": "python2"
  },
  "language_info": {
   "codemirror_mode": {
    "name": "ipython",
    "version": 2
   },
   "file_extension": ".py",
   "mimetype": "text/x-python",
   "name": "python",
   "nbconvert_exporter": "python",
   "pygments_lexer": "ipython2",
   "version": "2.7.11"
  }
 },
 "nbformat": 4,
 "nbformat_minor": 2
}

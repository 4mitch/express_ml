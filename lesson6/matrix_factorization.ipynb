{
 "cells": [
  {
   "cell_type": "markdown",
   "metadata": {},
   "source": [
    "## Andrew Ng\n",
    "https://www.youtube.com/watch?v=RcOUXmCAssg&list=PL0Smm0jPm9WcCsYvbhPCdizqNKps69W4Z&index=96"
   ]
  },
  {
   "cell_type": "markdown",
   "metadata": {},
   "source": [
    "<img src='imgs/1.jpg'>\n",
    "<img src='imgs/2.jpg'>\n",
    "<img src='imgs/3.jpg'>\n",
    "<img src='imgs/4.jpg'>\n",
    "<img src='imgs/5.jpg'>\n",
    "<img src='imgs/6.jpg'>\n",
    "<img src='imgs/7.jpg'>\n",
    "<img src='imgs/8.jpg'>\n",
    "<img src='imgs/9.jpg'>\n",
    "<img src='imgs/10.jpg'>\n",
    "<img src='imgs/11.jpg'>"
   ]
  },
  {
   "cell_type": "markdown",
   "metadata": {},
   "source": [
    "## URLs:\n",
    "\n",
    "user-based item-based code:<br>\n",
    "http://www.salemmarafi.com/code/collaborative-filtering-with-python/\n",
    "\n",
    "matrix factorization code:<br>\n",
    "http://www.quuxlabs.com/blog/2010/09/matrix-factorization-a-simple-tutorial-and-implementation-in-python/\n",
    "\n",
    "\n",
    "<b>Intro to Implicit Matrix Factorization: Classic ALS with Sketchfab Models:<br>\n",
    "http://blog.ethanrosenthal.com/2016/10/19/implicit-mf-part-1/</b>\n",
    "\n",
    "Learning to Rank Sketchfab Models with LightFM:<br>\n",
    "http://blog.ethanrosenthal.com/2016/11/07/implicit-mf-part-2/\n",
    "\n",
    "user-based item-based example with GraphLab<br>\n",
    "https://www.analyticsvidhya.com/blog/2016/06/quick-guide-build-recommendation-engine-python/\n",
    "\n",
    "<img src=\"http://i764.photobucket.com/albums/xx282/RaptorAnton/bash_eng/Hamster.png\">"
   ]
  },
  {
   "cell_type": "code",
   "execution_count": null,
   "metadata": {
    "collapsed": true
   },
   "outputs": [],
   "source": []
  },
  {
   "cell_type": "markdown",
   "metadata": {},
   "source": [
    "# PART II\n",
    "## Explicit -> Implicit"
   ]
  },
  {
   "cell_type": "markdown",
   "metadata": {},
   "source": [
    "<img src=\"imgs/exp-impl.jpg\">"
   ]
  },
  {
   "cell_type": "markdown",
   "metadata": {
    "ExecuteTime": {
     "end_time": "2017-05-13T23:00:13.253060Z",
     "start_time": "2017-05-14T02:00:13.238567+03:00"
    }
   },
   "source": [
    "### BPR: Bayesian Personalized Ranking from Implicit Feedback (<a href=\"https://arxiv.org/pdf/1205.2618.pdf\">pdf link</a>)\n",
    "\n",
    "- Randomly select a user $u$ and then select a random item $i$ which the user has clicked on. This is our positive item.\n",
    "\n",
    "- Randomly select an item $j$ which the user has clicked on $fewer$ times than item $i$ (this includes items that they have never clicked). This is our negative item.\n",
    "\n",
    "- Use whatever equation you want to predict the \"score\", $p_{ui}$, for user $u$ and positive item $i$. For matrix factorization, this may be $\\textbf{x}_{u} \\cdot \\textbf{y}_{i}$.\n",
    "\n",
    "- Predict the score for user $u$ and negative item $j$, $p_{uj}$.\n",
    "\n",
    "- Find the difference between the positive and negative scores $x_{uij} = p_{ui} - p_{uj}$.\n",
    "\n",
    "- Pass this difference through a sigmoid and use it as a weighting for updating all of the model parameters via stochastic gradient descent (SGD).\n",
    "\n",
    "\n",
    "BPR directly optimizes the area under the ROC curve (AUC)"
   ]
  },
  {
   "cell_type": "markdown",
   "metadata": {},
   "source": [
    "### WARP: Weighted Approximate-Rank Pairwise loss (<a href=\"http://www.thespermwhale.com/jaseweston/papers/wsabie-ijcai.pdf\">pdf link</a>)\n",
    "In WARP, you only run the SGD update if you predict <b>wrong</b>, i.e. you predict the negative item has a higher score than the positive item. If you do not predict wrong, then you keep drawing negative items until you either get the prediction wrong or reach some cutoff value.\n",
    "\n",
    "WARP optimizes the precision@k"
   ]
  },
  {
   "cell_type": "code",
   "execution_count": 45,
   "metadata": {
    "ExecuteTime": {
     "end_time": "2017-05-14T00:29:35.273528Z",
     "start_time": "2017-05-14T03:29:35.150503+03:00"
    }
   },
   "outputs": [
    {
     "name": "stdout",
     "output_type": "stream",
     "text": [
      "fatal: destination path '../../lightfm' already exists and is not an empty directory.\r\n"
     ]
    }
   ],
   "source": [
    "!git clone https://github.com/lyst/lightfm.git ../../lightfm"
   ]
  },
  {
   "cell_type": "markdown",
   "metadata": {},
   "source": [
    "## Задание:\n",
    "- Попробуйте другие loss-функции (не 'warp')\n",
    "- Попробуйте другие датасеты (https://gist.github.com/entaroadun/1653794)\n",
    "- Внимательно почитайте http://blog.ethanrosenthal.com/2016/11/07/implicit-mf-part-2/ . Мы не рассматривали случай, когда нам что-то известно про юзера или айтем. Там это рассмотрено\n",
    "\n"
   ]
  },
  {
   "cell_type": "markdown",
   "metadata": {},
   "source": [
    "## URLs:\n",
    "\n",
    "Библиотека LightFM: http://lyst.github.io/lightfm/docs/home.html - там примеры, ноутбук, использованный c Kaggle, статья на arxiv.org\n",
    "\n",
    "Много ранжирующих метрик: https://habrahabr.ru/company/econtenta/blog/303458/\n",
    "\n",
    "LightFM intro: https://www.youtube.com/watch?v=9gBC9R-msAk\n",
    "\n",
    "Подходы к построению рекомендательной системы:\n",
    "https://www.coursera.org/learn/data-analysis-applications/lecture/XjnUQ/podkhody-k-postroieniiu-riekomiendatiel-nykh-sistiem"
   ]
  },
  {
   "cell_type": "markdown",
   "metadata": {
    "ExecuteTime": {
     "end_time": "2017-05-14T01:54:47.301780Z",
     "start_time": "2017-05-14T04:54:47.285888+03:00"
    }
   },
   "source": [
    "<img src=\"https://www.comicsenglish.com/wp-content/uploads/2013/09/callous_recommending_customers.jpg\">"
   ]
  },
  {
   "cell_type": "code",
   "execution_count": null,
   "metadata": {
    "collapsed": true
   },
   "outputs": [],
   "source": []
  },
  {
   "cell_type": "markdown",
   "metadata": {},
   "source": [
    "# Avito\n",
    "\n",
    ">Всем привет!\n",
    ">\n",
    ">Вчера стартовал новый конкурс от Avito на платформе DataRing.ru!\n",
    ">http://dataring.ru/competitions/avito-recommendations/\n",
    ">\n",
    ">На этот раз задачей участников будет ~постакать xgboost~ построить рекомендательную систему для объявлений сайта Avito. Для обучения модели предоставлены данные о действиях  ~620 000 пользователей за 6 дней, их поисковые запросы и информация о самих объявлениях (заголовок, описание, категория).\n",
    ">\n",
    ">Приглашаем всех желающих поучавствовать, будет интересно!\n",
    ">\n",
    ">Все вопросы по конкурсу можно задавать мне в ЛС, либо на почту makamenshchikov@avito.ru\""
   ]
  },
  {
   "cell_type": "code",
   "execution_count": null,
   "metadata": {
    "collapsed": true
   },
   "outputs": [],
   "source": []
  }
 ],
 "metadata": {
  "kernelspec": {
   "display_name": "Python 2",
   "language": "python",
   "name": "python2"
  },
  "language_info": {
   "codemirror_mode": {
    "name": "ipython",
    "version": 2
   },
   "file_extension": ".py",
   "mimetype": "text/x-python",
   "name": "python",
   "nbconvert_exporter": "python",
   "pygments_lexer": "ipython2",
   "version": "2.7.11"
  }
 },
 "nbformat": 4,
 "nbformat_minor": 2
}

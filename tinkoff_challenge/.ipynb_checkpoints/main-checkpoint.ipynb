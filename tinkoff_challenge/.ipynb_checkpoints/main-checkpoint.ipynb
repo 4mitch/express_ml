{
 "cells": [
  {
   "cell_type": "markdown",
   "metadata": {},
   "source": [
    "Ноутбук соревнования https://boosters.pro/champ_3"
   ]
  },
  {
   "cell_type": "code",
   "execution_count": 2,
   "metadata": {
    "ExecuteTime": {
     "end_time": "2017-08-05T10:33:40.300782Z",
     "start_time": "2017-08-05T13:33:40.281651+03:00"
    }
   },
   "outputs": [
    {
     "name": "stdout",
     "output_type": "stream",
     "text": [
      "Populating the interactive namespace from numpy and matplotlib\n"
     ]
    }
   ],
   "source": [
    "%matplotlib inline\n",
    "%pylab inline\n",
    "\n",
    "import pandas as pd\n",
    "import seaborn as sns\n",
    "\n",
    "from __future__ import division  # чтобы 1/2 = было равно 0.5, а не 0\n",
    "\n",
    "from sklearn.model_selection import train_test_split\n",
    "\n",
    "from pylab import rcParams\n",
    "rcParams['figure.figsize'] = 5, 3  # чтобы дефолтные размеры графиков были поменьше"
   ]
  },
  {
   "cell_type": "markdown",
   "metadata": {},
   "source": [
    "# Смотрим на данные:"
   ]
  },
  {
   "cell_type": "code",
   "execution_count": 4,
   "metadata": {
    "ExecuteTime": {
     "end_time": "2017-08-05T10:34:06.487430Z",
     "start_time": "2017-08-05T13:34:06.069547+03:00"
    }
   },
   "outputs": [],
   "source": [
    "df = pd.read_csv('credit_train.csv', sep=';', encoding='cp1251', decimal=',')\n",
    "df_test = pd.read_csv('credit_test.csv', sep=';', encoding='cp1251', decimal=',')"
   ]
  },
  {
   "cell_type": "code",
   "execution_count": 6,
   "metadata": {
    "ExecuteTime": {
     "end_time": "2017-08-01T16:56:42.993722Z",
     "start_time": "2017-08-01T19:56:42.755275+03:00"
    }
   },
   "outputs": [
    {
     "data": {
      "text/html": [
       "<div>\n",
       "<style>\n",
       "    .dataframe thead tr:only-child th {\n",
       "        text-align: right;\n",
       "    }\n",
       "\n",
       "    .dataframe thead th {\n",
       "        text-align: left;\n",
       "    }\n",
       "\n",
       "    .dataframe tbody tr th {\n",
       "        vertical-align: top;\n",
       "    }\n",
       "</style>\n",
       "<table border=\"1\" class=\"dataframe\">\n",
       "  <thead>\n",
       "    <tr style=\"text-align: right;\">\n",
       "      <th></th>\n",
       "      <th>client_id</th>\n",
       "      <th>gender</th>\n",
       "      <th>age</th>\n",
       "      <th>marital_status</th>\n",
       "      <th>job_position</th>\n",
       "      <th>credit_sum</th>\n",
       "      <th>credit_month</th>\n",
       "      <th>tariff_id</th>\n",
       "      <th>score_shk</th>\n",
       "      <th>education</th>\n",
       "      <th>living_region</th>\n",
       "      <th>monthly_income</th>\n",
       "      <th>credit_count</th>\n",
       "      <th>overdue_credit_count</th>\n",
       "      <th>open_account_flg</th>\n",
       "    </tr>\n",
       "  </thead>\n",
       "  <tbody>\n",
       "    <tr>\n",
       "      <th>0</th>\n",
       "      <td>1</td>\n",
       "      <td>M</td>\n",
       "      <td>48</td>\n",
       "      <td>MAR</td>\n",
       "      <td>UMN</td>\n",
       "      <td>59998.00</td>\n",
       "      <td>10</td>\n",
       "      <td>1.6</td>\n",
       "      <td>0.770249</td>\n",
       "      <td>GRD</td>\n",
       "      <td>КРАСНОДАРСКИЙ КРАЙ</td>\n",
       "      <td>30000.0</td>\n",
       "      <td>1.0</td>\n",
       "      <td>1.0</td>\n",
       "      <td>0</td>\n",
       "    </tr>\n",
       "    <tr>\n",
       "      <th>1</th>\n",
       "      <td>2</td>\n",
       "      <td>F</td>\n",
       "      <td>28</td>\n",
       "      <td>MAR</td>\n",
       "      <td>UMN</td>\n",
       "      <td>10889.00</td>\n",
       "      <td>6</td>\n",
       "      <td>1.1</td>\n",
       "      <td>0.248514</td>\n",
       "      <td>GRD</td>\n",
       "      <td>МОСКВА</td>\n",
       "      <td>43000.0</td>\n",
       "      <td>2.0</td>\n",
       "      <td>0.0</td>\n",
       "      <td>0</td>\n",
       "    </tr>\n",
       "    <tr>\n",
       "      <th>2</th>\n",
       "      <td>3</td>\n",
       "      <td>M</td>\n",
       "      <td>32</td>\n",
       "      <td>MAR</td>\n",
       "      <td>SPC</td>\n",
       "      <td>10728.00</td>\n",
       "      <td>12</td>\n",
       "      <td>1.1</td>\n",
       "      <td>0.459589</td>\n",
       "      <td>SCH</td>\n",
       "      <td>ОБЛ САРАТОВСКАЯ</td>\n",
       "      <td>23000.0</td>\n",
       "      <td>5.0</td>\n",
       "      <td>0.0</td>\n",
       "      <td>0</td>\n",
       "    </tr>\n",
       "    <tr>\n",
       "      <th>3</th>\n",
       "      <td>4</td>\n",
       "      <td>F</td>\n",
       "      <td>27</td>\n",
       "      <td>DIV</td>\n",
       "      <td>SPC</td>\n",
       "      <td>12009.09</td>\n",
       "      <td>12</td>\n",
       "      <td>1.1</td>\n",
       "      <td>0.362536</td>\n",
       "      <td>GRD</td>\n",
       "      <td>ОБЛ ВОЛГОГРАДСКАЯ</td>\n",
       "      <td>17000.0</td>\n",
       "      <td>2.0</td>\n",
       "      <td>0.0</td>\n",
       "      <td>0</td>\n",
       "    </tr>\n",
       "    <tr>\n",
       "      <th>4</th>\n",
       "      <td>5</td>\n",
       "      <td>M</td>\n",
       "      <td>45</td>\n",
       "      <td>MAR</td>\n",
       "      <td>SPC</td>\n",
       "      <td>16908.89</td>\n",
       "      <td>10</td>\n",
       "      <td>1.1</td>\n",
       "      <td>0.421385</td>\n",
       "      <td>SCH</td>\n",
       "      <td>ЧЕЛЯБИНСКАЯ ОБЛАСТЬ</td>\n",
       "      <td>25000.0</td>\n",
       "      <td>1.0</td>\n",
       "      <td>0.0</td>\n",
       "      <td>0</td>\n",
       "    </tr>\n",
       "    <tr>\n",
       "      <th>5</th>\n",
       "      <td>6</td>\n",
       "      <td>F</td>\n",
       "      <td>37</td>\n",
       "      <td>MAR</td>\n",
       "      <td>SPC</td>\n",
       "      <td>26788.00</td>\n",
       "      <td>10</td>\n",
       "      <td>1.1</td>\n",
       "      <td>0.484203</td>\n",
       "      <td>SCH</td>\n",
       "      <td>СТАВРОПОЛЬСКИЙ КРАЙ</td>\n",
       "      <td>30000.0</td>\n",
       "      <td>0.0</td>\n",
       "      <td>0.0</td>\n",
       "      <td>0</td>\n",
       "    </tr>\n",
       "    <tr>\n",
       "      <th>6</th>\n",
       "      <td>7</td>\n",
       "      <td>M</td>\n",
       "      <td>34</td>\n",
       "      <td>MAR</td>\n",
       "      <td>SPC</td>\n",
       "      <td>10317.00</td>\n",
       "      <td>6</td>\n",
       "      <td>1.5</td>\n",
       "      <td>0.276012</td>\n",
       "      <td>SCH</td>\n",
       "      <td>ОБЛ НИЖЕГОРОДСКАЯ</td>\n",
       "      <td>28000.0</td>\n",
       "      <td>3.0</td>\n",
       "      <td>0.0</td>\n",
       "      <td>0</td>\n",
       "    </tr>\n",
       "    <tr>\n",
       "      <th>7</th>\n",
       "      <td>8</td>\n",
       "      <td>F</td>\n",
       "      <td>26</td>\n",
       "      <td>UNM</td>\n",
       "      <td>SPC</td>\n",
       "      <td>47878.00</td>\n",
       "      <td>10</td>\n",
       "      <td>1.1</td>\n",
       "      <td>0.512525</td>\n",
       "      <td>GRD</td>\n",
       "      <td>МОСКОВСКАЯ ОБЛ</td>\n",
       "      <td>60000.0</td>\n",
       "      <td>3.0</td>\n",
       "      <td>0.0</td>\n",
       "      <td>0</td>\n",
       "    </tr>\n",
       "    <tr>\n",
       "      <th>8</th>\n",
       "      <td>9</td>\n",
       "      <td>M</td>\n",
       "      <td>23</td>\n",
       "      <td>UNM</td>\n",
       "      <td>SPC</td>\n",
       "      <td>37577.16</td>\n",
       "      <td>12</td>\n",
       "      <td>1.6</td>\n",
       "      <td>0.642267</td>\n",
       "      <td>SCH</td>\n",
       "      <td>ХАНТЫ-МАНСИЙСКИЙ АВТОНОМНЫЙ ОКРУГ - ЮГРА</td>\n",
       "      <td>50000.0</td>\n",
       "      <td>3.0</td>\n",
       "      <td>0.0</td>\n",
       "      <td>0</td>\n",
       "    </tr>\n",
       "    <tr>\n",
       "      <th>9</th>\n",
       "      <td>10</td>\n",
       "      <td>F</td>\n",
       "      <td>32</td>\n",
       "      <td>UNM</td>\n",
       "      <td>SPC</td>\n",
       "      <td>26268.00</td>\n",
       "      <td>10</td>\n",
       "      <td>1.1</td>\n",
       "      <td>0.465026</td>\n",
       "      <td>GRD</td>\n",
       "      <td>КРАЙ СТАВРОПОЛЬСКИЙ</td>\n",
       "      <td>39500.0</td>\n",
       "      <td>7.0</td>\n",
       "      <td>0.0</td>\n",
       "      <td>0</td>\n",
       "    </tr>\n",
       "    <tr>\n",
       "      <th>10</th>\n",
       "      <td>11</td>\n",
       "      <td>M</td>\n",
       "      <td>26</td>\n",
       "      <td>MAR</td>\n",
       "      <td>SPC</td>\n",
       "      <td>16793.00</td>\n",
       "      <td>14</td>\n",
       "      <td>1.0</td>\n",
       "      <td>0.445430</td>\n",
       "      <td>SCH</td>\n",
       "      <td>САНКТ-ПЕТЕРБУРГ</td>\n",
       "      <td>36000.0</td>\n",
       "      <td>2.0</td>\n",
       "      <td>0.0</td>\n",
       "      <td>0</td>\n",
       "    </tr>\n",
       "    <tr>\n",
       "      <th>11</th>\n",
       "      <td>12</td>\n",
       "      <td>F</td>\n",
       "      <td>26</td>\n",
       "      <td>UNM</td>\n",
       "      <td>SPC</td>\n",
       "      <td>18936.00</td>\n",
       "      <td>10</td>\n",
       "      <td>1.32</td>\n",
       "      <td>0.455774</td>\n",
       "      <td>GRD</td>\n",
       "      <td>РЕСП. БАШКОРТОСТАН</td>\n",
       "      <td>30000.0</td>\n",
       "      <td>0.0</td>\n",
       "      <td>0.0</td>\n",
       "      <td>0</td>\n",
       "    </tr>\n",
       "    <tr>\n",
       "      <th>12</th>\n",
       "      <td>13</td>\n",
       "      <td>M</td>\n",
       "      <td>37</td>\n",
       "      <td>MAR</td>\n",
       "      <td>SPC</td>\n",
       "      <td>42289.00</td>\n",
       "      <td>10</td>\n",
       "      <td>1.6</td>\n",
       "      <td>0.691609</td>\n",
       "      <td>SCH</td>\n",
       "      <td>ОБЛ АРХАНГЕЛЬСКАЯ</td>\n",
       "      <td>70000.0</td>\n",
       "      <td>1.0</td>\n",
       "      <td>0.0</td>\n",
       "      <td>0</td>\n",
       "    </tr>\n",
       "    <tr>\n",
       "      <th>13</th>\n",
       "      <td>14</td>\n",
       "      <td>M</td>\n",
       "      <td>43</td>\n",
       "      <td>MAR</td>\n",
       "      <td>INP</td>\n",
       "      <td>57567.00</td>\n",
       "      <td>10</td>\n",
       "      <td>1.1</td>\n",
       "      <td>0.341164</td>\n",
       "      <td>GRD</td>\n",
       "      <td>ХАНТЫ-МАНСИЙСКИЙ АО</td>\n",
       "      <td>60000.0</td>\n",
       "      <td>7.0</td>\n",
       "      <td>0.0</td>\n",
       "      <td>0</td>\n",
       "    </tr>\n",
       "    <tr>\n",
       "      <th>14</th>\n",
       "      <td>15</td>\n",
       "      <td>F</td>\n",
       "      <td>32</td>\n",
       "      <td>MAR</td>\n",
       "      <td>SPC</td>\n",
       "      <td>12711.00</td>\n",
       "      <td>12</td>\n",
       "      <td>1.5</td>\n",
       "      <td>0.411186</td>\n",
       "      <td>SCH</td>\n",
       "      <td>РЕСП БАШКОРТОСТАН</td>\n",
       "      <td>30000.0</td>\n",
       "      <td>3.0</td>\n",
       "      <td>0.0</td>\n",
       "      <td>0</td>\n",
       "    </tr>\n",
       "    <tr>\n",
       "      <th>15</th>\n",
       "      <td>16</td>\n",
       "      <td>M</td>\n",
       "      <td>34</td>\n",
       "      <td>MAR</td>\n",
       "      <td>SPC</td>\n",
       "      <td>13209.00</td>\n",
       "      <td>10</td>\n",
       "      <td>1.1</td>\n",
       "      <td>0.498255</td>\n",
       "      <td>SCH</td>\n",
       "      <td>ПЕРМСКИЙ КРАЙ</td>\n",
       "      <td>34000.0</td>\n",
       "      <td>2.0</td>\n",
       "      <td>0.0</td>\n",
       "      <td>0</td>\n",
       "    </tr>\n",
       "    <tr>\n",
       "      <th>16</th>\n",
       "      <td>17</td>\n",
       "      <td>M</td>\n",
       "      <td>36</td>\n",
       "      <td>DIV</td>\n",
       "      <td>SPC</td>\n",
       "      <td>22612.00</td>\n",
       "      <td>10</td>\n",
       "      <td>1.4</td>\n",
       "      <td>0.483082</td>\n",
       "      <td>SCH</td>\n",
       "      <td>КРАСНОДАРСКИЙ КРАЙ</td>\n",
       "      <td>50000.0</td>\n",
       "      <td>4.0</td>\n",
       "      <td>0.0</td>\n",
       "      <td>0</td>\n",
       "    </tr>\n",
       "    <tr>\n",
       "      <th>17</th>\n",
       "      <td>18</td>\n",
       "      <td>F</td>\n",
       "      <td>54</td>\n",
       "      <td>UNM</td>\n",
       "      <td>UMN</td>\n",
       "      <td>24990.00</td>\n",
       "      <td>12</td>\n",
       "      <td>1.1</td>\n",
       "      <td>0.413558</td>\n",
       "      <td>GRD</td>\n",
       "      <td>ХАНТЫ-МАНСИЙСКИЙ АО</td>\n",
       "      <td>40000.0</td>\n",
       "      <td>6.0</td>\n",
       "      <td>0.0</td>\n",
       "      <td>1</td>\n",
       "    </tr>\n",
       "    <tr>\n",
       "      <th>18</th>\n",
       "      <td>19</td>\n",
       "      <td>M</td>\n",
       "      <td>43</td>\n",
       "      <td>UNM</td>\n",
       "      <td>SPC</td>\n",
       "      <td>54668.00</td>\n",
       "      <td>10</td>\n",
       "      <td>1.6</td>\n",
       "      <td>0.489676</td>\n",
       "      <td>SCH</td>\n",
       "      <td>ХАНТЫ-МАНСИЙСКИЙ АВТОНОМНЫЙ ОКРУГ - ЮГРА</td>\n",
       "      <td>85000.0</td>\n",
       "      <td>2.0</td>\n",
       "      <td>0.0</td>\n",
       "      <td>0</td>\n",
       "    </tr>\n",
       "    <tr>\n",
       "      <th>19</th>\n",
       "      <td>20</td>\n",
       "      <td>M</td>\n",
       "      <td>33</td>\n",
       "      <td>UNM</td>\n",
       "      <td>SPC</td>\n",
       "      <td>19539.00</td>\n",
       "      <td>10</td>\n",
       "      <td>1.6</td>\n",
       "      <td>0.531547</td>\n",
       "      <td>GRD</td>\n",
       "      <td>РЕСП КАРАЧАЕВО-ЧЕРКЕССКАЯ</td>\n",
       "      <td>30000.0</td>\n",
       "      <td>0.0</td>\n",
       "      <td>0.0</td>\n",
       "      <td>0</td>\n",
       "    </tr>\n",
       "    <tr>\n",
       "      <th>20</th>\n",
       "      <td>21</td>\n",
       "      <td>F</td>\n",
       "      <td>28</td>\n",
       "      <td>MAR</td>\n",
       "      <td>SPC</td>\n",
       "      <td>15980.00</td>\n",
       "      <td>12</td>\n",
       "      <td>1.1</td>\n",
       "      <td>0.551906</td>\n",
       "      <td>SCH</td>\n",
       "      <td>САРАТОВСКАЯ ОБЛ</td>\n",
       "      <td>23000.0</td>\n",
       "      <td>3.0</td>\n",
       "      <td>0.0</td>\n",
       "      <td>1</td>\n",
       "    </tr>\n",
       "    <tr>\n",
       "      <th>21</th>\n",
       "      <td>22</td>\n",
       "      <td>M</td>\n",
       "      <td>40</td>\n",
       "      <td>MAR</td>\n",
       "      <td>DIR</td>\n",
       "      <td>18890.00</td>\n",
       "      <td>6</td>\n",
       "      <td>1.5</td>\n",
       "      <td>0.298918</td>\n",
       "      <td>GRD</td>\n",
       "      <td>ОБЛ КАЛУЖСКАЯ</td>\n",
       "      <td>45000.0</td>\n",
       "      <td>5.0</td>\n",
       "      <td>0.0</td>\n",
       "      <td>1</td>\n",
       "    </tr>\n",
       "    <tr>\n",
       "      <th>22</th>\n",
       "      <td>23</td>\n",
       "      <td>F</td>\n",
       "      <td>41</td>\n",
       "      <td>UNM</td>\n",
       "      <td>SPC</td>\n",
       "      <td>29691.00</td>\n",
       "      <td>14</td>\n",
       "      <td>1.0</td>\n",
       "      <td>0.347446</td>\n",
       "      <td>GRD</td>\n",
       "      <td>ОБЛ ВОЛОГОДСКАЯ</td>\n",
       "      <td>50000.0</td>\n",
       "      <td>1.0</td>\n",
       "      <td>0.0</td>\n",
       "      <td>0</td>\n",
       "    </tr>\n",
       "    <tr>\n",
       "      <th>23</th>\n",
       "      <td>24</td>\n",
       "      <td>M</td>\n",
       "      <td>42</td>\n",
       "      <td>DIV</td>\n",
       "      <td>SPC</td>\n",
       "      <td>4776.60</td>\n",
       "      <td>6</td>\n",
       "      <td>1.7</td>\n",
       "      <td>0.519709</td>\n",
       "      <td>SCH</td>\n",
       "      <td>РОСТОВСКАЯ ОБЛ</td>\n",
       "      <td>27000.0</td>\n",
       "      <td>5.0</td>\n",
       "      <td>0.0</td>\n",
       "      <td>0</td>\n",
       "    </tr>\n",
       "    <tr>\n",
       "      <th>24</th>\n",
       "      <td>25</td>\n",
       "      <td>F</td>\n",
       "      <td>26</td>\n",
       "      <td>UNM</td>\n",
       "      <td>SPC</td>\n",
       "      <td>17968.00</td>\n",
       "      <td>10</td>\n",
       "      <td>1.1</td>\n",
       "      <td>0.335997</td>\n",
       "      <td>GRD</td>\n",
       "      <td>УДМУРТСКАЯ РЕСП</td>\n",
       "      <td>30000.0</td>\n",
       "      <td>4.0</td>\n",
       "      <td>0.0</td>\n",
       "      <td>0</td>\n",
       "    </tr>\n",
       "    <tr>\n",
       "      <th>25</th>\n",
       "      <td>26</td>\n",
       "      <td>F</td>\n",
       "      <td>22</td>\n",
       "      <td>UNM</td>\n",
       "      <td>SPC</td>\n",
       "      <td>30000.00</td>\n",
       "      <td>18</td>\n",
       "      <td>1.1</td>\n",
       "      <td>0.550770</td>\n",
       "      <td>UGR</td>\n",
       "      <td>РЕСП. БАШКОРТОСТАН</td>\n",
       "      <td>30000.0</td>\n",
       "      <td>NaN</td>\n",
       "      <td>NaN</td>\n",
       "      <td>1</td>\n",
       "    </tr>\n",
       "    <tr>\n",
       "      <th>26</th>\n",
       "      <td>27</td>\n",
       "      <td>M</td>\n",
       "      <td>43</td>\n",
       "      <td>MAR</td>\n",
       "      <td>SPC</td>\n",
       "      <td>23068.00</td>\n",
       "      <td>10</td>\n",
       "      <td>1.4</td>\n",
       "      <td>0.468572</td>\n",
       "      <td>SCH</td>\n",
       "      <td>ОБЛ ИРКУТСКАЯ</td>\n",
       "      <td>30000.0</td>\n",
       "      <td>2.0</td>\n",
       "      <td>0.0</td>\n",
       "      <td>0</td>\n",
       "    </tr>\n",
       "    <tr>\n",
       "      <th>27</th>\n",
       "      <td>28</td>\n",
       "      <td>F</td>\n",
       "      <td>34</td>\n",
       "      <td>UNM</td>\n",
       "      <td>SPC</td>\n",
       "      <td>11462.00</td>\n",
       "      <td>6</td>\n",
       "      <td>1.4</td>\n",
       "      <td>0.327044</td>\n",
       "      <td>SCH</td>\n",
       "      <td>ПРИВОЛЖСКИЙ ФЕДЕРАЛЬНЫЙ ОКРУГ</td>\n",
       "      <td>12000.0</td>\n",
       "      <td>1.0</td>\n",
       "      <td>0.0</td>\n",
       "      <td>1</td>\n",
       "    </tr>\n",
       "    <tr>\n",
       "      <th>28</th>\n",
       "      <td>29</td>\n",
       "      <td>F</td>\n",
       "      <td>24</td>\n",
       "      <td>UNM</td>\n",
       "      <td>ATP</td>\n",
       "      <td>13579.00</td>\n",
       "      <td>13</td>\n",
       "      <td>1.1</td>\n",
       "      <td>0.546223</td>\n",
       "      <td>SCH</td>\n",
       "      <td>ОБЛ ИРКУТСКАЯ</td>\n",
       "      <td>21000.0</td>\n",
       "      <td>0.0</td>\n",
       "      <td>0.0</td>\n",
       "      <td>0</td>\n",
       "    </tr>\n",
       "    <tr>\n",
       "      <th>29</th>\n",
       "      <td>30</td>\n",
       "      <td>M</td>\n",
       "      <td>31</td>\n",
       "      <td>MAR</td>\n",
       "      <td>SPC</td>\n",
       "      <td>51758.00</td>\n",
       "      <td>10</td>\n",
       "      <td>1.1</td>\n",
       "      <td>0.296364</td>\n",
       "      <td>GRD</td>\n",
       "      <td>КРАСНОДАРСКИЙ КРАЙ</td>\n",
       "      <td>55000.0</td>\n",
       "      <td>1.0</td>\n",
       "      <td>0.0</td>\n",
       "      <td>0</td>\n",
       "    </tr>\n",
       "    <tr>\n",
       "      <th>...</th>\n",
       "      <td>...</td>\n",
       "      <td>...</td>\n",
       "      <td>...</td>\n",
       "      <td>...</td>\n",
       "      <td>...</td>\n",
       "      <td>...</td>\n",
       "      <td>...</td>\n",
       "      <td>...</td>\n",
       "      <td>...</td>\n",
       "      <td>...</td>\n",
       "      <td>...</td>\n",
       "      <td>...</td>\n",
       "      <td>...</td>\n",
       "      <td>...</td>\n",
       "      <td>...</td>\n",
       "    </tr>\n",
       "    <tr>\n",
       "      <th>170716</th>\n",
       "      <td>170717</td>\n",
       "      <td>F</td>\n",
       "      <td>29</td>\n",
       "      <td>CIV</td>\n",
       "      <td>SPC</td>\n",
       "      <td>28791.00</td>\n",
       "      <td>10</td>\n",
       "      <td>1.16</td>\n",
       "      <td>0.323931</td>\n",
       "      <td>SCH</td>\n",
       "      <td>ОБЛ АСТРАХАНСКАЯ</td>\n",
       "      <td>25000.0</td>\n",
       "      <td>2.0</td>\n",
       "      <td>0.0</td>\n",
       "      <td>0</td>\n",
       "    </tr>\n",
       "    <tr>\n",
       "      <th>170717</th>\n",
       "      <td>170718</td>\n",
       "      <td>F</td>\n",
       "      <td>31</td>\n",
       "      <td>MAR</td>\n",
       "      <td>DIR</td>\n",
       "      <td>25258.00</td>\n",
       "      <td>10</td>\n",
       "      <td>1.1</td>\n",
       "      <td>0.501207</td>\n",
       "      <td>GRD</td>\n",
       "      <td>РЕСП БУРЯТИЯ</td>\n",
       "      <td>50000.0</td>\n",
       "      <td>2.0</td>\n",
       "      <td>0.0</td>\n",
       "      <td>1</td>\n",
       "    </tr>\n",
       "    <tr>\n",
       "      <th>170718</th>\n",
       "      <td>170719</td>\n",
       "      <td>M</td>\n",
       "      <td>45</td>\n",
       "      <td>CIV</td>\n",
       "      <td>UMN</td>\n",
       "      <td>13389.00</td>\n",
       "      <td>6</td>\n",
       "      <td>1.3</td>\n",
       "      <td>0.505080</td>\n",
       "      <td>GRD</td>\n",
       "      <td>ОБЛ МОСКОВСКАЯ</td>\n",
       "      <td>160000.0</td>\n",
       "      <td>4.0</td>\n",
       "      <td>0.0</td>\n",
       "      <td>1</td>\n",
       "    </tr>\n",
       "    <tr>\n",
       "      <th>170719</th>\n",
       "      <td>170720</td>\n",
       "      <td>M</td>\n",
       "      <td>40</td>\n",
       "      <td>MAR</td>\n",
       "      <td>DIR</td>\n",
       "      <td>33990.00</td>\n",
       "      <td>6</td>\n",
       "      <td>1.5</td>\n",
       "      <td>0.259317</td>\n",
       "      <td>GRD</td>\n",
       "      <td>ОБЛ МОСКОВСКАЯ</td>\n",
       "      <td>180000.0</td>\n",
       "      <td>5.0</td>\n",
       "      <td>0.0</td>\n",
       "      <td>0</td>\n",
       "    </tr>\n",
       "    <tr>\n",
       "      <th>170720</th>\n",
       "      <td>170721</td>\n",
       "      <td>F</td>\n",
       "      <td>55</td>\n",
       "      <td>DIV</td>\n",
       "      <td>PNA</td>\n",
       "      <td>6031.00</td>\n",
       "      <td>3</td>\n",
       "      <td>1.1</td>\n",
       "      <td>0.382062</td>\n",
       "      <td>SCH</td>\n",
       "      <td>РЕСПУБЛИКА МОРДОВИЯ</td>\n",
       "      <td>22000.0</td>\n",
       "      <td>2.0</td>\n",
       "      <td>0.0</td>\n",
       "      <td>0</td>\n",
       "    </tr>\n",
       "    <tr>\n",
       "      <th>170721</th>\n",
       "      <td>170722</td>\n",
       "      <td>F</td>\n",
       "      <td>47</td>\n",
       "      <td>MAR</td>\n",
       "      <td>SPC</td>\n",
       "      <td>19069.00</td>\n",
       "      <td>10</td>\n",
       "      <td>1.4</td>\n",
       "      <td>0.339200</td>\n",
       "      <td>GRD</td>\n",
       "      <td>ОБЛ МОСКОВСКАЯ</td>\n",
       "      <td>50000.0</td>\n",
       "      <td>2.0</td>\n",
       "      <td>0.0</td>\n",
       "      <td>0</td>\n",
       "    </tr>\n",
       "    <tr>\n",
       "      <th>170722</th>\n",
       "      <td>170723</td>\n",
       "      <td>M</td>\n",
       "      <td>23</td>\n",
       "      <td>UNM</td>\n",
       "      <td>SPC</td>\n",
       "      <td>10215.91</td>\n",
       "      <td>12</td>\n",
       "      <td>1.6</td>\n",
       "      <td>0.585510</td>\n",
       "      <td>SCH</td>\n",
       "      <td>ТАТАРСТАН РЕСП</td>\n",
       "      <td>19000.0</td>\n",
       "      <td>1.0</td>\n",
       "      <td>0.0</td>\n",
       "      <td>0</td>\n",
       "    </tr>\n",
       "    <tr>\n",
       "      <th>170723</th>\n",
       "      <td>170724</td>\n",
       "      <td>M</td>\n",
       "      <td>35</td>\n",
       "      <td>MAR</td>\n",
       "      <td>SPC</td>\n",
       "      <td>11679.00</td>\n",
       "      <td>10</td>\n",
       "      <td>1.1</td>\n",
       "      <td>0.182998</td>\n",
       "      <td>GRD</td>\n",
       "      <td>ТУЛЬСКАЯ ОБЛ</td>\n",
       "      <td>40000.0</td>\n",
       "      <td>4.0</td>\n",
       "      <td>0.0</td>\n",
       "      <td>0</td>\n",
       "    </tr>\n",
       "    <tr>\n",
       "      <th>170724</th>\n",
       "      <td>170725</td>\n",
       "      <td>M</td>\n",
       "      <td>32</td>\n",
       "      <td>MAR</td>\n",
       "      <td>ATP</td>\n",
       "      <td>19876.67</td>\n",
       "      <td>10</td>\n",
       "      <td>1.1</td>\n",
       "      <td>0.319037</td>\n",
       "      <td>SCH</td>\n",
       "      <td>КРАСНОДАРСКИЙ КРАЙ</td>\n",
       "      <td>40000.0</td>\n",
       "      <td>1.0</td>\n",
       "      <td>0.0</td>\n",
       "      <td>0</td>\n",
       "    </tr>\n",
       "    <tr>\n",
       "      <th>170725</th>\n",
       "      <td>170726</td>\n",
       "      <td>M</td>\n",
       "      <td>28</td>\n",
       "      <td>UNM</td>\n",
       "      <td>SPC</td>\n",
       "      <td>68989.00</td>\n",
       "      <td>10</td>\n",
       "      <td>1.6</td>\n",
       "      <td>0.610535</td>\n",
       "      <td>SCH</td>\n",
       "      <td>САХАЛИНСКАЯ ОБЛ</td>\n",
       "      <td>60000.0</td>\n",
       "      <td>0.0</td>\n",
       "      <td>0.0</td>\n",
       "      <td>0</td>\n",
       "    </tr>\n",
       "    <tr>\n",
       "      <th>170726</th>\n",
       "      <td>170727</td>\n",
       "      <td>F</td>\n",
       "      <td>41</td>\n",
       "      <td>UNM</td>\n",
       "      <td>SPC</td>\n",
       "      <td>22990.00</td>\n",
       "      <td>10</td>\n",
       "      <td>1.5</td>\n",
       "      <td>0.600966</td>\n",
       "      <td>SCH</td>\n",
       "      <td>РЕСП БУРЯТИЯ</td>\n",
       "      <td>20000.0</td>\n",
       "      <td>3.0</td>\n",
       "      <td>1.0</td>\n",
       "      <td>0</td>\n",
       "    </tr>\n",
       "    <tr>\n",
       "      <th>170727</th>\n",
       "      <td>170728</td>\n",
       "      <td>F</td>\n",
       "      <td>25</td>\n",
       "      <td>CIV</td>\n",
       "      <td>SPC</td>\n",
       "      <td>15490.00</td>\n",
       "      <td>6</td>\n",
       "      <td>1.4</td>\n",
       "      <td>0.351099</td>\n",
       "      <td>GRD</td>\n",
       "      <td>ОБЛ МОСКОВСКАЯ</td>\n",
       "      <td>27000.0</td>\n",
       "      <td>NaN</td>\n",
       "      <td>NaN</td>\n",
       "      <td>0</td>\n",
       "    </tr>\n",
       "    <tr>\n",
       "      <th>170728</th>\n",
       "      <td>170729</td>\n",
       "      <td>M</td>\n",
       "      <td>27</td>\n",
       "      <td>MAR</td>\n",
       "      <td>SPC</td>\n",
       "      <td>12819.00</td>\n",
       "      <td>10</td>\n",
       "      <td>1.6</td>\n",
       "      <td>0.518129</td>\n",
       "      <td>SCH</td>\n",
       "      <td>САХА /ЯКУТИЯ/ РЕСП</td>\n",
       "      <td>45000.0</td>\n",
       "      <td>4.0</td>\n",
       "      <td>0.0</td>\n",
       "      <td>1</td>\n",
       "    </tr>\n",
       "    <tr>\n",
       "      <th>170729</th>\n",
       "      <td>170730</td>\n",
       "      <td>M</td>\n",
       "      <td>25</td>\n",
       "      <td>UNM</td>\n",
       "      <td>BIS</td>\n",
       "      <td>67989.00</td>\n",
       "      <td>18</td>\n",
       "      <td>1.1</td>\n",
       "      <td>0.465778</td>\n",
       "      <td>GRD</td>\n",
       "      <td>КРАСНОЯРСКИЙ КРАЙ</td>\n",
       "      <td>50000.0</td>\n",
       "      <td>NaN</td>\n",
       "      <td>NaN</td>\n",
       "      <td>1</td>\n",
       "    </tr>\n",
       "    <tr>\n",
       "      <th>170730</th>\n",
       "      <td>170731</td>\n",
       "      <td>F</td>\n",
       "      <td>53</td>\n",
       "      <td>WID</td>\n",
       "      <td>SPC</td>\n",
       "      <td>28271.59</td>\n",
       "      <td>12</td>\n",
       "      <td>1.1</td>\n",
       "      <td>0.491833</td>\n",
       "      <td>SCH</td>\n",
       "      <td>ОБЛ ИРКУТСКАЯ</td>\n",
       "      <td>32000.0</td>\n",
       "      <td>2.0</td>\n",
       "      <td>0.0</td>\n",
       "      <td>0</td>\n",
       "    </tr>\n",
       "    <tr>\n",
       "      <th>170731</th>\n",
       "      <td>170732</td>\n",
       "      <td>M</td>\n",
       "      <td>35</td>\n",
       "      <td>MAR</td>\n",
       "      <td>SPC</td>\n",
       "      <td>29630.00</td>\n",
       "      <td>3</td>\n",
       "      <td>1.5</td>\n",
       "      <td>0.236082</td>\n",
       "      <td>GRD</td>\n",
       "      <td>РЕСП КОМИ</td>\n",
       "      <td>45000.0</td>\n",
       "      <td>5.0</td>\n",
       "      <td>1.0</td>\n",
       "      <td>0</td>\n",
       "    </tr>\n",
       "    <tr>\n",
       "      <th>170732</th>\n",
       "      <td>170733</td>\n",
       "      <td>F</td>\n",
       "      <td>48</td>\n",
       "      <td>DIV</td>\n",
       "      <td>SPC</td>\n",
       "      <td>12990.00</td>\n",
       "      <td>12</td>\n",
       "      <td>1.9</td>\n",
       "      <td>0.389405</td>\n",
       "      <td>SCH</td>\n",
       "      <td>ОБЛ ВОЛОГОДСКАЯ</td>\n",
       "      <td>25000.0</td>\n",
       "      <td>3.0</td>\n",
       "      <td>0.0</td>\n",
       "      <td>0</td>\n",
       "    </tr>\n",
       "    <tr>\n",
       "      <th>170733</th>\n",
       "      <td>170734</td>\n",
       "      <td>F</td>\n",
       "      <td>39</td>\n",
       "      <td>UNM</td>\n",
       "      <td>SPC</td>\n",
       "      <td>20529.00</td>\n",
       "      <td>12</td>\n",
       "      <td>1.6</td>\n",
       "      <td>0.581450</td>\n",
       "      <td>SCH</td>\n",
       "      <td>ОБЛ ИРКУТСКАЯ</td>\n",
       "      <td>28000.0</td>\n",
       "      <td>5.0</td>\n",
       "      <td>0.0</td>\n",
       "      <td>0</td>\n",
       "    </tr>\n",
       "    <tr>\n",
       "      <th>170734</th>\n",
       "      <td>170735</td>\n",
       "      <td>F</td>\n",
       "      <td>46</td>\n",
       "      <td>MAR</td>\n",
       "      <td>SPC</td>\n",
       "      <td>18907.00</td>\n",
       "      <td>18</td>\n",
       "      <td>1.4</td>\n",
       "      <td>0.531547</td>\n",
       "      <td>SCH</td>\n",
       "      <td>КРАСНОДАРСКИЙ КРАЙ</td>\n",
       "      <td>40000.0</td>\n",
       "      <td>5.0</td>\n",
       "      <td>1.0</td>\n",
       "      <td>0</td>\n",
       "    </tr>\n",
       "    <tr>\n",
       "      <th>170735</th>\n",
       "      <td>170736</td>\n",
       "      <td>M</td>\n",
       "      <td>55</td>\n",
       "      <td>MAR</td>\n",
       "      <td>SPC</td>\n",
       "      <td>28008.00</td>\n",
       "      <td>10</td>\n",
       "      <td>1.4</td>\n",
       "      <td>0.487874</td>\n",
       "      <td>SCH</td>\n",
       "      <td>САНКТ-ПЕТЕРБУРГ</td>\n",
       "      <td>25000.0</td>\n",
       "      <td>2.0</td>\n",
       "      <td>0.0</td>\n",
       "      <td>0</td>\n",
       "    </tr>\n",
       "    <tr>\n",
       "      <th>170736</th>\n",
       "      <td>170737</td>\n",
       "      <td>F</td>\n",
       "      <td>53</td>\n",
       "      <td>MAR</td>\n",
       "      <td>SPC</td>\n",
       "      <td>7769.00</td>\n",
       "      <td>12</td>\n",
       "      <td>1.1</td>\n",
       "      <td>0.346030</td>\n",
       "      <td>SCH</td>\n",
       "      <td>ОБЛ ИРКУТСКАЯ</td>\n",
       "      <td>10500.0</td>\n",
       "      <td>1.0</td>\n",
       "      <td>0.0</td>\n",
       "      <td>0</td>\n",
       "    </tr>\n",
       "    <tr>\n",
       "      <th>170737</th>\n",
       "      <td>170738</td>\n",
       "      <td>M</td>\n",
       "      <td>42</td>\n",
       "      <td>MAR</td>\n",
       "      <td>SPC</td>\n",
       "      <td>23827.00</td>\n",
       "      <td>10</td>\n",
       "      <td>1.1</td>\n",
       "      <td>0.451455</td>\n",
       "      <td>SCH</td>\n",
       "      <td>ОБЛ КАЛУЖСКАЯ</td>\n",
       "      <td>70000.0</td>\n",
       "      <td>0.0</td>\n",
       "      <td>0.0</td>\n",
       "      <td>0</td>\n",
       "    </tr>\n",
       "    <tr>\n",
       "      <th>170738</th>\n",
       "      <td>170739</td>\n",
       "      <td>M</td>\n",
       "      <td>26</td>\n",
       "      <td>UNM</td>\n",
       "      <td>SPC</td>\n",
       "      <td>22347.00</td>\n",
       "      <td>10</td>\n",
       "      <td>1.32</td>\n",
       "      <td>0.320288</td>\n",
       "      <td>SCH</td>\n",
       "      <td>САНКТ-ПЕТЕРБУРГ</td>\n",
       "      <td>85000.0</td>\n",
       "      <td>1.0</td>\n",
       "      <td>0.0</td>\n",
       "      <td>0</td>\n",
       "    </tr>\n",
       "    <tr>\n",
       "      <th>170739</th>\n",
       "      <td>170740</td>\n",
       "      <td>F</td>\n",
       "      <td>32</td>\n",
       "      <td>MAR</td>\n",
       "      <td>SPC</td>\n",
       "      <td>15282.00</td>\n",
       "      <td>10</td>\n",
       "      <td>1.16</td>\n",
       "      <td>0.514811</td>\n",
       "      <td>GRD</td>\n",
       "      <td>САМАРСКАЯ ОБЛАСТЬ</td>\n",
       "      <td>25000.0</td>\n",
       "      <td>2.0</td>\n",
       "      <td>0.0</td>\n",
       "      <td>0</td>\n",
       "    </tr>\n",
       "    <tr>\n",
       "      <th>170740</th>\n",
       "      <td>170741</td>\n",
       "      <td>F</td>\n",
       "      <td>24</td>\n",
       "      <td>UNM</td>\n",
       "      <td>SPC</td>\n",
       "      <td>19818.00</td>\n",
       "      <td>12</td>\n",
       "      <td>1.6</td>\n",
       "      <td>0.624391</td>\n",
       "      <td>SCH</td>\n",
       "      <td>КРАСНОДАРСКИЙ КРАЙ</td>\n",
       "      <td>22000.0</td>\n",
       "      <td>1.0</td>\n",
       "      <td>0.0</td>\n",
       "      <td>0</td>\n",
       "    </tr>\n",
       "    <tr>\n",
       "      <th>170741</th>\n",
       "      <td>170742</td>\n",
       "      <td>F</td>\n",
       "      <td>27</td>\n",
       "      <td>UNM</td>\n",
       "      <td>SPC</td>\n",
       "      <td>64867.00</td>\n",
       "      <td>12</td>\n",
       "      <td>1.1</td>\n",
       "      <td>0.535257</td>\n",
       "      <td>GRD</td>\n",
       "      <td>РЕСПУБЛИКА ТАТАРСТАН</td>\n",
       "      <td>40000.0</td>\n",
       "      <td>6.0</td>\n",
       "      <td>0.0</td>\n",
       "      <td>0</td>\n",
       "    </tr>\n",
       "    <tr>\n",
       "      <th>170742</th>\n",
       "      <td>170743</td>\n",
       "      <td>F</td>\n",
       "      <td>24</td>\n",
       "      <td>MAR</td>\n",
       "      <td>SPC</td>\n",
       "      <td>17640.00</td>\n",
       "      <td>6</td>\n",
       "      <td>1.6</td>\n",
       "      <td>0.573287</td>\n",
       "      <td>SCH</td>\n",
       "      <td>САНКТ-ПЕТЕРБУРГ Г</td>\n",
       "      <td>30000.0</td>\n",
       "      <td>1.0</td>\n",
       "      <td>0.0</td>\n",
       "      <td>0</td>\n",
       "    </tr>\n",
       "    <tr>\n",
       "      <th>170743</th>\n",
       "      <td>170744</td>\n",
       "      <td>F</td>\n",
       "      <td>31</td>\n",
       "      <td>UNM</td>\n",
       "      <td>SPC</td>\n",
       "      <td>27556.47</td>\n",
       "      <td>10</td>\n",
       "      <td>1.32</td>\n",
       "      <td>0.416098</td>\n",
       "      <td>GRD</td>\n",
       "      <td>ПРИМОРСКИЙ КРАЙ</td>\n",
       "      <td>40000.0</td>\n",
       "      <td>1.0</td>\n",
       "      <td>0.0</td>\n",
       "      <td>0</td>\n",
       "    </tr>\n",
       "    <tr>\n",
       "      <th>170744</th>\n",
       "      <td>170745</td>\n",
       "      <td>F</td>\n",
       "      <td>53</td>\n",
       "      <td>DIV</td>\n",
       "      <td>PNA</td>\n",
       "      <td>6189.00</td>\n",
       "      <td>12</td>\n",
       "      <td>1.1</td>\n",
       "      <td>0.482595</td>\n",
       "      <td>SCH</td>\n",
       "      <td>ПЕНЗЕНСКАЯ ОБЛ</td>\n",
       "      <td>31000.0</td>\n",
       "      <td>2.0</td>\n",
       "      <td>0.0</td>\n",
       "      <td>0</td>\n",
       "    </tr>\n",
       "    <tr>\n",
       "      <th>170745</th>\n",
       "      <td>170746</td>\n",
       "      <td>M</td>\n",
       "      <td>49</td>\n",
       "      <td>MAR</td>\n",
       "      <td>SPC</td>\n",
       "      <td>12787.00</td>\n",
       "      <td>10</td>\n",
       "      <td>1.1</td>\n",
       "      <td>0.316087</td>\n",
       "      <td>GRD</td>\n",
       "      <td>ОБЛ МОСКОВСКАЯ</td>\n",
       "      <td>40000.0</td>\n",
       "      <td>3.0</td>\n",
       "      <td>0.0</td>\n",
       "      <td>0</td>\n",
       "    </tr>\n",
       "  </tbody>\n",
       "</table>\n",
       "<p>170746 rows × 15 columns</p>\n",
       "</div>"
      ],
      "text/plain": [
       "        client_id gender  age marital_status job_position  credit_sum  \\\n",
       "0               1      M   48            MAR          UMN    59998.00   \n",
       "1               2      F   28            MAR          UMN    10889.00   \n",
       "2               3      M   32            MAR          SPC    10728.00   \n",
       "3               4      F   27            DIV          SPC    12009.09   \n",
       "4               5      M   45            MAR          SPC    16908.89   \n",
       "5               6      F   37            MAR          SPC    26788.00   \n",
       "6               7      M   34            MAR          SPC    10317.00   \n",
       "7               8      F   26            UNM          SPC    47878.00   \n",
       "8               9      M   23            UNM          SPC    37577.16   \n",
       "9              10      F   32            UNM          SPC    26268.00   \n",
       "10             11      M   26            MAR          SPC    16793.00   \n",
       "11             12      F   26            UNM          SPC    18936.00   \n",
       "12             13      M   37            MAR          SPC    42289.00   \n",
       "13             14      M   43            MAR          INP    57567.00   \n",
       "14             15      F   32            MAR          SPC    12711.00   \n",
       "15             16      M   34            MAR          SPC    13209.00   \n",
       "16             17      M   36            DIV          SPC    22612.00   \n",
       "17             18      F   54            UNM          UMN    24990.00   \n",
       "18             19      M   43            UNM          SPC    54668.00   \n",
       "19             20      M   33            UNM          SPC    19539.00   \n",
       "20             21      F   28            MAR          SPC    15980.00   \n",
       "21             22      M   40            MAR          DIR    18890.00   \n",
       "22             23      F   41            UNM          SPC    29691.00   \n",
       "23             24      M   42            DIV          SPC     4776.60   \n",
       "24             25      F   26            UNM          SPC    17968.00   \n",
       "25             26      F   22            UNM          SPC    30000.00   \n",
       "26             27      M   43            MAR          SPC    23068.00   \n",
       "27             28      F   34            UNM          SPC    11462.00   \n",
       "28             29      F   24            UNM          ATP    13579.00   \n",
       "29             30      M   31            MAR          SPC    51758.00   \n",
       "...           ...    ...  ...            ...          ...         ...   \n",
       "170716     170717      F   29            CIV          SPC    28791.00   \n",
       "170717     170718      F   31            MAR          DIR    25258.00   \n",
       "170718     170719      M   45            CIV          UMN    13389.00   \n",
       "170719     170720      M   40            MAR          DIR    33990.00   \n",
       "170720     170721      F   55            DIV          PNA     6031.00   \n",
       "170721     170722      F   47            MAR          SPC    19069.00   \n",
       "170722     170723      M   23            UNM          SPC    10215.91   \n",
       "170723     170724      M   35            MAR          SPC    11679.00   \n",
       "170724     170725      M   32            MAR          ATP    19876.67   \n",
       "170725     170726      M   28            UNM          SPC    68989.00   \n",
       "170726     170727      F   41            UNM          SPC    22990.00   \n",
       "170727     170728      F   25            CIV          SPC    15490.00   \n",
       "170728     170729      M   27            MAR          SPC    12819.00   \n",
       "170729     170730      M   25            UNM          BIS    67989.00   \n",
       "170730     170731      F   53            WID          SPC    28271.59   \n",
       "170731     170732      M   35            MAR          SPC    29630.00   \n",
       "170732     170733      F   48            DIV          SPC    12990.00   \n",
       "170733     170734      F   39            UNM          SPC    20529.00   \n",
       "170734     170735      F   46            MAR          SPC    18907.00   \n",
       "170735     170736      M   55            MAR          SPC    28008.00   \n",
       "170736     170737      F   53            MAR          SPC     7769.00   \n",
       "170737     170738      M   42            MAR          SPC    23827.00   \n",
       "170738     170739      M   26            UNM          SPC    22347.00   \n",
       "170739     170740      F   32            MAR          SPC    15282.00   \n",
       "170740     170741      F   24            UNM          SPC    19818.00   \n",
       "170741     170742      F   27            UNM          SPC    64867.00   \n",
       "170742     170743      F   24            MAR          SPC    17640.00   \n",
       "170743     170744      F   31            UNM          SPC    27556.47   \n",
       "170744     170745      F   53            DIV          PNA     6189.00   \n",
       "170745     170746      M   49            MAR          SPC    12787.00   \n",
       "\n",
       "        credit_month tariff_id  score_shk education  \\\n",
       "0                 10       1.6   0.770249       GRD   \n",
       "1                  6       1.1   0.248514       GRD   \n",
       "2                 12       1.1   0.459589       SCH   \n",
       "3                 12       1.1   0.362536       GRD   \n",
       "4                 10       1.1   0.421385       SCH   \n",
       "5                 10       1.1   0.484203       SCH   \n",
       "6                  6       1.5   0.276012       SCH   \n",
       "7                 10       1.1   0.512525       GRD   \n",
       "8                 12       1.6   0.642267       SCH   \n",
       "9                 10       1.1   0.465026       GRD   \n",
       "10                14       1.0   0.445430       SCH   \n",
       "11                10      1.32   0.455774       GRD   \n",
       "12                10       1.6   0.691609       SCH   \n",
       "13                10       1.1   0.341164       GRD   \n",
       "14                12       1.5   0.411186       SCH   \n",
       "15                10       1.1   0.498255       SCH   \n",
       "16                10       1.4   0.483082       SCH   \n",
       "17                12       1.1   0.413558       GRD   \n",
       "18                10       1.6   0.489676       SCH   \n",
       "19                10       1.6   0.531547       GRD   \n",
       "20                12       1.1   0.551906       SCH   \n",
       "21                 6       1.5   0.298918       GRD   \n",
       "22                14       1.0   0.347446       GRD   \n",
       "23                 6       1.7   0.519709       SCH   \n",
       "24                10       1.1   0.335997       GRD   \n",
       "25                18       1.1   0.550770       UGR   \n",
       "26                10       1.4   0.468572       SCH   \n",
       "27                 6       1.4   0.327044       SCH   \n",
       "28                13       1.1   0.546223       SCH   \n",
       "29                10       1.1   0.296364       GRD   \n",
       "...              ...       ...        ...       ...   \n",
       "170716            10      1.16   0.323931       SCH   \n",
       "170717            10       1.1   0.501207       GRD   \n",
       "170718             6       1.3   0.505080       GRD   \n",
       "170719             6       1.5   0.259317       GRD   \n",
       "170720             3       1.1   0.382062       SCH   \n",
       "170721            10       1.4   0.339200       GRD   \n",
       "170722            12       1.6   0.585510       SCH   \n",
       "170723            10       1.1   0.182998       GRD   \n",
       "170724            10       1.1   0.319037       SCH   \n",
       "170725            10       1.6   0.610535       SCH   \n",
       "170726            10       1.5   0.600966       SCH   \n",
       "170727             6       1.4   0.351099       GRD   \n",
       "170728            10       1.6   0.518129       SCH   \n",
       "170729            18       1.1   0.465778       GRD   \n",
       "170730            12       1.1   0.491833       SCH   \n",
       "170731             3       1.5   0.236082       GRD   \n",
       "170732            12       1.9   0.389405       SCH   \n",
       "170733            12       1.6   0.581450       SCH   \n",
       "170734            18       1.4   0.531547       SCH   \n",
       "170735            10       1.4   0.487874       SCH   \n",
       "170736            12       1.1   0.346030       SCH   \n",
       "170737            10       1.1   0.451455       SCH   \n",
       "170738            10      1.32   0.320288       SCH   \n",
       "170739            10      1.16   0.514811       GRD   \n",
       "170740            12       1.6   0.624391       SCH   \n",
       "170741            12       1.1   0.535257       GRD   \n",
       "170742             6       1.6   0.573287       SCH   \n",
       "170743            10      1.32   0.416098       GRD   \n",
       "170744            12       1.1   0.482595       SCH   \n",
       "170745            10       1.1   0.316087       GRD   \n",
       "\n",
       "                                   living_region  monthly_income  \\\n",
       "0                             КРАСНОДАРСКИЙ КРАЙ         30000.0   \n",
       "1                                         МОСКВА         43000.0   \n",
       "2                                ОБЛ САРАТОВСКАЯ         23000.0   \n",
       "3                              ОБЛ ВОЛГОГРАДСКАЯ         17000.0   \n",
       "4                            ЧЕЛЯБИНСКАЯ ОБЛАСТЬ         25000.0   \n",
       "5                            СТАВРОПОЛЬСКИЙ КРАЙ         30000.0   \n",
       "6                              ОБЛ НИЖЕГОРОДСКАЯ         28000.0   \n",
       "7                                 МОСКОВСКАЯ ОБЛ         60000.0   \n",
       "8       ХАНТЫ-МАНСИЙСКИЙ АВТОНОМНЫЙ ОКРУГ - ЮГРА         50000.0   \n",
       "9                            КРАЙ СТАВРОПОЛЬСКИЙ         39500.0   \n",
       "10                               САНКТ-ПЕТЕРБУРГ         36000.0   \n",
       "11                            РЕСП. БАШКОРТОСТАН         30000.0   \n",
       "12                             ОБЛ АРХАНГЕЛЬСКАЯ         70000.0   \n",
       "13                           ХАНТЫ-МАНСИЙСКИЙ АО         60000.0   \n",
       "14                             РЕСП БАШКОРТОСТАН         30000.0   \n",
       "15                                 ПЕРМСКИЙ КРАЙ         34000.0   \n",
       "16                            КРАСНОДАРСКИЙ КРАЙ         50000.0   \n",
       "17                           ХАНТЫ-МАНСИЙСКИЙ АО         40000.0   \n",
       "18      ХАНТЫ-МАНСИЙСКИЙ АВТОНОМНЫЙ ОКРУГ - ЮГРА         85000.0   \n",
       "19                     РЕСП КАРАЧАЕВО-ЧЕРКЕССКАЯ         30000.0   \n",
       "20                               САРАТОВСКАЯ ОБЛ         23000.0   \n",
       "21                                 ОБЛ КАЛУЖСКАЯ         45000.0   \n",
       "22                               ОБЛ ВОЛОГОДСКАЯ         50000.0   \n",
       "23                                РОСТОВСКАЯ ОБЛ         27000.0   \n",
       "24                               УДМУРТСКАЯ РЕСП         30000.0   \n",
       "25                            РЕСП. БАШКОРТОСТАН         30000.0   \n",
       "26                                 ОБЛ ИРКУТСКАЯ         30000.0   \n",
       "27                 ПРИВОЛЖСКИЙ ФЕДЕРАЛЬНЫЙ ОКРУГ         12000.0   \n",
       "28                                 ОБЛ ИРКУТСКАЯ         21000.0   \n",
       "29                            КРАСНОДАРСКИЙ КРАЙ         55000.0   \n",
       "...                                          ...             ...   \n",
       "170716                          ОБЛ АСТРАХАНСКАЯ         25000.0   \n",
       "170717                              РЕСП БУРЯТИЯ         50000.0   \n",
       "170718                            ОБЛ МОСКОВСКАЯ        160000.0   \n",
       "170719                            ОБЛ МОСКОВСКАЯ        180000.0   \n",
       "170720                       РЕСПУБЛИКА МОРДОВИЯ         22000.0   \n",
       "170721                            ОБЛ МОСКОВСКАЯ         50000.0   \n",
       "170722                            ТАТАРСТАН РЕСП         19000.0   \n",
       "170723                              ТУЛЬСКАЯ ОБЛ         40000.0   \n",
       "170724                        КРАСНОДАРСКИЙ КРАЙ         40000.0   \n",
       "170725                           САХАЛИНСКАЯ ОБЛ         60000.0   \n",
       "170726                              РЕСП БУРЯТИЯ         20000.0   \n",
       "170727                            ОБЛ МОСКОВСКАЯ         27000.0   \n",
       "170728                        САХА /ЯКУТИЯ/ РЕСП         45000.0   \n",
       "170729                         КРАСНОЯРСКИЙ КРАЙ         50000.0   \n",
       "170730                             ОБЛ ИРКУТСКАЯ         32000.0   \n",
       "170731                                 РЕСП КОМИ         45000.0   \n",
       "170732                           ОБЛ ВОЛОГОДСКАЯ         25000.0   \n",
       "170733                             ОБЛ ИРКУТСКАЯ         28000.0   \n",
       "170734                        КРАСНОДАРСКИЙ КРАЙ         40000.0   \n",
       "170735                           САНКТ-ПЕТЕРБУРГ         25000.0   \n",
       "170736                             ОБЛ ИРКУТСКАЯ         10500.0   \n",
       "170737                             ОБЛ КАЛУЖСКАЯ         70000.0   \n",
       "170738                           САНКТ-ПЕТЕРБУРГ         85000.0   \n",
       "170739                         САМАРСКАЯ ОБЛАСТЬ         25000.0   \n",
       "170740                        КРАСНОДАРСКИЙ КРАЙ         22000.0   \n",
       "170741                      РЕСПУБЛИКА ТАТАРСТАН         40000.0   \n",
       "170742                         САНКТ-ПЕТЕРБУРГ Г         30000.0   \n",
       "170743                           ПРИМОРСКИЙ КРАЙ         40000.0   \n",
       "170744                            ПЕНЗЕНСКАЯ ОБЛ         31000.0   \n",
       "170745                            ОБЛ МОСКОВСКАЯ         40000.0   \n",
       "\n",
       "        credit_count  overdue_credit_count  open_account_flg  \n",
       "0                1.0                   1.0                 0  \n",
       "1                2.0                   0.0                 0  \n",
       "2                5.0                   0.0                 0  \n",
       "3                2.0                   0.0                 0  \n",
       "4                1.0                   0.0                 0  \n",
       "5                0.0                   0.0                 0  \n",
       "6                3.0                   0.0                 0  \n",
       "7                3.0                   0.0                 0  \n",
       "8                3.0                   0.0                 0  \n",
       "9                7.0                   0.0                 0  \n",
       "10               2.0                   0.0                 0  \n",
       "11               0.0                   0.0                 0  \n",
       "12               1.0                   0.0                 0  \n",
       "13               7.0                   0.0                 0  \n",
       "14               3.0                   0.0                 0  \n",
       "15               2.0                   0.0                 0  \n",
       "16               4.0                   0.0                 0  \n",
       "17               6.0                   0.0                 1  \n",
       "18               2.0                   0.0                 0  \n",
       "19               0.0                   0.0                 0  \n",
       "20               3.0                   0.0                 1  \n",
       "21               5.0                   0.0                 1  \n",
       "22               1.0                   0.0                 0  \n",
       "23               5.0                   0.0                 0  \n",
       "24               4.0                   0.0                 0  \n",
       "25               NaN                   NaN                 1  \n",
       "26               2.0                   0.0                 0  \n",
       "27               1.0                   0.0                 1  \n",
       "28               0.0                   0.0                 0  \n",
       "29               1.0                   0.0                 0  \n",
       "...              ...                   ...               ...  \n",
       "170716           2.0                   0.0                 0  \n",
       "170717           2.0                   0.0                 1  \n",
       "170718           4.0                   0.0                 1  \n",
       "170719           5.0                   0.0                 0  \n",
       "170720           2.0                   0.0                 0  \n",
       "170721           2.0                   0.0                 0  \n",
       "170722           1.0                   0.0                 0  \n",
       "170723           4.0                   0.0                 0  \n",
       "170724           1.0                   0.0                 0  \n",
       "170725           0.0                   0.0                 0  \n",
       "170726           3.0                   1.0                 0  \n",
       "170727           NaN                   NaN                 0  \n",
       "170728           4.0                   0.0                 1  \n",
       "170729           NaN                   NaN                 1  \n",
       "170730           2.0                   0.0                 0  \n",
       "170731           5.0                   1.0                 0  \n",
       "170732           3.0                   0.0                 0  \n",
       "170733           5.0                   0.0                 0  \n",
       "170734           5.0                   1.0                 0  \n",
       "170735           2.0                   0.0                 0  \n",
       "170736           1.0                   0.0                 0  \n",
       "170737           0.0                   0.0                 0  \n",
       "170738           1.0                   0.0                 0  \n",
       "170739           2.0                   0.0                 0  \n",
       "170740           1.0                   0.0                 0  \n",
       "170741           6.0                   0.0                 0  \n",
       "170742           1.0                   0.0                 0  \n",
       "170743           1.0                   0.0                 0  \n",
       "170744           2.0                   0.0                 0  \n",
       "170745           3.0                   0.0                 0  \n",
       "\n",
       "[170746 rows x 15 columns]"
      ]
     },
     "execution_count": 6,
     "metadata": {},
     "output_type": "execute_result"
    }
   ],
   "source": [
    "df"
   ]
  },
  {
   "cell_type": "markdown",
   "metadata": {},
   "source": [
    "## Таргет:"
   ]
  },
  {
   "cell_type": "code",
   "execution_count": 7,
   "metadata": {
    "ExecuteTime": {
     "end_time": "2017-08-01T16:56:46.028050Z",
     "start_time": "2017-08-01T19:56:46.010510+03:00"
    }
   },
   "outputs": [
    {
     "data": {
      "text/plain": [
       "0    0.823972\n",
       "1    0.176028\n",
       "Name: open_account_flg, dtype: float64"
      ]
     },
     "execution_count": 7,
     "metadata": {},
     "output_type": "execute_result"
    }
   ],
   "source": [
    "df.open_account_flg.value_counts(normalize=True)\n",
    "# 1 - клиент взял кредит Тинькофф\n",
    "# 0 - клиент отказался"
   ]
  },
  {
   "cell_type": "markdown",
   "metadata": {},
   "source": [
    "## Колонки с данными:"
   ]
  },
  {
   "cell_type": "markdown",
   "metadata": {},
   "source": [
    "### Пол"
   ]
  },
  {
   "cell_type": "code",
   "execution_count": 8,
   "metadata": {
    "ExecuteTime": {
     "end_time": "2017-08-01T16:56:48.363936Z",
     "start_time": "2017-08-01T19:56:47.987407+03:00"
    }
   },
   "outputs": [
    {
     "data": {
      "image/png": "[encoded data removed]",
      "text/plain": [
       "<matplotlib.figure.Figure at 0x112109ad0>"
      ]
     },
     "metadata": {},
     "output_type": "display_data"
    }
   ],
   "source": [
    "_ = sns.countplot(df.gender, palette='Set1')"
   ]
  },
  {
   "cell_type": "markdown",
   "metadata": {},
   "source": [
    "### Возраст"
   ]
  },
  {
   "cell_type": "code",
   "execution_count": 9,
   "metadata": {
    "ExecuteTime": {
     "end_time": "2017-08-01T16:56:53.185975Z",
     "start_time": "2017-08-01T19:56:52.890645+03:00"
    }
   },
   "outputs": [
    {
     "data": {
      "image/png": "[encoded data removed]",
      "text/plain": [
       "<matplotlib.figure.Figure at 0x11223bed0>"
      ]
     },
     "metadata": {},
     "output_type": "display_data"
    }
   ],
   "source": [
    "_ = df.age.hist(label='age')\n",
    "_ = legend()"
   ]
  },
  {
   "cell_type": "markdown",
   "metadata": {},
   "source": [
    "### Семейное положение"
   ]
  },
  {
   "cell_type": "code",
   "execution_count": 10,
   "metadata": {
    "ExecuteTime": {
     "end_time": "2017-08-01T16:56:53.594546Z",
     "start_time": "2017-08-01T19:56:53.189157+03:00"
    }
   },
   "outputs": [
    {
     "data": {
      "image/png": "[encoded data removed]",
      "text/plain": [
       "<matplotlib.figure.Figure at 0x112109190>"
      ]
     },
     "metadata": {},
     "output_type": "display_data"
    }
   ],
   "source": [
    "_ = sns.countplot(df.marital_status, palette='Set3')"
   ]
  },
  {
   "cell_type": "markdown",
   "metadata": {},
   "source": [
    "### Работа\n",
    "- SPC\tНеруководящий сотрудник - специалист\n",
    "- DIR\tРуководитель организации\n",
    "- HSK\tДомохозяйка\n",
    "- INV\tНе работает (инвалидность)\n",
    "- WOI\tРаботает на ИП\n",
    "- WRK\tНеруководящий сотрудник - рабочий\n",
    "- ATP\tНеруководящий сотрудник - обслуживающий персонал\n",
    "- WRP\tРаботающий пенсионер\n",
    "- UMN\tРуководитель подразделения\n",
    "- NOR\tНе работает\n",
    "- PNS\tПенсионер\n",
    "- BIS\tСобственный бизнес\n",
    "- INP\tИндивидуальный предприниматель"
   ]
  },
  {
   "cell_type": "code",
   "execution_count": 11,
   "metadata": {
    "ExecuteTime": {
     "end_time": "2017-08-01T16:56:54.228484Z",
     "start_time": "2017-08-01T19:56:53.597355+03:00"
    }
   },
   "outputs": [
    {
     "data": {
      "image/png": "[encoded data removed]",
      "text/plain": [
       "<matplotlib.figure.Figure at 0x1122ef950>"
      ]
     },
     "metadata": {},
     "output_type": "display_data"
    }
   ],
   "source": [
    "figure(figsize=(10, 5))\n",
    "_ = sns.countplot(df.job_position, palette='Set1')"
   ]
  },
  {
   "cell_type": "code",
   "execution_count": 12,
   "metadata": {
    "ExecuteTime": {
     "end_time": "2017-08-01T16:56:54.295308Z",
     "start_time": "2017-08-01T19:56:54.234126+03:00"
    }
   },
   "outputs": [
    {
     "data": {
      "text/plain": [
       "SPC    134680\n",
       "UMN     17674\n",
       "BIS      5591\n",
       "PNA      4107\n",
       "DIR      3750\n",
       "ATP      2791\n",
       "WRK       656\n",
       "NOR       537\n",
       "WOI       352\n",
       "INP       241\n",
       "BIU       126\n",
       "WRP       110\n",
       "PNI        65\n",
       "PNV        40\n",
       "PNS        12\n",
       "HSK         8\n",
       "INV         5\n",
       "ONB         1\n",
       "Name: job_position, dtype: int64"
      ]
     },
     "execution_count": 12,
     "metadata": {},
     "output_type": "execute_result"
    }
   ],
   "source": [
    "df.job_position.value_counts(dropna=False)"
   ]
  },
  {
   "cell_type": "markdown",
   "metadata": {},
   "source": [
    "### Размер кредита"
   ]
  },
  {
   "cell_type": "code",
   "execution_count": 13,
   "metadata": {
    "ExecuteTime": {
     "end_time": "2017-08-01T16:56:55.402141Z",
     "start_time": "2017-08-01T19:56:54.297984+03:00"
    }
   },
   "outputs": [
    {
     "data": {
      "image/png": "[encoded data removed]",
      "text/plain": [
       "<matplotlib.figure.Figure at 0x11243c450>"
      ]
     },
     "metadata": {},
     "output_type": "display_data"
    }
   ],
   "source": [
    "hist(df.credit_sum, log=True)\n",
    "xlabel('credit_sum')\n",
    "_ = ylabel('count')"
   ]
  },
  {
   "cell_type": "markdown",
   "metadata": {},
   "source": [
    "### Когда будем возвращать?"
   ]
  },
  {
   "cell_type": "code",
   "execution_count": 14,
   "metadata": {
    "ExecuteTime": {
     "end_time": "2017-08-01T16:56:55.788019Z",
     "start_time": "2017-08-01T19:56:55.404711+03:00"
    }
   },
   "outputs": [
    {
     "data": {
      "image/png": "[encoded data removed]",
      "text/plain": [
       "<matplotlib.figure.Figure at 0x10c99df50>"
      ]
     },
     "metadata": {},
     "output_type": "display_data"
    }
   ],
   "source": [
    "hist(df.credit_month, bins=40)\n",
    "_ = xlabel('duration in months')"
   ]
  },
  {
   "cell_type": "markdown",
   "metadata": {},
   "source": [
    "### Есть разные тарифы...."
   ]
  },
  {
   "cell_type": "code",
   "execution_count": 15,
   "metadata": {
    "ExecuteTime": {
     "end_time": "2017-08-01T16:56:56.457164Z",
     "start_time": "2017-08-01T19:56:55.790541+03:00"
    }
   },
   "outputs": [
    {
     "data": {
      "image/png": "[encoded data removed]",
      "text/plain": [
       "<matplotlib.figure.Figure at 0x113068dd0>"
      ]
     },
     "metadata": {},
     "output_type": "display_data"
    }
   ],
   "source": [
    "figure(figsize=(10, 5))\n",
    "_ = sns.countplot(df.tariff_id, palette='Set3')"
   ]
  },
  {
   "cell_type": "code",
   "execution_count": 16,
   "metadata": {
    "ExecuteTime": {
     "end_time": "2017-08-01T16:56:57.317079Z",
     "start_time": "2017-08-01T19:56:56.460402+03:00"
    }
   },
   "outputs": [
    {
     "data": {
      "image/png": "[encoded data removed]",
      "text/plain": [
       "<matplotlib.figure.Figure at 0x11354b610>"
      ]
     },
     "metadata": {},
     "output_type": "display_data"
    }
   ],
   "source": [
    "plot(df.tariff_id.value_counts().values)\n",
    "yscale('log')\n",
    "_ = xlabel('tariff id sorted by popularity')\n",
    "_ = ylabel('people count')"
   ]
  },
  {
   "cell_type": "code",
   "execution_count": 17,
   "metadata": {
    "ExecuteTime": {
     "end_time": "2017-08-01T16:56:57.324682Z",
     "start_time": "2017-08-01T19:56:57.320338+03:00"
    },
    "collapsed": true
   },
   "outputs": [],
   "source": [
    "# ^^^^^^видим, что популярность различных тарифов задается логарифмическим законом"
   ]
  },
  {
   "cell_type": "markdown",
   "metadata": {},
   "source": [
    "### Какая-то непонятная величина с нормальным распределением"
   ]
  },
  {
   "cell_type": "code",
   "execution_count": 18,
   "metadata": {
    "ExecuteTime": {
     "end_time": "2017-08-01T16:56:57.669534Z",
     "start_time": "2017-08-01T19:56:57.327283+03:00"
    }
   },
   "outputs": [
    {
     "data": {
      "image/png": "[encoded data removed]",
      "text/plain": [
       "<matplotlib.figure.Figure at 0x1122b56d0>"
      ]
     },
     "metadata": {},
     "output_type": "display_data"
    }
   ],
   "source": [
    "_ = hist(df.score_shk)"
   ]
  },
  {
   "cell_type": "markdown",
   "metadata": {},
   "source": [
    "### Образование"
   ]
  },
  {
   "cell_type": "markdown",
   "metadata": {},
   "source": [
    "- SCH\tНачальное, среднее\n",
    "- PGR\tВторое высшее\n",
    "- GRD\tВысшее\n",
    "- UGR\tНеполное высшее\n",
    "- ACD\tУченая степень"
   ]
  },
  {
   "cell_type": "code",
   "execution_count": 19,
   "metadata": {
    "ExecuteTime": {
     "end_time": "2017-08-01T16:56:58.096033Z",
     "start_time": "2017-08-01T19:56:57.671930+03:00"
    }
   },
   "outputs": [
    {
     "data": {
      "image/png": "[encoded data removed]",
      "text/plain": [
       "<matplotlib.figure.Figure at 0x1135df9d0>"
      ]
     },
     "metadata": {},
     "output_type": "display_data"
    }
   ],
   "source": [
    "_ = sns.countplot(df.education, palette='Set3')"
   ]
  },
  {
   "cell_type": "markdown",
   "metadata": {},
   "source": [
    "### Место жительства"
   ]
  },
  {
   "cell_type": "code",
   "execution_count": 20,
   "metadata": {
    "ExecuteTime": {
     "end_time": "2017-08-01T16:56:58.191715Z",
     "start_time": "2017-08-01T19:56:58.101376+03:00"
    }
   },
   "outputs": [
    {
     "data": {
      "text/plain": [
       "ОБЛ МОСКОВСКАЯ                              0.071615\n",
       "КРАСНОДАРСКИЙ КРАЙ                          0.043673\n",
       "САНКТ-ПЕТЕРБУРГ                             0.032985\n",
       "МОСКВА                                      0.032381\n",
       "ТАТАРСТАН РЕСП                              0.030378\n",
       "РЕСП БАШКОРТОСТАН                           0.028305\n",
       "ОБЛ ИРКУТСКАЯ                               0.023895\n",
       "СВЕРДЛОВСКАЯ ОБЛ                            0.023462\n",
       "МОСКВА Г                                    0.021359\n",
       "ОБЛ НИЖЕГОРОДСКАЯ                           0.020820\n",
       "ОБЛ ЛЕНИНГРАДСКАЯ                           0.018911\n",
       "РОСТОВСКАЯ ОБЛ                              0.017722\n",
       "КРАСНОЯРСКИЙ КРАЙ                           0.017154\n",
       "ЧЕЛЯБИНСКАЯ ОБЛ                             0.017008\n",
       "ОБЛ САМАРСКАЯ                               0.016645\n",
       "ОБЛ КЕМЕРОВСКАЯ                             0.016563\n",
       "ПЕРМСКИЙ КРАЙ                               0.015907\n",
       "САНКТ-ПЕТЕРБУРГ Г                           0.015421\n",
       "КРАЙ СТАВРОПОЛЬСКИЙ                         0.015368\n",
       "ОБЛ АСТРАХАНСКАЯ                            0.014759\n",
       "ОБЛ ВОЛОГОДСКАЯ                             0.014741\n",
       "ХАНТЫ-МАНСИЙСКИЙ АВТОНОМНЫЙ ОКРУГ - ЮГРА    0.013640\n",
       "ОБЛ ВОЛГОГРАДСКАЯ                           0.013429\n",
       "РЕСПУБЛИКА ТАТАРСТАН                        0.012697\n",
       "ОБЛ НОВОСИБИРСКАЯ                           0.012404\n",
       "СВЕРДЛОВСКАЯ ОБЛАСТЬ                        0.011661\n",
       "СТАВРОПОЛЬСКИЙ КРАЙ                         0.011643\n",
       "ЯМАЛО-НЕНЕЦКИЙ АО                           0.010618\n",
       "ОБЛ ВОРОНЕЖСКАЯ                             0.009945\n",
       "ОБЛ АРХАНГЕЛЬСКАЯ                           0.009927\n",
       "                                              ...   \n",
       "ОБЛ. КУРГАНСКАЯ                             0.000006\n",
       "НОВОСИБИРСКАЯ                               0.000006\n",
       "СВЕРДЛОВСКАЯ                                0.000006\n",
       "КАЛМЫКИЯ                                    0.000006\n",
       "ДАЛЬНИЙ ВОСТОК                              0.000006\n",
       "ИНГУШЕТИЯ РЕСП                              0.000006\n",
       "ОМСКАЯ                                      0.000006\n",
       "ОБЛ. ВЛАДИМИРСКАЯ                           0.000006\n",
       "РЕСП.БАШКОРТОСТАН                           0.000006\n",
       "САХА /ЯКУТИЯ/                               0.000006\n",
       "ОБЛ.САРАТОВСКАЯ                             0.000006\n",
       "КАРАЧАЕВО-ЧЕРКЕССКАЯ                        0.000006\n",
       "КАЛИНИНГРАДСКАЯ ОБЛ.                        0.000006\n",
       "ОБЛ.РОСТОВСКАЯ                              0.000006\n",
       "ОБЛ. ЧЕЛЯБИНСКАЯ                            0.000006\n",
       "МЫТИЩИНСКИЙ Р-Н                             0.000006\n",
       "КЕМЕРОВСКАЯ                                 0.000006\n",
       "ХАКАСИЯ                                     0.000006\n",
       "ОБЛ. МУРМАНСКАЯ                             0.000006\n",
       "КОМИ                                        0.000006\n",
       "ВОЛОГОДСКАЯ ОБЛ.                            0.000006\n",
       "ОБЛ.МОСКОВСКАЯ                              0.000006\n",
       "ТОМСКАЯ                                     0.000006\n",
       "КАРЕЛИЯ                                     0.000006\n",
       "ОБЛ. БЕЛГОРОДСКАЯ                           0.000006\n",
       "КРАЙ.ПЕРМСКИЙ                               0.000006\n",
       "РЕСПУБЛИКА ХАКАСИЯ                          0.000006\n",
       "БРЯНСКИЙ                                    0.000006\n",
       "КАЛУЖСКАЯ                                   0.000006\n",
       "КРАЙ. ПЕРМСКИЙ                              0.000006\n",
       "Name: living_region, Length: 302, dtype: float64"
      ]
     },
     "execution_count": 20,
     "metadata": {},
     "output_type": "execute_result"
    }
   ],
   "source": [
    "df.living_region.value_counts(dropna=False, normalize=True)"
   ]
  },
  {
   "cell_type": "markdown",
   "metadata": {},
   "source": [
    "### Доход"
   ]
  },
  {
   "cell_type": "code",
   "execution_count": 21,
   "metadata": {
    "ExecuteTime": {
     "end_time": "2017-08-01T16:56:59.240089Z",
     "start_time": "2017-08-01T19:56:58.195975+03:00"
    }
   },
   "outputs": [
    {
     "name": "stdout",
     "output_type": "stream",
     "text": [
      "NaNs: 1\n"
     ]
    },
    {
     "data": {
      "image/png": "[encoded data removed]",
      "text/plain": [
       "<matplotlib.figure.Figure at 0x1124fc690>"
      ]
     },
     "metadata": {},
     "output_type": "display_data"
    }
   ],
   "source": [
    "print 'NaNs:', sum(np.isnan(df.monthly_income.values))\n",
    "df.monthly_income.hist(log=True)\n",
    "xlabel('income')\n",
    "_ = ylabel('people count')"
   ]
  },
  {
   "cell_type": "code",
   "execution_count": 22,
   "metadata": {
    "ExecuteTime": {
     "end_time": "2017-08-01T16:56:59.741845Z",
     "start_time": "2017-08-01T19:56:59.242708+03:00"
    }
   },
   "outputs": [
    {
     "name": "stdout",
     "output_type": "stream",
     "text": [
      "NaNs: 9230\n"
     ]
    },
    {
     "data": {
      "image/png": "[encoded data removed]",
      "text/plain": [
       "<matplotlib.figure.Figure at 0x113664950>"
      ]
     },
     "metadata": {},
     "output_type": "display_data"
    }
   ],
   "source": [
    "figure(figsize=(10, 5))\n",
    "print 'NaNs:', sum(np.isnan(df.credit_count.values))\n",
    "_ = sns.countplot(df.credit_count, palette='Set3')"
   ]
  },
  {
   "cell_type": "code",
   "execution_count": 23,
   "metadata": {
    "ExecuteTime": {
     "end_time": "2017-08-01T16:57:00.015721Z",
     "start_time": "2017-08-01T19:56:59.744182+03:00"
    }
   },
   "outputs": [
    {
     "name": "stdout",
     "output_type": "stream",
     "text": [
      "NaNs: 9230\n"
     ]
    },
    {
     "data": {
      "image/png": "[encoded data removed]",
      "text/plain": [
       "<matplotlib.figure.Figure at 0x112438350>"
      ]
     },
     "metadata": {},
     "output_type": "display_data"
    }
   ],
   "source": [
    "print 'NaNs:', sum(np.isnan(df.overdue_credit_count.values))\n",
    "_ = sns.countplot(df.overdue_credit_count, palette='Set3')"
   ]
  },
  {
   "cell_type": "markdown",
   "metadata": {},
   "source": [
    "### Матрица корреляции:"
   ]
  },
  {
   "cell_type": "code",
   "execution_count": 24,
   "metadata": {
    "ExecuteTime": {
     "end_time": "2017-08-01T16:57:00.634379Z",
     "start_time": "2017-08-01T19:57:00.018435+03:00"
    }
   },
   "outputs": [
    {
     "data": {
      "image/png": "[encoded data removed]",
      "text/plain": [
       "<matplotlib.figure.Figure at 0x1124c9b90>"
      ]
     },
     "metadata": {},
     "output_type": "display_data"
    }
   ],
   "source": [
    "sns.set(context=\"paper\", font=\"monospace\")\n",
    "\n",
    "corrmat = df.corr()\n",
    "_ = sns.heatmap(corrmat, vmax=.8, square=True)"
   ]
  },
  {
   "cell_type": "markdown",
   "metadata": {},
   "source": [
    "Можно заметить, что таргет (который open_account_flg) ни с чем не коррелирует - скорее всего задача не решается простой эвристикой"
   ]
  },
  {
   "cell_type": "markdown",
   "metadata": {},
   "source": [
    "## Преобразование категориальных фич:"
   ]
  },
  {
   "cell_type": "code",
   "execution_count": 25,
   "metadata": {
    "ExecuteTime": {
     "end_time": "2017-08-01T16:57:00.645397Z",
     "start_time": "2017-08-01T19:57:00.637300+03:00"
    }
   },
   "outputs": [
    {
     "data": {
      "text/plain": [
       "Index([u'client_id', u'gender', u'age', u'marital_status', u'job_position',\n",
       "       u'credit_sum', u'credit_month', u'tariff_id', u'score_shk',\n",
       "       u'education', u'living_region', u'monthly_income', u'credit_count',\n",
       "       u'overdue_credit_count', u'open_account_flg'],\n",
       "      dtype='object')"
      ]
     },
     "execution_count": 25,
     "metadata": {},
     "output_type": "execute_result"
    }
   ],
   "source": [
    "df.columns"
   ]
  },
  {
   "cell_type": "markdown",
   "metadata": {},
   "source": [
    "#### Пол, семейное положение, работу, образование закодируем dummy encoding'ом , потому категорий внутри каждого мало:"
   ]
  },
  {
   "cell_type": "code",
   "execution_count": 26,
   "metadata": {
    "ExecuteTime": {
     "end_time": "2017-08-01T16:57:00.739943Z",
     "start_time": "2017-08-01T19:57:00.671548+03:00"
    },
    "collapsed": true
   },
   "outputs": [],
   "source": [
    "df[u'gender_'] = df.gender.map({'M': 0, 'F': 1})\n",
    "df_test[u'gender_'] = df_test.gender.map({'M': 0, 'F': 1})"
   ]
  },
  {
   "cell_type": "code",
   "execution_count": 27,
   "metadata": {
    "ExecuteTime": {
     "end_time": "2017-08-01T16:57:00.764243Z",
     "start_time": "2017-08-01T19:57:00.745211+03:00"
    },
    "collapsed": true
   },
   "outputs": [],
   "source": [
    "def add_dummies(df, column_name, prefix):\n",
    "    dummies = pd.get_dummies(df[column_name], prefix=prefix, \n",
    "                             drop_first=True)\n",
    "    return pd.concat([df, dummies], axis=1)"
   ]
  },
  {
   "cell_type": "code",
   "execution_count": 28,
   "metadata": {
    "ExecuteTime": {
     "end_time": "2017-08-01T16:57:00.952734Z",
     "start_time": "2017-08-01T19:57:00.774118+03:00"
    },
    "collapsed": true
   },
   "outputs": [],
   "source": [
    "df = add_dummies(df, 'marital_status', 'mar')\n",
    "df_test = add_dummies(df_test, 'marital_status', 'mar')"
   ]
  },
  {
   "cell_type": "code",
   "execution_count": 29,
   "metadata": {
    "ExecuteTime": {
     "end_time": "2017-08-01T16:57:01.311560Z",
     "start_time": "2017-08-01T19:57:00.976454+03:00"
    },
    "collapsed": true
   },
   "outputs": [],
   "source": [
    "df = add_dummies(df, 'job_position', 'job')\n",
    "df_test = add_dummies(df_test, 'job_position', 'job')"
   ]
  },
  {
   "cell_type": "code",
   "execution_count": 30,
   "metadata": {
    "ExecuteTime": {
     "end_time": "2017-08-01T16:57:01.676351Z",
     "start_time": "2017-08-01T19:57:01.325311+03:00"
    },
    "collapsed": true
   },
   "outputs": [],
   "source": [
    "df = add_dummies(df, 'education', 'edu')\n",
    "df_test = add_dummies(df_test, 'education', 'edu')"
   ]
  },
  {
   "cell_type": "markdown",
   "metadata": {},
   "source": [
    "Здесь мы предполагали, что в тестовом датасете присутствуют все категории, что и в трейне, иначе будет сюрприз, когда алгоритму на вход выдадут больше колонок, чем те, на которых он обучался"
   ]
  },
  {
   "cell_type": "markdown",
   "metadata": {},
   "source": [
    "#### Номер тарифа и регион закодируем через частоту, потому как слишком много тарифов:"
   ]
  },
  {
   "cell_type": "code",
   "execution_count": 31,
   "metadata": {
    "ExecuteTime": {
     "end_time": "2017-08-01T16:57:03.543055Z",
     "start_time": "2017-08-01T19:57:01.682552+03:00"
    },
    "collapsed": true
   },
   "outputs": [],
   "source": [
    "tariff2frequency = dict(df['tariff_id'].value_counts(normalize=True))  \n",
    "# нормализация нужна, если мы захотим использовать что-то кроме древесных алгоритмов. \n",
    "# Важно чтобы колонки не сильно отличались по разбросу чисел. \n",
    "# У нас везде [0..1] - пусть и тут будет также\n",
    "df[u'tariff_freq'] = df['tariff_id'].map(lambda x: tariff2frequency[x])\n",
    "# df_test[u'tariff_freq'] = df_test['tariff_id'].map(lambda x: tariff2frequency[x])\n",
    "\n",
    "# - здесь у меня возникла проблема, т.к. оказывается в tariff_freq были не только строчки, \n",
    "# но и числа nan, при этом в dict они почему-то не ложились. Выкрутился я так:\n",
    "\n",
    "from collections import Counter\n",
    "tariff2count = Counter(df['tariff_id'])\n",
    "df[u'tariff_freq'] = df['tariff_id'].map(lambda x: tariff2count[x] / len(df))\n",
    "df_test[u'tariff_freq'] = df_test['tariff_id'].map(lambda x: tariff2count[x] / len(df))"
   ]
  },
  {
   "cell_type": "markdown",
   "metadata": {},
   "source": [
    "Важно! tariff2frequency - это dict из трейна. Можно было бы взять объединенные данные по трейну и тесту, и, кажется, так и нужно было сделать. Точно не нужно преобразовывать колонку tariff_freq из теста по частотам tariff_id теста - в таком случае частоты будут не те, на которых мы обучались."
   ]
  },
  {
   "cell_type": "code",
   "execution_count": 32,
   "metadata": {
    "ExecuteTime": {
     "end_time": "2017-08-01T16:57:04.824094Z",
     "start_time": "2017-08-01T19:57:03.547894+03:00"
    },
    "collapsed": true
   },
   "outputs": [],
   "source": [
    "region2count = Counter(df['living_region'])\n",
    "df[u'region_freq'] = df['living_region'].map(lambda x: region2count[x] / len(df))\n",
    "df_test[u'region_freq'] = df_test['living_region'].map(lambda x: region2count[x] / len(df))"
   ]
  },
  {
   "cell_type": "markdown",
   "metadata": {},
   "source": [
    "Можно и нужно закодировать через любую другую колонку! Кодирование через частоту из нашей колонки достает только иформацию о том, на сколько популярно было данное значение. Например, пришел ли клиент из большого региона (МО), или из малонаселенного района. Если мы закодируем через средний достаток - мы поймем, насколько люди в этом регионе богаты и мб в комбинации с достатком человека это даст нам хорошую информацию: насолько человек относительно богат.\n",
    "\n",
    "Можно и нужно попробовать через dummy, но у меня предчувствие, что это приведет к переобучению."
   ]
  },
  {
   "cell_type": "markdown",
   "metadata": {},
   "source": [
    "### Нормализация и работа с пропусками:"
   ]
  },
  {
   "cell_type": "code",
   "execution_count": 33,
   "metadata": {
    "ExecuteTime": {
     "end_time": "2017-08-01T16:57:04.889923Z",
     "start_time": "2017-08-01T19:57:04.827124+03:00"
    },
    "collapsed": true
   },
   "outputs": [],
   "source": [
    "train_columns = set(df.columns)\n",
    "columns_transformed = set((u'education', u'gender', u'job_position', \n",
    "                           u'living_region', u'marital_status', u'tariff_id'))\n",
    "target_column = set([u'open_account_flg'])\n",
    "train_columns -= columns_transformed\n",
    "train_columns -= target_column\n",
    "train_columns = sorted(list(train_columns))"
   ]
  },
  {
   "cell_type": "markdown",
   "metadata": {},
   "source": [
    "#### Посмотрим, сколько у нас колонок с пропусками:"
   ]
  },
  {
   "cell_type": "code",
   "execution_count": 34,
   "metadata": {
    "ExecuteTime": {
     "end_time": "2017-08-01T16:57:04.907734Z",
     "start_time": "2017-08-01T19:57:04.893495+03:00"
    }
   },
   "outputs": [
    {
     "data": {
      "text/plain": [
       "91940"
      ]
     },
     "execution_count": 34,
     "metadata": {},
     "output_type": "execute_result"
    }
   ],
   "source": [
    "len(df_test['age'])"
   ]
  },
  {
   "cell_type": "code",
   "execution_count": 35,
   "metadata": {
    "ExecuteTime": {
     "end_time": "2017-08-01T16:57:05.440367Z",
     "start_time": "2017-08-01T19:57:04.915786+03:00"
    }
   },
   "outputs": [
    {
     "name": "stdout",
     "output_type": "stream",
     "text": [
      "credit_count 9230 4703\n",
      "monthly_income 1 0\n",
      "overdue_credit_count 9230 4703\n"
     ]
    }
   ],
   "source": [
    "for column in train_columns: \n",
    "    if sum(df[column].isnull()) > 0 or sum(df_test[column].isnull()) > 0:\n",
    "        print column, sum(df[column].isnull()), sum(df_test[column].isnull())"
   ]
  },
  {
   "cell_type": "markdown",
   "metadata": {},
   "source": [
    "Есть 2 частых подхода при работе с пропусками, когда вы не знаете, что там может стоять. \n",
    "- поставить в пропуск число, которое сильно отличается от датасета. Например, -50. Этот подход хорош для древесных алгоритмов, потому что они выделят под этот класс объектов отдельный лист. Но это будет точно плохо работать с линейными или метрическими алгоритмами, потому что это просто рандомное число, и ни на что его умножать \n",
    "\n",
    "- поставить в пропуск самое часто встречающееся число (или среднее/медиану по датасету). Первое предположение, что если число пропущено - скорее всего там стояло что-то часто встречающееся. Если у вас есть какие-то дополнительные знания о том, что там могло стоять - можно воспользоваться ими. Например, можно подставить то число, которое часто встречается для объектов с аналогичным значением в другой колонке. Например, если вы по матрице корелляции видите, что credit_count немного кореллирует с достатком, то можно смотреть на достаток и в пропуск вставлять то значение credit_count, которое имеет человек с аналогичным достатком."
   ]
  },
  {
   "cell_type": "code",
   "execution_count": 36,
   "metadata": {
    "ExecuteTime": {
     "end_time": "2017-08-01T16:57:07.692429Z",
     "start_time": "2017-08-01T19:57:05.443605+03:00"
    },
    "collapsed": true
   },
   "outputs": [],
   "source": [
    "from sklearn.preprocessing import Imputer\n",
    "imputer = Imputer(strategy='median')\n",
    "X_train = imputer.fit_transform(df[train_columns])\n",
    "X_test = imputer.transform(df_test[train_columns])"
   ]
  },
  {
   "cell_type": "markdown",
   "metadata": {},
   "source": [
    "Все величины, которые имеют матожидание != 0 и дисперсию != 1 должны быть отскейлены. Иначе l2-нормализация линейных алгоритмах (log regression, svm) зарубит веса у тех фичей, которые имеют меньший разброс и нулевое мат. ождание. Метрические алгоритмы (KNN, SVM с RBF-ядром) сломаются, потому как расстояние будет меряться неравнозначно по разным координатам: некоторые фичи автоматически станут важнее, просто потому что разброс координаты у них будет больше."
   ]
  },
  {
   "cell_type": "code",
   "execution_count": 37,
   "metadata": {
    "ExecuteTime": {
     "end_time": "2017-08-01T16:57:08.009818Z",
     "start_time": "2017-08-01T19:57:07.695544+03:00"
    },
    "collapsed": true
   },
   "outputs": [],
   "source": [
    "from sklearn.preprocessing import StandardScaler\n",
    "scaler = StandardScaler()\n",
    "X_train_scaled = scaler.fit_transform(X_train)\n",
    "X_test_scaled = scaler.transform(X_test)"
   ]
  },
  {
   "cell_type": "code",
   "execution_count": 38,
   "metadata": {
    "ExecuteTime": {
     "end_time": "2017-08-01T16:57:08.045465Z",
     "start_time": "2017-08-01T19:57:08.027442+03:00"
    },
    "collapsed": true
   },
   "outputs": [],
   "source": [
    "X = X_train_scaled\n",
    "y = df['open_account_flg']"
   ]
  },
  {
   "cell_type": "markdown",
   "metadata": {},
   "source": [
    "# Ура! Мы как-то подготовили данные. Давайте же обучим что-то!"
   ]
  },
  {
   "cell_type": "markdown",
   "metadata": {},
   "source": [
    "#### Самое простое - обучить лес с oob_score:"
   ]
  },
  {
   "cell_type": "code",
   "execution_count": 39,
   "metadata": {
    "ExecuteTime": {
     "end_time": "2017-08-01T16:57:12.382455Z",
     "start_time": "2017-08-01T19:57:08.062842+03:00"
    }
   },
   "outputs": [
    {
     "name": "stderr",
     "output_type": "stream",
     "text": [
      "/usr/local/lib/python2.7/site-packages/sklearn/ensemble/forest.py:439: UserWarning: Some inputs do not have OOB scores. This probably means too few trees were used to compute any reliable oob estimates.\n",
      "  warn(\"Some inputs do not have OOB scores. \"\n",
      "/usr/local/lib/python2.7/site-packages/sklearn/ensemble/forest.py:444: RuntimeWarning: invalid value encountered in true_divide\n",
      "  predictions[k].sum(axis=1)[:, np.newaxis])\n"
     ]
    },
    {
     "data": {
      "text/plain": [
       "0.79819146568587263"
      ]
     },
     "execution_count": 39,
     "metadata": {},
     "output_type": "execute_result"
    }
   ],
   "source": [
    "from sklearn.ensemble import RandomForestClassifier\n",
    "RF = RandomForestClassifier(random_state=42, oob_score=True, n_jobs=24)\n",
    "RF.fit(X_train_scaled, y)\n",
    "RF.oob_score_"
   ]
  },
  {
   "cell_type": "markdown",
   "metadata": {},
   "source": [
    "Довольно неплохо! Давайте разобьем на 3 фолда (чтобы не ждать долго) и попробуем найти оптимальный алгоритм. "
   ]
  },
  {
   "cell_type": "code",
   "execution_count": 40,
   "metadata": {
    "ExecuteTime": {
     "end_time": "2017-08-01T16:58:32.021691Z",
     "start_time": "2017-08-01T19:57:12.388148+03:00"
    }
   },
   "outputs": [
    {
     "ename": "KeyboardInterrupt",
     "evalue": "",
     "output_type": "error",
     "traceback": [
      "\u001b[0;31m\u001b[0m",
      "\u001b[0;31mKeyboardInterrupt\u001b[0mTraceback (most recent call last)",
      "\u001b[0;32m<ipython-input-40-c2191b91c8a2>\u001b[0m in \u001b[0;36m<module>\u001b[0;34m()\u001b[0m\n\u001b[1;32m      6\u001b[0m \u001b[0;34m\u001b[0m\u001b[0m\n\u001b[1;32m      7\u001b[0m \u001b[0mclf\u001b[0m \u001b[0;34m=\u001b[0m \u001b[0mRandomForestClassifier\u001b[0m\u001b[0;34m(\u001b[0m\u001b[0mrandom_state\u001b[0m\u001b[0;34m=\u001b[0m\u001b[0;36m42\u001b[0m\u001b[0;34m,\u001b[0m \u001b[0mn_estimators\u001b[0m\u001b[0;34m=\u001b[0m\u001b[0;36m500\u001b[0m\u001b[0;34m,\u001b[0m \u001b[0mn_jobs\u001b[0m\u001b[0;34m=\u001b[0m\u001b[0;36m2\u001b[0m\u001b[0;34m)\u001b[0m\u001b[0;34m\u001b[0m\u001b[0m\n\u001b[0;32m----> 8\u001b[0;31m \u001b[0mcross_val_score\u001b[0m\u001b[0;34m(\u001b[0m\u001b[0mclf\u001b[0m\u001b[0;34m,\u001b[0m \u001b[0mX\u001b[0m\u001b[0;34m,\u001b[0m \u001b[0my\u001b[0m\u001b[0;34m,\u001b[0m \u001b[0mcv\u001b[0m\u001b[0;34m=\u001b[0m\u001b[0mkfold\u001b[0m\u001b[0;34m,\u001b[0m \u001b[0mscoring\u001b[0m\u001b[0;34m=\u001b[0m\u001b[0;34m'roc_auc'\u001b[0m\u001b[0;34m)\u001b[0m\u001b[0;34m\u001b[0m\u001b[0m\n\u001b[0m\u001b[1;32m      9\u001b[0m \u001b[0;31m# в конкурсе просят оптимизировать roc_auc\u001b[0m\u001b[0;34m\u001b[0m\u001b[0;34m\u001b[0m\u001b[0m\n",
      "\u001b[0;32m/usr/local/lib/python2.7/site-packages/sklearn/model_selection/_validation.pyc\u001b[0m in \u001b[0;36mcross_val_score\u001b[0;34m(estimator, X, y, groups, scoring, cv, n_jobs, verbose, fit_params, pre_dispatch)\u001b[0m\n\u001b[1;32m    138\u001b[0m                                               \u001b[0mtrain\u001b[0m\u001b[0;34m,\u001b[0m \u001b[0mtest\u001b[0m\u001b[0;34m,\u001b[0m \u001b[0mverbose\u001b[0m\u001b[0;34m,\u001b[0m \u001b[0mNone\u001b[0m\u001b[0;34m,\u001b[0m\u001b[0;34m\u001b[0m\u001b[0m\n\u001b[1;32m    139\u001b[0m                                               fit_params)\n\u001b[0;32m--> 140\u001b[0;31m                       for train, test in cv_iter)\n\u001b[0m\u001b[1;32m    141\u001b[0m     \u001b[0;32mreturn\u001b[0m \u001b[0mnp\u001b[0m\u001b[0;34m.\u001b[0m\u001b[0marray\u001b[0m\u001b[0;34m(\u001b[0m\u001b[0mscores\u001b[0m\u001b[0;34m)\u001b[0m\u001b[0;34m[\u001b[0m\u001b[0;34m:\u001b[0m\u001b[0;34m,\u001b[0m \u001b[0;36m0\u001b[0m\u001b[0;34m]\u001b[0m\u001b[0;34m\u001b[0m\u001b[0m\n\u001b[1;32m    142\u001b[0m \u001b[0;34m\u001b[0m\u001b[0m\n",
      "\u001b[0;32m/usr/local/lib/python2.7/site-packages/sklearn/externals/joblib/parallel.pyc\u001b[0m in \u001b[0;36m__call__\u001b[0;34m(self, iterable)\u001b[0m\n\u001b[1;32m    756\u001b[0m             \u001b[0;31m# was dispatched. In particular this covers the edge\u001b[0m\u001b[0;34m\u001b[0m\u001b[0;34m\u001b[0m\u001b[0m\n\u001b[1;32m    757\u001b[0m             \u001b[0;31m# case of Parallel used with an exhausted iterator.\u001b[0m\u001b[0;34m\u001b[0m\u001b[0;34m\u001b[0m\u001b[0m\n\u001b[0;32m--> 758\u001b[0;31m             \u001b[0;32mwhile\u001b[0m \u001b[0mself\u001b[0m\u001b[0;34m.\u001b[0m\u001b[0mdispatch_one_batch\u001b[0m\u001b[0;34m(\u001b[0m\u001b[0miterator\u001b[0m\u001b[0;34m)\u001b[0m\u001b[0;34m:\u001b[0m\u001b[0;34m\u001b[0m\u001b[0m\n\u001b[0m\u001b[1;32m    759\u001b[0m                 \u001b[0mself\u001b[0m\u001b[0;34m.\u001b[0m\u001b[0m_iterating\u001b[0m \u001b[0;34m=\u001b[0m \u001b[0mTrue\u001b[0m\u001b[0;34m\u001b[0m\u001b[0m\n\u001b[1;32m    760\u001b[0m             \u001b[0;32melse\u001b[0m\u001b[0;34m:\u001b[0m\u001b[0;34m\u001b[0m\u001b[0m\n",
      "\u001b[0;32m/usr/local/lib/python2.7/site-packages/sklearn/externals/joblib/parallel.pyc\u001b[0m in \u001b[0;36mdispatch_one_batch\u001b[0;34m(self, iterator)\u001b[0m\n\u001b[1;32m    606\u001b[0m                 \u001b[0;32mreturn\u001b[0m \u001b[0mFalse\u001b[0m\u001b[0;34m\u001b[0m\u001b[0m\n\u001b[1;32m    607\u001b[0m             \u001b[0;32melse\u001b[0m\u001b[0;34m:\u001b[0m\u001b[0;34m\u001b[0m\u001b[0m\n\u001b[0;32m--> 608\u001b[0;31m                 \u001b[0mself\u001b[0m\u001b[0;34m.\u001b[0m\u001b[0m_dispatch\u001b[0m\u001b[0;34m(\u001b[0m\u001b[0mtasks\u001b[0m\u001b[0;34m)\u001b[0m\u001b[0;34m\u001b[0m\u001b[0m\n\u001b[0m\u001b[1;32m    609\u001b[0m                 \u001b[0;32mreturn\u001b[0m \u001b[0mTrue\u001b[0m\u001b[0;34m\u001b[0m\u001b[0m\n\u001b[1;32m    610\u001b[0m \u001b[0;34m\u001b[0m\u001b[0m\n",
      "\u001b[0;32m/usr/local/lib/python2.7/site-packages/sklearn/externals/joblib/parallel.pyc\u001b[0m in \u001b[0;36m_dispatch\u001b[0;34m(self, batch)\u001b[0m\n\u001b[1;32m    569\u001b[0m         \u001b[0mdispatch_timestamp\u001b[0m \u001b[0;34m=\u001b[0m \u001b[0mtime\u001b[0m\u001b[0;34m.\u001b[0m\u001b[0mtime\u001b[0m\u001b[0;34m(\u001b[0m\u001b[0;34m)\u001b[0m\u001b[0;34m\u001b[0m\u001b[0m\n\u001b[1;32m    570\u001b[0m         \u001b[0mcb\u001b[0m \u001b[0;34m=\u001b[0m \u001b[0mBatchCompletionCallBack\u001b[0m\u001b[0;34m(\u001b[0m\u001b[0mdispatch_timestamp\u001b[0m\u001b[0;34m,\u001b[0m \u001b[0mlen\u001b[0m\u001b[0;34m(\u001b[0m\u001b[0mbatch\u001b[0m\u001b[0;34m)\u001b[0m\u001b[0;34m,\u001b[0m \u001b[0mself\u001b[0m\u001b[0;34m)\u001b[0m\u001b[0;34m\u001b[0m\u001b[0m\n\u001b[0;32m--> 571\u001b[0;31m         \u001b[0mjob\u001b[0m \u001b[0;34m=\u001b[0m \u001b[0mself\u001b[0m\u001b[0;34m.\u001b[0m\u001b[0m_backend\u001b[0m\u001b[0;34m.\u001b[0m\u001b[0mapply_async\u001b[0m\u001b[0;34m(\u001b[0m\u001b[0mbatch\u001b[0m\u001b[0;34m,\u001b[0m \u001b[0mcallback\u001b[0m\u001b[0;34m=\u001b[0m\u001b[0mcb\u001b[0m\u001b[0;34m)\u001b[0m\u001b[0;34m\u001b[0m\u001b[0m\n\u001b[0m\u001b[1;32m    572\u001b[0m         \u001b[0mself\u001b[0m\u001b[0;34m.\u001b[0m\u001b[0m_jobs\u001b[0m\u001b[0;34m.\u001b[0m\u001b[0mappend\u001b[0m\u001b[0;34m(\u001b[0m\u001b[0mjob\u001b[0m\u001b[0;34m)\u001b[0m\u001b[0;34m\u001b[0m\u001b[0m\n\u001b[1;32m    573\u001b[0m \u001b[0;34m\u001b[0m\u001b[0m\n",
      "\u001b[0;32m/usr/local/lib/python2.7/site-packages/sklearn/externals/joblib/_parallel_backends.pyc\u001b[0m in \u001b[0;36mapply_async\u001b[0;34m(self, func, callback)\u001b[0m\n\u001b[1;32m    107\u001b[0m     \u001b[0;32mdef\u001b[0m \u001b[0mapply_async\u001b[0m\u001b[0;34m(\u001b[0m\u001b[0mself\u001b[0m\u001b[0;34m,\u001b[0m \u001b[0mfunc\u001b[0m\u001b[0;34m,\u001b[0m \u001b[0mcallback\u001b[0m\u001b[0;34m=\u001b[0m\u001b[0mNone\u001b[0m\u001b[0;34m)\u001b[0m\u001b[0;34m:\u001b[0m\u001b[0;34m\u001b[0m\u001b[0m\n\u001b[1;32m    108\u001b[0m         \u001b[0;34m\"\"\"Schedule a func to be run\"\"\"\u001b[0m\u001b[0;34m\u001b[0m\u001b[0m\n\u001b[0;32m--> 109\u001b[0;31m         \u001b[0mresult\u001b[0m \u001b[0;34m=\u001b[0m \u001b[0mImmediateResult\u001b[0m\u001b[0;34m(\u001b[0m\u001b[0mfunc\u001b[0m\u001b[0;34m)\u001b[0m\u001b[0;34m\u001b[0m\u001b[0m\n\u001b[0m\u001b[1;32m    110\u001b[0m         \u001b[0;32mif\u001b[0m \u001b[0mcallback\u001b[0m\u001b[0;34m:\u001b[0m\u001b[0;34m\u001b[0m\u001b[0m\n\u001b[1;32m    111\u001b[0m             \u001b[0mcallback\u001b[0m\u001b[0;34m(\u001b[0m\u001b[0mresult\u001b[0m\u001b[0;34m)\u001b[0m\u001b[0;34m\u001b[0m\u001b[0m\n",
      "\u001b[0;32m/usr/local/lib/python2.7/site-packages/sklearn/externals/joblib/_parallel_backends.pyc\u001b[0m in \u001b[0;36m__init__\u001b[0;34m(self, batch)\u001b[0m\n\u001b[1;32m    324\u001b[0m         \u001b[0;31m# Don't delay the application, to avoid keeping the input\u001b[0m\u001b[0;34m\u001b[0m\u001b[0;34m\u001b[0m\u001b[0m\n\u001b[1;32m    325\u001b[0m         \u001b[0;31m# arguments in memory\u001b[0m\u001b[0;34m\u001b[0m\u001b[0;34m\u001b[0m\u001b[0m\n\u001b[0;32m--> 326\u001b[0;31m         \u001b[0mself\u001b[0m\u001b[0;34m.\u001b[0m\u001b[0mresults\u001b[0m \u001b[0;34m=\u001b[0m \u001b[0mbatch\u001b[0m\u001b[0;34m(\u001b[0m\u001b[0;34m)\u001b[0m\u001b[0;34m\u001b[0m\u001b[0m\n\u001b[0m\u001b[1;32m    327\u001b[0m \u001b[0;34m\u001b[0m\u001b[0m\n\u001b[1;32m    328\u001b[0m     \u001b[0;32mdef\u001b[0m \u001b[0mget\u001b[0m\u001b[0;34m(\u001b[0m\u001b[0mself\u001b[0m\u001b[0;34m)\u001b[0m\u001b[0;34m:\u001b[0m\u001b[0;34m\u001b[0m\u001b[0m\n",
      "\u001b[0;32m/usr/local/lib/python2.7/site-packages/sklearn/externals/joblib/parallel.pyc\u001b[0m in \u001b[0;36m__call__\u001b[0;34m(self)\u001b[0m\n\u001b[1;32m    129\u001b[0m \u001b[0;34m\u001b[0m\u001b[0m\n\u001b[1;32m    130\u001b[0m     \u001b[0;32mdef\u001b[0m \u001b[0m__call__\u001b[0m\u001b[0;34m(\u001b[0m\u001b[0mself\u001b[0m\u001b[0;34m)\u001b[0m\u001b[0;34m:\u001b[0m\u001b[0;34m\u001b[0m\u001b[0m\n\u001b[0;32m--> 131\u001b[0;31m         \u001b[0;32mreturn\u001b[0m \u001b[0;34m[\u001b[0m\u001b[0mfunc\u001b[0m\u001b[0;34m(\u001b[0m\u001b[0;34m*\u001b[0m\u001b[0margs\u001b[0m\u001b[0;34m,\u001b[0m \u001b[0;34m**\u001b[0m\u001b[0mkwargs\u001b[0m\u001b[0;34m)\u001b[0m \u001b[0;32mfor\u001b[0m \u001b[0mfunc\u001b[0m\u001b[0;34m,\u001b[0m \u001b[0margs\u001b[0m\u001b[0;34m,\u001b[0m \u001b[0mkwargs\u001b[0m \u001b[0;32min\u001b[0m \u001b[0mself\u001b[0m\u001b[0;34m.\u001b[0m\u001b[0mitems\u001b[0m\u001b[0;34m]\u001b[0m\u001b[0;34m\u001b[0m\u001b[0m\n\u001b[0m\u001b[1;32m    132\u001b[0m \u001b[0;34m\u001b[0m\u001b[0m\n\u001b[1;32m    133\u001b[0m     \u001b[0;32mdef\u001b[0m \u001b[0m__len__\u001b[0m\u001b[0;34m(\u001b[0m\u001b[0mself\u001b[0m\u001b[0;34m)\u001b[0m\u001b[0;34m:\u001b[0m\u001b[0;34m\u001b[0m\u001b[0m\n",
      "\u001b[0;32m/usr/local/lib/python2.7/site-packages/sklearn/model_selection/_validation.pyc\u001b[0m in \u001b[0;36m_fit_and_score\u001b[0;34m(estimator, X, y, scorer, train, test, verbose, parameters, fit_params, return_train_score, return_parameters, return_n_test_samples, return_times, error_score)\u001b[0m\n\u001b[1;32m    236\u001b[0m             \u001b[0mestimator\u001b[0m\u001b[0;34m.\u001b[0m\u001b[0mfit\u001b[0m\u001b[0;34m(\u001b[0m\u001b[0mX_train\u001b[0m\u001b[0;34m,\u001b[0m \u001b[0;34m**\u001b[0m\u001b[0mfit_params\u001b[0m\u001b[0;34m)\u001b[0m\u001b[0;34m\u001b[0m\u001b[0m\n\u001b[1;32m    237\u001b[0m         \u001b[0;32melse\u001b[0m\u001b[0;34m:\u001b[0m\u001b[0;34m\u001b[0m\u001b[0m\n\u001b[0;32m--> 238\u001b[0;31m             \u001b[0mestimator\u001b[0m\u001b[0;34m.\u001b[0m\u001b[0mfit\u001b[0m\u001b[0;34m(\u001b[0m\u001b[0mX_train\u001b[0m\u001b[0;34m,\u001b[0m \u001b[0my_train\u001b[0m\u001b[0;34m,\u001b[0m \u001b[0;34m**\u001b[0m\u001b[0mfit_params\u001b[0m\u001b[0;34m)\u001b[0m\u001b[0;34m\u001b[0m\u001b[0m\n\u001b[0m\u001b[1;32m    239\u001b[0m \u001b[0;34m\u001b[0m\u001b[0m\n\u001b[1;32m    240\u001b[0m     \u001b[0;32mexcept\u001b[0m \u001b[0mException\u001b[0m \u001b[0;32mas\u001b[0m \u001b[0me\u001b[0m\u001b[0;34m:\u001b[0m\u001b[0;34m\u001b[0m\u001b[0m\n",
      "\u001b[0;32m/usr/local/lib/python2.7/site-packages/sklearn/ensemble/forest.pyc\u001b[0m in \u001b[0;36mfit\u001b[0;34m(self, X, y, sample_weight)\u001b[0m\n\u001b[1;32m    324\u001b[0m                     \u001b[0mt\u001b[0m\u001b[0;34m,\u001b[0m \u001b[0mself\u001b[0m\u001b[0;34m,\u001b[0m \u001b[0mX\u001b[0m\u001b[0;34m,\u001b[0m \u001b[0my\u001b[0m\u001b[0;34m,\u001b[0m \u001b[0msample_weight\u001b[0m\u001b[0;34m,\u001b[0m \u001b[0mi\u001b[0m\u001b[0;34m,\u001b[0m \u001b[0mlen\u001b[0m\u001b[0;34m(\u001b[0m\u001b[0mtrees\u001b[0m\u001b[0;34m)\u001b[0m\u001b[0;34m,\u001b[0m\u001b[0;34m\u001b[0m\u001b[0m\n\u001b[1;32m    325\u001b[0m                     verbose=self.verbose, class_weight=self.class_weight)\n\u001b[0;32m--> 326\u001b[0;31m                 for i, t in enumerate(trees))\n\u001b[0m\u001b[1;32m    327\u001b[0m \u001b[0;34m\u001b[0m\u001b[0m\n\u001b[1;32m    328\u001b[0m             \u001b[0;31m# Collect newly grown trees\u001b[0m\u001b[0;34m\u001b[0m\u001b[0;34m\u001b[0m\u001b[0m\n",
      "\u001b[0;32m/usr/local/lib/python2.7/site-packages/sklearn/externals/joblib/parallel.pyc\u001b[0m in \u001b[0;36m__call__\u001b[0;34m(self, iterable)\u001b[0m\n\u001b[1;32m    766\u001b[0m                 \u001b[0;31m# consumption.\u001b[0m\u001b[0;34m\u001b[0m\u001b[0;34m\u001b[0m\u001b[0m\n\u001b[1;32m    767\u001b[0m                 \u001b[0mself\u001b[0m\u001b[0;34m.\u001b[0m\u001b[0m_iterating\u001b[0m \u001b[0;34m=\u001b[0m \u001b[0mFalse\u001b[0m\u001b[0;34m\u001b[0m\u001b[0m\n\u001b[0;32m--> 768\u001b[0;31m             \u001b[0mself\u001b[0m\u001b[0;34m.\u001b[0m\u001b[0mretrieve\u001b[0m\u001b[0;34m(\u001b[0m\u001b[0;34m)\u001b[0m\u001b[0;34m\u001b[0m\u001b[0m\n\u001b[0m\u001b[1;32m    769\u001b[0m             \u001b[0;31m# Make sure that we get a last message telling us we are done\u001b[0m\u001b[0;34m\u001b[0m\u001b[0;34m\u001b[0m\u001b[0m\n\u001b[1;32m    770\u001b[0m             \u001b[0melapsed_time\u001b[0m \u001b[0;34m=\u001b[0m \u001b[0mtime\u001b[0m\u001b[0;34m.\u001b[0m\u001b[0mtime\u001b[0m\u001b[0;34m(\u001b[0m\u001b[0;34m)\u001b[0m \u001b[0;34m-\u001b[0m \u001b[0mself\u001b[0m\u001b[0;34m.\u001b[0m\u001b[0m_start_time\u001b[0m\u001b[0;34m\u001b[0m\u001b[0m\n",
      "\u001b[0;32m/usr/local/lib/python2.7/site-packages/sklearn/externals/joblib/parallel.pyc\u001b[0m in \u001b[0;36mretrieve\u001b[0;34m(self)\u001b[0m\n\u001b[1;32m    717\u001b[0m                     \u001b[0mensure_ready\u001b[0m \u001b[0;34m=\u001b[0m \u001b[0mself\u001b[0m\u001b[0;34m.\u001b[0m\u001b[0m_managed_backend\u001b[0m\u001b[0;34m\u001b[0m\u001b[0m\n\u001b[1;32m    718\u001b[0m                     \u001b[0mbackend\u001b[0m\u001b[0;34m.\u001b[0m\u001b[0mabort_everything\u001b[0m\u001b[0;34m(\u001b[0m\u001b[0mensure_ready\u001b[0m\u001b[0;34m=\u001b[0m\u001b[0mensure_ready\u001b[0m\u001b[0;34m)\u001b[0m\u001b[0;34m\u001b[0m\u001b[0m\n\u001b[0;32m--> 719\u001b[0;31m                 \u001b[0;32mraise\u001b[0m \u001b[0mexception\u001b[0m\u001b[0;34m\u001b[0m\u001b[0m\n\u001b[0m\u001b[1;32m    720\u001b[0m \u001b[0;34m\u001b[0m\u001b[0m\n\u001b[1;32m    721\u001b[0m     \u001b[0;32mdef\u001b[0m \u001b[0m__call__\u001b[0m\u001b[0;34m(\u001b[0m\u001b[0mself\u001b[0m\u001b[0;34m,\u001b[0m \u001b[0miterable\u001b[0m\u001b[0;34m)\u001b[0m\u001b[0;34m:\u001b[0m\u001b[0;34m\u001b[0m\u001b[0m\n",
      "\u001b[0;31mKeyboardInterrupt\u001b[0m: "
     ]
    }
   ],
   "source": [
    "# Предупреждение: это довольно долгая операция:\n",
    "from sklearn.model_selection import StratifiedKFold\n",
    "from sklearn.model_selection import cross_val_score\n",
    "\n",
    "kfold = StratifiedKFold(n_splits=3, shuffle=True, random_state=42)\n",
    "\n",
    "clf = RandomForestClassifier(random_state=42, n_estimators=500, n_jobs=2)\n",
    "cross_val_score(clf, X, y, cv=kfold, scoring='roc_auc')  \n",
    "# в конкурсе просят оптимизировать roc_auc"
   ]
  },
  {
   "cell_type": "code",
   "execution_count": null,
   "metadata": {
    "ExecuteTime": {
     "end_time": "2017-08-01T16:58:32.047178Z",
     "start_time": "2017-08-01T16:57:39.208Z"
    },
    "collapsed": true
   },
   "outputs": [],
   "source": [
    "clf.feature_importance_"
   ]
  },
  {
   "cell_type": "markdown",
   "metadata": {},
   "source": [
    "ок, 0.741 - это неплохой AUC ROC. Если <a href=\"https://boosters.pro/champ_3#\">посмотреть на лидерборд</a>, то у первого места 0.774, а 0.741 в районе 200-го места. Если допустить, что тестовая выборка даст нам результат аналогичный кросс-валидации, то можно уже радоваться."
   ]
  },
  {
   "cell_type": "code",
   "execution_count": null,
   "metadata": {
    "ExecuteTime": {
     "end_time": "2017-08-01T16:58:32.023650Z",
     "start_time": "2017-08-01T16:56:53.006Z"
    },
    "collapsed": true
   },
   "outputs": [],
   "source": [
    "from sklearn.linear_model import LogisticRegression\n",
    "clf = LogisticRegression(random_state=42, n_jobs=2)\n",
    "cross_val_score(clf, X, y, cv=kfold, scoring='roc_auc')"
   ]
  },
  {
   "cell_type": "markdown",
   "metadata": {},
   "source": [
    "Этот код выполняется вечность, так что я его закомментировал:"
   ]
  },
  {
   "cell_type": "code",
   "execution_count": null,
   "metadata": {
    "ExecuteTime": {
     "end_time": "2017-08-01T16:58:32.025782Z",
     "start_time": "2017-08-01T16:56:53.009Z"
    },
    "collapsed": true
   },
   "outputs": [],
   "source": [
    "# from sklearn.neighbors import KNeighborsClassifier\n",
    "# clf = KNeighborsClassifier()\n",
    "\n",
    "\n",
    "# from sklearn.model_selection import RandomizedSearchCV\n",
    "# param_distributions = {'weights': ['uniform', 'distance'], \n",
    "#                        'n_neighbors': range(1, 20, 2), \n",
    "#                        'p': np.arange(0.1, 5, 0.2)}\n",
    "\n",
    "# grid_searcher = RandomizedSearchCV(clf, param_distributions, n_iter=10, \n",
    "#                                    cv=kfold, n_jobs=2, scoring='roc_auc',\n",
    "#                                    verbose=True)\n",
    "# grid_searcher.fit(X, y)\n",
    "# print 'best score:', grid_searcher.best_score_, grid_searcher.best_params_"
   ]
  },
  {
   "cell_type": "markdown",
   "metadata": {},
   "source": [
    "Тоже очень долго. Не дождался. Тут квадратичная сложность"
   ]
  },
  {
   "cell_type": "code",
   "execution_count": null,
   "metadata": {
    "ExecuteTime": {
     "end_time": "2017-08-01T16:58:32.027544Z",
     "start_time": "2017-08-01T16:56:53.013Z"
    },
    "collapsed": true
   },
   "outputs": [],
   "source": [
    "# from sklearn.svm import SVC\n",
    "# clf = SVC(random_state=42, kernel='linear')\n",
    "# print 'linear:', cross_val_score(clf, X, y, cv=kfold, scoring='roc_auc', n_jobs=3) \n",
    "# clf = SVC(random_state=42, kernel='poly')\n",
    "# print 'poly:', cross_val_score(clf, X, y, cv=kfold, scoring='roc_auc', n_jobs=3) \n",
    "# clf = SVC(random_state=42, kernel='rbf')\n",
    "# print 'rbf:', cross_val_score(clf, X, y, cv=kfold, scoring='roc_auc', n_jobs=3) "
   ]
  },
  {
   "cell_type": "markdown",
   "metadata": {},
   "source": [
    "Давайте посмотри, как кол-во деревьев повлияет на итоговый результат. Мы будем ориентироваться на oob_score. В данном случае он должен давать резульатат похожий на 3-fold валидацию, поскольку каждое дерево мы обучаем примерно на 2/3 выборки и на 1/3 получаем score.\n",
    "\n",
    "<b>warm_start</b> позволит добавлять деревья, а не переобучать весь лес заново. Можете попробовать убрать его из параметров и перезапустить.\n",
    "\n",
    "Возможно, в этом месте правильнее было смотреть, как кол-во деревьев влияет на итоговую метрику, а не accuracy. Тогда нужно было бы хранить 3 леса и последовательно наращивать их деревья."
   ]
  },
  {
   "cell_type": "code",
   "execution_count": null,
   "metadata": {
    "ExecuteTime": {
     "end_time": "2017-08-01T16:58:32.029258Z",
     "start_time": "2017-08-01T16:56:53.019Z"
    },
    "collapsed": true
   },
   "outputs": [],
   "source": [
    "RF = RandomForestClassifier(random_state=42, oob_score=True, warm_start=True, n_jobs=24)\n",
    "\n",
    "oob_scores = []\n",
    "for n_estimators in arange(24, 1500, 48):\n",
    "    RF.n_estimators = n_estimators\n",
    "    %time RF.fit(X, y)\n",
    "    oob_score = RF.oob_score_\n",
    "    oob_scores.append(oob_score)\n",
    "    print n_estimators, oob_score"
   ]
  },
  {
   "cell_type": "code",
   "execution_count": null,
   "metadata": {
    "ExecuteTime": {
     "end_time": "2017-08-01T16:58:32.031590Z",
     "start_time": "2017-08-01T16:56:53.022Z"
    },
    "collapsed": true
   },
   "outputs": [],
   "source": [
    "plot(arange(24, 1500, 48)[:len(oob_scores)], oob_scores);"
   ]
  },
  {
   "cell_type": "markdown",
   "metadata": {},
   "source": [
    "ок, выберем 600 деревьев и найдем лучше параметры. Когда найдем - посмотрим скор на 1200 деревьях"
   ]
  },
  {
   "cell_type": "code",
   "execution_count": null,
   "metadata": {
    "ExecuteTime": {
     "end_time": "2017-08-01T16:58:32.033183Z",
     "start_time": "2017-08-01T16:56:53.026Z"
    },
    "collapsed": true
   },
   "outputs": [],
   "source": [
    "%%time\n",
    "from sklearn.model_selection import RandomizedSearchCV\n",
    "param_distributions = {'criterion': ['gini', 'entropy'], \n",
    "                       'max_features': ['sqrt', 'log2', None], \n",
    "                       'max_depth': [3, 10, 20, None],\n",
    "                       'bootstrap': [True, False]}\n",
    "\n",
    "\n",
    "RF = RandomForestClassifier(random_state=42, n_jobs=2, n_estimators=600)\n",
    "grid_searcher = RandomizedSearchCV(RF, param_distributions, n_iter=20, \n",
    "                                   cv=kfold, scoring='roc_auc',\n",
    "                                   verbose=True)\n",
    "grid_searcher.fit(X, y)\n",
    "print 'best score:', grid_searcher.best_score_, grid_searcher.best_params_"
   ]
  },
  {
   "cell_type": "markdown",
   "metadata": {},
   "source": [
    "Всего лишь час ожидания - и мы нашли идеальные параметры. Это нам дало ~1% к скору. \n",
    "\n",
    "Ожидаемо, мы используем bootstrap, а при выборе фичей на каждом сплите ограничиваемся значением по умолчанию - sqrt из количества фичей. Немного удивительно, что оно выбрало max_depth=20. Давайте посмотрим, какие наборы гипер-параметров показывают близкие значения roc_auc:"
   ]
  },
  {
   "cell_type": "code",
   "execution_count": null,
   "metadata": {
    "ExecuteTime": {
     "end_time": "2017-08-01T16:58:32.034567Z",
     "start_time": "2017-08-01T16:56:53.031Z"
    },
    "collapsed": true
   },
   "outputs": [],
   "source": [
    "grid_searcher.grid_scores_"
   ]
  },
  {
   "cell_type": "markdown",
   "metadata": {},
   "source": [
    "Хм, есть ощущение, что надо попробовать max_depth=None просто не повезло соседствовать с хорошими гипер-параметрами. Давайте посмотрим:"
   ]
  },
  {
   "cell_type": "code",
   "execution_count": null,
   "metadata": {
    "ExecuteTime": {
     "end_time": "2017-08-01T16:58:32.035918Z",
     "start_time": "2017-08-01T16:56:53.035Z"
    },
    "collapsed": true
   },
   "outputs": [],
   "source": [
    "RF = RandomForestClassifier(random_state=42, n_jobs=24, n_estimators=600, \n",
    "                            criterion= 'entropy')\n",
    "cross_val_score(RF, X, y, cv=kfold, scoring='roc_auc')"
   ]
  },
  {
   "cell_type": "markdown",
   "metadata": {},
   "source": [
    "Кажется, глубина в 20 действительно что-то дает. Давайте еще поварьируем глубину.."
   ]
  },
  {
   "cell_type": "code",
   "execution_count": null,
   "metadata": {
    "ExecuteTime": {
     "end_time": "2017-08-01T16:58:32.037761Z",
     "start_time": "2017-08-01T16:56:53.040Z"
    },
    "collapsed": true
   },
   "outputs": [],
   "source": [
    "RF = RandomForestClassifier(random_state=42, oob_score=True, n_estimators=600, n_jobs=24)\n",
    "\n",
    "oob_scores = []\n",
    "for max_depth in [13, 17, 21, 25, 29, 33, 37]:\n",
    "    RF.max_depth = max_depth\n",
    "    %time RF.fit(X, y)\n",
    "    oob_score = RF.oob_score_\n",
    "    oob_scores.append(oob_score)\n",
    "    print max_depth, oob_score"
   ]
  },
  {
   "cell_type": "markdown",
   "metadata": {
    "collapsed": true
   },
   "source": [
    "глубина 20 действительно дает лучший результат"
   ]
  },
  {
   "cell_type": "markdown",
   "metadata": {},
   "source": [
    "## Давайте попробуем XGBoost.\n",
    "Вообще, с этого стоило начать, но почему не оставить сладкое на потом? :)\n",
    "\n",
    "Градиентный бустинг и его реализация <a href=\"http://xgboost.readthedocs.io/en/latest/\">XGBoost</a> - самый популярный в соревнованиях алгоритм машинного обучения. Его принцип: последовательное добавление решающих деревьев к композиции. Каждое следующее дерево исправляет ошибки предыдущей композиции деревьев."
   ]
  },
  {
   "cell_type": "code",
   "execution_count": null,
   "metadata": {
    "ExecuteTime": {
     "end_time": "2017-08-01T16:58:32.039325Z",
     "start_time": "2017-08-01T16:56:53.045Z"
    },
    "collapsed": true
   },
   "outputs": [],
   "source": [
    "import xgboost as xgb\n",
    "from xgboost import XGBClassifier"
   ]
  },
  {
   "cell_type": "code",
   "execution_count": null,
   "metadata": {
    "ExecuteTime": {
     "end_time": "2017-08-01T16:58:32.040775Z",
     "start_time": "2017-08-01T16:56:53.048Z"
    },
    "collapsed": true
   },
   "outputs": [],
   "source": [
    "XGB = XGBClassifier()\n",
    "cross_val_score(XGB, X, y, cv=kfold, scoring='roc_auc')"
   ]
  },
  {
   "cell_type": "markdown",
   "metadata": {},
   "source": [
    "Ну что ж, это на процент лучше чем RF. Есть смысл поварьировать параметры - оставляю это вам. В отличие от RF, тут нет такого правила, что чем больше деревьев - тем лучше. Увеличение дает переобучение, под это даже есть некоторая теоретическая база, хотя некоторые утверждают иначе. Не верьте им ;)"
   ]
  },
  {
   "cell_type": "markdown",
   "metadata": {},
   "source": [
    "Давайте же скорее предскажем значения на настоящей тестовой выборке и займем почетное 1-е место."
   ]
  },
  {
   "cell_type": "code",
   "execution_count": null,
   "metadata": {
    "ExecuteTime": {
     "end_time": "2017-08-01T16:58:32.042891Z",
     "start_time": "2017-08-01T16:56:53.055Z"
    },
    "collapsed": true
   },
   "outputs": [],
   "source": [
    "# обучаем xgboost на всей выборке:\n",
    "XGB.fit(X,y)\n",
    "# оцениваем вероятность 1-го класса на тестовой выборке\n",
    "probas = XGB.predict_proba(X_test_scaled)[:,1]"
   ]
  },
  {
   "cell_type": "markdown",
   "metadata": {},
   "source": [
    "Генерируем файл-ответ:"
   ]
  },
  {
   "cell_type": "code",
   "execution_count": null,
   "metadata": {
    "ExecuteTime": {
     "end_time": "2017-08-01T16:58:32.044327Z",
     "start_time": "2017-08-01T16:56:53.058Z"
    },
    "collapsed": true
   },
   "outputs": [],
   "source": [
    "df_to_save = pd.DataFrame(data={\"_ID_\" : df_test['client_id'], \n",
    "                                \"_VAL_\": probas}) \n",
    "df_to_save.to_csv(\"submission.csv\", sep=',' , index=False)"
   ]
  },
  {
   "cell_type": "markdown",
   "metadata": {},
   "source": [
    "Это нам дает <a href=\"https://boosters.pro/champ_3?success=0#\">217 место на лидерборде</a>. Видимо, не только мы умеем пользоваться xgboost'ом  ;)"
   ]
  },
  {
   "cell_type": "markdown",
   "metadata": {},
   "source": [
    "## Советы по улучшению.\n",
    "\n",
    "0) в xgboost'е можно оптимизировать ранжирование (а ROC AUC - внезапно метрика качества ранжирования). Гуглить direct auc optimization, objective='rank:pairwise', eval_metric='auc'. У меня за 10 мин из этого ничего не вышло, но мб я просто мало копал.\n",
    "\n",
    "1) Попробуйте поварьировать параметры xgboost'а, как мы это делали для RF. XGBoost обучается быстрее и это у вас займет меньше времени. Перед этим стоит оценить, сколько вам нужно фолдов. Я бы взял как минимум 5, потому как для 3-х фолдов, скор их среднего, дает какой-то рандом. То, как можно выбирать кол-во фолдов описано в ноутбуке cross_validation.ipynb\n",
    "\n",
    "2) вообще говоря, xgboost умеет более умно работать с пропусками данных, чем то, как мы с ними поступили. Погуглите эту тему. Попробуйте другие стратегии заполнения пропусков. Попробуйте другие способы преобразования категориальных фичей.\n",
    "\n",
    "2.5) возможно, какие-то фичи портят решение. С xgboost'ом такое редко бывает, но не будет лишним попробовать повыкидывать по 1 фиче и посмотреть, не улучашется ли результат.\n",
    "\n",
    "3) Стеккинг. Собственно, из-за этого процессорное время на обучение растягивается от 5 минут до бесконечности. Суть такая: мы с вами обучили 3 алгоритма: RF, XGB, LR. Давайте просуммируем их predict_proba с некоторыми коэффициентами, которые можем хоть перебором найти. Понятно, что более хорошие алгоритмы будут иметь более весомые коэффициенты. В принципе, мы можем взять все известные нам алгоритмы, взять все их гипер-парамеры, взять 100500 подвыборок от данных и 100500 различных преобразований с колонками данных (добавление/удаление тоже считается), все это смешать и получить супер-алгоритм, которы будет работать вечно и никогда не будет встроен в продакшен. Иногда это дает +1% или 2% к итоговому результату. \n",
    "\n",
    "Собственно, в конкурсах так и происходит. У людей уже написан код, который запускает эту махину на произвольных входных данных. Остается только курить трубку да поглядывать на прогресс. \n",
    "\n",
    "Конечно, все равно выигрывают те, кто подумал головой и нашел какие-то закономерности в данных. Как, например, длина шерсти из нашей задачки про shelter animals или фаза луны, в которой происходит кредитование. Такую зависимость перебором найти сложно. Но и без stacking уже не выиграешь ;)"
   ]
  },
  {
   "cell_type": "markdown",
   "metadata": {
    "ExecuteTime": {
     "end_time": "2017-07-12T12:50:03.993166Z",
     "start_time": "2017-07-12T15:50:03.975916+03:00"
    }
   },
   "source": [
    "Библиотеки для стеккинга, автоматизированного подбора параметров и модификаций данных:\n",
    "    \n",
    "-  https://github.com/yandex/rep - scikit-learn -совместимый враппер для различных библиотек. Умный подбор гиперпараметров. Стеккинг <br>\n",
    "- http://hyperopt.github.io/hyperopt-sklearn - подбор гиперпараметров, ориентированный на конкретный алгоритм<br>\n",
    "- https://github.com/rhiever/tpot - черный ящик из алгоритмов и пердобработок, который можно оставить на несколько часов/дней и получить чрезвычано сложную, но оптимальную модель<br>"
   ]
  },
  {
   "cell_type": "markdown",
   "metadata": {},
   "source": [
    "<img src=\"http://risovach.ru/upload/2014/09/mem/koshecka_61329312_orig_.jpg\" width=300>"
   ]
  }
 ],
 "metadata": {
  "kernelspec": {
   "display_name": "Python 2",
   "language": "python",
   "name": "python2"
  },
  "language_info": {
   "codemirror_mode": {
    "name": "ipython",
    "version": 2
   },
   "file_extension": ".py",
   "mimetype": "text/x-python",
   "name": "python",
   "nbconvert_exporter": "python",
   "pygments_lexer": "ipython2",
   "version": "2.7.11"
  }
 },
 "nbformat": 4,
 "nbformat_minor": 1
}

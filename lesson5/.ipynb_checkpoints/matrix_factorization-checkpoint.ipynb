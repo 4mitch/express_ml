{
 "cells": [
  {
   "cell_type": "markdown",
   "metadata": {},
   "source": [
    "## Andrew Ng\n",
    "https://www.youtube.com/watch?v=RcOUXmCAssg&list=PL0Smm0jPm9WcCsYvbhPCdizqNKps69W4Z&index=96"
   ]
  },
  {
   "cell_type": "markdown",
   "metadata": {},
   "source": [
    "<img src='data/1.jpg'>\n",
    "<img src='data/2.jpg'>\n",
    "<img src='data/3.jpg'>\n",
    "<img src='data/4.jpg'>\n",
    "<img src='data/5.jpg'>\n",
    "<img src='data/6.jpg'>\n",
    "<img src='data/7.jpg'>\n",
    "<img src='data/8.jpg'>\n",
    "<img src='data/9.jpg'>\n",
    "<img src='data/10.jpg'>\n",
    "<img src='data/11.jpg'>"
   ]
  },
  {
   "cell_type": "code",
   "execution_count": null,
   "metadata": {
    "collapsed": true
   },
   "outputs": [],
   "source": [
    "#!brew install gcc\n",
    "!pip install implicit\n",
    "\n",
    "# https://github.com/benfred/implicit"
   ]
  },
  {
   "cell_type": "code",
   "execution_count": 6,
   "metadata": {
    "ExecuteTime": {
     "end_time": "2017-05-06T02:57:51.681802Z",
     "start_time": "2017-05-06T05:57:51.670339+03:00"
    }
   },
   "outputs": [
    {
     "data": {
      "text/plain": [
       "array([[5, 5, 0, 0],\n",
       "       [5, 0, 0, 0],\n",
       "       [0, 4, 0, 0],\n",
       "       [0, 0, 5, 4],\n",
       "       [0, 0, 5, 0]])"
      ]
     },
     "execution_count": 6,
     "metadata": {},
     "output_type": "execute_result"
    }
   ],
   "source": [
    "from scipy.sparse import csr_matrix\n",
    "import numpy as np\n",
    "row =  np.array([0,0,0,0, 1,1, 2,2, 3,3,3,3, 4,4,4,4])\n",
    "col =  np.array([0,1,2,3, 0,3, 1,2, 0,1,2,3, 0,1,2,3])\n",
    "data = np.array([5,5,0,0, 5,0, 4,0, 0,0,5,4, 0,0,5,0])\n",
    "csr_matrix((data, (row, col)), shape=(5, 4)).toarray()"
   ]
  },
  {
   "cell_type": "code",
   "execution_count": 52,
   "metadata": {
    "ExecuteTime": {
     "end_time": "2017-05-06T03:22:32.849151Z",
     "start_time": "2017-05-06T06:22:32.841352+03:00"
    }
   },
   "outputs": [
    {
     "data": {
      "text/plain": [
       "array([[ 5.,  5.,  0.,  0.,  0.],\n",
       "       [ 5.,  0.,  4.,  0.,  0.],\n",
       "       [ 0.,  0.,  0.,  5.,  5.],\n",
       "       [ 0.,  0.,  0.,  4.,  0.]])"
      ]
     },
     "execution_count": 52,
     "metadata": {},
     "output_type": "execute_result"
    }
   ],
   "source": [
    "item_user_data.T.toarray()"
   ]
  },
  {
   "cell_type": "markdown",
   "metadata": {},
   "source": [
    "<img src=\"data/matrix.jpg\">"
   ]
  },
  {
   "cell_type": "code",
   "execution_count": 34,
   "metadata": {
    "ExecuteTime": {
     "end_time": "2017-05-06T03:16:26.305554Z",
     "start_time": "2017-05-06T06:16:26.285994+03:00"
    }
   },
   "outputs": [
    {
     "name": "stdout",
     "output_type": "stream",
     "text": [
      "[(3, 0.99975885190978941), (4, 0.63208449704593628), (2, -1.7375554739601506e-06), (1, -0.051768825411294933)]\n",
      "[(0, 0.99999999999999989), (2, 0.50291600193847574), (1, 0.41923536776922199), (4, 0.058861662254942444), (3, -0.083070528825164261)]\n"
     ]
    }
   ],
   "source": [
    "import implicit\n",
    "\n",
    "# initialize a model\n",
    "model = implicit.als.AlternatingLeastSquares(factors=50)\n",
    "\n",
    "item_user_data = csr_matrix((data, (row, col)), shape=(5, 4), dtype='float')\n",
    "\n",
    "# train the model on a sparse matrix of item/user/confidence weights\n",
    "model.fit(item_user_data)\n",
    "\n",
    "# recommend items for a user\n",
    "print model.recommend(3, item_user_data.T)\n",
    "\n",
    "# find related items\n",
    "print model.similar_items(0, N=5)"
   ]
  },
  {
   "cell_type": "markdown",
   "metadata": {},
   "source": [
    "## Urls:\n",
    "\n",
    "user-based item-based code:<br>\n",
    "http://www.salemmarafi.com/code/collaborative-filtering-with-python/\n",
    "\n",
    "matrix factorization code:<br>\n",
    "http://www.quuxlabs.com/blog/2010/09/matrix-factorization-a-simple-tutorial-and-implementation-in-python/\n",
    "\n",
    "\n",
    "<b>Intro to Implicit Matrix Factorization: Classic ALS with Sketchfab Models:<br>\n",
    "http://blog.ethanrosenthal.com/2016/10/19/implicit-mf-part-1/</b>\n",
    "\n",
    "Learning to Rank Sketchfab Models with LightFM:<br>\n",
    "http://blog.ethanrosenthal.com/2016/11/07/implicit-mf-part-2/\n",
    "\n",
    "user-based item-based example with GraphLab<br>\n",
    "https://www.analyticsvidhya.com/blog/2016/06/quick-guide-build-recommendation-engine-python/\n",
    "\n",
    "<img src=\"http://i764.photobucket.com/albums/xx282/RaptorAnton/bash_eng/Hamster.png\">"
   ]
  },
  {
   "cell_type": "code",
   "execution_count": null,
   "metadata": {
    "collapsed": true
   },
   "outputs": [],
   "source": []
  }
 ],
 "metadata": {
  "kernelspec": {
   "display_name": "Python 2",
   "language": "python",
   "name": "python2"
  },
  "language_info": {
   "codemirror_mode": {
    "name": "ipython",
    "version": 2
   },
   "file_extension": ".py",
   "mimetype": "text/x-python",
   "name": "python",
   "nbconvert_exporter": "python",
   "pygments_lexer": "ipython2",
   "version": "2.7.11"
  }
 },
 "nbformat": 4,
 "nbformat_minor": 2
}

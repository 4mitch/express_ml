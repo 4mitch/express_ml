{
 "cells": [
  {
   "cell_type": "markdown",
   "metadata": {},
   "source": [
    "## Задание:"
   ]
  },
  {
   "cell_type": "code",
   "execution_count": 1,
   "metadata": {
    "collapsed": false
   },
   "outputs": [
    {
     "name": "stdout",
     "output_type": "stream",
     "text": [
      "Populating the interactive namespace from numpy and matplotlib\n"
     ]
    }
   ],
   "source": [
    "# Первое задание простое - выполните эту ячейку :)\n",
    "# популяризирует numpy, matplotlib.pyplot :\n",
    "%pylab inline    \n",
    "# рисование графиков в ноутбуке :\n",
    "%matplotlib inline \n",
    "# чтобы писать np.array вместо array :\n",
    "import numpy as np "
   ]
  },
  {
   "cell_type": "markdown",
   "metadata": {},
   "source": [
    "##### Что больше $\\pi^e$ или $e^\\pi$ ? \n",
    "\n",
    "Воспользуйтесь встроенными константами np.pi и np.e"
   ]
  },
  {
   "cell_type": "code",
   "execution_count": 12,
   "metadata": {
    "collapsed": false
   },
   "outputs": [
    {
     "data": {
      "text/plain": [
       "'pi^e is smaller than e^pi'"
      ]
     },
     "execution_count": 12,
     "metadata": {},
     "output_type": "execute_result"
    }
   ],
   "source": [
    "'pi^e is {} than e^pi'.format((\n",
    "     'greater'  if (np.pi ** np.e > np.e ** np.pi) else 'smaller'),)"
   ]
  },
  {
   "cell_type": "markdown",
   "metadata": {},
   "source": [
    "##### Фильтрация элементов в массиве\n",
    "\n",
    "Создайте массив из последовательности чисел от 1 до 10 (функция <a href=\"https://docs.scipy.org/doc/numpy/reference/generated/numpy.arange.html\">np.arange</a>)\n",
    "\n",
    "Выведете этот массив в обратном порядке. \n",
    "Выведете каждый второй элемент. \n",
    "Выведете элементы большие числа 3. (<a href=\"https://docs.scipy.org/doc/numpy/reference/arrays.indexing.html\">numpy indexing tutorial</a>)"
   ]
  },
  {
   "cell_type": "code",
   "execution_count": 20,
   "metadata": {
    "collapsed": true
   },
   "outputs": [],
   "source": [
    "x = np.arange(1, 11, 1.)"
   ]
  },
  {
   "cell_type": "code",
   "execution_count": 21,
   "metadata": {
    "collapsed": false
   },
   "outputs": [
    {
     "data": {
      "text/plain": [
       "array([  1.,   2.,   3.,   4.,   5.,   6.,   7.,   8.,   9.,  10.])"
      ]
     },
     "execution_count": 21,
     "metadata": {},
     "output_type": "execute_result"
    }
   ],
   "source": [
    "x"
   ]
  },
  {
   "cell_type": "code",
   "execution_count": 23,
   "metadata": {
    "collapsed": false
   },
   "outputs": [
    {
     "data": {
      "text/plain": [
       "array([  1. ,   5.5,  10. ])"
      ]
     },
     "execution_count": 23,
     "metadata": {},
     "output_type": "execute_result"
    }
   ],
   "source": [
    "np.linspace(1, 10, 3)"
   ]
  },
  {
   "cell_type": "code",
   "execution_count": 24,
   "metadata": {
    "collapsed": false
   },
   "outputs": [
    {
     "data": {
      "text/plain": [
       "array([  1.,   2.,   3.,   4.,   5.,   6.,   7.,   8.,   9.,  10.])"
      ]
     },
     "execution_count": 24,
     "metadata": {},
     "output_type": "execute_result"
    }
   ],
   "source": [
    "x"
   ]
  },
  {
   "cell_type": "code",
   "execution_count": 32,
   "metadata": {
    "collapsed": false
   },
   "outputs": [
    {
     "name": "stdout",
     "output_type": "stream",
     "text": [
      "[ 1  2  3  4  5  6  7  8  9 10]\n",
      "[10  8  6  4  2]\n",
      "[ 2  4  6  8 10]\n",
      "[ 4  5  6  7  8  9 10]\n"
     ]
    }
   ],
   "source": [
    "x = np.arange(1, 11)\n",
    "print x\n",
    "print x[::-2]\n",
    "print x[1::2]\n",
    "print x[x>3]"
   ]
  },
  {
   "cell_type": "markdown",
   "metadata": {},
   "source": [
    "##### Операции с массивами\n",
    "\n",
    "Создайте 5 одномерных массивов: первый из единиц, второй из двоек и т.д.\n",
    "Объедините массивы в с помощью функции <a href=\"https://docs.scipy.org/doc/numpy/reference/generated/numpy.vstack.html\">np.vstack</a> в матрицу A (на самом деле 2-мервный массив). \n",
    "Сделайте копию А с помощью <a href=\"https://docs.scipy.org/doc/numpy/reference/generated/numpy.copy.html\">np.copy</a> и назовите её B. Вычислите честное матричной произведение (метод функция <a href=\"https://docs.scipy.org/doc/numpy/reference/generated/numpy.dot.html\">np.dot</a>) между матрицей A и B транспонированной (метод <a href=\"https://docs.scipy.org/doc/numpy-1.9.1/reference/generated/numpy.ndarray.T.html\">.T</a>). Выведете ответ"
   ]
  },
  {
   "cell_type": "code",
   "execution_count": 35,
   "metadata": {
    "collapsed": false
   },
   "outputs": [
    {
     "name": "stdout",
     "output_type": "stream",
     "text": [
      "[array([ 1.,  1.,  1.,  1.,  1.,  1.,  1.,  1.,  1.,  1.]), array([ 2.,  2.,  2.,  2.,  2.,  2.,  2.,  2.,  2.,  2.]), array([ 3.,  3.,  3.,  3.,  3.,  3.,  3.,  3.,  3.,  3.]), array([ 4.,  4.,  4.,  4.,  4.,  4.,  4.,  4.,  4.,  4.]), array([ 5.,  5.,  5.,  5.,  5.,  5.,  5.,  5.,  5.,  5.])]\n",
      "[[ 1.  1.  1.  1.  1.  1.  1.  1.  1.  1.]\n",
      " [ 2.  2.  2.  2.  2.  2.  2.  2.  2.  2.]\n",
      " [ 3.  3.  3.  3.  3.  3.  3.  3.  3.  3.]\n",
      " [ 4.  4.  4.  4.  4.  4.  4.  4.  4.  4.]\n",
      " [ 5.  5.  5.  5.  5.  5.  5.  5.  5.  5.]]\n",
      "[[  10.   20.   30.   40.   50.]\n",
      " [  20.   40.   60.   80.  100.]\n",
      " [  30.   60.   90.  120.  150.]\n",
      " [  40.   80.  120.  160.  200.]\n",
      " [  50.  100.  150.  200.  250.]]\n"
     ]
    },
    {
     "name": "stderr",
     "output_type": "stream",
     "text": [
      "/usr/local/lib/python2.7/site-packages/numpy/core/numeric.py:294: FutureWarning: in the future, full(10, 1) will return an array of dtype('int64')\n",
      "  format(shape, fill_value, array(fill_value).dtype), FutureWarning)\n",
      "/usr/local/lib/python2.7/site-packages/numpy/core/numeric.py:294: FutureWarning: in the future, full(10, 2) will return an array of dtype('int64')\n",
      "  format(shape, fill_value, array(fill_value).dtype), FutureWarning)\n",
      "/usr/local/lib/python2.7/site-packages/numpy/core/numeric.py:294: FutureWarning: in the future, full(10, 3) will return an array of dtype('int64')\n",
      "  format(shape, fill_value, array(fill_value).dtype), FutureWarning)\n",
      "/usr/local/lib/python2.7/site-packages/numpy/core/numeric.py:294: FutureWarning: in the future, full(10, 4) will return an array of dtype('int64')\n",
      "  format(shape, fill_value, array(fill_value).dtype), FutureWarning)\n",
      "/usr/local/lib/python2.7/site-packages/numpy/core/numeric.py:294: FutureWarning: in the future, full(10, 5) will return an array of dtype('int64')\n",
      "  format(shape, fill_value, array(fill_value).dtype), FutureWarning)\n"
     ]
    }
   ],
   "source": [
    "arrays = []\n",
    "for i in xrange(1, 6):\n",
    "    arrays.append(np.full(10, i))\n",
    "    \n",
    "print arrays\n",
    "A = np.vstack(arrays)\n",
    "print A\n",
    "B = np.copy(A)\n",
    "C = A.dot(B.T)\n",
    "print C"
   ]
  },
  {
   "cell_type": "markdown",
   "metadata": {},
   "source": [
    "##### Max / min\n",
    "\n",
    "Найдите максимум и минимум в полученной матрицы из задания выше (методы <a href=\"https://docs.scipy.org/doc/numpy/reference/generated/numpy.ndarray.max.html\">.max</a> и <a href=\"https://docs.scipy.org/doc/numpy/reference/generated/numpy.ndarray.min.html\">.min</a> класса numpy.ndarray). Так же найдите максимумы в строках и столбцах (параметр axes)."
   ]
  },
  {
   "cell_type": "code",
   "execution_count": 36,
   "metadata": {
    "collapsed": false
   },
   "outputs": [
    {
     "data": {
      "text/plain": [
       "array([[ 1.,  1.,  1.,  1.,  1.,  1.,  1.,  1.,  1.,  1.],\n",
       "       [ 2.,  2.,  2.,  2.,  2.,  2.,  2.,  2.,  2.,  2.],\n",
       "       [ 3.,  3.,  3.,  3.,  3.,  3.,  3.,  3.,  3.,  3.],\n",
       "       [ 4.,  4.,  4.,  4.,  4.,  4.,  4.,  4.,  4.,  4.],\n",
       "       [ 5.,  5.,  5.,  5.,  5.,  5.,  5.,  5.,  5.,  5.]])"
      ]
     },
     "execution_count": 36,
     "metadata": {},
     "output_type": "execute_result"
    }
   ],
   "source": [
    "A"
   ]
  },
  {
   "cell_type": "code",
   "execution_count": 66,
   "metadata": {
    "collapsed": false
   },
   "outputs": [
    {
     "name": "stdout",
     "output_type": "stream",
     "text": [
      "5.0\n",
      "1.0\n",
      "[ 1.  2.  3.  4.  5.]\n",
      "[ 5.  5.  5.  5.  5.  5.  5.  5.  5.  5.]\n"
     ]
    }
   ],
   "source": [
    "print A.max()\n",
    "print A.min()\n",
    "print A.max(axis=1)  # в строках\n",
    "print A.max(axis=0)  # в столбцах"
   ]
  },
  {
   "cell_type": "code",
   "execution_count": 40,
   "metadata": {
    "collapsed": false
   },
   "outputs": [
    {
     "data": {
      "text/plain": [
       "array([ 4.,  4.,  4.,  4.,  4.,  4.,  4.,  4.,  4.,  4.])"
      ]
     },
     "execution_count": 40,
     "metadata": {},
     "output_type": "execute_result"
    }
   ],
   "source": [
    "A[3,:]"
   ]
  },
  {
   "cell_type": "markdown",
   "metadata": {},
   "source": [
    "##### Индексирование*\n",
    "Напишите функцию, возвращающую максимальный элемент в векторе x среди элементов, перед которыми стоит нулевой. <br>\n",
    "Для x = np.array([6, 2, 0, 3, 0, 0, 5, 7, 0]) ответом является 5. Если нулевых элементов нет, функция должна возвращать None.\n",
    "\n",
    "Для решения можно использовать функцию <a href=\"https://docs.scipy.org/doc/numpy/reference/generated/numpy.where.html\">np.where</a>. Эта функция может быть использована для получиения индексов элементов в массиве, которые подчиняются логическому условию. Например:\n",
    "np.where(np.array([1, 4, 7, 5, 2]) % 2 == 0)[0] возвращает индексы четных элементов: array([1, 4])"
   ]
  },
  {
   "cell_type": "code",
   "execution_count": 51,
   "metadata": {
    "collapsed": false
   },
   "outputs": [
    {
     "name": "stdout",
     "output_type": "stream",
     "text": [
      "[2 4 5]\n"
     ]
    },
    {
     "data": {
      "text/plain": [
       "5"
      ]
     },
     "execution_count": 51,
     "metadata": {},
     "output_type": "execute_result"
    }
   ],
   "source": [
    "def max_element(arr):\n",
    "    zeros_indexes = np.where(arr[:-1] == 0)[0]\n",
    "    print zeros_indexes\n",
    "    return np.max(arr[zeros_indexes + 1])\n",
    "    \n",
    "max_element(np.array([6, 2, 0, 3, 0, 0, 5, 7, 0]))"
   ]
  },
  {
   "cell_type": "code",
   "execution_count": 50,
   "metadata": {
    "collapsed": false
   },
   "outputs": [
    {
     "data": {
      "text/plain": [
       "array([0, 2])"
      ]
     },
     "execution_count": 50,
     "metadata": {},
     "output_type": "execute_result"
    }
   ],
   "source": [
    "np.where([True, False, True])[0]"
   ]
  },
  {
   "cell_type": "code",
   "execution_count": 68,
   "metadata": {
    "collapsed": false
   },
   "outputs": [
    {
     "data": {
      "text/plain": [
       "array([False,  True, False, False,  True], dtype=bool)"
      ]
     },
     "execution_count": 68,
     "metadata": {},
     "output_type": "execute_result"
    }
   ],
   "source": [
    "np.array([1, 4, 7, 5, 2]) % 2 == 0"
   ]
  },
  {
   "cell_type": "code",
   "execution_count": 70,
   "metadata": {
    "collapsed": false
   },
   "outputs": [
    {
     "data": {
      "text/plain": [
       "array([1, 4])"
      ]
     },
     "execution_count": 70,
     "metadata": {},
     "output_type": "execute_result"
    }
   ],
   "source": [
    "np.where(np.array([1, 4, 7, 5, 2]) % 2 == 0)[0]"
   ]
  },
  {
   "cell_type": "markdown",
   "metadata": {
    "collapsed": true
   },
   "source": [
    "##### Гистограмма значений\n",
    "Превратите матрицу в 1D массив с помощью метода <a href=\"https://docs.scipy.org/doc/numpy/reference/generated/numpy.ndarray.flatten.html\">.flatten()</a> и выведете гистограмму значений результата с помощью функции <a href=\"https://docs.scipy.org/doc/numpy/reference/generated/numpy.histogram.html\"> hist()</a>. Она принимает на вход массив. Так же можно задать параметр bins=100"
   ]
  },
  {
   "cell_type": "code",
   "execution_count": 52,
   "metadata": {
    "collapsed": false
   },
   "outputs": [
    {
     "data": {
      "text/plain": [
       "array([[ 1.,  1.,  1.,  1.,  1.,  1.,  1.,  1.,  1.,  1.],\n",
       "       [ 2.,  2.,  2.,  2.,  2.,  2.,  2.,  2.,  2.,  2.],\n",
       "       [ 3.,  3.,  3.,  3.,  3.,  3.,  3.,  3.,  3.,  3.],\n",
       "       [ 4.,  4.,  4.,  4.,  4.,  4.,  4.,  4.,  4.,  4.],\n",
       "       [ 5.,  5.,  5.,  5.,  5.,  5.,  5.,  5.,  5.,  5.]])"
      ]
     },
     "execution_count": 52,
     "metadata": {},
     "output_type": "execute_result"
    }
   ],
   "source": [
    "A"
   ]
  },
  {
   "cell_type": "code",
   "execution_count": 53,
   "metadata": {
    "collapsed": false
   },
   "outputs": [
    {
     "data": {
      "text/plain": [
       "array([ 1.,  1.,  1.,  1.,  1.,  1.,  1.,  1.,  1.,  1.,  2.,  2.,  2.,\n",
       "        2.,  2.,  2.,  2.,  2.,  2.,  2.,  3.,  3.,  3.,  3.,  3.,  3.,\n",
       "        3.,  3.,  3.,  3.,  4.,  4.,  4.,  4.,  4.,  4.,  4.,  4.,  4.,\n",
       "        4.,  5.,  5.,  5.,  5.,  5.,  5.,  5.,  5.,  5.,  5.])"
      ]
     },
     "execution_count": 53,
     "metadata": {},
     "output_type": "execute_result"
    }
   ],
   "source": [
    "A.flatten()"
   ]
  },
  {
   "cell_type": "code",
   "execution_count": 54,
   "metadata": {
    "collapsed": false
   },
   "outputs": [
    {
     "data": {
      "text/plain": [
       "(array([ 10.,   0.,  10.,   0.,   0.,  10.,   0.,  10.,   0.,  10.]),\n",
       " array([ 1. ,  1.4,  1.8,  2.2,  2.6,  3. ,  3.4,  3.8,  4.2,  4.6,  5. ]),\n",
       " <a list of 10 Patch objects>)"
      ]
     },
     "execution_count": 54,
     "metadata": {},
     "output_type": "execute_result"
    },
    {
     "data": {
      "image/png": "[encoded data removed]",
      "text/plain": [
       "<matplotlib.figure.Figure at 0x104134890>"
      ]
     },
     "metadata": {},
     "output_type": "display_data"
    }
   ],
   "source": [
    "hist(A.flatten())"
   ]
  },
  {
   "cell_type": "code",
   "execution_count": 56,
   "metadata": {
    "collapsed": false
   },
   "outputs": [
    {
     "data": {
      "text/plain": [
       "array([  5.71078593, -20.09557402,  -1.05959018,  -0.83709975,\n",
       "         2.37806473,  11.1217358 ,   0.84811728, -11.25908148,\n",
       "         4.89593398,   6.71712426,   4.64366327,  10.36853565,\n",
       "         4.07787628,  -2.40527011, -10.96047439,  -5.61503991,\n",
       "         1.21474395,   5.42466706,  -2.48274681,  -8.98021602,\n",
       "       -11.78113762,   2.49691982,  -5.59568321,  -2.70124577,\n",
       "         0.65264794,   1.77863964,   9.90889529,  -8.59493849,\n",
       "        -1.56226887,   2.53494274,   8.59372602,  23.18726058,\n",
       "         1.04028547, -17.07289258,   4.49942603,  10.71629079,\n",
       "        -4.90968116,   9.83768407, -13.35584138,   5.52578896,\n",
       "        -5.23425058,  -5.9372881 ,  -9.26277042,   0.78435677,\n",
       "       -21.624204  ,  -7.41274953, -18.07268464,  -4.51407567,\n",
       "         1.54161675,   7.83937797,   9.15633214,  -5.03437279,\n",
       "         6.25553858,  11.95239327,  12.53482526, -24.09394251,\n",
       "         2.01713571, -12.09579979,   4.28771285,   7.26057508,\n",
       "        -1.51714756,   4.88730592,  10.33659961,   6.35913555,\n",
       "       -26.46163543,   1.40475266,  -7.77027003,   1.69247369,\n",
       "       -14.91403987,  11.14988308,  -1.07956088,  12.06746069,\n",
       "        -2.72107777,  -4.91919427,   3.23542407, -19.2336269 ,\n",
       "        -9.63151841,  -4.24833828,  -0.06419121,  -4.65098783,\n",
       "         4.01768521, -10.82282913,  17.05519221,  -4.58382721,\n",
       "        -4.73111548,   6.48091607,   8.35470392,  -1.84188067,\n",
       "         8.32133589,   2.44564818,  -0.39418491,  -4.11646004,\n",
       "        -3.81011857,  -5.63986054,   3.07202214,   0.02773255,\n",
       "        -2.89342138,   3.08701068,   5.89351269, -10.41964723])"
      ]
     },
     "execution_count": 56,
     "metadata": {},
     "output_type": "execute_result"
    }
   ],
   "source": [
    "np.random.normal(0, 10, 100)"
   ]
  },
  {
   "cell_type": "code",
   "execution_count": 61,
   "metadata": {
    "collapsed": false
   },
   "outputs": [
    {
     "data": {
      "image/png": "[encoded data removed]",
      "text/plain": [
       "<matplotlib.figure.Figure at 0x105b5cb90>"
      ]
     },
     "metadata": {},
     "output_type": "display_data"
    }
   ],
   "source": [
    "_ = hist(np.random.normal(0, 10, 100), bins=2)"
   ]
  },
  {
   "cell_type": "markdown",
   "metadata": {},
   "source": [
    "##### Матожидание числа угадываний*\n",
    "\n",
    "За сколько попыток можно угать число от 1 до 100? Придумайте схему испытаний, проведите необходимое количество замеров. В ответе напишите матожидание, среднее отклонение и выведете гистограму полученных значений. "
   ]
  },
  {
   "cell_type": "code",
   "execution_count": 63,
   "metadata": {
    "collapsed": false
   },
   "outputs": [
    {
     "name": "stdout",
     "output_type": "stream",
     "text": [
      "10.49193\n",
      "5.7629588646\n"
     ]
    },
    {
     "data": {
      "image/png": "[encoded data removed]",
      "text/plain": [
       "<matplotlib.figure.Figure at 0x102e03bd0>"
      ]
     },
     "metadata": {},
     "output_type": "display_data"
    }
   ],
   "source": [
    "shuffled_array = np.arange(1, 21)\n",
    "guess_number = []\n",
    "\n",
    "for i in xrange(100000):\n",
    "    random_number = np.random.randint(1, 21)\n",
    "    np.random.shuffle(shuffled_array)\n",
    "    index = np.where(shuffled_array == random_number)[0][0]\n",
    "    guess_number.append(index + 1)\n",
    "\n",
    "print np.mean(guess_number)\n",
    "print np.std(guess_number)\n",
    "_ = hist(guess_number)"
   ]
  },
  {
   "cell_type": "code",
   "execution_count": 93,
   "metadata": {
    "collapsed": false
   },
   "outputs": [
    {
     "data": {
      "text/plain": [
       "0"
      ]
     },
     "execution_count": 93,
     "metadata": {},
     "output_type": "execute_result"
    }
   ],
   "source": [
    "np.where(np.array([1, 2, 3]) == 4)[0].size"
   ]
  },
  {
   "cell_type": "code",
   "execution_count": 87,
   "metadata": {
    "collapsed": false
   },
   "outputs": [
    {
     "data": {
      "text/plain": [
       "array([False, False,  True], dtype=bool)"
      ]
     },
     "execution_count": 87,
     "metadata": {},
     "output_type": "execute_result"
    }
   ],
   "source": [
    "np.array([1, 2, 3]) == 3"
   ]
  },
  {
   "cell_type": "code",
   "execution_count": 84,
   "metadata": {
    "collapsed": false
   },
   "outputs": [
    {
     "data": {
      "text/plain": [
       "2"
      ]
     },
     "execution_count": 84,
     "metadata": {},
     "output_type": "execute_result"
    }
   ],
   "source": [
    "np.random.randint(1, 3)"
   ]
  },
  {
   "cell_type": "markdown",
   "metadata": {},
   "source": [
    "<img src=\"http://imgs.xkcd.com/comics/psychic.png\">"
   ]
  },
  {
   "cell_type": "code",
   "execution_count": 69,
   "metadata": {
    "collapsed": true
   },
   "outputs": [],
   "source": [
    "X = np.array([9.8, 10, 11, 9, 10.2])"
   ]
  },
  {
   "cell_type": "code",
   "execution_count": 70,
   "metadata": {
    "collapsed": false
   },
   "outputs": [
    {
     "data": {
      "text/plain": [
       "10.0"
      ]
     },
     "execution_count": 70,
     "metadata": {},
     "output_type": "execute_result"
    }
   ],
   "source": [
    "X.mean()"
   ]
  },
  {
   "cell_type": "code",
   "execution_count": 72,
   "metadata": {
    "collapsed": false
   },
   "outputs": [],
   "source": [
    "err = np.array([9.8, 10, 11, 9, 10.2]) - 10."
   ]
  },
  {
   "cell_type": "code",
   "execution_count": 73,
   "metadata": {
    "collapsed": false
   },
   "outputs": [
    {
     "data": {
      "text/plain": [
       "array([-0.2,  0. ,  1. , -1. ,  0.2])"
      ]
     },
     "execution_count": 73,
     "metadata": {},
     "output_type": "execute_result"
    }
   ],
   "source": [
    "err"
   ]
  },
  {
   "cell_type": "code",
   "execution_count": 74,
   "metadata": {
    "collapsed": false
   },
   "outputs": [
    {
     "data": {
      "text/plain": [
       "array([ 0.04,  0.  ,  1.  ,  1.  ,  0.04])"
      ]
     },
     "execution_count": 74,
     "metadata": {},
     "output_type": "execute_result"
    }
   ],
   "source": [
    "err ** 2"
   ]
  },
  {
   "cell_type": "code",
   "execution_count": 75,
   "metadata": {
    "collapsed": false
   },
   "outputs": [
    {
     "data": {
      "text/plain": [
       "0.41599999999999993"
      ]
     },
     "execution_count": 75,
     "metadata": {},
     "output_type": "execute_result"
    }
   ],
   "source": [
    "np.mean(err ** 2)"
   ]
  },
  {
   "cell_type": "code",
   "execution_count": 76,
   "metadata": {
    "collapsed": false
   },
   "outputs": [
    {
     "data": {
      "text/plain": [
       "0.64498061986388389"
      ]
     },
     "execution_count": 76,
     "metadata": {},
     "output_type": "execute_result"
    }
   ],
   "source": [
    "sqrt(np.mean(err ** 2))"
   ]
  },
  {
   "cell_type": "code",
   "execution_count": null,
   "metadata": {
    "collapsed": true
   },
   "outputs": [],
   "source": [
    "10 +/- 0.65"
   ]
  },
  {
   "cell_type": "code",
   "execution_count": null,
   "metadata": {
    "collapsed": true
   },
   "outputs": [],
   "source": []
  }
 ],
 "metadata": {
  "kernelspec": {
   "display_name": "Python 2",
   "language": "python",
   "name": "python2"
  },
  "language_info": {
   "codemirror_mode": {
    "name": "ipython",
    "version": 2
   },
   "file_extension": ".py",
   "mimetype": "text/x-python",
   "name": "python",
   "nbconvert_exporter": "python",
   "pygments_lexer": "ipython2",
   "version": "2.7.11"
  }
 },
 "nbformat": 4,
 "nbformat_minor": 0
}

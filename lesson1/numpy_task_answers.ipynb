{
 "cells": [
  {
   "cell_type": "markdown",
   "metadata": {},
   "source": [
    "## Задание:"
   ]
  },
  {
   "cell_type": "code",
   "execution_count": 1,
   "metadata": {
    "ExecuteTime": {
     "end_time": "2017-06-24T23:21:48.760990Z",
     "start_time": "2017-06-25T02:21:48.031058+03:00"
    }
   },
   "outputs": [
    {
     "name": "stdout",
     "output_type": "stream",
     "text": [
      "Populating the interactive namespace from numpy and matplotlib\n"
     ]
    }
   ],
   "source": [
    "# Первое задание простое - выполните эту ячейку :)\n",
    "# популяризирует numpy, matplotlib.pyplot :\n",
    "%pylab inline    \n",
    "# рисование графиков в ноутбуке :\n",
    "%matplotlib inline \n",
    "# чтобы писать np.array вместо array :\n",
    "import numpy as np "
   ]
  },
  {
   "cell_type": "markdown",
   "metadata": {},
   "source": [
    "##### Что больше $\\pi^e$ или $e^\\pi$ ? \n",
    "\n",
    "Воспользуйтесь встроенными константами np.pi и np.e"
   ]
  },
  {
   "cell_type": "code",
   "execution_count": 2,
   "metadata": {
    "ExecuteTime": {
     "end_time": "2017-06-24T23:21:48.774593Z",
     "start_time": "2017-06-25T02:21:48.764549+03:00"
    }
   },
   "outputs": [
    {
     "data": {
      "text/plain": [
       "'pi^e is smaller than e^pi'"
      ]
     },
     "execution_count": 2,
     "metadata": {},
     "output_type": "execute_result"
    }
   ],
   "source": [
    "'pi^e is {} than e^pi'.format((\n",
    "     'greater'  if (np.pi ** np.e > np.e ** np.pi) else 'smaller'),)"
   ]
  },
  {
   "cell_type": "markdown",
   "metadata": {},
   "source": [
    "##### Фильтрация элементов в массиве\n",
    "\n",
    "Создайте массив из последовательности чисел от 1 до 10 (функция <a href=\"https://docs.scipy.org/doc/numpy/reference/generated/numpy.arange.html\">np.arange</a>)\n",
    "\n",
    "Выведете этот массив в обратном порядке. \n",
    "Выведете каждый второй элемент. \n",
    "Выведете элементы большие числа 3. (<a href=\"https://docs.scipy.org/doc/numpy/reference/arrays.indexing.html\">numpy indexing tutorial</a>)"
   ]
  },
  {
   "cell_type": "code",
   "execution_count": 3,
   "metadata": {
    "ExecuteTime": {
     "end_time": "2017-06-24T23:21:48.782654Z",
     "start_time": "2017-06-25T02:21:48.778143+03:00"
    },
    "collapsed": true
   },
   "outputs": [],
   "source": [
    "x = np.arange(1, 11, 1.)"
   ]
  },
  {
   "cell_type": "code",
   "execution_count": 4,
   "metadata": {
    "ExecuteTime": {
     "end_time": "2017-06-24T23:21:48.798177Z",
     "start_time": "2017-06-25T02:21:48.785354+03:00"
    }
   },
   "outputs": [
    {
     "data": {
      "text/plain": [
       "array([  1.,   2.,   3.,   4.,   5.,   6.,   7.,   8.,   9.,  10.])"
      ]
     },
     "execution_count": 4,
     "metadata": {},
     "output_type": "execute_result"
    }
   ],
   "source": [
    "x"
   ]
  },
  {
   "cell_type": "code",
   "execution_count": 7,
   "metadata": {
    "ExecuteTime": {
     "end_time": "2017-06-24T23:21:48.874091Z",
     "start_time": "2017-06-25T02:21:48.838160+03:00"
    }
   },
   "outputs": [
    {
     "name": "stdout",
     "output_type": "stream",
     "text": [
      "[ 1  2  3  4  5  6  7  8  9 10]\n",
      "[10  8  6  4  2]\n",
      "[ 2  4  6  8 10]\n",
      "[ 4  5  6  7  8  9 10]\n"
     ]
    }
   ],
   "source": [
    "x = np.arange(1, 11)\n",
    "print x\n",
    "print x[::-2]\n",
    "print x[1::2]\n",
    "print x[x>3]"
   ]
  },
  {
   "cell_type": "markdown",
   "metadata": {},
   "source": [
    "##### Операции с массивами\n",
    "\n",
    "Создайте 5 одномерных массивов: первый из единиц, второй из двоек и т.д.\n",
    "Объедините массивы в с помощью функции <a href=\"https://docs.scipy.org/doc/numpy/reference/generated/numpy.vstack.html\">np.vstack</a> в матрицу A (на самом деле 2-мервный массив). \n",
    "Сделайте копию А с помощью <a href=\"https://docs.scipy.org/doc/numpy/reference/generated/numpy.copy.html\">np.copy</a> и назовите её B. Вычислите честное матричной произведение (метод функция <a href=\"https://docs.scipy.org/doc/numpy/reference/generated/numpy.dot.html\">np.dot</a>) между матрицей A и B транспонированной (метод <a href=\"https://docs.scipy.org/doc/numpy-1.9.1/reference/generated/numpy.ndarray.T.html\">.T</a>). Выведете ответ"
   ]
  },
  {
   "cell_type": "code",
   "execution_count": 8,
   "metadata": {
    "ExecuteTime": {
     "end_time": "2017-06-24T23:21:49.001343Z",
     "start_time": "2017-06-25T02:21:48.888614+03:00"
    }
   },
   "outputs": [
    {
     "name": "stdout",
     "output_type": "stream",
     "text": [
      "[array([1, 1, 1, 1, 1, 1, 1, 1, 1, 1]), array([2, 2, 2, 2, 2, 2, 2, 2, 2, 2]), array([3, 3, 3, 3, 3, 3, 3, 3, 3, 3]), array([4, 4, 4, 4, 4, 4, 4, 4, 4, 4]), array([5, 5, 5, 5, 5, 5, 5, 5, 5, 5])]\n",
      "[[1 1 1 1 1 1 1 1 1 1]\n",
      " [2 2 2 2 2 2 2 2 2 2]\n",
      " [3 3 3 3 3 3 3 3 3 3]\n",
      " [4 4 4 4 4 4 4 4 4 4]\n",
      " [5 5 5 5 5 5 5 5 5 5]]\n",
      "[[ 10  20  30  40  50]\n",
      " [ 20  40  60  80 100]\n",
      " [ 30  60  90 120 150]\n",
      " [ 40  80 120 160 200]\n",
      " [ 50 100 150 200 250]]\n"
     ]
    }
   ],
   "source": [
    "arrays = []\n",
    "for i in xrange(1, 6):\n",
    "    arrays.append(np.full(10, i))\n",
    "    \n",
    "print arrays\n",
    "A = np.vstack(arrays)\n",
    "print A\n",
    "B = np.copy(A)\n",
    "C = A.dot(B.T)\n",
    "print C"
   ]
  },
  {
   "cell_type": "markdown",
   "metadata": {},
   "source": [
    "##### Max / min\n",
    "\n",
    "Найдите максимум и минимум в полученной матрицы из задания выше (методы <a href=\"https://docs.scipy.org/doc/numpy/reference/generated/numpy.ndarray.max.html\">.max</a> и <a href=\"https://docs.scipy.org/doc/numpy/reference/generated/numpy.ndarray.min.html\">.min</a> класса numpy.ndarray). Так же найдите максимумы в строках и столбцах (параметр axes)."
   ]
  },
  {
   "cell_type": "code",
   "execution_count": 9,
   "metadata": {
    "ExecuteTime": {
     "end_time": "2017-06-24T23:21:49.125166Z",
     "start_time": "2017-06-25T02:21:49.024064+03:00"
    }
   },
   "outputs": [
    {
     "data": {
      "text/plain": [
       "array([[1, 1, 1, 1, 1, 1, 1, 1, 1, 1],\n",
       "       [2, 2, 2, 2, 2, 2, 2, 2, 2, 2],\n",
       "       [3, 3, 3, 3, 3, 3, 3, 3, 3, 3],\n",
       "       [4, 4, 4, 4, 4, 4, 4, 4, 4, 4],\n",
       "       [5, 5, 5, 5, 5, 5, 5, 5, 5, 5]])"
      ]
     },
     "execution_count": 9,
     "metadata": {},
     "output_type": "execute_result"
    }
   ],
   "source": [
    "A"
   ]
  },
  {
   "cell_type": "code",
   "execution_count": 10,
   "metadata": {
    "ExecuteTime": {
     "end_time": "2017-06-24T23:21:49.141990Z",
     "start_time": "2017-06-25T02:21:49.128934+03:00"
    }
   },
   "outputs": [
    {
     "name": "stdout",
     "output_type": "stream",
     "text": [
      "5\n",
      "1\n",
      "[1 2 3 4 5]\n",
      "[5 5 5 5 5 5 5 5 5 5]\n"
     ]
    }
   ],
   "source": [
    "print A.max()\n",
    "print A.min()\n",
    "print A.max(axis=1)  # в строках\n",
    "print A.max(axis=0)  # в столбцах"
   ]
  },
  {
   "cell_type": "code",
   "execution_count": 11,
   "metadata": {
    "ExecuteTime": {
     "end_time": "2017-06-24T23:21:49.199730Z",
     "start_time": "2017-06-25T02:21:49.145704+03:00"
    }
   },
   "outputs": [
    {
     "data": {
      "text/plain": [
       "array([4, 4, 4, 4, 4, 4, 4, 4, 4, 4])"
      ]
     },
     "execution_count": 11,
     "metadata": {},
     "output_type": "execute_result"
    }
   ],
   "source": [
    "A[3,:]"
   ]
  },
  {
   "cell_type": "markdown",
   "metadata": {},
   "source": [
    "##### Индексирование*\n",
    "Напишите функцию, возвращающую максимальный элемент в векторе x среди элементов, перед которыми стоит нулевой. <br>\n",
    "Для x = np.array([6, 2, 0, 3, 0, 0, 5, 7, 0]) ответом является 5. Если нулевых элементов нет, функция должна возвращать None.\n",
    "\n",
    "Для решения можно использовать функцию <a href=\"https://docs.scipy.org/doc/numpy/reference/generated/numpy.where.html\">np.where</a>. Эта функция может быть использована для получиения индексов элементов в массиве, которые подчиняются логическому условию. Например:\n",
    "np.where(np.array([1, 4, 7, 5, 2]) % 2 == 0)[0] возвращает индексы четных элементов: array([1, 4])"
   ]
  },
  {
   "cell_type": "code",
   "execution_count": 40,
   "metadata": {
    "ExecuteTime": {
     "end_time": "2017-06-25T00:05:15.324382Z",
     "start_time": "2017-06-25T03:05:15.307287+03:00"
    }
   },
   "outputs": [
    {
     "data": {
      "text/plain": [
       "5"
      ]
     },
     "execution_count": 40,
     "metadata": {},
     "output_type": "execute_result"
    }
   ],
   "source": [
    "def max_element(arr):\n",
    "    zeros_indexes = np.where(arr[:-1] == 0)[0]\n",
    "    if not zeros_indexes.size:\n",
    "        return None\n",
    "    return np.max(arr[zeros_indexes + 1])\n",
    "    \n",
    "max_element(np.array([6, 2, 0, 3, 0, 0, 5, 7, 0]))"
   ]
  },
  {
   "cell_type": "code",
   "execution_count": 13,
   "metadata": {
    "ExecuteTime": {
     "end_time": "2017-06-24T23:21:49.284104Z",
     "start_time": "2017-06-25T02:21:49.267580+03:00"
    }
   },
   "outputs": [
    {
     "data": {
      "text/plain": [
       "array([0, 2])"
      ]
     },
     "execution_count": 13,
     "metadata": {},
     "output_type": "execute_result"
    }
   ],
   "source": [
    "np.where([True, False, True])[0]"
   ]
  },
  {
   "cell_type": "code",
   "execution_count": 14,
   "metadata": {
    "ExecuteTime": {
     "end_time": "2017-06-24T23:21:49.296615Z",
     "start_time": "2017-06-25T02:21:49.287197+03:00"
    }
   },
   "outputs": [
    {
     "data": {
      "text/plain": [
       "array([False,  True, False, False,  True], dtype=bool)"
      ]
     },
     "execution_count": 14,
     "metadata": {},
     "output_type": "execute_result"
    }
   ],
   "source": [
    "np.array([1, 4, 7, 5, 2]) % 2 == 0"
   ]
  },
  {
   "cell_type": "code",
   "execution_count": 15,
   "metadata": {
    "ExecuteTime": {
     "end_time": "2017-06-24T23:21:49.308328Z",
     "start_time": "2017-06-25T02:21:49.300167+03:00"
    }
   },
   "outputs": [
    {
     "data": {
      "text/plain": [
       "array([1, 4])"
      ]
     },
     "execution_count": 15,
     "metadata": {},
     "output_type": "execute_result"
    }
   ],
   "source": [
    "np.where(np.array([1, 4, 7, 5, 2]) % 2 == 0)[0]"
   ]
  },
  {
   "cell_type": "markdown",
   "metadata": {
    "collapsed": true
   },
   "source": [
    "##### Гистограмма значений\n",
    "Превратите матрицу в 1D массив с помощью метода <a href=\"https://docs.scipy.org/doc/numpy/reference/generated/numpy.ndarray.flatten.html\">.flatten()</a> и выведете гистограмму значений результата с помощью функции <a href=\"https://docs.scipy.org/doc/numpy/reference/generated/numpy.histogram.html\"> hist()</a>. Она принимает на вход массив. Так же можно задать параметр bins=100"
   ]
  },
  {
   "cell_type": "code",
   "execution_count": 16,
   "metadata": {
    "ExecuteTime": {
     "end_time": "2017-06-24T23:21:49.332706Z",
     "start_time": "2017-06-25T02:21:49.311524+03:00"
    }
   },
   "outputs": [
    {
     "data": {
      "text/plain": [
       "array([[1, 1, 1, 1, 1, 1, 1, 1, 1, 1],\n",
       "       [2, 2, 2, 2, 2, 2, 2, 2, 2, 2],\n",
       "       [3, 3, 3, 3, 3, 3, 3, 3, 3, 3],\n",
       "       [4, 4, 4, 4, 4, 4, 4, 4, 4, 4],\n",
       "       [5, 5, 5, 5, 5, 5, 5, 5, 5, 5]])"
      ]
     },
     "execution_count": 16,
     "metadata": {},
     "output_type": "execute_result"
    }
   ],
   "source": [
    "A"
   ]
  },
  {
   "cell_type": "code",
   "execution_count": 17,
   "metadata": {
    "ExecuteTime": {
     "end_time": "2017-06-24T23:21:49.349751Z",
     "start_time": "2017-06-25T02:21:49.339304+03:00"
    }
   },
   "outputs": [
    {
     "data": {
      "text/plain": [
       "array([1, 1, 1, 1, 1, 1, 1, 1, 1, 1, 2, 2, 2, 2, 2, 2, 2, 2, 2, 2, 3, 3, 3,\n",
       "       3, 3, 3, 3, 3, 3, 3, 4, 4, 4, 4, 4, 4, 4, 4, 4, 4, 5, 5, 5, 5, 5, 5,\n",
       "       5, 5, 5, 5])"
      ]
     },
     "execution_count": 17,
     "metadata": {},
     "output_type": "execute_result"
    }
   ],
   "source": [
    "A.flatten()"
   ]
  },
  {
   "cell_type": "code",
   "execution_count": 18,
   "metadata": {
    "ExecuteTime": {
     "end_time": "2017-06-24T23:21:49.992041Z",
     "start_time": "2017-06-25T02:21:49.355487+03:00"
    }
   },
   "outputs": [
    {
     "data": {
      "text/plain": [
       "(array([ 10.,   0.,  10.,   0.,   0.,  10.,   0.,  10.,   0.,  10.]),\n",
       " array([ 1. ,  1.4,  1.8,  2.2,  2.6,  3. ,  3.4,  3.8,  4.2,  4.6,  5. ]),\n",
       " <a list of 10 Patch objects>)"
      ]
     },
     "execution_count": 18,
     "metadata": {},
     "output_type": "execute_result"
    },
    {
     "data": {
      "image/png": "[encoded data removed]",
      "text/plain": [
       "<matplotlib.figure.Figure at 0x10e2ef310>"
      ]
     },
     "metadata": {},
     "output_type": "display_data"
    }
   ],
   "source": [
    "hist(A.flatten())"
   ]
  },
  {
   "cell_type": "code",
   "execution_count": 19,
   "metadata": {
    "ExecuteTime": {
     "end_time": "2017-06-24T23:21:50.015367Z",
     "start_time": "2017-06-25T02:21:49.995978+03:00"
    }
   },
   "outputs": [
    {
     "data": {
      "text/plain": [
       "array([  5.38209148,  -4.79292719,   4.14981808,  -6.73682803,\n",
       "         0.85769571, -24.7558891 ,  -2.7858437 ,  12.89734144,\n",
       "        -8.71762781,   0.08255771,  -6.52234629,  -8.21382863,\n",
       "         3.19977318,  15.70514812,  -7.05316107, -11.37810086,\n",
       "        -1.24469383,  -4.04610964,  -6.78488047,   5.98892718,\n",
       "        10.67720967,  -9.48910424,  -2.48836824,   0.16830494,\n",
       "        -6.60794888,  16.20107813,   8.26056095,   1.61444894,\n",
       "       -12.16496986,   3.98745181,   5.33278436,  -5.91889441,\n",
       "       -11.16688409,  22.5537161 ,  -2.89010515,  -7.00706844,\n",
       "        11.24207229,  -3.05979751,  -3.33504089,  -7.56977292,\n",
       "         7.21764993,   4.91142136, -14.04991403,  13.35040553,\n",
       "         6.25421253, -11.75806642,  12.7406399 ,  -0.14135571,\n",
       "        -5.59914103,   3.32770355,   4.95479452,  -7.7976241 ,\n",
       "        -4.02572711,  -0.11256307,  12.92665751,   5.08267487,\n",
       "        -0.68941034,   3.38868257,  -6.53766746,  -7.32257148,\n",
       "         0.96286395, -14.52741207,   6.57740226,  -6.52884306,\n",
       "        13.87437504, -15.67754087,  -9.48231891,  -4.65943121,\n",
       "        23.1829746 ,  -8.99450248,   0.39341092,  -0.70252617,\n",
       "         0.06559351, -27.91463748, -12.24253539,  -0.97297631,\n",
       "        -5.83527912,  -0.92571197,   9.89159927,   1.79338857,\n",
       "        10.93411537,   9.49094865,  12.33085768,  -3.00351081,\n",
       "        16.41539129,  -7.52928244,  19.80637369,  -0.62935753,\n",
       "        -3.18948142,   0.80014916,  15.20054713,  -4.71923671,\n",
       "         3.14899893,  -0.33764974,  -7.77826037,  -4.63592242,\n",
       "         5.55537608,   3.21643043,  14.41919927,   7.60531077])"
      ]
     },
     "execution_count": 19,
     "metadata": {},
     "output_type": "execute_result"
    }
   ],
   "source": [
    "np.random.normal(0, 10, 100)"
   ]
  },
  {
   "cell_type": "code",
   "execution_count": 20,
   "metadata": {
    "ExecuteTime": {
     "end_time": "2017-06-24T23:21:50.339654Z",
     "start_time": "2017-06-25T02:21:50.017624+03:00"
    }
   },
   "outputs": [
    {
     "data": {
      "image/png": "[encoded data removed]",
      "text/plain": [
       "<matplotlib.figure.Figure at 0x10f69c0d0>"
      ]
     },
     "metadata": {},
     "output_type": "display_data"
    }
   ],
   "source": [
    "_ = hist(np.random.normal(0, 10, 100), bins=2)"
   ]
  },
  {
   "cell_type": "markdown",
   "metadata": {},
   "source": [
    "##### Матожидание числа угадываний*\n",
    "\n",
    "За сколько попыток можно угать число от 1 до 100? Придумайте схему испытаний, проведите необходимое количество замеров. В ответе напишите матожидание, стандартное отклонение и выведете гистограму полученных значений. "
   ]
  },
  {
   "cell_type": "code",
   "execution_count": 21,
   "metadata": {
    "ExecuteTime": {
     "end_time": "2017-06-24T23:21:52.296162Z",
     "start_time": "2017-06-25T02:21:50.342682+03:00"
    }
   },
   "outputs": [
    {
     "name": "stdout",
     "output_type": "stream",
     "text": [
      "10.48453\n",
      "5.76212293162\n"
     ]
    },
    {
     "data": {
      "image/png": "[encoded data removed]",
      "text/plain": [
       "<matplotlib.figure.Figure at 0x10f890e50>"
      ]
     },
     "metadata": {},
     "output_type": "display_data"
    }
   ],
   "source": [
    "shuffled_array = np.arange(1, 21)\n",
    "guess_number = []\n",
    "\n",
    "for i in xrange(100000):\n",
    "    random_number = np.random.randint(1, 21)\n",
    "    np.random.shuffle(shuffled_array)\n",
    "    index = np.where(shuffled_array == random_number)[0][0]\n",
    "    guess_number.append(index + 1)\n",
    "\n",
    "print np.mean(guess_number)\n",
    "print np.std(guess_number)\n",
    "_ = hist(guess_number)"
   ]
  },
  {
   "cell_type": "markdown",
   "metadata": {},
   "source": [
    "<img src=\"http://imgs.xkcd.com/comics/psychic.png\">"
   ]
  }
 ],
 "metadata": {
  "kernelspec": {
   "display_name": "Python 2",
   "language": "python",
   "name": "python2"
  },
  "language_info": {
   "codemirror_mode": {
    "name": "ipython",
    "version": 2
   },
   "file_extension": ".py",
   "mimetype": "text/x-python",
   "name": "python",
   "nbconvert_exporter": "python",
   "pygments_lexer": "ipython2",
   "version": "2.7.13"
  }
 },
 "nbformat": 4,
 "nbformat_minor": 1
}

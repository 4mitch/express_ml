{
 "cells": [
  {
   "cell_type": "markdown",
   "metadata": {},
   "source": [
    "## Задание:"
   ]
  },
  {
   "cell_type": "code",
   "execution_count": 15,
   "metadata": {
    "ExecuteTime": {
     "end_time": "2017-10-22T23:03:22.095316Z",
     "start_time": "2017-10-22T23:03:22.082102Z"
    }
   },
   "outputs": [
    {
     "name": "stdout",
     "output_type": "stream",
     "text": [
      "Populating the interactive namespace from numpy and matplotlib\n"
     ]
    }
   ],
   "source": [
    "# Нулевая задача: выполните эту ячейку :)\n",
    "# Она полезная - популяризирует numpy, matplotlib.pyplot\n",
    "%pylab inline\n",
    "# рисование графиков в ноутбуке\n",
    "%matplotlib inline\n",
    "# чтобы писать np.array вместо numpy.array\n",
    "import numpy as np"
   ]
  },
  {
   "cell_type": "markdown",
   "metadata": {},
   "source": [
    "##### 1. Что больше $\\pi^e$ или $e^\\pi$? Выведете результат $\\pi^e > e^\\pi$ \n",
    "\n",
    "Воспользуйтесь встроенными константами np.pi и np.e"
   ]
  },
  {
   "cell_type": "code",
   "execution_count": 18,
   "metadata": {
    "ExecuteTime": {
     "end_time": "2017-10-22T23:04:18.471102Z",
     "start_time": "2017-10-22T23:04:18.467104Z"
    }
   },
   "outputs": [
    {
     "data": {
      "text/plain": [
       "False"
      ]
     },
     "execution_count": 18,
     "metadata": {},
     "output_type": "execute_result"
    }
   ],
   "source": [
    "np.pi ** np.e > np.e ** np.pi"
   ]
  },
  {
   "cell_type": "markdown",
   "metadata": {},
   "source": [
    "##### 2. Фильтрация элементов в массиве\n",
    "\n",
    "Создайте массив из последовательности чисел от 1 до 10 (функция <a href=\"https://docs.scipy.org/doc/numpy/reference/generated/numpy.arange.html\">np.arange</a>)\n",
    "\n",
    "Выведите этот массив в обратном порядке. \n",
    "\n",
    "Выведите каждый второй элемент. \n",
    "\n",
    "Выведите элементы большие числа 3. (<a href=\"https://docs.scipy.org/doc/numpy/reference/arrays.indexing.html\">numpy indexing tutorial</a>)"
   ]
  },
  {
   "cell_type": "code",
   "execution_count": 16,
   "metadata": {
    "ExecuteTime": {
     "end_time": "2017-10-22T23:03:57.117944Z",
     "start_time": "2017-10-22T23:03:57.110190Z"
    }
   },
   "outputs": [
    {
     "name": "stdout",
     "output_type": "stream",
     "text": [
      "[ 1  2  3  4  5  6  7  8  9 10]\n",
      "[10  9  8  7  6  5  4  3  2  1]\n",
      "[ 2  4  6  8 10]\n",
      "[ 4  5  6  7  8  9 10]\n"
     ]
    }
   ],
   "source": [
    "x = np.arange(1, 11)\n",
    "print(x)\n",
    "print(x[::-1])\n",
    "print(x[1::2])\n",
    "print(x[x>3])"
   ]
  },
  {
   "cell_type": "markdown",
   "metadata": {},
   "source": [
    "##### 3. Операции с массивами\n",
    "\n",
    "Создайте 5 одномерных массивов длины 7: первый из единиц, второй из двоек и т.д.\n",
    "\n",
    "Объедините массивы с помощью функции <a href=\"https://docs.scipy.org/doc/numpy/reference/generated/numpy.vstack.html\">np.vstack</a> в матрицу A (на самом деле 2-мерный массив).\n",
    "\n",
    "Сделайте копию А с помощью <a href=\"https://docs.scipy.org/doc/numpy/reference/generated/numpy.copy.html\">np.copy</a> и назовите её B.\n",
    "\n",
    "Вычислите <a href=\"https://ru.wikipedia.org/wiki/Умножение_матриц\">матричное произведение</a> (оператор @) между матрицей A и B транспонированной (метод <a href=\"https://docs.scipy.org/doc/numpy-1.9.1/reference/generated/numpy.ndarray.T.html\">.T</a>).\n",
    "\n",
    "Выведите ответ."
   ]
  },
  {
   "cell_type": "code",
   "execution_count": 20,
   "metadata": {
    "ExecuteTime": {
     "end_time": "2017-10-22T23:05:47.566874Z",
     "start_time": "2017-10-22T23:05:47.558389Z"
    }
   },
   "outputs": [
    {
     "name": "stdout",
     "output_type": "stream",
     "text": [
      "[array([1, 1, 1, 1, 1, 1, 1]), array([2, 2, 2, 2, 2, 2, 2]), array([3, 3, 3, 3, 3, 3, 3]), array([4, 4, 4, 4, 4, 4, 4]), array([5, 5, 5, 5, 5, 5, 5])]\n",
      "[[1 1 1 1 1 1 1]\n",
      " [2 2 2 2 2 2 2]\n",
      " [3 3 3 3 3 3 3]\n",
      " [4 4 4 4 4 4 4]\n",
      " [5 5 5 5 5 5 5]]\n",
      "[[  7  14  21  28  35]\n",
      " [ 14  28  42  56  70]\n",
      " [ 21  42  63  84 105]\n",
      " [ 28  56  84 112 140]\n",
      " [ 35  70 105 140 175]]\n"
     ]
    }
   ],
   "source": [
    "arrays = []\n",
    "for i in range(1, 6):\n",
    "    arrays.append(np.full(7, i))\n",
    "    \n",
    "print(arrays)\n",
    "A = np.vstack(arrays)\n",
    "print(A)\n",
    "B = np.copy(A)\n",
    "C = A @ B.T\n",
    "print(C)"
   ]
  },
  {
   "cell_type": "markdown",
   "metadata": {},
   "source": [
    "##### 4. Max / min\n",
    "\n",
    "Найдите максимум и минимум массива A (методы <a href=\"https://docs.scipy.org/doc/numpy/reference/generated/numpy.ndarray.max.html\">.max</a> и <a href=\"https://docs.scipy.org/doc/numpy/reference/generated/numpy.ndarray.min.html\">.min</a> класса numpy.ndarray). Так же найдите максимумы в строках и столбцах (параметр axis)."
   ]
  },
  {
   "cell_type": "code",
   "execution_count": 9,
   "metadata": {
    "ExecuteTime": {
     "end_time": "2017-06-24T23:21:49.125166Z",
     "start_time": "2017-06-25T02:21:49.024064+03:00"
    }
   },
   "outputs": [
    {
     "data": {
      "text/plain": [
       "array([[1, 1, 1, 1, 1, 1, 1, 1, 1, 1],\n",
       "       [2, 2, 2, 2, 2, 2, 2, 2, 2, 2],\n",
       "       [3, 3, 3, 3, 3, 3, 3, 3, 3, 3],\n",
       "       [4, 4, 4, 4, 4, 4, 4, 4, 4, 4],\n",
       "       [5, 5, 5, 5, 5, 5, 5, 5, 5, 5]])"
      ]
     },
     "execution_count": 9,
     "metadata": {},
     "output_type": "execute_result"
    }
   ],
   "source": [
    "A"
   ]
  },
  {
   "cell_type": "code",
   "execution_count": 10,
   "metadata": {
    "ExecuteTime": {
     "end_time": "2017-06-24T23:21:49.141990Z",
     "start_time": "2017-06-25T02:21:49.128934+03:00"
    }
   },
   "outputs": [
    {
     "name": "stdout",
     "output_type": "stream",
     "text": [
      "5\n",
      "1\n",
      "[1 2 3 4 5]\n",
      "[5 5 5 5 5 5 5 5 5 5]\n"
     ]
    }
   ],
   "source": [
    "print A.max()\n",
    "print A.min()\n",
    "print A.max(axis=1)  # в строках\n",
    "print A.max(axis=0)  # в столбцах"
   ]
  },
  {
   "cell_type": "markdown",
   "metadata": {},
   "source": [
    "##### 5. Индексирование*\n",
    "Напишите функцию, возвращающую максимальный элемент в векторе `x` среди элементов, перед которыми стоит число 0. <br>\n",
    "Для `x = np.array([6, 2, 0, 3, 0, 0, 5, 7, 0])` ответом является `5`. Если нулевых элементов нет, функция должна возвращать None.\n",
    "\n",
    "Для решения можно использовать функцию <a href=\"https://docs.scipy.org/doc/numpy/reference/generated/numpy.where.html\">np.where</a>. Эта функция может быть использована для получения индексов элементов в массиве, которые подчиняются логическому условию. Например:\n",
    "`np.where(np.array([1, 4, 7, 5, 2]) % 2 == 0)[0]` возвращает индексы четных элементов: `array([1, 4])`"
   ]
  },
  {
   "cell_type": "code",
   "execution_count": 40,
   "metadata": {
    "ExecuteTime": {
     "end_time": "2017-06-25T00:05:15.324382Z",
     "start_time": "2017-06-25T03:05:15.307287+03:00"
    }
   },
   "outputs": [
    {
     "data": {
      "text/plain": [
       "5"
      ]
     },
     "execution_count": 40,
     "metadata": {},
     "output_type": "execute_result"
    }
   ],
   "source": [
    "def max_element(arr):\n",
    "    zeros_indexes = np.where(arr[:-1] == 0)[0]\n",
    "    if not zeros_indexes.size:\n",
    "        return None\n",
    "    return np.max(arr[zeros_indexes + 1])\n",
    "    \n",
    "max_element(np.array([6, 2, 0, 3, 0, 0, 5, 7, 0]))"
   ]
  },
  {
   "cell_type": "markdown",
   "metadata": {
    "collapsed": true
   },
   "source": [
    "##### 6. Гистограмма значений\n",
    "Превратите матрицу A в 1D массив с помощью метода <a href=\"https://docs.scipy.org/doc/numpy/reference/generated/numpy.ndarray.flatten.html\">.flatten()</a> и выведите гистограмму значений результата с помощью функции <a href=\"https://matplotlib.org/devdocs/api/_as_gen/matplotlib.pyplot.hist.html\"> plt.hist()</a>. Она принимает на вход массив. Так же можно задать параметр `bins=100`, задающий количество столбиков гистограммы."
   ]
  },
  {
   "cell_type": "code",
   "execution_count": 23,
   "metadata": {
    "ExecuteTime": {
     "end_time": "2017-10-22T23:08:53.087842Z",
     "start_time": "2017-10-22T23:08:53.084066Z"
    }
   },
   "outputs": [
    {
     "data": {
      "text/plain": [
       "array([[1, 1, 1, 1, 1, 1, 1],\n",
       "       [2, 2, 2, 2, 2, 2, 2],\n",
       "       [3, 3, 3, 3, 3, 3, 3],\n",
       "       [4, 4, 4, 4, 4, 4, 4],\n",
       "       [5, 5, 5, 5, 5, 5, 5]])"
      ]
     },
     "execution_count": 23,
     "metadata": {},
     "output_type": "execute_result"
    }
   ],
   "source": [
    "A"
   ]
  },
  {
   "cell_type": "code",
   "execution_count": 24,
   "metadata": {
    "ExecuteTime": {
     "end_time": "2017-10-22T23:08:53.242768Z",
     "start_time": "2017-10-22T23:08:53.237954Z"
    }
   },
   "outputs": [
    {
     "data": {
      "text/plain": [
       "array([1, 1, 1, 1, 1, 1, 1, 2, 2, 2, 2, 2, 2, 2, 3, 3, 3, 3, 3, 3, 3, 4, 4,\n",
       "       4, 4, 4, 4, 4, 5, 5, 5, 5, 5, 5, 5])"
      ]
     },
     "execution_count": 24,
     "metadata": {},
     "output_type": "execute_result"
    }
   ],
   "source": [
    "A.flatten()"
   ]
  },
  {
   "cell_type": "code",
   "execution_count": 25,
   "metadata": {
    "ExecuteTime": {
     "end_time": "2017-10-22T23:08:53.932884Z",
     "start_time": "2017-10-22T23:08:53.700719Z"
    }
   },
   "outputs": [
    {
     "data": {
      "text/plain": [
       "(array([ 7.,  0.,  7.,  0.,  0.,  7.,  0.,  7.,  0.,  7.]),\n",
       " array([ 1. ,  1.4,  1.8,  2.2,  2.6,  3. ,  3.4,  3.8,  4.2,  4.6,  5. ]),\n",
       " <a list of 10 Patch objects>)"
      ]
     },
     "execution_count": 25,
     "metadata": {},
     "output_type": "execute_result"
    },
    {
     "data": {
      "image/png": "[encoded data removed]",
      "text/plain": [
       "<matplotlib.figure.Figure at 0x1090e0048>"
      ]
     },
     "metadata": {},
     "output_type": "display_data"
    }
   ],
   "source": [
    "hist(A.flatten())"
   ]
  },
  {
   "cell_type": "markdown",
   "metadata": {},
   "source": [
    "##### 7. Матожидание числа угадываний*\n",
    "\n",
    "Игорь и Лена играют в игру: Лена загадала число от 1 до 100, а Игорь угадывает. Игорь может называть число, а Лена отвечает \"да\", если число угадано правильно, и \"нет\" если это не так. Дважды спрашивать про одно и то же число нельзя (и не имеет смысла).\n",
    "\n",
    "За сколько в среднем попыток Игорь угадает число? Придумайте схему испытаний, проведите необходимое количество замеров. В ответе напишите матожидание (метод <a href=\"https://docs.scipy.org/doc/numpy-1.13.0/reference/generated/numpy.mean.html\">np.mean</a>), стандартное отклонение (метод <a href=\"https://docs.scipy.org/doc/numpy-1.13.0/reference/generated/numpy.std.html\">np.std</a>) и выведите гистограму полученных значений. "
   ]
  },
  {
   "cell_type": "code",
   "execution_count": 30,
   "metadata": {
    "ExecuteTime": {
     "end_time": "2017-10-22T23:12:18.782275Z",
     "start_time": "2017-10-22T23:12:17.318018Z"
    }
   },
   "outputs": [
    {
     "name": "stdout",
     "output_type": "stream",
     "text": [
      "50.34869\n",
      "28.818237026\n"
     ]
    },
    {
     "data": {
      "image/png": "[encoded data removed]",
      "text/plain": [
       "<matplotlib.figure.Figure at 0x108bea7b8>"
      ]
     },
     "metadata": {},
     "output_type": "display_data"
    }
   ],
   "source": [
    "shuffled_array = np.arange(1, 101)\n",
    "guess_number = []\n",
    "\n",
    "for i in range(100000):\n",
    "    random_number = np.random.randint(1, 101)\n",
    "    np.random.shuffle(shuffled_array)\n",
    "    index = np.where(shuffled_array == random_number)[0][0]\n",
    "    guess_number.append(index + 1)\n",
    "\n",
    "print(np.mean(guess_number))\n",
    "print(np.std(guess_number))\n",
    "hist(guess_number);"
   ]
  },
  {
   "cell_type": "markdown",
   "metadata": {},
   "source": [
    "<img src=\"http://imgs.xkcd.com/comics/psychic.png\">"
   ]
  }
 ],
 "metadata": {
  "kernelspec": {
   "display_name": "Python 3",
   "language": "python",
   "name": "python3"
  },
  "language_info": {
   "codemirror_mode": {
    "name": "ipython",
    "version": 3
   },
   "file_extension": ".py",
   "mimetype": "text/x-python",
   "name": "python",
   "nbconvert_exporter": "python",
   "pygments_lexer": "ipython3",
   "version": "3.6.1"
  }
 },
 "nbformat": 4,
 "nbformat_minor": 1
}

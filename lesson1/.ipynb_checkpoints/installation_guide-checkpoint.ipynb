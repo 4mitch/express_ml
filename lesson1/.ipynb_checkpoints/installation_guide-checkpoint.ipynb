{
 "cells": [
  {
   "cell_type": "markdown",
   "metadata": {},
   "source": [
    "#### Не забудьте докрутить до конца! Там есть еще пару инструкций и котик"
   ]
  },
  {
   "cell_type": "markdown",
   "metadata": {},
   "source": [
    "## Ubuntu:\n",
    "\n",
    "Для сохранения психического здоровья, используйте Ubuntu 12.04 LTS или выше.\n",
    "\n",
    "Устанавливаем необходимые тулзы для Python:\n",
    ">`$ sudo apt-get update`<br>\n",
    ">`$ sudo apt-get install python-pip python-dev python-virtualenv build-essential`\n",
    "\n",
    "Устанавливаем пакеты, необходимые для сборки NumPy, SciPy и Matplotlib:\n",
    "\n",
    ">`$ sudo apt-get install libatlas-base-dev gfortran`<br>\n",
    ">`$ sudo apt-get build-dep python-matplotlib`<br>\n",
    "\n",
    "Создаем виртуальное окружение питона (virtualenv):\n",
    ">`$ virtualenv ml`\n",
    "\n",
    "Активируем его:\n",
    ">`$ source ml/bin/activate`\n",
    "\n",
    "(в консоли должен появиться соотв. префикс)\n",
    "\n",
    ">`(ml)$ pip install --upgrade pip`<br>\n",
    ">`(ml)$ pip install jupyter`<br>\n",
    ">`(ml)$ pip install numpy scipy pandas matplotlib scikit-learn seaborn`<br>\n",
    "\n"
   ]
  },
  {
   "cell_type": "markdown",
   "metadata": {},
   "source": [
    "## MacOS:\n",
    "\n",
    "Придется поставить <a href=\"http://brew.sh/\" target=\"_blank\">Homebrew</a> с вытекающей от туда установкой <a href=\"https://developer.apple.com/downloads/\" target=\"_blank\">Command Line Tools</a> или <a href=\"https://developer.apple.com/xcode/\" target=\"_blank\">XCode</a>. Следуйте указаниям с сайта Homebrew и у вас все получится.\n",
    "\n",
    "Далее устанавливаем свежую версию Python и virtualenv:\n",
    "\n",
    ">`$ brew install python --with-brewed-openssl`<br>\n",
    "    \n",
    "Устанавливаем фортран (нужен для сборки NumPy и SciPy):\n",
    "\n",
    ">`$ brew install gcc pkg-config freetype`\n",
    "  \n",
    "Создаем виртуальное окружение:\n",
    "\n",
    ">`$ pip install virtualenv`<br>\n",
    ">`$ virtualenv shad-env`<br>\n",
    "\n",
    "Активируем его:\n",
    ">`$ source ml/bin/activate`<br>\n",
    "    \n",
    "Устанавливаем необходимые пакеты питона:\n",
    "\n",
    ">`(ml)$ pip install jupyter numpy scipy pandas scikit-learn matplotlib seaborn`"
   ]
  },
  {
   "cell_type": "markdown",
   "metadata": {},
   "source": [
    "## Windows:\n",
    "\n",
    "<a href=\"http://python-xy.github.io\" target=\"_blank\">Python(x,y)</a>\n",
    "\n",
    "Говорят, что иногда бывают проблемы. Чтобы проверить, что все выполнилось хорошо, в питоне запускаем юнит-тесты: \n",
    ">`import numpy`<br>\n",
    ">`numpy.test()`<br>\n",
    "\n",
    "Аналогично с pandas, pylab, sklearn. \n",
    "\n",
    "Если вдруг вываливается ошибка, то можно попробовать установить Python и библиотеки другим способом.\n",
    "\n",
    "Минимальный набор для работы:\n",
    "\n",
    "Python 2.7\n",
    "Jupiter Notebook\n",
    "NumPy\n",
    "Matplotlib\n",
    "Pandas\n",
    "SciKit-Learn\n",
    "\n",
    "Лучше ставить 32-битные версии, поскольку 64-битные не всегда работают корректно под Windows. Обратите внимание, что некоторые библиотеки будут иметь дополнительные зависимости в виде других библиотек, их тоже придется поставить."
   ]
  },
  {
   "cell_type": "markdown",
   "metadata": {
    "collapsed": true
   },
   "source": [
    "## Использование virtualenv\n",
    "\n",
    "\n",
    "Virtualenv позволяет заключить в отдельный каталог необходимые версии python-пакетов и использовать только их. Используя virtualenv, Вы можете устанавливать свежие версии пакетов из Python Package Index, при этом не огребать проблем с несовместимостью версий пакетов с установленными в системе. Нормальным решением также является установка python-пакетов через pip в системные каталоги. Для этого не нужно ничего мутить с virtualenv, но запускать pip при этом следует от рута:\n",
    "\n",
    "> `$ sudo pip install juptyter numpy scipy pandas matplotlib scikit-learn`\n",
    "\n",
    "Но напоминаем, пакеты могут конфликтовать с системными, может фейлиться сборка, могут импортироваться старые версии и возникать другие проблемы...\n",
    "\n",
    "Для создания виртуального окружения необходимо сказать\n",
    "\n",
    "> `$ virtualenv yourenv`\n",
    "\n",
    "при этом будет создан каталог `yourenv` с чистым окружением без каких либо пакетов. Для использования виртуального окружения можно использовать команды из соответствующего каталога:\n",
    "\n",
    "> `$ yourenv/bin/python script.py`<br>\n",
    "> `$ yourenv/bin/pip install ... # установка пакетов в виртуальное окружение`<br>\n",
    "> `$ yourenv/bin/ipython`\n",
    "\n",
    "Для того чтобы не говорить префикс `yourenv/bin` удобно в текущей сесии командной строки выставить необходимые переменные окружения (активировать виртуальное окружение):\n",
    "\n",
    "> `$ source yourenv/bin/activate`<br>\n",
    "> `(yourenv)$ pip install ... # установка пакетов в виртуальное окружение`<br>\n",
    "> `(yourenv)$ jupiter notebook`\n",
    "\n",
    "После активации, у приглашения командной строки появится префикс `(yourenv)`.\n",
    "\n",
    "Для того, чтобы деактивировать виртуальное окружение, необходимо сказать\n",
    "\n",
    "> `(yourenv)$ deactivate`<br>\n",
    "> `$ python   # префикс пропал, python будет выполняться в системном окружении`\n"
   ]
  },
  {
   "cell_type": "markdown",
   "metadata": {},
   "source": [
    "## Запуск Jupyter\n",
    "\n",
    "В директории, где вы хотите чтобы был корень, нужно запустить команду\n",
    "\n",
    ">`(ml)$ jupyter notebook`<br>\n",
    "\n",
    "Удобно запускать ноутбук под nohup \n",
    "\n",
    ">`(ml)$ nohup jupyter notebook`<br>\n",
    "\n",
    "это специальная команда, которая перехватывает сигнал потери связи SIGHUP. Теперь вы можете закрыть консоль и не беспокоиться, что ноутбук упадет. Правда, убивать ноутбук придется через kill или менеджер задач"
   ]
  },
  {
   "cell_type": "markdown",
   "metadata": {},
   "source": [
    "<img src=\"http://www.linusakesson.net/programming/kernighans-lever/cat.png\">"
   ]
  },
  {
   "cell_type": "code",
   "execution_count": null,
   "metadata": {
    "collapsed": true
   },
   "outputs": [],
   "source": []
  }
 ],
 "metadata": {
  "kernelspec": {
   "display_name": "Python 2",
   "language": "python",
   "name": "python2"
  },
  "language_info": {
   "codemirror_mode": {
    "name": "ipython",
    "version": 2
   },
   "file_extension": ".py",
   "mimetype": "text/x-python",
   "name": "python",
   "nbconvert_exporter": "python",
   "pygments_lexer": "ipython2",
   "version": "2.7.11"
  }
 },
 "nbformat": 4,
 "nbformat_minor": 2
}

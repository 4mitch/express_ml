{
 "cells": [
  {
   "cell_type": "markdown",
   "metadata": {},
   "source": [
    "## Задание:"
   ]
  },
  {
   "cell_type": "code",
   "execution_count": 2,
   "metadata": {
    "collapsed": false
   },
   "outputs": [
    {
     "name": "stdout",
     "output_type": "stream",
     "text": [
      "Populating the interactive namespace from numpy and matplotlib\n"
     ]
    }
   ],
   "source": [
    "# Первое задание простое - выполните эту ячейку :)\n",
    "# популяризирует numpy, matplotlib.pyplot :\n",
    "%pylab inline    \n",
    "# рисование графиков в ноутбуке :\n",
    "%matplotlib inline \n",
    "# чтобы писать np.array вместо array :\n",
    "import numpy as np "
   ]
  },
  {
   "cell_type": "markdown",
   "metadata": {},
   "source": [
    "##### Что больше $\\pi^e$ или $e^\\pi$ ? \n",
    "\n",
    "Воспользуйтесь встроенными константами np.pi и np.e"
   ]
  },
  {
   "cell_type": "code",
   "execution_count": 3,
   "metadata": {
    "collapsed": false
   },
   "outputs": [
    {
     "name": "stdout",
     "output_type": "stream",
     "text": [
      "22.4591577184\n",
      "23.1406926328\n"
     ]
    }
   ],
   "source": [
    "print np.pi ** np.e\n",
    "print np.e ** np.pi"
   ]
  },
  {
   "cell_type": "markdown",
   "metadata": {},
   "source": [
    "##### Фильтрация элементов в массиве\n",
    "\n",
    "Создайте массив из последовательности чисел от 1 до 10 (функция <a href=\"https://docs.scipy.org/doc/numpy/reference/generated/numpy.arange.html\">np.arange</a>)\n",
    "\n",
    "Выведете этот массив в обратном порядке. \n",
    "Выведете каждый второй элемент. \n",
    "Выведете элементы большие числа 3. (<a href=\"https://docs.scipy.org/doc/numpy/reference/arrays.indexing.html\">numpy indexing tutorial</a>)"
   ]
  },
  {
   "cell_type": "code",
   "execution_count": 8,
   "metadata": {
    "collapsed": false
   },
   "outputs": [
    {
     "name": "stdout",
     "output_type": "stream",
     "text": [
      "[ 1  2  3  4  5  6  7  8  9 10]\n",
      "[10  9  8  7  6  5  4  3  2  1]\n",
      "[1 3 5 7 9]\n",
      "[ 4  5  6  7  8  9 10]\n"
     ]
    }
   ],
   "source": [
    "x = np.arange(1, 11)\n",
    "print x\n",
    "print x[::-1]\n",
    "print x[::2]\n",
    "print x[x>3]"
   ]
  },
  {
   "cell_type": "markdown",
   "metadata": {},
   "source": [
    "##### Операции с массивами\n",
    "\n",
    "Создайте 5 одномерных массивов: первый из единиц, второй из двоек и т.д.\n",
    "Объедините массивы в с помощью функции <a href=\"https://docs.scipy.org/doc/numpy/reference/generated/numpy.vstack.html\">np.vstack</a> в матрицу A (на самом деле 2-мервный массив). \n",
    "Сделайте копию А с помощью <a href=\"https://docs.scipy.org/doc/numpy/reference/generated/numpy.copy.html\">np.copy</a> и назовите её B. Вычислите честное матричной произведение (метод функция <a href=\"https://docs.scipy.org/doc/numpy/reference/generated/numpy.dot.html\">np.dot</a>) между матрицей A и B транспонированной (метод <a href=\"https://docs.scipy.org/doc/numpy-1.9.1/reference/generated/numpy.ndarray.T.html\">.T</a>). Выведете ответ"
   ]
  },
  {
   "cell_type": "code",
   "execution_count": 12,
   "metadata": {
    "collapsed": false
   },
   "outputs": [
    {
     "name": "stdout",
     "output_type": "stream",
     "text": [
      "[array([ 1.,  1.,  1.,  1.,  1.,  1.,  1.,  1.,  1.,  1.]), array([ 2.,  2.,  2.,  2.,  2.,  2.,  2.,  2.,  2.,  2.]), array([ 3.,  3.,  3.,  3.,  3.,  3.,  3.,  3.,  3.,  3.]), array([ 4.,  4.,  4.,  4.,  4.,  4.,  4.,  4.,  4.,  4.]), array([ 5.,  5.,  5.,  5.,  5.,  5.,  5.,  5.,  5.,  5.])]\n",
      "[[ 1.  1.  1.  1.  1.  1.  1.  1.  1.  1.]\n",
      " [ 2.  2.  2.  2.  2.  2.  2.  2.  2.  2.]\n",
      " [ 3.  3.  3.  3.  3.  3.  3.  3.  3.  3.]\n",
      " [ 4.  4.  4.  4.  4.  4.  4.  4.  4.  4.]\n",
      " [ 5.  5.  5.  5.  5.  5.  5.  5.  5.  5.]]\n",
      "[[  10.   20.   30.   40.   50.]\n",
      " [  20.   40.   60.   80.  100.]\n",
      " [  30.   60.   90.  120.  150.]\n",
      " [  40.   80.  120.  160.  200.]\n",
      " [  50.  100.  150.  200.  250.]]\n"
     ]
    }
   ],
   "source": [
    "arrays = []\n",
    "for i in xrange(1, 6):\n",
    "    arrays.append(np.full(10, i))\n",
    "    \n",
    "print arrays\n",
    "A = np.vstack(arrays)\n",
    "print A\n",
    "B = np.copy(A)\n",
    "C = A.dot(B.T)\n",
    "print C"
   ]
  },
  {
   "cell_type": "markdown",
   "metadata": {},
   "source": [
    "##### Max / min\n",
    "\n",
    "Найдите максимум и минимум в полученной матрицы из задания выше (методы <a href=\"https://docs.scipy.org/doc/numpy/reference/generated/numpy.ndarray.max.html\">.max</a> и <a href=\"https://docs.scipy.org/doc/numpy/reference/generated/numpy.ndarray.min.html\">.min</a> класса numpy.ndarray). Так же найдите максимумы в строках и столбцах (параметр axes)."
   ]
  },
  {
   "cell_type": "code",
   "execution_count": 18,
   "metadata": {
    "collapsed": false
   },
   "outputs": [
    {
     "name": "stdout",
     "output_type": "stream",
     "text": [
      "5.0\n",
      "1.0\n",
      "[ 1.  2.  3.  4.  5.]\n",
      "[ 5.  5.  5.  5.  5.  5.  5.  5.  5.  5.]\n"
     ]
    }
   ],
   "source": [
    "print A.max()\n",
    "print A.min()\n",
    "print A.max(axis=1)  # в строках\n",
    "print A.max(axis=0)  # в столбцах"
   ]
  },
  {
   "cell_type": "markdown",
   "metadata": {},
   "source": [
    "##### Индексирование*\n",
    "Напишите функцию, возвращающую максимальный элемент в векторе x среди элементов, перед которыми стоит нулевой. <br>\n",
    "Для x = np.array([6, 2, 0, 3, 0, 0, 5, 7, 0]) ответом является 5. Если нулевых элементов нет, функция должна возвращать None.\n",
    "\n",
    "Для решения можно использовать функцию <a href=\"https://docs.scipy.org/doc/numpy/reference/generated/numpy.where.html\">np.where</a>. Эта функция может быть использована для получиения индексов элементов в массиве, которые подчиняются логическому условию. Например:\n",
    "np.where(np.array([1, 4, 7, 5, 2]) % 2 == 0)[0] возвращает индексы четных элементов: array([1, 4])"
   ]
  },
  {
   "cell_type": "code",
   "execution_count": 26,
   "metadata": {
    "collapsed": false
   },
   "outputs": [
    {
     "data": {
      "text/plain": [
       "5"
      ]
     },
     "execution_count": 26,
     "metadata": {},
     "output_type": "execute_result"
    }
   ],
   "source": [
    "def max_element(arr):\n",
    "    zeros_indexes = np.where(arr[:-1] == 0)[0]\n",
    "    return np.max(arr[zeros_indexes + 1])\n",
    "    \n",
    "max_element(np.array([6, 2, 0, 3, 0, 0, 5, 7, 0]))"
   ]
  },
  {
   "cell_type": "markdown",
   "metadata": {
    "collapsed": true
   },
   "source": [
    "##### Гистограмма значений\n",
    "Превратите матрицу в 1D массив с помощью метода <a href=\"https://docs.scipy.org/doc/numpy/reference/generated/numpy.ndarray.flatten.html\">.flatten()</a> и выведете гистограмму значений результата с помощью функции <a href=\"https://docs.scipy.org/doc/numpy/reference/generated/numpy.histogram.html\"> hist()</a>. Она принимает на вход массив. Так же можно задать параметр bins=100"
   ]
  },
  {
   "cell_type": "code",
   "execution_count": 30,
   "metadata": {
    "collapsed": false
   },
   "outputs": [
    {
     "data": {
      "image/png": "[encoded data removed]",
      "text/plain": [
       "<matplotlib.figure.Figure at 0x10f3818d0>"
      ]
     },
     "metadata": {},
     "output_type": "display_data"
    }
   ],
   "source": [
    "_ = hist(A.flatten(), bins=10)"
   ]
  },
  {
   "cell_type": "markdown",
   "metadata": {},
   "source": [
    "##### Матожидание числа угадываний*\n",
    "\n",
    "За сколько попыток можно угать число от 1 до 100? Придумайте схему испытаний, проведите необходимое количество замеров. В ответе напишите матожидание, среднее отклонение и выведете гистограму полученных значений. "
   ]
  },
  {
   "cell_type": "code",
   "execution_count": 55,
   "metadata": {
    "collapsed": false
   },
   "outputs": [
    {
     "name": "stdout",
     "output_type": "stream",
     "text": [
      "50.938\n",
      "28.8270663787\n"
     ]
    },
    {
     "data": {
      "image/png": "[encoded data removed]",
      "text/plain": [
       "<matplotlib.figure.Figure at 0x10f3c8bd0>"
      ]
     },
     "metadata": {},
     "output_type": "display_data"
    }
   ],
   "source": [
    "shuffled_array = np.arange(1, 101)\n",
    "guess_number = []\n",
    "\n",
    "for i in xrange(10000):\n",
    "    random_number = np.random.randint(1, 101)\n",
    "    np.random.shuffle(shuffled_array)\n",
    "    index = np.where(shuffled_array == random_number)[0][0]\n",
    "    guess_number.append(index + 1)\n",
    "    \n",
    "\n",
    "print np.mean(guess_number)\n",
    "print np.std(guess_number)\n",
    "_ = hist(guess_number)"
   ]
  },
  {
   "cell_type": "markdown",
   "metadata": {},
   "source": [
    "<img src=\"http://imgs.xkcd.com/comics/psychic.png\">"
   ]
  },
  {
   "cell_type": "code",
   "execution_count": null,
   "metadata": {
    "collapsed": true
   },
   "outputs": [],
   "source": []
  }
 ],
 "metadata": {
  "kernelspec": {
   "display_name": "Python 2",
   "language": "python",
   "name": "python2"
  },
  "language_info": {
   "codemirror_mode": {
    "name": "ipython",
    "version": 2
   },
   "file_extension": ".py",
   "mimetype": "text/x-python",
   "name": "python",
   "nbconvert_exporter": "python",
   "pygments_lexer": "ipython2",
   "version": "2.7.11"
  }
 },
 "nbformat": 4,
 "nbformat_minor": 0
}

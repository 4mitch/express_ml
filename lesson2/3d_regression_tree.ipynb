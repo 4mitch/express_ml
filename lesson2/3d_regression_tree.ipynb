{
 "cells": [
  {
   "cell_type": "code",
   "execution_count": 7,
   "metadata": {
    "collapsed": false
   },
   "outputs": [],
   "source": [
    "from mpl_toolkits.mplot3d import Axes3D\n",
    "import matplotlib.pyplot as plt\n",
    "from matplotlib import cm\n",
    "from matplotlib.ticker import LinearLocator, FormatStrFormatter\n",
    "import numpy as np\n",
    "\n",
    "from sklearn.tree import DecisionTreeRegressor\n",
    "\n",
    "\n",
    "\n",
    "fig = plt.figure()\n",
    "ax = fig.gca(projection='3d')\n",
    "\n",
    "X1_test = np.arange(-5, 5, 0.1)\n",
    "X2_test = np.arange(-5, 5, 0.1)\n",
    "X1_test, X2_test = np.meshgrid(X1_test, X2_test)\n",
    "R = np.sqrt(X1_test**2 + X2_test**2)\n",
    "y_test = np.sin(R)\n",
    "\n",
    "# Plot the surface.\n",
    "# surf = ax.plot_surface(X1_test, X2_test, y_test, cmap=cm.coolwarm,\n",
    "#                        linewidth=0, alpha=0.5, rstride=5, cstride=5)\n",
    "indexes = np.arange(X1_test.size)\n",
    "np.random.shuffle(indexes)\n",
    "indexes = indexes[:100]\n",
    "X = np.array([X1_test.flatten(), X2_test.flatten()]).T[indexes,:]\n",
    "y = y_test.flatten()[indexes]\n",
    "y[::2] += 0.5 - np.random.rand(y.size / 2)\n",
    "\n",
    "clf = DecisionTreeRegressor(max_leaf_nodes=20, random_state=1)\n",
    "clf.fit(X, y)\n",
    "y_pred = clf.predict(np.array([X1_test.flatten(), X2_test.flatten()]).T)\n",
    "\n",
    "surf = ax.plot_surface(X1_test, X2_test, np.reshape(y_pred , (100, 100)), \n",
    "                       cmap=cm.coolwarm,\n",
    "                       linewidth=0.5, alpha=0.8, rstride=4, cstride=5)\n",
    "\n",
    "ax.scatter(X[:,0], X[:,1], y, c=y, cmap=cm.coolwarm)\n",
    "\n",
    "# Customize the z axis.\n",
    "ax.set_zlim(-1.01, 1.01)\n",
    "ax.zaxis.set_major_locator(LinearLocator(10))\n",
    "ax.zaxis.set_major_formatter(FormatStrFormatter('%.02f'))\n",
    "\n",
    "# Add a color bar which maps values to colors.\n",
    "# fig.colorbar(surf, shrink=0.5, aspect=5)\n",
    "\n",
    "plt.show()\n"
   ]
  },
  {
   "cell_type": "code",
   "execution_count": null,
   "metadata": {
    "collapsed": true
   },
   "outputs": [],
   "source": []
  },
  {
   "cell_type": "code",
   "execution_count": null,
   "metadata": {
    "collapsed": true
   },
   "outputs": [],
   "source": []
  },
  {
   "cell_type": "code",
   "execution_count": null,
   "metadata": {
    "collapsed": true
   },
   "outputs": [],
   "source": []
  }
 ],
 "metadata": {
  "kernelspec": {
   "display_name": "Python 2",
   "language": "python",
   "name": "python2"
  },
  "language_info": {
   "codemirror_mode": {
    "name": "ipython",
    "version": 2
   },
   "file_extension": ".py",
   "mimetype": "text/x-python",
   "name": "python",
   "nbconvert_exporter": "python",
   "pygments_lexer": "ipython2",
   "version": "2.7.11"
  }
 },
 "nbformat": 4,
 "nbformat_minor": 0
}

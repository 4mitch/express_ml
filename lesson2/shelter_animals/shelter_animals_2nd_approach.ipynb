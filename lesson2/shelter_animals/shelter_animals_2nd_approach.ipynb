{
 "cells": [
  {
   "cell_type": "code",
   "execution_count": 77,
   "metadata": {
    "collapsed": false
   },
   "outputs": [
    {
     "name": "stdout",
     "output_type": "stream",
     "text": [
      "Populating the interactive namespace from numpy and matplotlib\n"
     ]
    },
    {
     "name": "stderr",
     "output_type": "stream",
     "text": [
      "WARNING: pylab import has clobbered these variables: ['clf']\n",
      "`%matplotlib` prevents importing * from pylab and numpy\n"
     ]
    }
   ],
   "source": [
    "%matplotlib inline\n",
    "%pylab inline\n",
    "import pandas as pd\n",
    "import numpy as np\n",
    "import seaborn as sns\n",
    "from __future__ import division"
   ]
  },
  {
   "cell_type": "code",
   "execution_count": 78,
   "metadata": {
    "collapsed": true
   },
   "outputs": [],
   "source": [
    "df = pd.read_csv('train.csv')\n",
    "y = df[u'OutcomeType'].values\n",
    "df['SexuponOutcome'] = df['SexuponOutcome'].fillna('Unknown')\n",
    "df['AnimalType'] = df['AnimalType'].map({'Dog': 0, 'Cat': 1})\n",
    "df['AgeuponOutcome'] = df['AgeuponOutcome'].fillna('unknown')\n",
    "\n",
    "def get_age_in_weeks(age_str):\n",
    "    if age_str == 'unknown':\n",
    "        return -50\n",
    "    number, time_period = age_str.split()\n",
    "    multiplicator = 1\n",
    "    if time_period == 'years':\n",
    "        multiplicator = 365 / 7\n",
    "    elif time_period == 'months':\n",
    "        multiplicator = 30 / 7\n",
    "    return int(number) * multiplicator\n",
    "\n",
    "df['AgeuponOutcome'] = df['AgeuponOutcome'].map(get_age_in_weeks)\n",
    "del df['OutcomeSubtype']\n",
    "del df['AnimalID']"
   ]
  },
  {
   "cell_type": "code",
   "execution_count": 79,
   "metadata": {
    "collapsed": false
   },
   "outputs": [],
   "source": [
    "import datetime, time\n",
    "def date_str2timestamp(line):\n",
    "    d = datetime.datetime.strptime(line, '%Y-%m-%d %H:%M:%S')\n",
    "    return int(time.mktime(d.timetuple()))\n",
    "\n",
    "df['Timestamp'] = df['DateTime'].map(date_str2timestamp)"
   ]
  },
  {
   "cell_type": "code",
   "execution_count": 80,
   "metadata": {
    "collapsed": false
   },
   "outputs": [],
   "source": [
    "gender_and_stirilization = pd.get_dummies(df['SexuponOutcome'], prefix='GAndS', drop_first=True)\n",
    "df = pd.concat([df, gender_and_stirilization], axis=1)\n",
    "del df['SexuponOutcome']"
   ]
  },
  {
   "cell_type": "code",
   "execution_count": 81,
   "metadata": {
    "collapsed": false
   },
   "outputs": [
    {
     "name": "stdout",
     "output_type": "stream",
     "text": [
      "0.44902540312\n",
      "0.560327733922\n",
      "0.634292341651\n",
      "0.572374574432\n"
     ]
    }
   ],
   "source": [
    "from sklearn.ensemble import RandomForestClassifier\n",
    "clf = RandomForestClassifier(n_estimators=400, oob_score=True, n_jobs=6, random_state=42)\n",
    "print clf.fit(df[['AnimalType']], y).oob_score_\n",
    "print clf.fit(df[['AnimalType', 'AgeuponOutcome']], y).oob_score_\n",
    "print clf.fit(df[['AnimalType', 'AgeuponOutcome',\n",
    "                  'GAndS_Intact Male', 'GAndS_Neutered Male',\n",
    "                  'GAndS_Spayed Female', 'GAndS_Unknown']], y).oob_score_\n",
    "print clf.fit(df[['AnimalType', 'AgeuponOutcome',\n",
    "                  'GAndS_Intact Male', 'GAndS_Neutered Male',\n",
    "                  'GAndS_Spayed Female', 'GAndS_Unknown',\n",
    "                  'Timestamp']], y).oob_score_"
   ]
  },
  {
   "cell_type": "markdown",
   "metadata": {},
   "source": [
    "## Timestamp переобучает!!!"
   ]
  },
  {
   "cell_type": "code",
   "execution_count": 104,
   "metadata": {
    "collapsed": false
   },
   "outputs": [],
   "source": [
    "def date_str2year(line):\n",
    "    return int(line.split('-')[0])\n",
    "    \n",
    "def date_str2month(line):\n",
    "    return int(line.split('-')[1])\n",
    "\n",
    "def date_str2day(line):\n",
    "    return int(line.split('-')[2].split()[0])\n",
    "\n",
    "def date_str2clock(line):\n",
    "    hours, minutes = line.split()[1].split(':')[:2]\n",
    "    return int(minutes) + int(hours) * 60\n",
    "\n",
    "def date_str2weekday(line):\n",
    "    return datetime.datetime.strptime(line, '%Y-%m-%d %H:%M:%S').weekday()\n",
    "\n",
    "\n",
    "df['year'] = df['DateTime'].map(date_str2year)\n",
    "df['month'] = df['DateTime'].map(date_str2month)\n",
    "df['day'] = df['DateTime'].map(date_str2day)\n",
    "df['clock'] = df['DateTime'].map(date_str2clock)\n",
    "df['weekday'] = df['DateTime'].map(date_str2weekday)"
   ]
  },
  {
   "cell_type": "code",
   "execution_count": 106,
   "metadata": {
    "collapsed": false
   },
   "outputs": [
    {
     "name": "stdout",
     "output_type": "stream",
     "text": [
      "0.629877660967\n",
      "0.605447267013\n",
      "0.599199371469\n",
      "0.660593363014\n",
      "0.67784054772\n"
     ]
    }
   ],
   "source": [
    "print clf.fit(df[['AnimalType', 'AgeuponOutcome',\n",
    "                  'GAndS_Intact Male', 'GAndS_Neutered Male',\n",
    "                  'GAndS_Spayed Female', 'GAndS_Unknown',\n",
    "                  'year']], y).oob_score_\n",
    "print clf.fit(df[['AnimalType', 'AgeuponOutcome',\n",
    "                  'GAndS_Intact Male', 'GAndS_Neutered Male',\n",
    "                  'GAndS_Spayed Female', 'GAndS_Unknown',\n",
    "                  'year', 'month']], y).oob_score_\n",
    "print clf.fit(df[['AnimalType', 'AgeuponOutcome',\n",
    "                  'GAndS_Intact Male', 'GAndS_Neutered Male',\n",
    "                  'GAndS_Spayed Female', 'GAndS_Unknown',\n",
    "                  'year', 'month', 'day']], y).oob_score_\n",
    "print clf.fit(df[['AnimalType', 'AgeuponOutcome',\n",
    "                  'GAndS_Intact Male', 'GAndS_Neutered Male',\n",
    "                  'GAndS_Spayed Female', 'GAndS_Unknown',\n",
    "                  'year', 'month', 'day', 'clock']], y).oob_score_\n",
    "print clf.fit(df[['AnimalType', 'AgeuponOutcome',\n",
    "                  'GAndS_Intact Male', 'GAndS_Neutered Male',\n",
    "                  'GAndS_Spayed Female', 'GAndS_Unknown',\n",
    "                  'year', 'month', 'day', 'clock', 'weekday']], y).oob_score_"
   ]
  },
  {
   "cell_type": "markdown",
   "metadata": {},
   "source": [
    "## Успех!"
   ]
  },
  {
   "cell_type": "code",
   "execution_count": 120,
   "metadata": {
    "collapsed": false
   },
   "outputs": [],
   "source": [
    "def breed_has_mix(breed):\n",
    "    return 1 if 'mix' in breed.lower() else 0\n",
    "\n",
    "def breed_has_slash(breed):\n",
    "    return 1 if '/' in breed.lower() else 0\n",
    "    \n",
    "df['mix'] = df['Breed'].map(breed_has_mix)\n",
    "df['slash'] = df['Breed'].map(breed_has_slash)"
   ]
  },
  {
   "cell_type": "code",
   "execution_count": 122,
   "metadata": {
    "collapsed": false
   },
   "outputs": [
    {
     "name": "stdout",
     "output_type": "stream",
     "text": [
      "0.676792996371\n",
      "0.678177260653\n",
      "0.675857682667\n"
     ]
    }
   ],
   "source": [
    "print clf.fit(df[['AnimalType', 'AgeuponOutcome',\n",
    "                  'GAndS_Intact Male', 'GAndS_Neutered Male',\n",
    "                  'GAndS_Spayed Female', 'GAndS_Unknown',\n",
    "                  'year', 'month', 'day', 'clock', 'weekday',\n",
    "                  'mix']], y).oob_score_\n",
    "print clf.fit(df[['AnimalType', 'AgeuponOutcome',\n",
    "                  'GAndS_Intact Male', 'GAndS_Neutered Male',\n",
    "                  'GAndS_Spayed Female', 'GAndS_Unknown',\n",
    "                  'year', 'month', 'day', 'clock', 'weekday',\n",
    "                  'slash']], y).oob_score_\n",
    "print clf.fit(df[['AnimalType', 'AgeuponOutcome',\n",
    "                  'GAndS_Intact Male', 'GAndS_Neutered Male',\n",
    "                  'GAndS_Spayed Female', 'GAndS_Unknown',\n",
    "                  'year', 'month', 'day', 'clock', 'weekday',\n",
    "                  'mix', 'slash']], y).oob_score_"
   ]
  },
  {
   "cell_type": "code",
   "execution_count": 114,
   "metadata": {
    "collapsed": false
   },
   "outputs": [],
   "source": [
    "def normalize_breef(breef):\n",
    "    return breef.replace('/', ' ').lower()\n",
    "\n",
    "\n",
    "df['Breed'] = df['Breed'].map(normalize_breef)"
   ]
  },
  {
   "cell_type": "code",
   "execution_count": 117,
   "metadata": {
    "collapsed": false
   },
   "outputs": [],
   "source": [
    "df['breed_words_count'] = df['Breed'].map(lambda x: x.count(' '))"
   ]
  },
  {
   "cell_type": "code",
   "execution_count": 124,
   "metadata": {
    "collapsed": false
   },
   "outputs": [
    {
     "name": "stdout",
     "output_type": "stream",
     "text": [
      "0.678738448876\n",
      "0.679823412773\n"
     ]
    }
   ],
   "source": [
    "print clf.fit(df[['AnimalType', 'AgeuponOutcome',\n",
    "                  'GAndS_Intact Male', 'GAndS_Neutered Male',\n",
    "                  'GAndS_Spayed Female', 'GAndS_Unknown',\n",
    "                  'year', 'month', 'day', 'clock', 'weekday',\n",
    "                  'breed_words_count']], y).oob_score_\n",
    "\n",
    "print clf.fit(df[['AnimalType', 'AgeuponOutcome',\n",
    "                  'GAndS_Intact Male', 'GAndS_Neutered Male',\n",
    "                  'GAndS_Spayed Female', 'GAndS_Unknown',\n",
    "                  'year', 'month', 'day', 'clock', 'weekday',\n",
    "                  'breed_words_count', 'slash']], y).oob_score_"
   ]
  },
  {
   "cell_type": "markdown",
   "metadata": {},
   "source": [
    "## Успех!"
   ]
  },
  {
   "cell_type": "markdown",
   "metadata": {},
   "source": [
    "## CountVectorizer"
   ]
  },
  {
   "cell_type": "code",
   "execution_count": 157,
   "metadata": {
    "collapsed": false
   },
   "outputs": [
    {
     "data": {
      "text/plain": [
       "0.673949642710165"
      ]
     },
     "execution_count": 157,
     "metadata": {},
     "output_type": "execute_result"
    }
   ],
   "source": [
    "from sklearn.feature_extraction.text import CountVectorizer\n",
    "vectorizer = CountVectorizer()\n",
    "X_breed_one_hot = vectorizer.fit_transform(df['Breed']).toarray()\n",
    "X_with_one_hot = np.hstack((X, breed_hashed))\n",
    "clf.fit(X_with_one_hot, y).oob_score_"
   ]
  },
  {
   "cell_type": "markdown",
   "metadata": {},
   "source": [
    "### Most frequent:"
   ]
  },
  {
   "cell_type": "code",
   "execution_count": 174,
   "metadata": {
    "collapsed": false
   },
   "outputs": [
    {
     "name": "stdout",
     "output_type": "stream",
     "text": [
      "1 0.679374462195\n",
      "2 0.679374462195\n",
      "4 0.677578659883\n",
      "8 0.676830408919\n",
      "16 0.677503834786\n",
      "32 0.675708032474\n"
     ]
    }
   ],
   "source": [
    "most_frequent = argsort(sum(X_breed_one_hot, axis=0))[::-1]\n",
    "for count in 2 ** np.arange(0, 6):\n",
    "    X_with_one_hot_frequent = np.hstack((X, X_breed_one_hot[:,most_frequent[:count]]))\n",
    "    print count, clf.fit(X_with_one_hot_frequent, y).oob_score_"
   ]
  },
  {
   "cell_type": "markdown",
   "metadata": {},
   "source": [
    "### Best oob_score:"
   ]
  },
  {
   "cell_type": "code",
   "execution_count": 175,
   "metadata": {
    "collapsed": true
   },
   "outputs": [],
   "source": [
    "#Бесполезно ((("
   ]
  },
  {
   "cell_type": "markdown",
   "metadata": {},
   "source": [
    "## HashingVectorizer:"
   ]
  },
  {
   "cell_type": "code",
   "execution_count": 156,
   "metadata": {
    "collapsed": false
   },
   "outputs": [
    {
     "name": "stdout",
     "output_type": "stream",
     "text": [
      "10 0.678551386135\n",
      "50 0.67843914849\n",
      "90 0.677129709305\n",
      "130 0.675558382281\n",
      "170 0.676306633245\n",
      "210 0.673313629391\n",
      "250 0.67394964271\n"
     ]
    }
   ],
   "source": [
    "from sklearn.feature_extraction.text import HashingVectorizer\n",
    "\n",
    "X = df[['AnimalType', 'AgeuponOutcome',\n",
    "                  'GAndS_Intact Male', 'GAndS_Neutered Male',\n",
    "                  'GAndS_Spayed Female', 'GAndS_Unknown',\n",
    "                  'year', 'month', 'day', 'clock', 'weekday',\n",
    "                  'breed_words_count', 'slash']].values\n",
    "\n",
    "for n_features in np.arange(10, 262, 40):\n",
    "    hashing = HashingVectorizer(n_features=n_features, non_negative=True)\n",
    "    breed_hashed = hashing.fit_transform(df['Breed']).toarray()\n",
    "    X_with_hashed = np.hstack((X, breed_hashed))\n",
    "    print n_features, clf.fit(X_with_hashed, y).oob_score_"
   ]
  },
  {
   "cell_type": "markdown",
   "metadata": {},
   "source": [
    "# Закодируем частотой?"
   ]
  },
  {
   "cell_type": "code",
   "execution_count": 178,
   "metadata": {
    "collapsed": false
   },
   "outputs": [],
   "source": [
    "breed2frequency = dict(df['Breed'].value_counts())\n",
    "df['breed_freq'] = df['Breed'].map(lambda x: breed2frequency[x])"
   ]
  },
  {
   "cell_type": "code",
   "execution_count": 179,
   "metadata": {
    "collapsed": false
   },
   "outputs": [
    {
     "data": {
      "text/plain": [
       "0.68139473979572751"
      ]
     },
     "execution_count": 179,
     "metadata": {},
     "output_type": "execute_result"
    }
   ],
   "source": [
    "clf.fit(df[['AnimalType', 'AgeuponOutcome',\n",
    "            'GAndS_Intact Male', 'GAndS_Neutered Male',\n",
    "            'GAndS_Spayed Female', 'GAndS_Unknown',\n",
    "            'year', 'month', 'day', 'clock', 'weekday',\n",
    "            'breed_words_count', 'slash',\n",
    "            'breed_freq']], y).oob_score_"
   ]
  },
  {
   "cell_type": "markdown",
   "metadata": {},
   "source": [
    "## Успех!"
   ]
  },
  {
   "cell_type": "markdown",
   "metadata": {},
   "source": [
    "## Закодируем таргетом?"
   ]
  },
  {
   "cell_type": "code",
   "execution_count": 186,
   "metadata": {
    "collapsed": false
   },
   "outputs": [],
   "source": [
    "# нет! это будет не честно :) Но в другой раз можно"
   ]
  },
  {
   "cell_type": "code",
   "execution_count": null,
   "metadata": {
    "collapsed": true
   },
   "outputs": [],
   "source": []
  },
  {
   "cell_type": "markdown",
   "metadata": {},
   "source": [
    "## Задание:\n",
    "\n",
    "1) постройте кривую oob_score относительно количества деревьев в лесе и выберете оптимальное значение n_estimators\n",
    "\n",
    "2) разбейте df на train и test с помощью train_test_split. Посчитайте score (метод класса RandomForestClassifier) для train и test. Есть ли у вас переобучение?\n",
    "\n",
    "3) попробуйте использовать kNN. Сколько фичей получается максимально использовать без ухудшения качества? \n",
    "\n",
    "4) пройдитесь GridSearch-ем по параметрам kNN. Какое количество соседей оказалось оптимальным? Какая метрика расстояния? \n",
    "\n",
    "Важно! прежде чем применять kNN - нужно отнормировать признаки. Помните, мы вычитали среднее и делили на std массив? Так вот для это есть отдельный класс: <a href=\"http://scikit-learn.org/stable/modules/generated/sklearn.preprocessing.StandardScaler.html#sklearn.preprocessing.StandardScaler\">sklearn.preprocessing..StandardScaler</a>\n",
    "\n",
    "5) супер-задание: загрузите датасет https://www.kaggle.com/deepmatrix/imdb-5000-movie-dataset , попробуйте предсказать рейтинг фильма. Если бы вы создавали сервис, который предсказывает рейтинг премьеры, какую бы вы метрику выбрали для оценки своего алгоритма?"
   ]
  },
  {
   "cell_type": "code",
   "execution_count": null,
   "metadata": {
    "collapsed": true
   },
   "outputs": [],
   "source": []
  }
 ],
 "metadata": {
  "kernelspec": {
   "display_name": "Python 2",
   "language": "python",
   "name": "python2"
  },
  "language_info": {
   "codemirror_mode": {
    "name": "ipython",
    "version": 2
   },
   "file_extension": ".py",
   "mimetype": "text/x-python",
   "name": "python",
   "nbconvert_exporter": "python",
   "pygments_lexer": "ipython2",
   "version": "2.7.11"
  }
 },
 "nbformat": 4,
 "nbformat_minor": 0
}

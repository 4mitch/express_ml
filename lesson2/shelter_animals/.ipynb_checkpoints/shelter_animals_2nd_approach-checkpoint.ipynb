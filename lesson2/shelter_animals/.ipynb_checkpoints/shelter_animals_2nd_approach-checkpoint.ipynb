{
 "cells": [
  {
   "cell_type": "code",
   "execution_count": 216,
   "metadata": {
    "collapsed": false
   },
   "outputs": [
    {
     "name": "stdout",
     "output_type": "stream",
     "text": [
      "Populating the interactive namespace from numpy and matplotlib\n"
     ]
    },
    {
     "name": "stderr",
     "output_type": "stream",
     "text": [
      "WARNING: pylab import has clobbered these variables: ['clf']\n",
      "`%matplotlib` prevents importing * from pylab and numpy\n"
     ]
    }
   ],
   "source": [
    "%matplotlib inline\n",
    "%pylab inline\n",
    "import pandas as pd\n",
    "import numpy as np\n",
    "import seaborn as sns\n",
    "from __future__ import division"
   ]
  },
  {
   "cell_type": "code",
   "execution_count": 217,
   "metadata": {
    "collapsed": true
   },
   "outputs": [],
   "source": [
    "df = pd.read_csv('train.csv')\n",
    "y = df[u'OutcomeType'].values\n",
    "df['SexuponOutcome'] = df['SexuponOutcome'].fillna('Unknown')\n",
    "df['AnimalType'] = df['AnimalType'].map({'Dog': 0, 'Cat': 1})\n",
    "df['AgeuponOutcome'] = df['AgeuponOutcome'].fillna('unknown')\n",
    "\n",
    "def get_age_in_weeks(age_str):\n",
    "    if age_str == 'unknown':\n",
    "        return -50\n",
    "    number, time_period = age_str.split()\n",
    "    multiplicator = 1\n",
    "    if time_period == 'years':\n",
    "        multiplicator = 365 / 7\n",
    "    elif time_period == 'months':\n",
    "        multiplicator = 30 / 7\n",
    "    return int(number) * multiplicator\n",
    "\n",
    "df['AgeuponOutcome'] = df['AgeuponOutcome'].map(get_age_in_weeks)\n",
    "del df['OutcomeSubtype']\n",
    "del df['AnimalID']"
   ]
  },
  {
   "cell_type": "code",
   "execution_count": 218,
   "metadata": {
    "collapsed": false
   },
   "outputs": [],
   "source": [
    "import datetime, time\n",
    "def date_str2timestamp(line):\n",
    "    d = datetime.datetime.strptime(line, '%Y-%m-%d %H:%M:%S')\n",
    "    return int(time.mktime(d.timetuple()))\n",
    "\n",
    "df['Timestamp'] = df['DateTime'].map(date_str2timestamp)"
   ]
  },
  {
   "cell_type": "code",
   "execution_count": 219,
   "metadata": {
    "collapsed": false
   },
   "outputs": [],
   "source": [
    "gender_and_stirilization = pd.get_dummies(df['SexuponOutcome'], \n",
    "                                          prefix='GAndS', drop_first=True)\n",
    "df = pd.concat([df, gender_and_stirilization], axis=1)\n",
    "del df['SexuponOutcome']"
   ]
  },
  {
   "cell_type": "code",
   "execution_count": 220,
   "metadata": {
    "collapsed": false
   },
   "outputs": [
    {
     "name": "stdout",
     "output_type": "stream",
     "text": [
      "0.44902540312\n",
      "0.560327733922\n",
      "0.634254929103\n",
      "0.572374574432\n"
     ]
    }
   ],
   "source": [
    "from sklearn.ensemble import RandomForestClassifier\n",
    "clf = RandomForestClassifier(n_estimators=400, oob_score=True, n_jobs=6, \n",
    "                             random_state=42)\n",
    "print clf.fit(df[['AnimalType']], y).oob_score_\n",
    "print clf.fit(df[['AnimalType', 'AgeuponOutcome']], y).oob_score_\n",
    "print clf.fit(df[['AnimalType', 'AgeuponOutcome',\n",
    "                  'GAndS_Intact Male', 'GAndS_Neutered Male',\n",
    "                  'GAndS_Spayed Female', 'GAndS_Unknown']], y).oob_score_\n",
    "print clf.fit(df[['AnimalType', 'AgeuponOutcome',\n",
    "                  'GAndS_Intact Male', 'GAndS_Neutered Male',\n",
    "                  'GAndS_Spayed Female', 'GAndS_Unknown',\n",
    "                  'Timestamp']], y).oob_score_"
   ]
  },
  {
   "cell_type": "markdown",
   "metadata": {},
   "source": [
    "## Timestamp переобучает!!!"
   ]
  },
  {
   "cell_type": "code",
   "execution_count": 221,
   "metadata": {
    "collapsed": false
   },
   "outputs": [],
   "source": [
    "def date_str2year(line):\n",
    "    return int(line.split('-')[0])\n",
    "    \n",
    "def date_str2month(line):\n",
    "    return int(line.split('-')[1])\n",
    "\n",
    "def date_str2day(line):\n",
    "    return int(line.split('-')[2].split()[0])\n",
    "\n",
    "def date_str2clock(line):\n",
    "    hours, minutes = line.split()[1].split(':')[:2]\n",
    "    return int(minutes) + int(hours) * 60\n",
    "\n",
    "def date_str2weekday(line):\n",
    "    return datetime.datetime.strptime(line, '%Y-%m-%d %H:%M:%S').weekday()\n",
    "\n",
    "\n",
    "df['year'] = df['DateTime'].map(date_str2year)\n",
    "df['month'] = df['DateTime'].map(date_str2month)\n",
    "df['day'] = df['DateTime'].map(date_str2day)\n",
    "df['clock'] = df['DateTime'].map(date_str2clock)\n",
    "df['weekday'] = df['DateTime'].map(date_str2weekday)"
   ]
  },
  {
   "cell_type": "code",
   "execution_count": 222,
   "metadata": {
    "collapsed": false
   },
   "outputs": [
    {
     "name": "stdout",
     "output_type": "stream",
     "text": [
      "0.629877660967\n",
      "0.605447267013\n",
      "0.599199371469\n",
      "0.660593363014\n",
      "0.67784054772\n"
     ]
    }
   ],
   "source": [
    "print clf.fit(df[['AnimalType', 'AgeuponOutcome',\n",
    "                  'GAndS_Intact Male', 'GAndS_Neutered Male',\n",
    "                  'GAndS_Spayed Female', 'GAndS_Unknown',\n",
    "                  'year']], y).oob_score_\n",
    "print clf.fit(df[['AnimalType', 'AgeuponOutcome',\n",
    "                  'GAndS_Intact Male', 'GAndS_Neutered Male',\n",
    "                  'GAndS_Spayed Female', 'GAndS_Unknown',\n",
    "                  'year', 'month']], y).oob_score_\n",
    "print clf.fit(df[['AnimalType', 'AgeuponOutcome',\n",
    "                  'GAndS_Intact Male', 'GAndS_Neutered Male',\n",
    "                  'GAndS_Spayed Female', 'GAndS_Unknown',\n",
    "                  'year', 'month', 'day']], y).oob_score_\n",
    "print clf.fit(df[['AnimalType', 'AgeuponOutcome',\n",
    "                  'GAndS_Intact Male', 'GAndS_Neutered Male',\n",
    "                  'GAndS_Spayed Female', 'GAndS_Unknown',\n",
    "                  'year', 'month', 'day', 'clock']], y).oob_score_\n",
    "print clf.fit(df[['AnimalType', 'AgeuponOutcome',\n",
    "                  'GAndS_Intact Male', 'GAndS_Neutered Male',\n",
    "                  'GAndS_Spayed Female', 'GAndS_Unknown',\n",
    "                  'year', 'month', 'day', 'clock', 'weekday']], y).oob_score_"
   ]
  },
  {
   "cell_type": "markdown",
   "metadata": {},
   "source": [
    "## Успех!"
   ]
  },
  {
   "cell_type": "code",
   "execution_count": 225,
   "metadata": {
    "collapsed": false
   },
   "outputs": [],
   "source": [
    "def breed_has_mix(breed):\n",
    "    return 1 if 'mix' in breed.lower() else 0\n",
    "\n",
    "def breed_has_slash(breed):\n",
    "    return 1 if '/' in breed.lower() else 0\n",
    "    \n",
    "df['mix'] = df['Breed'].map(breed_has_mix)\n",
    "df['slash'] = df['Breed'].map(breed_has_slash)"
   ]
  },
  {
   "cell_type": "code",
   "execution_count": 226,
   "metadata": {
    "collapsed": false
   },
   "outputs": [
    {
     "name": "stdout",
     "output_type": "stream",
     "text": [
      "0.676792996371\n",
      "0.679449287291\n",
      "0.678139848105\n"
     ]
    }
   ],
   "source": [
    "print clf.fit(df[['AnimalType', 'AgeuponOutcome',\n",
    "                  'GAndS_Intact Male', 'GAndS_Neutered Male',\n",
    "                  'GAndS_Spayed Female', 'GAndS_Unknown',\n",
    "                  'year', 'month', 'day', 'clock', 'weekday',\n",
    "                  'mix']], y).oob_score_\n",
    "print clf.fit(df[['AnimalType', 'AgeuponOutcome',\n",
    "                  'GAndS_Intact Male', 'GAndS_Neutered Male',\n",
    "                  'GAndS_Spayed Female', 'GAndS_Unknown',\n",
    "                  'year', 'month', 'day', 'clock', 'weekday',\n",
    "                  'slash']], y).oob_score_\n",
    "print clf.fit(df[['AnimalType', 'AgeuponOutcome',\n",
    "                  'GAndS_Intact Male', 'GAndS_Neutered Male',\n",
    "                  'GAndS_Spayed Female', 'GAndS_Unknown',\n",
    "                  'year', 'month', 'day', 'clock', 'weekday',\n",
    "                  'mix', 'slash']], y).oob_score_"
   ]
  },
  {
   "cell_type": "code",
   "execution_count": 229,
   "metadata": {
    "collapsed": false
   },
   "outputs": [],
   "source": [
    "def normalize_breef(breef):\n",
    "    return breef.replace('/', ' ').lower()\n",
    "\n",
    "\n",
    "df['Breed'] = df['Breed'].map(normalize_breef)"
   ]
  },
  {
   "cell_type": "code",
   "execution_count": 230,
   "metadata": {
    "collapsed": false
   },
   "outputs": [],
   "source": [
    "df['breed_words_count'] = df['Breed'].map(lambda x: x.count(' '))"
   ]
  },
  {
   "cell_type": "code",
   "execution_count": 231,
   "metadata": {
    "collapsed": false
   },
   "outputs": [
    {
     "name": "stdout",
     "output_type": "stream",
     "text": [
      "0.678738448876\n",
      "0.680571663736\n"
     ]
    }
   ],
   "source": [
    "print clf.fit(df[['AnimalType', 'AgeuponOutcome',\n",
    "                  'GAndS_Intact Male', 'GAndS_Neutered Male',\n",
    "                  'GAndS_Spayed Female', 'GAndS_Unknown',\n",
    "                  'year', 'month', 'day', 'clock', 'weekday',\n",
    "                  'breed_words_count']], y).oob_score_\n",
    "\n",
    "print clf.fit(df[['AnimalType', 'AgeuponOutcome',\n",
    "                  'GAndS_Intact Male', 'GAndS_Neutered Male',\n",
    "                  'GAndS_Spayed Female', 'GAndS_Unknown',\n",
    "                  'year', 'month', 'day', 'clock', 'weekday',\n",
    "                  'breed_words_count', 'slash']], y).oob_score_"
   ]
  },
  {
   "cell_type": "markdown",
   "metadata": {},
   "source": [
    "## Успех!"
   ]
  },
  {
   "cell_type": "markdown",
   "metadata": {},
   "source": [
    "## CountVectorizer"
   ]
  },
  {
   "cell_type": "code",
   "execution_count": 232,
   "metadata": {
    "collapsed": false
   },
   "outputs": [],
   "source": [
    "X = df[['AnimalType', 'AgeuponOutcome',\n",
    "                  'GAndS_Intact Male', 'GAndS_Neutered Male',\n",
    "                  'GAndS_Spayed Female', 'GAndS_Unknown',\n",
    "                  'year', 'month', 'day', 'clock', 'weekday',\n",
    "                  'breed_words_count', 'slash']].values"
   ]
  },
  {
   "cell_type": "code",
   "execution_count": null,
   "metadata": {
    "collapsed": false
   },
   "outputs": [],
   "source": [
    "# from sklearn.feature_extraction.text import CountVectorizer\n",
    "# vectorizer = CountVectorizer()\n",
    "# X_breed_one_hot = vectorizer.fit_transform(df['Breed']).toarray()\n",
    "# X_with_one_hot = np.hstack((X, breed_hashed))\n",
    "# clf.fit(X_with_one_hot, y).oob_score_"
   ]
  },
  {
   "cell_type": "markdown",
   "metadata": {},
   "source": [
    "### Most frequent:"
   ]
  },
  {
   "cell_type": "code",
   "execution_count": null,
   "metadata": {
    "collapsed": false
   },
   "outputs": [],
   "source": [
    "# most_frequent = argsort(sum(X_breed_one_hot, axis=0))[::-1]\n",
    "# for count in 2 ** np.arange(0, 6):\n",
    "#     X_with_one_hot_frequent = np.hstack(\n",
    "#         (X, X_breed_one_hot[:,most_frequent[:count]]))\n",
    "#     print count, clf.fit(X_with_one_hot_frequent, y).oob_score_"
   ]
  },
  {
   "cell_type": "markdown",
   "metadata": {},
   "source": [
    "### Best oob_score:"
   ]
  },
  {
   "cell_type": "code",
   "execution_count": null,
   "metadata": {
    "collapsed": true
   },
   "outputs": [],
   "source": [
    "#Бесполезно ((("
   ]
  },
  {
   "cell_type": "markdown",
   "metadata": {},
   "source": [
    "## HashingVectorizer:"
   ]
  },
  {
   "cell_type": "code",
   "execution_count": null,
   "metadata": {
    "collapsed": false
   },
   "outputs": [],
   "source": [
    "# from sklearn.feature_extraction.text import HashingVectorizer\n",
    "\n",
    "# for n_features in np.arange(10, 262, 40):\n",
    "#     hashing = HashingVectorizer(n_features=n_features, non_negative=True)\n",
    "#     breed_hashed = hashing.fit_transform(df['Breed']).toarray()\n",
    "#     X_with_hashed = np.hstack((X, breed_hashed))\n",
    "#     print n_features, clf.fit(X_with_hashed, y).oob_score_"
   ]
  },
  {
   "cell_type": "markdown",
   "metadata": {},
   "source": [
    "# Закодируем частотой?"
   ]
  },
  {
   "cell_type": "code",
   "execution_count": 233,
   "metadata": {
    "collapsed": false
   },
   "outputs": [],
   "source": [
    "breed2frequency = dict(df['Breed'].value_counts())\n",
    "df['breed_freq'] = df['Breed'].map(lambda x: breed2frequency[x])"
   ]
  },
  {
   "cell_type": "code",
   "execution_count": 234,
   "metadata": {
    "collapsed": false
   },
   "outputs": [
    {
     "data": {
      "text/plain": [
       "0.68240487859628118"
      ]
     },
     "execution_count": 234,
     "metadata": {},
     "output_type": "execute_result"
    }
   ],
   "source": [
    "clf.fit(df[['AnimalType', 'AgeuponOutcome',\n",
    "            'GAndS_Intact Male', 'GAndS_Neutered Male',\n",
    "            'GAndS_Spayed Female', 'GAndS_Unknown',\n",
    "            'year', 'month', 'day', 'clock', 'weekday',\n",
    "            'breed_words_count', 'slash',\n",
    "            'breed_freq']], y).oob_score_"
   ]
  },
  {
   "cell_type": "markdown",
   "metadata": {},
   "source": [
    "## Успех!"
   ]
  },
  {
   "cell_type": "markdown",
   "metadata": {},
   "source": [
    "## Закодируем таргетом?"
   ]
  },
  {
   "cell_type": "code",
   "execution_count": null,
   "metadata": {
    "collapsed": false
   },
   "outputs": [],
   "source": [
    "# нет! это будет не честно :) Но в другой раз можно"
   ]
  },
  {
   "cell_type": "code",
   "execution_count": null,
   "metadata": {
    "collapsed": true
   },
   "outputs": [],
   "source": []
  },
  {
   "cell_type": "markdown",
   "metadata": {},
   "source": [
    "## Задание:\n",
    "\n",
    "1) постройте кривую oob_score относительно количества деревьев в лесе и выберете оптимальное значение n_estimators\n",
    "\n",
    "2) разбейте df на train и test с помощью train_test_split. Посчитайте score (метод класса RandomForestClassifier) для train и test. Есть ли у вас переобучение?\n",
    "\n",
    "3) попробуйте использовать kNN. Сколько фичей получается максимально использовать без ухудшения качества? \n",
    "\n",
    "4) пройдитесь GridSearch-ем по параметрам kNN. Какое количество соседей оказалось оптимальным? Какая метрика расстояния? \n",
    "\n",
    "Важно! прежде чем применять kNN - нужно отнормировать признаки. Помните, мы вычитали среднее и делили на std массив? Так вот для это есть отдельный класс: <a href=\"http://scikit-learn.org/stable/modules/generated/sklearn.preprocessing.StandardScaler.html#sklearn.preprocessing.StandardScaler\">sklearn.preprocessing..StandardScaler</a>\n",
    "\n",
    "5) супер-задание: загрузите датасет https://www.kaggle.com/deepmatrix/imdb-5000-movie-dataset , попробуйте предсказать рейтинг фильма. Если бы вы создавали сервис, который предсказывает рейтинг премьеры, какую бы вы метрику выбрали для оценки своего алгоритма?"
   ]
  },
  {
   "cell_type": "code",
   "execution_count": 245,
   "metadata": {
    "collapsed": false
   },
   "outputs": [],
   "source": [
    "scores = {}\n",
    "\n",
    "for n in 2 ** np.arange(1, 11):\n",
    "    scores[n] = RandomForestClassifier(n_estimators=n, \n",
    "                                       oob_score=True).fit(X, y).oob_score_"
   ]
  },
  {
   "cell_type": "code",
   "execution_count": 247,
   "metadata": {
    "collapsed": false
   },
   "outputs": [
    {
     "data": {
      "image/png": "[encoded data removed]",
      "text/plain": [
       "<matplotlib.figure.Figure at 0x194effb10>"
      ]
     },
     "metadata": {},
     "output_type": "display_data"
    }
   ],
   "source": [
    "scores = sorted(scores.items())\n",
    "_ = plot([n for n, score in scores], [score for n, score in scores])"
   ]
  },
  {
   "cell_type": "code",
   "execution_count": 243,
   "metadata": {
    "collapsed": false
   },
   "outputs": [
    {
     "name": "stdout",
     "output_type": "stream",
     "text": [
      "0.99988831807\n",
      "0.671919283528\n"
     ]
    }
   ],
   "source": [
    "from sklearn.model_selection import train_test_split\n",
    "X_train, X_test, y_train, y_test = train_test_split(\n",
    "    X, y, test_size=0.33, random_state=42)\n",
    "\n",
    "clf = RandomForestClassifier(n_estimators=512)\n",
    "clf.fit(X_train, y_train)\n",
    "print clf.score(X_train, y_train)\n",
    "print clf.score(X_test, y_test)"
   ]
  },
  {
   "cell_type": "code",
   "execution_count": 252,
   "metadata": {
    "collapsed": false
   },
   "outputs": [],
   "source": [
    "feature_importance = clf.feature_importances_\n",
    "from sklearn.neighbors import KNeighborsClassifier\n",
    "features_sorted = np.argsort(feature_importance)"
   ]
  },
  {
   "cell_type": "code",
   "execution_count": 253,
   "metadata": {
    "collapsed": true
   },
   "outputs": [],
   "source": [
    "from sklearn.preprocessing import StandardScaler\n",
    "scaler = StandardScaler(copy=True, with_mean=True, with_std=True)\n",
    "X_scaled = scaler.fit_transform(X)"
   ]
  },
  {
   "cell_type": "code",
   "execution_count": 262,
   "metadata": {
    "collapsed": false
   },
   "outputs": [
    {
     "name": "stdout",
     "output_type": "stream",
     "text": [
      "1 0.405509579413\n",
      "2 0.37875524317\n",
      "3 0.319238181612\n",
      "4 0.461058836867\n",
      "5 0.38022899898\n",
      "6 0.435211427276\n",
      "7 0.477270150777\n",
      "8 0.522389751729\n",
      "9 0.565582133545\n",
      "10 0.562861353588\n",
      "11 0.574651400068\n",
      "12 0.605600272078\n",
      "13 0.615803196916\n"
     ]
    }
   ],
   "source": [
    "from sklearn.neighbors import KNeighborsClassifier\n",
    "X_train, X_test, y_train, y_test = train_test_split(\n",
    "    X_scaled, y, test_size=0.33, random_state=42)\n",
    "clf = KNeighborsClassifier()\n",
    "\n",
    "for x in xrange(1, len(features_sorted) + 1):\n",
    "    X_train_f = X_train[:,features_sorted[:x]]\n",
    "    X_test_f = X_test[:,features_sorted[:x]]\n",
    "    clf.fit(X_train_f, y_train)\n",
    "    print x, clf.score(X_test_f, y_test)"
   ]
  }
 ],
 "metadata": {
  "kernelspec": {
   "display_name": "Python 2",
   "language": "python",
   "name": "python2"
  },
  "language_info": {
   "codemirror_mode": {
    "name": "ipython",
    "version": 2
   },
   "file_extension": ".py",
   "mimetype": "text/x-python",
   "name": "python",
   "nbconvert_exporter": "python",
   "pygments_lexer": "ipython2",
   "version": "2.7.11"
  }
 },
 "nbformat": 4,
 "nbformat_minor": 0
}
